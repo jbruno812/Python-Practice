{
 "cells": [
  {
   "cell_type": "markdown",
   "metadata": {},
   "source": [
    "# M10-A3 Regular Expressions - Domain Names\n",
    "\n",
    "# Instructions:\n",
    "In this exercise, you'll use regular expressions to find four-level and five-level domain names in the EDU top-level domain within a semi-structured data file (mbox-short.txt). For example, server1.mail.cba.ua.edu (five-level hostname) db1.criminaljustice.ua.edu (four-level hostname) Using Python 3, create a script that finds all instances of four-level or five-level hostnames and that end in .edu. Report the number of hosts found (including duplicates). Then print the number of unique hostnames. Finally, present a sorted list of all the unique hostnames. This should be done in a function named **get_domain_names** that returns the sorted list. Then, print the sorted list.\n",
    "\n",
    "As always, your program should be reasonably efficient, utilize docstrings, dynamic pathing, and utilize error handling. \n",
    "\n",
    "### Expected Sample Output:\n",
    "All hosts: 216<br>\n",
    "Unique hosts: 29<br>\n",
    "[' anniehall.mr.itd.umich.edu ', ' carrie.mr.itd.umich.edu ', ' casino.mail.umich.edu ', ' chaos.mail.umich.edu ', ' creepshow.mr.itd.umich.edu ', ' dreamcatcher.mr.itd.umich.edu ', ' eyewitness.mr.itd.umich.edu ', ' faithful.mail.umich.edu ', ' fan.mail.umich.edu ', ' firestarter.mr.itd.umich.edu ', ' flawless.mail.umich.edu ', ' frankenstein.mail.umich.edu ', ' galaxyquest.mr.itd.umich.edu ', ' ghostbusters.mr.itd.umich.edu ', ' godsend.mail.umich.edu ', ' guys.mr.itd.umich.edu ', ' holes.mr.itd.umich.edu ', ' icestorm.mr.itd.umich.edu ', ' it.mr.itd.umich.edu ', ' jacknife.mail.umich.edu ', ' mission.mail.umich.edu ', ' nakamura.uits.iupui.edu ', ' panther.mail.umich.edu ', ' salemslot.mr.itd.umich.edu ', ' score.mail.umich.edu ', ' shining.mr.itd.umich.edu ', ' sleepers.mail.umich.edu ', ' tadpole.mr.itd.umich.edu ', ' workinggirl.mr.itd.umich.edu '] 29"
   ]
  },
  {
   "cell_type": "code",
   "execution_count": 13,
   "metadata": {},
   "outputs": [
    {
     "name": "stdout",
     "output_type": "stream",
     "text": [
      "All Hosts: 324\n",
      "Unique Hosts: 29\n",
      "['anniehall.mr.itd.umich.edu', 'carrie.mr.itd.umich.edu', 'casino.mail.umich.edu', 'chaos.mail.umich.edu', 'creepshow.mr.itd.umich.edu', 'dreamcatcher.mr.itd.umich.edu', 'eyewitness.mr.itd.umich.edu', 'faithful.mail.umich.edu', 'fan.mail.umich.edu', 'firestarter.mr.itd.umich.edu', 'flawless.mail.umich.edu', 'frankenstein.mail.umich.edu', 'galaxyquest.mr.itd.umich.edu', 'ghostbusters.mr.itd.umich.edu', 'godsend.mail.umich.edu', 'guys.mr.itd.umich.edu', 'holes.mr.itd.umich.edu', 'icestorm.mr.itd.umich.edu', 'it.mr.itd.umich.edu', 'jacknife.mail.umich.edu', 'mission.mail.umich.edu', 'nakamura.uits.iupui.edu', 'panther.mail.umich.edu', 'salemslot.mr.itd.umich.edu', 'score.mail.umich.edu', 'shining.mr.itd.umich.edu', 'sleepers.mail.umich.edu', 'tadpole.mr.itd.umich.edu', 'workinggirl.mr.itd.umich.edu'] 29\n",
      "No Exceptions thrown.\n",
      "Opening file process completed.\n"
     ]
    }
   ],
   "source": [
    "#write your Python code here\n",
    "import re\n",
    "def get_domain_names(file):\n",
    "    \"\"\"This function takes a file as parameter to output the total and unique count of 4 & 5-level hostnames \n",
    "    in the file and then listing those unique hostnames.\"\"\"\n",
    "    try:\n",
    "        with open(file, \"r\") as f:\n",
    "            all_emails_list = []\n",
    "            for line in f:\n",
    "                line = line.rstrip()\n",
    "                x = re.findall('\\w*\\.*\\w+\\.\\w+\\.\\w+\\.edu', line)\n",
    "                if len(x) > 0:\n",
    "                    all_emails_list.extend(x)\n",
    "#regexr.com/589g4\n",
    "        print('All Hosts:' + \" \" + str(len(all_emails_list)))\n",
    "        all_revs_set = set(all_emails_list)\n",
    "        print('Unique Hosts:' + \" \" + str(len(all_revs_set)))\n",
    "        print(sorted(all_revs_set), (str(len(all_revs_set))))\n",
    "   \n",
    "    except FileNotFoundError as e:\n",
    "        print(e,\"Please input correct file name.\")\n",
    "    except NameError as e:\n",
    "        print(e)\n",
    "    except Exception as e:\n",
    "        print(e)\n",
    "    else:\n",
    "        print(\"No Exceptions thrown.\")\n",
    "    finally:\n",
    "        print(\"Opening file process completed.\")\n",
    "    \n",
    "\n",
    "get_domain_names('mbox-short.txt')\n"
   ]
  },
  {
   "cell_type": "code",
   "execution_count": null,
   "metadata": {},
   "outputs": [],
   "source": []
  }
 ],
 "metadata": {
  "kernelspec": {
   "display_name": "Python 3",
   "language": "python",
   "name": "python3"
  },
  "language_info": {
   "codemirror_mode": {
    "name": "ipython",
    "version": 3
   },
   "file_extension": ".py",
   "mimetype": "text/x-python",
   "name": "python",
   "nbconvert_exporter": "python",
   "pygments_lexer": "ipython3",
   "version": "3.7.6"
  }
 },
 "nbformat": 4,
 "nbformat_minor": 4
}
