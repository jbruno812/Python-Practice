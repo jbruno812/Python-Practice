{
 "cells": [
  {
   "cell_type": "markdown",
   "metadata": {},
   "source": [
    "# M7-A1 Lists, Dictionaries, and Tuples - 8 Word Index\n",
    "\n",
    "# Instructions:\n",
    "Ask the user for 8 words and an index and output the word at the index using arrays\n",
    "\n",
    "**Bold** indicates input from the console.\n",
    "\n",
    "### Expected sample output:\n",
    "Enter word 1<br>\n",
    "**Rat**<br>\n",
    "Enter word 2<br>\n",
    "**Cat**<br>\n",
    "Enter word 3<br>\n",
    "**Dog**<br>\n",
    "Enter word 4<br>\n",
    "**Mouse**<br>\n",
    "Enter word 5<br>\n",
    "**Cow**<br>\n",
    "Enter word 6<br>\n",
    "**Pig**<br>\n",
    "Enter word 7<br>\n",
    "**Chicken**<br>\n",
    "Enter word 8<br>\n",
    "**Elephant**<br>\n",
    "Enter index<br>\n",
    "**4**<br>\n",
    "The word at index 4 is Mouse<br>\n",
    "\n",
    "### Expected sample output:\n",
    "Enter word 1<br>\n",
    "**Rat**<br>\n",
    "Enter word 2<br>\n",
    "**Cat**<br>\n",
    "Enter word 3<br>\n",
    "**Dog**<br>\n",
    "Enter word 4<br>\n",
    "**Mouse**<br>\n",
    "Enter word 5<br>\n",
    "**Cow**<br>\n",
    "Enter word 6<br>\n",
    "**Pig**<br>\n",
    "Enter word 7<br>\n",
    "**Chicken**<br>\n",
    "Enter word 8<br>\n",
    "**Elephant**<br>\n",
    "Enter index<br>\n",
    "**5**<br>\n",
    "The word at index 5 is Cow<br>"
   ]
  },
  {
   "cell_type": "code",
   "execution_count": 5,
   "metadata": {},
   "outputs": [
    {
     "name": "stdin",
     "output_type": "stream",
     "text": [
      "Enter word 1 cow\n",
      "Enter word 2 rat\n",
      "Enter word 3 fjg\n",
      "Enter word 4 ds\n",
      "Enter word 5 ef\n",
      "Enter word 6 ge\n",
      "Enter word 7 gs\n",
      "Enter word 8 rg\n",
      "Enter index 6\n"
     ]
    },
    {
     "name": "stdout",
     "output_type": "stream",
     "text": [
      "The word at index 6 is ge\n"
     ]
    }
   ],
   "source": [
    "#Write your Python code here\n",
    "a = input ('Enter word 1')\n",
    "b = input ('Enter word 2')\n",
    "c = input ('Enter word 3')\n",
    "d = input ('Enter word 4')\n",
    "e = input ('Enter word 5')\n",
    "f = input ('Enter word 6')\n",
    "g = input ('Enter word 7')\n",
    "h = input ('Enter word 8')\n",
    "i = input ('Enter index') \n",
    "\n",
    "i = int(i)\n",
    "my_list = (a,b,c,d,e,f,g,h)\n",
    "name = my_list[i-1]\n",
    "\n",
    "print(\"The word at index\" + \" \" + str(i) + \" \" + \"is\" \" \" + name)\n",
    "\n"
   ]
  }
 ],
 "metadata": {
  "kernelspec": {
   "display_name": "Python 3",
   "language": "python",
   "name": "python3"
  },
  "language_info": {
   "codemirror_mode": {
    "name": "ipython",
    "version": 3
   },
   "file_extension": ".py",
   "mimetype": "text/x-python",
   "name": "python",
   "nbconvert_exporter": "python",
   "pygments_lexer": "ipython3",
   "version": "3.7.6"
  }
 },
 "nbformat": 4,
 "nbformat_minor": 4
}
