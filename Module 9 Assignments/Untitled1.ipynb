{
 "cells": [
  {
   "cell_type": "code",
   "execution_count": 115,
   "metadata": {},
   "outputs": [
    {
     "name": "stdout",
     "output_type": "stream",
     "text": [
      "jhbjhb\n",
      "\n",
      "lknlkn\n",
      "\n",
      "jb\n",
      "\n",
      "No Exceptions thrown.\n",
      "Opening file process completed.\n"
     ]
    }
   ],
   "source": [
    "def read_lines_of_text(N, file):\n",
    "    \"\"\"This function takes a number to indicate number of lines and\n",
    "    a text file as parameters to output the lines in the file\"\"\"\n",
    "    try:\n",
    "        with open(file, \"r\") as f:   \n",
    "            lines_in_files = len(f.readlines())\n",
    "            if(lines_in_files < N):\n",
    "                    raise StopIteration(\"The number input is higher than amount of lines in file.\")\n",
    "        with open(file, \"r\") as file2:  \n",
    "            for i in range(N):\n",
    "                print(file2.readline())\n",
    "\n",
    "    except FileNotFoundError as e:\n",
    "        print(e,\"Please input correct file name.\")\n",
    "    except NameError as e:\n",
    "        print(e)\n",
    "    except Exception as e:\n",
    "        print(e)\n",
    "    else:\n",
    "        print(\"No Exceptions thrown.\")\n",
    "    finally:\n",
    "        print(\"Opening file process completed.\")\n",
    "\n",
    "read_lines_of_text(3,'untitled.txt')"
   ]
  },
  {
   "cell_type": "code",
   "execution_count": 110,
   "metadata": {},
   "outputs": [
    {
     "name": "stdout",
     "output_type": "stream",
     "text": [
      "6\n",
      "hi\n",
      "\n",
      "there whats\n",
      "\n",
      "up\n",
      "\n",
      "with \n",
      "\n",
      "you\n",
      "\n"
     ]
    }
   ],
   "source": [
    "N = 5\n",
    "file = 'file.txt'\n",
    "with open(file, \"r\") as f:   \n",
    "    lines_in_files = len(f.readlines())\n",
    "    print(lines_in_files)\n",
    "    if(lines_in_files < N):\n",
    "            raise StopIteration(\"The number input is higher than amount of lines in file.\")\n",
    "with open(file, \"r\") as file2:  \n",
    "    for i in range(N):\n",
    "        print(file2.readline())"
   ]
  },
  {
   "cell_type": "code",
   "execution_count": null,
   "metadata": {},
   "outputs": [],
   "source": []
  }
 ],
 "metadata": {
  "kernelspec": {
   "display_name": "Python 3",
   "language": "python",
   "name": "python3"
  },
  "language_info": {
   "codemirror_mode": {
    "name": "ipython",
    "version": 3
   },
   "file_extension": ".py",
   "mimetype": "text/x-python",
   "name": "python",
   "nbconvert_exporter": "python",
   "pygments_lexer": "ipython3",
   "version": "3.7.6"
  }
 },
 "nbformat": 4,
 "nbformat_minor": 4
}
