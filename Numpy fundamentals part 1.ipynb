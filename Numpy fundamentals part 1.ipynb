{
 "cells": [
  {
   "cell_type": "markdown",
   "metadata": {},
   "source": [
    "# Getting started with `numpy`\n",
    "Prepared by: Gregory J. Bott, Ph.D. \n",
    "\n",
    "This notebook provides an introduction to the `numpy` package. The content borrows heavily from multiple sources:\n",
    "* (one of our textbooks) The book *Data Science Handbook*, which was written by Jake VanderPlas available at https://jakevdp.github.io/PythonDataScienceHandbook/ (accessed 12/17/2019).\n",
    "* Content from Dr. Nick Freeman (https://github.com/nkfreeman/Python_Tutorials)\n",
    "* SciPy 2018 Conference session: Intro to Numerical Computing with NumPy by Alex Chabot-Leclerc (https://www.youtube.com/watch?v=V0D2mhVt7NE&list=PL2fyLI4jtOlCvb6QchwsZ0xm51PP5G0wf&index=17&t=147s)\n",
    "\n",
    "NumPy (short for <em>**Num**erical **Py**thon</em>) provides efficient storage and manipulation of numerical arrays, which makes NumPy an integral package for scientific computing. Its origins can be traced back to two other specialized packages for calculating arrays: Numeric and Numarray. The Numpy library, first released in 2006 (1.0 version) is the unification of these two libraries. It is highly efficient handling multidimensional and large arrays and offers a large number of functions to manipulate arrays and perform mathematical calculations."
   ]
  },
  {
   "cell_type": "markdown",
   "metadata": {
    "toc-hr-collapsed": false
   },
   "source": [
    "## The `numpy` package\n",
    "NumPy is a foundational Python library written using Python and C that provides fast, efficient support for multi-dimensional arrays, mathemetical functions, slicing and selection capabilities, and broadcasting functions. It is available as a standalone or part of the Anaconda distribution."
   ]
  },
  {
   "cell_type": "code",
   "execution_count": 1,
   "metadata": {},
   "outputs": [
    {
     "name": "stdout",
     "output_type": "stream",
     "text": [
      "# packages in environment at C:\\Users\\gregb\\anaconda3\\envs\\primary:\n",
      "#\n",
      "# Name                    Version                   Build  Channel\n",
      "alabaster                 0.7.12                   py37_0  \n",
      "alembic                   1.4.2              pyh9f0ad1d_0    conda-forge\n",
      "argh                      0.26.2                   py37_0  \n",
      "asn1crypto                1.3.0                    py37_0    conda-forge\n",
      "astroid                   2.3.3                    py37_0    conda-forge\n",
      "atomicwrites              1.3.0                    py37_1  \n",
      "attrs                     19.3.0                     py_0    conda-forge\n",
      "autopep8                  1.4.4                      py_0    conda-forge\n",
      "babel                     2.8.0                      py_0    conda-forge\n",
      "backcall                  0.1.0                    py37_0  \n",
      "bcrypt                    3.1.7            py37he774522_0  \n",
      "beautifulsoup4            4.8.2                    pypi_0    pypi\n",
      "blas                      1.0                         mkl    conda-forge\n",
      "bleach                    3.1.0                    py37_0  \n",
      "bs4                       0.0.1                    pypi_0    pypi\n",
      "ca-certificates           2020.6.24                     0  \n",
      "cachetools                4.1.0                    pypi_0    pypi\n",
      "certifi                   2020.6.20                py37_0  \n",
      "cffi                      1.14.0           py37h7a1dbc1_0  \n",
      "chardet                   3.0.4                 py37_1003    conda-forge\n",
      "cloudpickle               1.3.0                      py_0    conda-forge\n",
      "colorama                  0.4.3                      py_0    conda-forge\n",
      "cryptography              2.8              py37h7a1dbc1_0  \n",
      "cycler                    0.10.0                   py37_0  \n",
      "decorator                 4.4.2                      py_0    conda-forge\n",
      "defusedxml                0.6.0                      py_0    conda-forge\n",
      "diff-match-patch          20181111                   py_0    conda-forge\n",
      "docutils                  0.16                     py37_0    conda-forge\n",
      "entrypoints               0.3                      py37_0  \n",
      "et_xmlfile                1.0.1                    py37_0  \n",
      "flake8                    3.7.9                    py37_0    conda-forge\n",
      "freetype                  2.9.1                ha9979f8_1  \n",
      "future                    0.18.2                   py37_0    conda-forge\n",
      "fuzzywuzzy                0.17.0                     py_0    conda-forge\n",
      "google-api-core           1.17.0                   pypi_0    pypi\n",
      "google-api-python-client  1.8.3                    pypi_0    pypi\n",
      "google-auth               1.14.3                   pypi_0    pypi\n",
      "google-auth-httplib2      0.0.3                    pypi_0    pypi\n",
      "google-auth-oauthlib      0.4.1                    pypi_0    pypi\n",
      "googleapis-common-protos  1.51.0                   pypi_0    pypi\n",
      "httplib2                  0.17.3                   pypi_0    pypi\n",
      "icc_rt                    2019.0.0             h0cc432a_1  \n",
      "icu                       58.2                 ha66f8fd_1  \n",
      "idna                      2.8                      py37_0  \n",
      "imagesize                 1.2.0                      py_0    conda-forge\n",
      "importlib                 1.0.4                    pypi_0    pypi\n",
      "importlib_metadata        1.5.0                    py37_0    conda-forge\n",
      "intel-openmp              2020.0                      166  \n",
      "intervaltree              3.0.2                      py_0    conda-forge\n",
      "Note: you may need to restart the kernel to use updated packages.\n",
      "ipykernel                 5.1.4            py37h39e3cac_0  \n",
      "ipython                   7.13.0           py37h5ca1d4c_0    conda-forge\n",
      "ipython_genutils          0.2.0                    py37_0  \n",
      "\n",
      "ipywidgets                7.5.1                      py_0    conda-forge\n",
      "isort                     4.3.21                   py37_0    conda-forge\n",
      "jdcal                     1.4.1                      py_0    conda-forge\n",
      "jedi                      0.14.1                   py37_0    conda-forge\n",
      "jinja2                    2.11.1                     py_0    conda-forge\n",
      "jpeg                      9b                   hb83a4c4_2  \n",
      "json5                     0.9.1                      py_0  \n",
      "jsonschema                3.2.0                    py37_0    conda-forge\n",
      "jupyter                   1.0.0                      py_2    conda-forge\n",
      "jupyter_client            5.3.4                    py37_0    conda-forge\n",
      "jupyter_console           6.1.0                      py_1    conda-forge\n",
      "jupyter_core              4.6.1                    py37_0    conda-forge\n",
      "jupyterlab                1.2.6              pyhf63ae98_0  \n",
      "jupyterlab_server         1.0.6                      py_0    conda-forge\n",
      "keyring                   21.1.0                   py37_0    conda-forge\n",
      "kiwisolver                1.2.0            py37h74a9793_0  \n",
      "lazy-object-proxy         1.4.3            py37he774522_0  \n",
      "libpng                    1.6.37               h2a8f88b_0  \n",
      "libsodium                 1.0.16               h9d3ae62_0  \n",
      "libspatialindex           1.9.3                h33f27b4_0  \n",
      "libtiff                   4.1.0                h56a325e_1  \n",
      "lxml                      4.5.0                    pypi_0    pypi\n",
      "lz4-c                     1.9.2                h62dcd97_0  \n",
      "m2w64-gcc-libgfortran     5.3.0                         6  \n",
      "m2w64-gcc-libs            5.3.0                         7  \n",
      "m2w64-gcc-libs-core       5.3.0                         7  \n",
      "m2w64-gmp                 6.1.0                         2  \n",
      "m2w64-libwinpthread-git   5.0.0.4634.697f757               2  \n",
      "mako                      1.1.0                      py_0    conda-forge\n",
      "markupsafe                1.1.1            py37he774522_0  \n",
      "matplotlib                3.1.3                    py37_0  \n",
      "matplotlib-base           3.1.3            py37h64f37c6_0  \n",
      "mccabe                    0.6.1                    py37_1  \n",
      "mistune                   0.8.4            py37he774522_0  \n",
      "mkl                       2020.0                      166  \n",
      "mkl-service               2.3.0            py37hb782905_0  \n",
      "mkl_fft                   1.0.15           py37h14836fe_0  \n",
      "mkl_random                1.1.0            py37h675688f_0  \n",
      "msys2-conda-epoch         20160418                      1  \n",
      "nbconvert                 5.6.1                    py37_0    conda-forge\n",
      "nbformat                  5.0.4                      py_0    conda-forge\n",
      "nbgrader                  0.6.1            py37hc8dfbb8_0    conda-forge\n",
      "nodejs                    0.1.1                    pypi_0    pypi\n",
      "notebook                  6.0.3                    py37_0    conda-forge\n",
      "npm                       0.1.1                    pypi_0    pypi\n",
      "numpy                     1.18.1           py37h93ca92e_0  \n",
      "numpy-base                1.18.1           py37hc3f5095_1  \n",
      "numpydoc                  0.9.2                      py_0    conda-forge\n",
      "oauth2client              4.1.3                    pypi_0    pypi\n",
      "oauthlib                  3.1.0                    pypi_0    pypi\n",
      "olefile                   0.46                     py37_0  \n",
      "openpyxl                  3.0.3                      py_0    conda-forge\n",
      "openssl                   1.1.1g               he774522_0  \n",
      "optional-django           0.1.0                    pypi_0    pypi\n",
      "packaging                 20.3                       py_0  \n",
      "pandas                    1.0.1            py37h47e9c7a_0  \n",
      "pandoc                    2.2.3.2                       0  \n",
      "pandocfilters             1.4.2                    py37_1  \n",
      "paramiko                  2.7.1                      py_0  \n",
      "parso                     0.5.2                      py_0    conda-forge\n",
      "pathtools                 0.1.2                      py_1    conda-forge\n",
      "patsy                     0.5.1                      py_0    conda-forge\n",
      "pexpect                   4.8.0                    py37_0    conda-forge\n",
      "pickleshare               0.7.5                    py37_0  \n",
      "pillow                    7.2.0            py37hcc1f983_0  \n",
      "pip                       20.0.2                   py37_1    conda-forge\n",
      "pluggy                    0.13.1                   py37_0  \n",
      "prometheus_client         0.7.1                      py_0    conda-forge\n",
      "prompt_toolkit            3.0.3                      py_0    conda-forge\n",
      "protobuf                  3.12.0                   pypi_0    pypi\n",
      "psutil                    5.7.0            py37he774522_0  \n",
      "pyasn1                    0.4.8                    pypi_0    pypi\n",
      "pyasn1-modules            0.2.8                    pypi_0    pypi\n",
      "pycodestyle               2.5.0                    py37_0  \n",
      "pycparser                 2.19                     py37_0  \n",
      "pydocstyle                4.0.1                      py_0    conda-forge\n",
      "pydrive                   1.3.1                    pypi_0    pypi\n",
      "pyflakes                  2.1.1                    py37_0  \n",
      "pygments                  2.5.2                      py_0    conda-forge\n",
      "pylint                    2.4.4                    py37_0    conda-forge\n",
      "pynacl                    1.3.0            py37h62dcd97_0  \n",
      "pyopenssl                 19.1.0                   py37_0    conda-forge\n",
      "pyparsing                 2.4.6                      py_0    conda-forge\n",
      "pyqt                      5.9.2            py37h6538335_2  \n",
      "pyrsistent                0.15.7           py37he774522_0  \n",
      "pysocks                   1.7.1                    py37_0    conda-forge\n",
      "python                    3.7.6                h60c2a47_2  \n",
      "python-dateutil           2.8.1                      py_0    conda-forge\n",
      "python-editor             1.0.4                      py_0    conda-forge\n",
      "python-jsonrpc-server     0.3.4                      py_0    conda-forge\n",
      "python-language-server    0.31.7                   py37_0  \n",
      "python-levenshtein        0.12.0          py37h8055547_1002    conda-forge\n",
      "python_abi                3.7                     1_cp37m    conda-forge\n",
      "pytz                      2019.3                     py_0    conda-forge\n",
      "pywin32                   227              py37he774522_1  \n",
      "pywin32-ctypes            0.2.0                 py37_1000    conda-forge\n",
      "pywinpty                  0.5.7                    py37_0    conda-forge\n",
      "pyyaml                    5.3              py37he774522_0  \n",
      "pyzmq                     18.1.1           py37ha925a31_0  \n",
      "qdarkstyle                2.8                        py_0    conda-forge\n",
      "qt                        5.9.7            vc14h73c81de_0  \n",
      "qtawesome                 0.6.1                      py_0    conda-forge\n",
      "qtconsole                 4.7.1                      py_0    conda-forge\n",
      "qtpy                      1.9.0                      py_0    conda-forge\n",
      "requests                  2.23.0                   py37_0    conda-forge\n",
      "requests-oauthlib         1.3.0                    pypi_0    pypi\n",
      "rope                      0.16.0                     py_0    conda-forge\n",
      "rsa                       4.0                      pypi_0    pypi\n",
      "rtree                     0.9.3            py37h21ff451_0  \n",
      "scipy                     1.4.1            py37h9439919_0  \n",
      "seaborn                   0.10.1                     py_0    conda-forge\n",
      "selenium                  3.141.0         py37hfa6e2cd_1001  \n",
      "send2trash                1.5.0                    py37_0  \n",
      "setuptools                46.0.0                   py37_0    conda-forge\n",
      "sip                       4.19.8           py37h6538335_0    conda-forge\n",
      "six                       1.14.0                   py37_0    conda-forge\n",
      "snowballstemmer           2.0.0                      py_0    conda-forge\n",
      "sortedcontainers          2.1.0                    py37_0  \n",
      "soupsieve                 2.0                      pypi_0    pypi\n",
      "sphinx                    2.4.0                      py_0    conda-forge\n",
      "sphinxcontrib-applehelp   1.0.1                      py_0    conda-forge\n",
      "sphinxcontrib-devhelp     1.0.1                      py_0    conda-forge\n",
      "sphinxcontrib-htmlhelp    1.0.2                      py_0    conda-forge\n",
      "sphinxcontrib-jsmath      1.0.1                      py_0    conda-forge\n",
      "sphinxcontrib-qthelp      1.0.2                      py_0    conda-forge\n",
      "sphinxcontrib-serializinghtml 1.1.3                      py_0    conda-forge\n",
      "spyder                    4.0.1                    py37_0  \n",
      "spyder-kernels            1.8.1                    py37_0    conda-forge\n",
      "sqlalchemy                1.3.17           py37h4ab8f01_0    conda-forge\n",
      "sqlite                    3.31.1               he774522_0  \n",
      "statsmodels               0.11.1           py37h4ab8f01_2    conda-forge\n",
      "terminado                 0.8.3                    py37_0    conda-forge\n",
      "testpath                  0.4.4                      py_0    conda-forge\n",
      "tk                        8.6.10               he774522_0  \n",
      "tornado                   6.0.4            py37he774522_1  \n",
      "traitlets                 4.3.3                    py37_0    conda-forge\n",
      "ujson                     1.35             py37hfa6e2cd_0  \n",
      "uritemplate               3.0.1                    pypi_0    pypi\n",
      "urllib3                   1.25.8                   py37_0  \n",
      "vc                        14.1                 h0510ff6_4  \n",
      "vs2015_runtime            14.16.27012          hf0eaf9b_1  \n",
      "watchdog                  0.10.2                   py37_0    conda-forge\n",
      "wcwidth                   0.1.8                      py_0    conda-forge\n",
      "webencodings              0.5.1                    py37_1  \n",
      "wheel                     0.34.2                   py37_0    conda-forge\n"
     ]
    }
   ],
   "source": [
    "%conda list"
   ]
  },
  {
   "cell_type": "markdown",
   "metadata": {},
   "source": [
    "## Installing `numpy`\n",
    "If numpy is not installed use either of the following to install the library:\n",
    "```python\n",
    "conda install numpy\n",
    "pip install numpy\n",
    "```\n",
    "Then import the library. Although you can use a different variable, by convention, NumPy is imported as 'np'.\n",
    "```python\n",
    "import numpy as np\n",
    "```"
   ]
  },
  {
   "cell_type": "code",
   "execution_count": 2,
   "metadata": {
    "toc-hr-collapsed": false
   },
   "outputs": [
    {
     "name": "stdout",
     "output_type": "stream",
     "text": [
      "widgetsnbextension        3.5.1                    py37_0    conda-forge\n",
      "win_inet_pton             1.1.0                    py37_0    conda-forge\n",
      "wincertstore              0.2                      py37_0  \n",
      "winpty                    0.4.3                         4    conda-forge\n",
      "wrapt                     1.11.2           py37he774522_0  \n",
      "xz                        5.2.5                h62dcd97_0  \n",
      "yaml                      0.1.7                hc54c509_2  \n",
      "yapf                      0.28.0                     py_0    conda-forge\n",
      "zeromq                    4.3.1                h33f27b4_3  \n",
      "zipp                      2.2.0                      py_0    conda-forge\n",
      "zlib                      1.2.11               h62dcd97_3  \n",
      "zstd                      1.4.4                ha9fde0e_3  \n"
     ]
    },
    {
     "data": {
      "text/plain": [
       "'1.18.1'"
      ]
     },
     "execution_count": 2,
     "metadata": {},
     "output_type": "execute_result"
    }
   ],
   "source": [
    "import numpy as np\n",
    "np.version.version"
   ]
  },
  {
   "cell_type": "markdown",
   "metadata": {},
   "source": [
    "## Importing `numpy`\n",
    "\n",
    "If numpy is not installed use either of the following to install the library:\n",
    "```python\n",
    "conda install numpy\n",
    "pip install numpy\n",
    "```\n",
    "\n",
    "Users can import available packages and modules using Python's `import` statement. Two forms of import expressions are commonly used.\n",
    "1. The first common import expression takes the form **import mypackage as mp**. This statement imports a package named *mypackage*, and assigns it to the alias *mp*. Suppose that *mypackage* contains the definition for a function named *myfunction*. If this were true, we would call *myfunction* using the syntax `mp.myfunction(*args)`, where `*args` is a placeholder for any function arguments.<br>\n",
    "\n",
    "2. The second common import expression takes the form **from mypackage import mysubmodule**. This statement imports a specific submodule from a package named *mypackage*. Since there is no alias, this type of import will bring in the functions specified in the submodule as they are writtin. For example, if the submodule *mysubmodule* includes a function called *myfunction*, we would call *myfunction* using the syntax `myfunction(*args)`, where `*args` is a placeholder for any function arguments.\n",
    "\n",
    "<div class=\"alert alert-block alert-danger\">\n",
    "    <b>Name conflicts with <i>from - import</i> approach:</b> When using the <i>from - import</i> approach sepcified in bullet 2, it is important to make sure that method names in package or module you are importing do not conflict with names defined in the importing code. For example, if we import a submodule named *mysubmodule* that includes a function called *myfunction*, but we also have a function named *myfunction* in the importing code, there will be a naming conflict.\n",
    "</div>\n",
    "\n",
    "The following code block uses the *import - as* approach to import NumPy. The alias *np* is a standard convention."
   ]
  },
  {
   "cell_type": "code",
   "execution_count": 3,
   "metadata": {},
   "outputs": [],
   "source": [
    "import numpy as np"
   ]
  },
  {
   "cell_type": "markdown",
   "metadata": {},
   "source": [
    "# Why use `numpy`?\n",
    "Before we look at specific details of the `numpy` package, it is important to understand its motivation. `numpy` was developed to support scientific computations via the efficient implementation of a multi-dimensional array. In addition to an efficient array implementation, NumPy also includes functions for performing operations on NumPy arrays that are optimized for computational efficeincy. The following code block illustrate the substantial increase in efficiency that `numpy` provides in comparison to a standard Python list. Specifically, the example considers the task of adding two vectors of a specified size using both standard Python lists and `numpy` arrays. The time of the addition, and the size of the resulting objects are reported for comparison purposes.\n",
    "\n",
    "The core object in the NumPy library is the ndarray (n-dimensional array) object. In this section we'll examine data types, how to create arrays, learn about the basic attributes of arrays, how to access elements within an array, and then how to slice, reshape, concatenate, and split arrays. "
   ]
  },
  {
   "cell_type": "markdown",
   "metadata": {},
   "source": [
    "> <div class=\"alert alert-block alert-info\">\n",
    "    <b>The <i>del()</i> function:</b> The <i>del()</i> function is a Python method that deletes a created object from memory. For example, <i>del(my_var)</i> deletes a Python variable named <i>my_var</i>, freeing any computer memory that was being used to store the variable. The <i>del(my_var)</i> can take multiple arguments. For example, <i>del(my_var1, my_var2)</i> deletes the Python variables named <i>my_var1</i> and <i>my_var2</i>. If you pass an argument to <i>del(my_var)</i> that does not correspond to an existing Python object, an error will be raised.\n",
    "</div>\n",
    "\n",
    ">The **np.arange()** function is an array creation routine that creates an instance of an ndarray with evenly spaced values. It takes the form:\n",
    "```Python\n",
    "numpy.arange([start, ]stop, [step, ], dtype=None)\n",
    "```"
   ]
  },
  {
   "cell_type": "code",
   "execution_count": 4,
   "metadata": {},
   "outputs": [
    {
     "name": "stdout",
     "output_type": "stream",
     "text": [
      "Using Python lists, the addition took 1488 milliseconds.\n",
      "The size of the result object based on Python lists is 81528056 bytes.\n",
      "\n",
      "Using NumPy arrays, the addition took 22 milliseconds.\n",
      "The size of the result object based on NumPy arrays is 40000096 bytes.\n",
      "\n"
     ]
    },
    {
     "data": {
      "image/png": "[encoded data removed]",
      "text/plain": [
       "<Figure size 432x288 with 1 Axes>"
      ]
     },
     "metadata": {
      "needs_background": "light"
     },
     "output_type": "display_data"
    }
   ],
   "source": [
    "import time\n",
    "import sys\n",
    "import matplotlib.pyplot as plt\n",
    " \n",
    "# 10 Million\n",
    "SIZE = 10000000\n",
    "\n",
    "list1 = range(SIZE)\n",
    "list2 = range(SIZE)\n",
    "\n",
    "start = time.time()\n",
    "\n",
    "#Loop through every item in the array and 'zip' them together\n",
    "result = [(x+y) for x,y in zip(list1,list2)]\n",
    "list_time = (time.time() - start)*1000\n",
    "#print(\"Using Python lists, the addition took\",(time.time() - start)*1000,\"milliseconds.\")\n",
    "print(f\"Using Python lists, the addition took {list_time:.0f} milliseconds.\")\n",
    "print(\"The size of the result object based on Python lists is\",sys.getsizeof(result),\"bytes.\\n\")\n",
    "\n",
    "del(list1, list2, result)\n",
    "\n",
    "nparray1 = np.arange(SIZE)\n",
    "nparray2 = np.arange(SIZE)\n",
    "start = time.time()\n",
    "\n",
    "# No need to loop through every item using NumPy. Simply use the '+' operator.\n",
    "result = nparray1 + nparray2\n",
    "array_time = (time.time() - start)*1000\n",
    "print(f\"Using NumPy arrays, the addition took {array_time:.0f} milliseconds.\")\n",
    "#print(\"Using NumPy arrays, the addition took\",(time.time() - start)*1000,\"milliseconds.\")\n",
    "print(\"The size of the result object based on NumPy arrays is\",sys.getsizeof(result),\"bytes.\\n\")\n",
    "\n",
    "del(nparray1, nparray2, result)\n",
    "\n",
    "objects = ('ndarray', 'list')\n",
    "y_pos = np.arange(len(objects))\n",
    "performance = [array_time, list_time]\n",
    "\n",
    "plt.barh(y_pos, performance, align='center', alpha=.9, height=.6)\n",
    "plt.yticks(y_pos, objects)\n",
    "plt.xlabel('milliseconds')\n",
    "plt.title('Speed (shorter is faster)')\n",
    "\n",
    "plt.show()"
   ]
  },
  {
   "cell_type": "markdown",
   "metadata": {},
   "source": [
    "In addition to demonstrating the substantial performance gains offered by NumPy, the previous code block also illsutrates some of the subtle differences of working with Python lists versus NumPy arrays.\n",
    "\n",
    "- The `time.time()` function, from the `time` module, returns the current system time. Saving the value of the current time in a variable `start` and then computing the difference `time.time() - start` returns the seconds elapsing between the two calls to `time.time()` in seconds. Multiplying by 1000 converts the elapsed time to milliseconds. Another option capture the elapsed time for a line of code within an IPython notebook is to use the magic command `%timeit`.\n",
    "\n",
    "\n",
    "- When working with Python lists, the `range()` function returns a sequence of integers starting at zero and ending at the argument passed to `range()`. In our example, we pass a variable `SIZE` to the `range()` function. Thus, the sequence stored in the list is 0, 1, ..., `SIZE`-2, `SIZE`-1.\n",
    "\n",
    "\n",
    "- When working with NumPy arrays, the `np.arange()` function returns a sequence of integers starting at zero and ending at the argument passed to `np.arange()`. In our example, we pass a variable `SIZE` to the `np.arange()` function. Thus, the sequence stored in the NumPy array is 0, 1, ..., `SIZE`-2, `SIZE`-1.\n",
    "\n",
    "\n",
    "- The `sys.getsizeof()` function, from the `sys` library, returns the size of an object in bytes.\n",
    "\n",
    "\n",
    "- When working with Python lists, the `zip()` function essentially combines two or more list objects (like zipping up a jacket) and allows element-wise operations to be performed.\n",
    "\n",
    "\n",
    "- When working with NumPy arrays, there is no need to *zip* arrays. Instead, element-wise operations are performed using standard mathematical operators."
   ]
  },
  {
   "cell_type": "markdown",
   "metadata": {},
   "source": [
    "### Jupyter's timeit Magic Command\n",
    "<div class=\"alert alert-block alert-info\">\n",
    "    <b>Jupyter's <i>timeit</i> magic command:</b> Another approach for timing operations that is <b>specific to Jupyter notebooks</b> is the <i>timeit</i> magic command. This command can be used with syntax that follows the form <b>%timeit [-n &lt;N&gt; -r &lt;R&gt; [-t|-c] -q -p &lt;P&gt; -o]</b>, where\n",
    "\n",
    "<li> -n &lt;N&gt;: specifies to execute the given statement &lt;N&gt; times in a loop. If <N> is not provided, <N> is determined so as to get sufficient accuracy.</li>\n",
    "\n",
    "<li> -r &lt;R&gt;: specifies the number of repeats &lt;R&gt;, each consisting of &lt;N&gt; loops, and take the best result. Default: 7</li>\n",
    "\n",
    "<li> -t: specifies to use time.time to measure the time, which is the default on Unix. This function measures wall time, i.e., elapsed real time.</li>\n",
    "\n",
    "<li> -c: specifies to use time.clock to measure the time, which is the default on Windows and measures wall time. On Unix, resource.getrusage is used instead and returns the CPU user time.</li>\n",
    "\n",
    "<li> -p &lt;P&gt;: specifies to use a precision of &lt;P&gt; digits to display the timing result. Default: 3</li>\n",
    "\n",
    "<li> -q: specifies quiet calculation, where no results are printed.\n",
    "</div>\n",
    "\n",
    "The following block performs a the timing check using the `timeit` magic command, with 5 repeats of 10 executions. Note that by performing the calcuations multiple times, the `timeit` magic is able to provide estimates of the variability in computational time."
   ]
  },
  {
   "cell_type": "code",
   "execution_count": 5,
   "metadata": {},
   "outputs": [
    {
     "name": "stdout",
     "output_type": "stream",
     "text": [
      "Time statistics for Python lists:\n",
      "13.8 ms ± 443 µs per loop (mean ± std. dev. of 5 runs, 10 loops each)\n",
      "\n",
      "Time statistics for NumPy arrays (micro seconds = milli/1000):\n",
      "67 µs ± 7.96 µs per loop (mean ± std. dev. of 5 runs, 10 loops each)\n"
     ]
    }
   ],
   "source": [
    "import matplotlib.pyplot as plt; plt.rcdefaults()\n",
    "SIZE = 100000\n",
    "\n",
    "list1 = range(SIZE)\n",
    "list2 = range(SIZE)\n",
    "\n",
    "print(\"Time statistics for Python lists:\")\n",
    "%timeit -n 10 -r 5 [(x+y) for x,y in zip(list1,list2)]\n",
    "\n",
    "del(list1,list2)\n",
    "\n",
    "nparray1 = np.arange(SIZE)\n",
    "nparray2 = np.arange(SIZE)\n",
    "\n",
    "print(\"\\nTime statistics for NumPy arrays (micro seconds = milli/1000):\")\n",
    "%timeit -n 10 -r 5 nparray1 + nparray2\n",
    "\n",
    "del(nparray1, nparray2)"
   ]
  },
  {
   "cell_type": "markdown",
   "metadata": {},
   "source": [
    "## How to find useful `numpy` objects\n",
    "`numpy` contains hundreds objects providing powerful options for the data scientiest. Use the lookfor() function to search by docstring keywords (all words must be present, but can be in any order). For example, if your solution requires taking the standard deviation, use the lookfor() function to display all `numpy` objects that have the key words \"standard deviation\" in their docstring."
   ]
  },
  {
   "cell_type": "code",
   "execution_count": 6,
   "metadata": {},
   "outputs": [
    {
     "name": "stdout",
     "output_type": "stream",
     "text": [
      "Search results for 'standard deviation'\n",
      "---------------------------------------\n",
      "numpy.std\n",
      "    Compute the standard deviation along the specified axis.\n",
      "numpy.nanstd\n",
      "    Compute the standard deviation along the specified axis, while\n",
      "numpy.ma.std\n",
      "    Returns the standard deviation of the array elements along given axis.\n",
      "numpy.matrix.std\n",
      "    Return the standard deviation of the array elements along the given axis.\n",
      "numpy.chararray.std\n",
      "    Returns the standard deviation of the array elements along given axis.\n",
      "numpy.ma.MaskedArray.std\n",
      "    Returns the standard deviation of the array elements along given axis.\n",
      "numpy.random.Generator.standard_t\n",
      "    Draw samples from a standard Student's t distribution with `df` degrees\n",
      "numpy.random.RandomState.standard_t\n",
      "    Draw samples from a standard Student's t distribution with `df` degrees\n",
      "numpy.random.Generator.standard_normal\n",
      "    Draw samples from a standard Normal distribution (mean=0, stdev=1).\n",
      "numpy.random.RandomState.standard_normal\n",
      "    Draw samples from a standard Normal distribution (mean=0, stdev=1).\n",
      "numpy.var\n",
      "    Compute the variance along the specified axis.\n",
      "numpy.nanvar\n",
      "    Compute the variance along the specified axis, while ignoring NaNs.\n",
      "numpy.ma.var\n",
      "    Compute the variance along the specified axis.\n",
      "numpy.histogram_bin_edges\n",
      "    Function to calculate only the edges of the bins used by the `histogram`\n",
      "numpy.ma.MaskedArray.var\n",
      "    Compute the variance along the specified axis.\n",
      "numpy.random.Generator.f\n",
      "    Draw samples from an F distribution.\n",
      "numpy.random.RandomState.f\n",
      "    Draw samples from an F distribution.\n",
      "numpy.random.Generator.normal\n",
      "    Draw random samples from a normal (Gaussian) distribution.\n",
      "numpy.random.RandomState.normal\n",
      "    Draw random samples from a normal (Gaussian) distribution.\n",
      "numpy.random.Generator.lognormal\n",
      "    Draw samples from a log-normal distribution.\n",
      "numpy.random.RandomState.lognormal\n",
      "    Draw samples from a log-normal distribution.\n",
      "numpy.random.Generator.multivariate_normal\n",
      "    Draw random samples from a multivariate normal distribution.\n",
      "numpy.random.RandomState.multivariate_normal\n",
      "    Draw random samples from a multivariate normal distribution."
     ]
    }
   ],
   "source": [
    "# Using the lookfor() function to find functions related to standard deviation (if error, run again)\n",
    "import numpy as np\n",
    "np.lookfor(\"standard deviation\")"
   ]
  },
  {
   "cell_type": "markdown",
   "metadata": {},
   "source": [
    "## Getting help\n",
    "Remember that help is available via the help() function. Also remember that you must provide the proper context."
   ]
  },
  {
   "cell_type": "code",
   "execution_count": 7,
   "metadata": {},
   "outputs": [
    {
     "ename": "NameError",
     "evalue": "name 'linspace' is not defined",
     "output_type": "error",
     "traceback": [
      "\u001b[1;31m---------------------------------------------------------------------------\u001b[0m",
      "\u001b[1;31mNameError\u001b[0m                                 Traceback (most recent call last)",
      "\u001b[1;32m<ipython-input-7-c07d034ac3a0>\u001b[0m in \u001b[0;36m<module>\u001b[1;34m\u001b[0m\n\u001b[0;32m      1\u001b[0m \u001b[1;31m# ERROR - no contxt\u001b[0m\u001b[1;33m\u001b[0m\u001b[1;33m\u001b[0m\u001b[1;33m\u001b[0m\u001b[0m\n\u001b[1;32m----> 2\u001b[1;33m \u001b[0mhelp\u001b[0m\u001b[1;33m(\u001b[0m\u001b[0mlinspace\u001b[0m\u001b[1;33m)\u001b[0m\u001b[1;33m\u001b[0m\u001b[1;33m\u001b[0m\u001b[0m\n\u001b[0m",
      "\u001b[1;31mNameError\u001b[0m: name 'linspace' is not defined"
     ]
    }
   ],
   "source": [
    "# ERROR - no contxt\n",
    "help(linspace)"
   ]
  },
  {
   "cell_type": "code",
   "execution_count": 8,
   "metadata": {},
   "outputs": [
    {
     "name": "stdout",
     "output_type": "stream",
     "text": [
      "Help on function linspace in module numpy:\n",
      "\n",
      "linspace(start, stop, num=50, endpoint=True, retstep=False, dtype=None, axis=0)\n",
      "    Return evenly spaced numbers over a specified interval.\n",
      "    \n",
      "    Returns `num` evenly spaced samples, calculated over the\n",
      "    interval [`start`, `stop`].\n",
      "    \n",
      "    The endpoint of the interval can optionally be excluded.\n",
      "    \n",
      "    .. versionchanged:: 1.16.0\n",
      "        Non-scalar `start` and `stop` are now supported.\n",
      "    \n",
      "    Parameters\n",
      "    ----------\n",
      "    start : array_like\n",
      "        The starting value of the sequence.\n",
      "    stop : array_like\n",
      "        The end value of the sequence, unless `endpoint` is set to False.\n",
      "        In that case, the sequence consists of all but the last of ``num + 1``\n",
      "        evenly spaced samples, so that `stop` is excluded.  Note that the step\n",
      "        size changes when `endpoint` is False.\n",
      "    num : int, optional\n",
      "        Number of samples to generate. Default is 50. Must be non-negative.\n",
      "    endpoint : bool, optional\n",
      "        If True, `stop` is the last sample. Otherwise, it is not included.\n",
      "        Default is True.\n",
      "    retstep : bool, optional\n",
      "        If True, return (`samples`, `step`), where `step` is the spacing\n",
      "        between samples.\n",
      "    dtype : dtype, optional\n",
      "        The type of the output array.  If `dtype` is not given, infer the data\n",
      "        type from the other input arguments.\n",
      "    \n",
      "        .. versionadded:: 1.9.0\n",
      "    \n",
      "    axis : int, optional\n",
      "        The axis in the result to store the samples.  Relevant only if start\n",
      "        or stop are array-like.  By default (0), the samples will be along a\n",
      "        new axis inserted at the beginning. Use -1 to get an axis at the end.\n",
      "    \n",
      "        .. versionadded:: 1.16.0\n",
      "    \n",
      "    Returns\n",
      "    -------\n",
      "    samples : ndarray\n",
      "        There are `num` equally spaced samples in the closed interval\n",
      "        ``[start, stop]`` or the half-open interval ``[start, stop)``\n",
      "        (depending on whether `endpoint` is True or False).\n",
      "    step : float, optional\n",
      "        Only returned if `retstep` is True\n",
      "    \n",
      "        Size of spacing between samples.\n",
      "    \n",
      "    \n",
      "    See Also\n",
      "    --------\n",
      "    arange : Similar to `linspace`, but uses a step size (instead of the\n",
      "             number of samples).\n",
      "    geomspace : Similar to `linspace`, but with numbers spaced evenly on a log\n",
      "                scale (a geometric progression).\n",
      "    logspace : Similar to `geomspace`, but with the end points specified as\n",
      "               logarithms.\n",
      "    \n",
      "    Examples\n",
      "    --------\n",
      "    >>> np.linspace(2.0, 3.0, num=5)\n",
      "    array([2.  , 2.25, 2.5 , 2.75, 3.  ])\n",
      "    >>> np.linspace(2.0, 3.0, num=5, endpoint=False)\n",
      "    array([2. ,  2.2,  2.4,  2.6,  2.8])\n",
      "    >>> np.linspace(2.0, 3.0, num=5, retstep=True)\n",
      "    (array([2.  ,  2.25,  2.5 ,  2.75,  3.  ]), 0.25)\n",
      "    \n",
      "    Graphical illustration:\n",
      "    \n",
      "    >>> import matplotlib.pyplot as plt\n",
      "    >>> N = 8\n",
      "    >>> y = np.zeros(N)\n",
      "    >>> x1 = np.linspace(0, 10, N, endpoint=True)\n",
      "    >>> x2 = np.linspace(0, 10, N, endpoint=False)\n",
      "    >>> plt.plot(x1, y, 'o')\n",
      "    [<matplotlib.lines.Line2D object at 0x...>]\n",
      "    >>> plt.plot(x2, y + 0.5, 'o')\n",
      "    [<matplotlib.lines.Line2D object at 0x...>]\n",
      "    >>> plt.ylim([-0.5, 1])\n",
      "    (-0.5, 1)\n",
      "    >>> plt.show()\n",
      "\n"
     ]
    }
   ],
   "source": [
    "help(np.linspace)"
   ]
  },
  {
   "cell_type": "markdown",
   "metadata": {
    "toc-hr-collapsed": true,
    "toc-nb-collapsed": true
   },
   "source": [
    "# `numpy` data types\n",
    "In contrast to Python lists where items of different types are acceptable members, each value in a `numpy` array must be the same type. Mixing types (e.g., a float with integers) will result in an upcast of the array (e.g., to float64 instead of an int).\n",
    "\n",
    "<table style=\"border-collapse: collapse;border-top: 0.5pt solid ; border-bottom: 0.5pt solid ; border-left: 0.5pt solid ; border-right: 0.5pt solid ; \"><colgroup><col class=\"tcol1 align-left\"><col class=\"tcol2 align-left\"></colgroup><thead><tr><th style=\"border-right: 0.5pt solid ; border-bottom: 0.5pt solid ; text-align: left;\"><p class=\"SimplePara\">Data Type</p></th><th style=\"border-bottom: 0.5pt solid ; text-align: left;\"><p class=\"SimplePara\">Description</p></th></tr></thead><tbody><tr><td style=\"border-right: 0.5pt solid ; border-bottom: 0.5pt solid ; text-align: left;\"><p class=\"SimplePara\">\n",
    "                          <span class=\"EmphasisFontCategoryNonProportional \">bool_</span>\n",
    "                        </p></td><td style=\"border-bottom: 0.5pt solid ; text-align: left;\"><p class=\"SimplePara\">Boolean (true or false) stored as a byte</p></td></tr><tr><td style=\"border-right: 0.5pt solid ; border-bottom: 0.5pt solid ; text-align: left;\"><p class=\"SimplePara\">\n",
    "                          <span class=\"EmphasisFontCategoryNonProportional \">int_</span>\n",
    "                        </p></td><td style=\"border-bottom: 0.5pt solid ; text-align: left;\"><p class=\"SimplePara\">Default integer type (same as C long; normally either <span class=\"EmphasisFontCategoryNonProportional \">int64</span> or <span class=\"EmphasisFontCategoryNonProportional \">int32</span>)</p></td></tr><tr><td style=\"border-right: 0.5pt solid ; border-bottom: 0.5pt solid ; text-align: left;\"><p class=\"SimplePara\">\n",
    "                          <span class=\"EmphasisFontCategoryNonProportional \">intc</span>\n",
    "                        </p></td><td style=\"border-bottom: 0.5pt solid ; text-align: left;\"><p class=\"SimplePara\">Identical to C int (normally <span class=\"EmphasisFontCategoryNonProportional \">int32</span> or <span class=\"EmphasisFontCategoryNonProportional \">int64</span>)</p></td></tr><tr><td style=\"border-right: 0.5pt solid ; border-bottom: 0.5pt solid ; text-align: left;\"><p class=\"SimplePara\">\n",
    "                          <span class=\"EmphasisFontCategoryNonProportional \">intp</span>\n",
    "                        </p></td><td style=\"border-bottom: 0.5pt solid ; text-align: left;\"><p class=\"SimplePara\">Integer used for indexing (same as C <span class=\"EmphasisFontCategoryNonProportional \">size_t</span>; normally either <span class=\"EmphasisFontCategoryNonProportional \">int32</span> or <span class=\"EmphasisFontCategoryNonProportional \">int64</span>)</p></td></tr><tr><td style=\"border-right: 0.5pt solid ; border-bottom: 0.5pt solid ; text-align: left;\"><p class=\"SimplePara\">\n",
    "                          <span class=\"EmphasisFontCategoryNonProportional \">int8</span>\n",
    "                        </p></td><td style=\"border-bottom: 0.5pt solid ; text-align: left;\"><p class=\"SimplePara\">Byte (–128 to 127)</p></td></tr><tr><td style=\"border-right: 0.5pt solid ; border-bottom: 0.5pt solid ; text-align: left;\"><p class=\"SimplePara\">\n",
    "                          <span class=\"EmphasisFontCategoryNonProportional \">int16</span>\n",
    "                        </p></td><td style=\"border-bottom: 0.5pt solid ; text-align: left;\"><p class=\"SimplePara\">Integer (–32768 to 32767)</p></td></tr><tr><td style=\"border-right: 0.5pt solid ; border-bottom: 0.5pt solid ; text-align: left;\"><p class=\"SimplePara\">\n",
    "                          <span class=\"EmphasisFontCategoryNonProportional \">int32</span>\n",
    "                        </p></td><td style=\"border-bottom: 0.5pt solid ; text-align: left;\"><p class=\"SimplePara\">Integer (–2147483648 to 2147483647)</p></td></tr><tr><td style=\"border-right: 0.5pt solid ; border-bottom: 0.5pt solid ; text-align: left;\"><p class=\"SimplePara\">\n",
    "                          <span class=\"EmphasisFontCategoryNonProportional \">int64</span>\n",
    "                        </p></td><td style=\"border-bottom: 0.5pt solid ; text-align: left;\"><p class=\"SimplePara\">Integer (–9223372036854775808 to 9223372036854775807)</p></td></tr><tr><td style=\"border-right: 0.5pt solid ; border-bottom: 0.5pt solid ; text-align: left;\"><p class=\"SimplePara\">\n",
    "                          <span class=\"EmphasisFontCategoryNonProportional \">uint8</span>\n",
    "                        </p></td><td style=\"border-bottom: 0.5pt solid ; text-align: left;\"><p class=\"SimplePara\">Unsigned integer (0 to 255)</p></td></tr><tr><td style=\"border-right: 0.5pt solid ; border-bottom: 0.5pt solid ; text-align: left;\"><p class=\"SimplePara\">\n",
    "                          <span class=\"EmphasisFontCategoryNonProportional \">uint16</span>\n",
    "                        </p></td><td style=\"border-bottom: 0.5pt solid ; text-align: left;\"><p class=\"SimplePara\">Unsigned integer (0 to 65535)</p></td></tr><tr><td style=\"border-right: 0.5pt solid ; border-bottom: 0.5pt solid ; text-align: left;\"><p class=\"SimplePara\">\n",
    "                          <span class=\"EmphasisFontCategoryNonProportional \">uint32</span>\n",
    "                        </p></td><td style=\"border-bottom: 0.5pt solid ; text-align: left;\"><p class=\"SimplePara\">Unsigned integer (0 to 4294967295)</p></td></tr><tr><td style=\"border-right: 0.5pt solid ; border-bottom: 0.5pt solid ; text-align: left;\"><p class=\"SimplePara\">\n",
    "                          <span class=\"EmphasisFontCategoryNonProportional \">uint64</span>\n",
    "                        </p></td><td style=\"border-bottom: 0.5pt solid ; text-align: left;\"><p class=\"SimplePara\">Unsigned integer (0 to 18446744073709551615)</p></td></tr><tr><td style=\"border-right: 0.5pt solid ; border-bottom: 0.5pt solid ; text-align: left;\"><p class=\"SimplePara\">\n",
    "                          <span class=\"EmphasisFontCategoryNonProportional \">float_</span>\n",
    "                        </p></td><td style=\"border-bottom: 0.5pt solid ; text-align: left;\"><p class=\"SimplePara\">Shorthand for <span class=\"EmphasisFontCategoryNonProportional \">float64</span></p></td></tr><tr><td style=\"border-right: 0.5pt solid ; border-bottom: 0.5pt solid ; text-align: left;\"><p class=\"SimplePara\">\n",
    "                          <span class=\"EmphasisFontCategoryNonProportional \">float16</span>\n",
    "                        </p></td><td style=\"border-bottom: 0.5pt solid ; text-align: left;\"><p class=\"SimplePara\">Half precision float: sign bit, 5-bit exponent, 10-bit mantissa</p></td></tr><tr><td style=\"border-right: 0.5pt solid ; border-bottom: 0.5pt solid ; text-align: left;\"><p class=\"SimplePara\">\n",
    "                          <span class=\"EmphasisFontCategoryNonProportional \">float32</span>\n",
    "                        </p></td><td style=\"border-bottom: 0.5pt solid ; text-align: left;\"><p class=\"SimplePara\">Single precision float: sign bit, 8-bit exponent, 23-bit mantissa</p></td></tr><tr><td style=\"border-right: 0.5pt solid ; border-bottom: 0.5pt solid ; text-align: left;\"><p class=\"SimplePara\">\n",
    "                          <span class=\"EmphasisFontCategoryNonProportional \">float64</span>\n",
    "                        </p></td><td style=\"border-bottom: 0.5pt solid ; text-align: left;\"><p class=\"SimplePara\">Double precision float: sign bit, 11-bit exponent, 52-bit mantissa</p></td></tr><tr><td style=\"border-right: 0.5pt solid ; border-bottom: 0.5pt solid ; text-align: left;\"><p class=\"SimplePara\">\n",
    "                          <span class=\"EmphasisFontCategoryNonProportional \">complex_</span>\n",
    "                        </p></td><td style=\"border-bottom: 0.5pt solid ; text-align: left;\"><p class=\"SimplePara\">Shorthand for complex128</p></td></tr><tr><td style=\"border-right: 0.5pt solid ; border-bottom: 0.5pt solid ; text-align: left;\"><p class=\"SimplePara\">\n",
    "                          <span class=\"EmphasisFontCategoryNonProportional \">complex64</span>\n",
    "                        </p></td>\n",
    "    <td style=\"border-bottom: 0.5pt solid ; text-align: left;\"><p class=\"SimplePara\">Complex number, represented by two 32-bit floats (real and imaginary components)</p></td></tr><tr><td style=\"border-right: 0.5pt solid ; text-align: left;\"><p class=\"SimplePara\">\n",
    "                          <span class=\"EmphasisFontCategoryNonProportional \">complex128</span>\n",
    "                        </p></td><td style=\"text-align: left;\"><p class=\"SimplePara\">Complex number, represented by two 64-bit floats (real and imaginary components)"
   ]
  },
  {
   "cell_type": "markdown",
   "metadata": {},
   "source": [
    "# Creating `numpy` arrays\n",
    "There are many different ways to create `numpy` arrays."
   ]
  },
  {
   "cell_type": "markdown",
   "metadata": {},
   "source": [
    "## Using np.array"
   ]
  },
  {
   "cell_type": "code",
   "execution_count": 9,
   "metadata": {},
   "outputs": [
    {
     "name": "stdout",
     "output_type": "stream",
     "text": [
      "[ 5 10 15 20]\n"
     ]
    }
   ],
   "source": [
    "import numpy as np\n",
    "# Using a list to create a one-dimensional (1-d) array\n",
    "array_1 = np.array([5, 10, 15, 20])\n",
    "print(array_1)"
   ]
  },
  {
   "cell_type": "code",
   "execution_count": 10,
   "metadata": {},
   "outputs": [
    {
     "data": {
      "text/plain": [
       "numpy.ndarray"
      ]
     },
     "execution_count": 10,
     "metadata": {},
     "output_type": "execute_result"
    }
   ],
   "source": [
    "# The type of array is a NumPy N-Dimensional array\n",
    "type(array_1)"
   ]
  },
  {
   "cell_type": "code",
   "execution_count": 11,
   "metadata": {},
   "outputs": [
    {
     "name": "stdout",
     "output_type": "stream",
     "text": [
      "int32\n"
     ]
    }
   ],
   "source": [
    "# Display data type (varies by system)\n",
    "print(array_1.dtype)"
   ]
  },
  {
   "cell_type": "code",
   "execution_count": 12,
   "metadata": {},
   "outputs": [
    {
     "name": "stdout",
     "output_type": "stream",
     "text": [
      "float64\n",
      "[1. 2. 3. 4.]\n"
     ]
    }
   ],
   "source": [
    "# If any member is a float, the array will be upcast (float64, system-dependent)\n",
    "array_3 = np.array([1, 2.0, 3, 4])\n",
    "print(array_3.dtype)\n",
    "print(array_3)"
   ]
  },
  {
   "cell_type": "code",
   "execution_count": 13,
   "metadata": {},
   "outputs": [
    {
     "name": "stdout",
     "output_type": "stream",
     "text": [
      "Addition:\n",
      "[ 5 10 15 20] + [1 3 7 9]\n",
      "[ 6 13 22 29]\n"
     ]
    }
   ],
   "source": [
    "array_2 = np.array([1, 3, 7, 9])\n",
    "\n",
    "print(\"Addition:\")\n",
    "print(array_1, \"+\", array_2)\n",
    "print(array_1 + array_2)"
   ]
  },
  {
   "cell_type": "code",
   "execution_count": 14,
   "metadata": {},
   "outputs": [
    {
     "name": "stdout",
     "output_type": "stream",
     "text": [
      "[ 5 10 15 20] * [1 3 7 9]\n",
      "[  5  30 105 180]\n"
     ]
    }
   ],
   "source": [
    "# Works with all other operators (multiplication, division, exponentiation, etc.)\n",
    "print(array_1, \"*\", array_2)\n",
    "print(array_1 * array_2)"
   ]
  },
  {
   "cell_type": "code",
   "execution_count": 15,
   "metadata": {},
   "outputs": [
    {
     "name": "stdout",
     "output_type": "stream",
     "text": [
      "1\n",
      "(4,)\n"
     ]
    }
   ],
   "source": [
    "# Display the length of the array \n",
    "#   along each dimension\n",
    "print(array_1.ndim)\n",
    "print(array_1.shape)"
   ]
  },
  {
   "cell_type": "markdown",
   "metadata": {},
   "source": [
    "## Using np.arange()\n",
    "The **np.arange()** function is a commonly-used array creation routine that creates an instance of an ndarray with evenly spaced values. It takes the form:\n",
    "```Python\n",
    "numpy.arange([start, ]stop, [step, ], dtype=None)\n",
    "```\n",
    "1. **start** is the first value in the array (optional)\n",
    "2. **stop** is the last value in the array (required)\n",
    "3. **step** defines the incremental difference between each consecutive number in the range (optional, default is 1)\n",
    "4. **dytpe** specifies the output array data type"
   ]
  },
  {
   "cell_type": "code",
   "execution_count": 16,
   "metadata": {},
   "outputs": [
    {
     "name": "stdout",
     "output_type": "stream",
     "text": [
      "[0 1 2 3 4 5 6 7 8 9]\n"
     ]
    }
   ],
   "source": [
    "# Create an array: start = 0 (default), stop = 10, step = 1 (default)\n",
    "my_array = np.arange(10)\n",
    "print(my_array)"
   ]
  },
  {
   "cell_type": "code",
   "execution_count": 17,
   "metadata": {},
   "outputs": [
    {
     "name": "stdout",
     "output_type": "stream",
     "text": [
      "array([  2,   4,   6,   8,  10,  12,  14,  16,  18,  20,  22,  24,  26,\n",
      "        28,  30,  32,  34,  36,  38,  40,  42,  44,  46,  48,  50,  52,\n",
      "        54,  56,  58,  60,  62,  64,  66,  68,  70,  72,  74,  76,  78,\n",
      "        80,  82,  84,  86,  88,  90,  92,  94,  96,  98, 100, 102, 104])\n"
     ]
    }
   ],
   "source": [
    "import pprint as pp\n",
    "# Create an array of even numbers 2 to 100\n",
    "my_array = np.arange(2, 105, 2)\n",
    "pp.pprint(my_array)\n"
   ]
  },
  {
   "cell_type": "markdown",
   "metadata": {},
   "source": [
    "## Creating 2-d arrays\n",
    "The basic unit of memory in `numpy` is a Row. Shape is referenced like this: (row, column). So a 2 x 4 array has 2 rows and four columns.\n",
    "\n",
    "> Note the additional set of square brackets. The array function expects a single iterator as an argument. Passing multiple objects will raise an exception.\n",
    "\n",
    "Although arrays are often created via reading from disk or other function, they can also be created manually using a list of lists."
   ]
  },
  {
   "cell_type": "code",
   "execution_count": 18,
   "metadata": {},
   "outputs": [
    {
     "ename": "TypeError",
     "evalue": "data type not understood",
     "output_type": "error",
     "traceback": [
      "\u001b[1;31m---------------------------------------------------------------------------\u001b[0m",
      "\u001b[1;31mTypeError\u001b[0m                                 Traceback (most recent call last)",
      "\u001b[1;32m<ipython-input-18-00173d8d8ab7>\u001b[0m in \u001b[0;36m<module>\u001b[1;34m\u001b[0m\n\u001b[0;32m      1\u001b[0m \u001b[1;31m# ERROR: Why?\u001b[0m\u001b[1;33m\u001b[0m\u001b[1;33m\u001b[0m\u001b[1;33m\u001b[0m\u001b[0m\n\u001b[0;32m      2\u001b[0m array_2 = np.array([1,2,3,4],\n\u001b[1;32m----> 3\u001b[1;33m                    [5,6,7,8])\n\u001b[0m\u001b[0;32m      4\u001b[0m \u001b[0mprint\u001b[0m\u001b[1;33m(\u001b[0m\u001b[0marray_2\u001b[0m\u001b[1;33m)\u001b[0m\u001b[1;33m\u001b[0m\u001b[1;33m\u001b[0m\u001b[0m\n\u001b[0;32m      5\u001b[0m \u001b[0mprint\u001b[0m\u001b[1;33m(\u001b[0m\u001b[1;34mf\"The type of this array is {type(array_2)} and its number of dimensions is {array_2.ndim}.\"\u001b[0m\u001b[1;33m)\u001b[0m\u001b[1;33m\u001b[0m\u001b[1;33m\u001b[0m\u001b[0m\n",
      "\u001b[1;31mTypeError\u001b[0m: data type not understood"
     ]
    }
   ],
   "source": [
    "# ERROR: Why?\n",
    "array_2 = np.array([1,2,3,4],\n",
    "                   [5,6,7,8])\n",
    "print(array_2)\n",
    "print(f\"The type of this array is {type(array_2)} and its number of dimensions is {array_2.ndim}.\")\n",
    "print(f\"The shape of this array is {array_2.shape}\")"
   ]
  },
  {
   "cell_type": "code",
   "execution_count": 19,
   "metadata": {},
   "outputs": [
    {
     "name": "stdout",
     "output_type": "stream",
     "text": [
      "[[1 2 3 4]\n",
      " [5 6 7 8]]\n",
      "The type of this array is <class 'numpy.ndarray'> and its number of dimensions is 2.\n",
      "The shape of this array is (2, 4)\n"
     ]
    }
   ],
   "source": [
    "# Using a list of lists to creating a two-dimensional (2-d) array\n",
    "array_2 = np.array([[1,2,3,4],\n",
    "                    [5,6,7,8]])\n",
    "print(array_2)\n",
    "print(f\"The type of this array is {type(array_2)} and its number of dimensions is {array_2.ndim}.\")\n",
    "print(f\"The shape of this array is {array_2.shape}\")"
   ]
  },
  {
   "cell_type": "code",
   "execution_count": 20,
   "metadata": {},
   "outputs": [
    {
     "name": "stdout",
     "output_type": "stream",
     "text": [
      "[[  0   5  10  15  20  25]\n",
      " [ 30  35  40  45  50  55]\n",
      " [ 60  65  70  75  80  85]\n",
      " [ 90  95 100 105 110 115]\n",
      " [120 125 130 135 140 145]\n",
      " [150 155 160 165 170 175]\n",
      " [180 185 190 195 200 205]\n",
      " [210 215 220 225 230 235]\n",
      " [240 245 250 255 260 265]\n",
      " [270 275 280 285 290 295]]\n"
     ]
    }
   ],
   "source": [
    "# Use arange() to create a 2D (10 x 6) array 0 to 295\n",
    "array_50 = np.arange(0,300,5).reshape(10,6)\n",
    "print(array_50)"
   ]
  },
  {
   "cell_type": "markdown",
   "metadata": {},
   "source": [
    "## Creating arrays using functions\n"
   ]
  },
  {
   "cell_type": "code",
   "execution_count": 21,
   "metadata": {},
   "outputs": [],
   "source": [
    "import numpy as np"
   ]
  },
  {
   "cell_type": "markdown",
   "metadata": {},
   "source": [
    "### Using the zeroes Function"
   ]
  },
  {
   "cell_type": "code",
   "execution_count": 22,
   "metadata": {},
   "outputs": [
    {
     "data": {
      "text/plain": [
       "array([[0., 0., 0., 0., 0.],\n",
       "       [0., 0., 0., 0., 0.],\n",
       "       [0., 0., 0., 0., 0.],\n",
       "       [0., 0., 0., 0., 0.]])"
      ]
     },
     "execution_count": 22,
     "metadata": {},
     "output_type": "execute_result"
    }
   ],
   "source": [
    "# Creating a two-dimensional (2-d) array of size 4 x 5 (rows X columns)\n",
    "# that is filled with zeros\n",
    "np.zeros((4,5))"
   ]
  },
  {
   "cell_type": "markdown",
   "metadata": {},
   "source": [
    "### Using the ones Function"
   ]
  },
  {
   "cell_type": "code",
   "execution_count": 23,
   "metadata": {},
   "outputs": [
    {
     "data": {
      "text/plain": [
       "array([[1., 1., 1., 1.],\n",
       "       [1., 1., 1., 1.],\n",
       "       [1., 1., 1., 1.]])"
      ]
     },
     "execution_count": 23,
     "metadata": {},
     "output_type": "execute_result"
    }
   ],
   "source": [
    "# Creating a two-dimensional (2-d) array of size 3 x 4 (rows X columns)\n",
    "# that is filled with ones\n",
    "np.ones((3,4))"
   ]
  },
  {
   "cell_type": "markdown",
   "metadata": {},
   "source": [
    "### Identity Matrix"
   ]
  },
  {
   "cell_type": "code",
   "execution_count": 24,
   "metadata": {},
   "outputs": [
    {
     "name": "stdout",
     "output_type": "stream",
     "text": [
      "Random 5 x 5 matrix\n",
      "[[99 55 36 53 46]\n",
      " [38 60 42 55 78]\n",
      " [55 43 38 40 24]\n",
      " [35 48 79 11 35]\n",
      " [72 29 32 66 51]] \n",
      "\n",
      "This is the identity matrix provided by the NumPy eye() method.\n",
      "[[1. 0. 0. 0. 0.]\n",
      " [0. 1. 0. 0. 0.]\n",
      " [0. 0. 1. 0. 0.]\n",
      " [0. 0. 0. 1. 0.]\n",
      " [0. 0. 0. 0. 1.]]\n",
      "\n",
      "A given matrix multiplied by an identity matrix equals itself.\n",
      "[[99. 55. 36. 53. 46.]\n",
      " [38. 60. 42. 55. 78.]\n",
      " [55. 43. 38. 40. 24.]\n",
      " [35. 48. 79. 11. 35.]\n",
      " [72. 29. 32. 66. 51.]]\n"
     ]
    }
   ],
   "source": [
    "# Creating a two-dimensional 5 x 5 identity matrix\n",
    "identity_matrix = np.eye(5)\n",
    "random_2 = np.random.randint(5,100,size=(5,5))\n",
    "print(\"Random 5 x 5 matrix\")\n",
    "print(random_2,\"\\n\")\n",
    "print(\"This is the identity matrix provided by the NumPy eye() method.\")\n",
    "print(identity_matrix)\n",
    "print(\"\\nA given matrix multiplied by an identity matrix equals itself.\")\n",
    "\n",
    "print(np.dot(random_2,identity_matrix))"
   ]
  },
  {
   "cell_type": "markdown",
   "metadata": {},
   "source": [
    "### Random Number Generator"
   ]
  },
  {
   "cell_type": "code",
   "execution_count": 25,
   "metadata": {},
   "outputs": [
    {
     "name": "stdout",
     "output_type": "stream",
     "text": [
      "One-dimensional random array:\n",
      "[6 9 7 2 5 5]\n",
      "\n",
      "Two-dimensional random array:\n",
      "[[3 7 9 3]\n",
      " [5 2 4 7]\n",
      " [6 8 8 1]]\n",
      "\n",
      "Three-dimensional random array:\n",
      "[[[6 7 7 8 1]\n",
      "  [5 9 8 9 4]\n",
      "  [3 0 3 5 0]\n",
      "  [2 3 8 1 3]]\n",
      "\n",
      " [[3 3 7 0 1]\n",
      "  [9 9 0 4 7]\n",
      "  [3 2 7 2 0]\n",
      "  [0 4 5 5 6]]\n",
      "\n",
      " [[8 4 1 4 9]\n",
      "  [8 1 1 7 9]\n",
      "  [9 3 6 7 2]\n",
      "  [0 3 5 9 4]]]\n"
     ]
    }
   ],
   "source": [
    "# Create 1-, 2-, and 3-dimensionsl random arrays using NumPy's random number generator.\n",
    "\n",
    "np.random.seed(0) # use seed() to produce the same numbers each time\n",
    "\n",
    "# Generate a one-dimensional array between 2 and 9 with six elements\n",
    "random_1 = np.random.randint(2, 10, size=6)\n",
    "print(\"One-dimensional random array:\")\n",
    "print(random_1)\n",
    "\n",
    "# Generate a two-dimensional (3 x 4) array (0 to 9)\n",
    "random_2 = np.random.randint(10, size=(3,4))\n",
    "print(\"\\nTwo-dimensional random array:\")\n",
    "print(random_2)\n",
    "\n",
    "# Generate a three-dimensional (3 x 4 x 5) array (0 to 9)\n",
    "random_3 = np.random.randint(10, size=(3,4,5))\n",
    "print(\"\\nThree-dimensional random array:\")\n",
    "print(random_3)"
   ]
  },
  {
   "cell_type": "code",
   "execution_count": 26,
   "metadata": {},
   "outputs": [
    {
     "data": {
      "text/plain": [
       "array([[63.4274058 , 95.89492686, 65.2790317 ],\n",
       "       [63.50588736, 99.52995677, 58.18503294],\n",
       "       [41.43685882, 47.46975023, 62.35101011],\n",
       "       [33.80076148, 67.47523223, 31.72017421],\n",
       "       [77.8345482 , 94.95710535, 66.2526867 ]])"
      ]
     },
     "execution_count": 26,
     "metadata": {},
     "output_type": "execute_result"
    }
   ],
   "source": [
    "# Creating a two-dimensional 5 x 3 matrix filled with\n",
    "# values randomly drawn from a continuous uniform distribution\n",
    "# that ranges from 0.0 to 100.0\n",
    "np.random.uniform(low = 0.0, high = 100.0, size = (5, 3))"
   ]
  },
  {
   "cell_type": "code",
   "execution_count": 27,
   "metadata": {},
   "outputs": [
    {
     "data": {
      "text/plain": [
       "array([[10.0537385 , 12.11167427,  9.85363315],\n",
       "       [ 8.66855868,  9.91177518,  9.27346596],\n",
       "       [ 9.97531037, 10.08424298, 13.91859178]])"
      ]
     },
     "execution_count": 27,
     "metadata": {},
     "output_type": "execute_result"
    }
   ],
   "source": [
    "# Creating a two-dimensional 3 x 3 matrix filled with\n",
    "# values randomly drawn from a normal distribution with\n",
    "# a mean of 10.0 and standard deviation of 2.0 \n",
    "np.random.normal(loc = 10.0, scale = 2.0, size = (3,3))"
   ]
  },
  {
   "cell_type": "markdown",
   "metadata": {},
   "source": [
    "## Using the linspace Method\n",
    "Use the linspace method to create equally spaced elements in an array. The method commonly takes three arguments: start, stop, and num. Num is the number of evenly spaced numbers to create within the start and stop range.\n",
    "```Python\n",
    "# linspace(start_index, stop_index, num)\n",
    "my_array = np.linspace(1, 10, 40)\n",
    "```"
   ]
  },
  {
   "cell_type": "code",
   "execution_count": 28,
   "metadata": {},
   "outputs": [
    {
     "name": "stdout",
     "output_type": "stream",
     "text": [
      "[ 1.     1.275  1.55   1.825  2.1    2.375  2.65   2.925  3.2    3.475\n",
      "  3.75   4.025  4.3    4.575  4.85   5.125  5.4    5.675  5.95   6.225\n",
      "  6.5    6.775  7.05   7.325  7.6    7.875  8.15   8.425  8.7    8.975\n",
      "  9.25   9.525  9.8   10.075 10.35  10.625 10.9   11.175 11.45  11.725]\n"
     ]
    }
   ],
   "source": [
    "my_array = np.linspace(1, 12, 40, endpoint=False)\n",
    "print(my_array)"
   ]
  },
  {
   "cell_type": "markdown",
   "metadata": {},
   "source": [
    "# `numpy` Array attributes\n",
    "In this section we'll discuss useful array attributes."
   ]
  },
  {
   "cell_type": "code",
   "execution_count": 29,
   "metadata": {},
   "outputs": [
    {
     "name": "stdout",
     "output_type": "stream",
     "text": [
      "[ True False False  True  True] \n",
      "\n",
      "Shape = (5,)\n",
      "Dimensions = 1\n",
      "Size = 5\n",
      "Item size = 1\n",
      "Bytes = 5\n"
     ]
    }
   ],
   "source": [
    "import numpy as np\n",
    "array_1 = np.array([True, False, False, True, True])\n",
    "\n",
    "print(array_1, \"\\n\")\n",
    "\n",
    "# Display the number of dimensions, size, shape, number of bytes\n",
    "print(f\"Shape = {array_1.shape}\")\n",
    "print(f\"Dimensions = {array_1.ndim}\")\n",
    "print(f\"Size = {array_1.size}\")\n",
    "print(f\"Item size = {array_1.itemsize}\")\n",
    "print(f\"Bytes = {array_1.nbytes}\")"
   ]
  },
  {
   "cell_type": "code",
   "execution_count": 30,
   "metadata": {},
   "outputs": [
    {
     "name": "stdout",
     "output_type": "stream",
     "text": [
      "[['exam1' 'exam2' 'exam3']\n",
      " ['99.5' '100' '67']] \n",
      "\n",
      "Shape = (2, 3)\n",
      "Dimensions = 2\n",
      "Size = 6\n",
      "Item size = 20\n",
      "Bytes = 120\n"
     ]
    }
   ],
   "source": [
    "exam_scores = np.array([[\"exam1\",\"exam2\",\"exam3\"],[99.5,100,67]])\n",
    "print(exam_scores,\"\\n\")\n",
    "print(f\"Shape = {exam_scores.shape}\")\n",
    "print(f\"Dimensions = {exam_scores.ndim}\")\n",
    "print(f\"Size = {exam_scores.size}\")\n",
    "print(f\"Item size = {exam_scores.itemsize}\")\n",
    "print(f\"Bytes = {exam_scores.nbytes}\")"
   ]
  },
  {
   "cell_type": "markdown",
   "metadata": {
    "toc-hr-collapsed": false
   },
   "source": [
    "## Array indexing: Acessing single elements\n",
    "\n",
    "Arrays are zero-based. "
   ]
  },
  {
   "cell_type": "code",
   "execution_count": 31,
   "metadata": {},
   "outputs": [
    {
     "name": "stdout",
     "output_type": "stream",
     "text": [
      "The first element is 1\n"
     ]
    }
   ],
   "source": [
    "my_array = np.array([1,2,4,6,8,100,])\n",
    "\n",
    "# arrays are zero-based\n",
    "print(f\"The first element is {my_array[0]}\")\n"
   ]
  },
  {
   "cell_type": "markdown",
   "metadata": {},
   "source": [
    "Like lists, dictionaries, and arrays in Python, NumPy arrays are mutable."
   ]
  },
  {
   "cell_type": "code",
   "execution_count": 32,
   "metadata": {},
   "outputs": [
    {
     "name": "stdout",
     "output_type": "stream",
     "text": [
      "Current value of element 5 = 100\n",
      "New value of element 5 = 10\n"
     ]
    }
   ],
   "source": [
    "# Change my_array[5] to \"10\"\n",
    "print(f\"Current value of element 5 = {my_array[5]}\")\n",
    "my_array[5] = 10\n",
    "print(f\"New value of element 5 = {my_array[5]}\")"
   ]
  },
  {
   "cell_type": "markdown",
   "metadata": {},
   "source": [
    "### Type Coercion\n",
    "Beware of type coercion--adding a float into an integer array truncates the decimal part. The float 2.5 becomes the integer 2."
   ]
  },
  {
   "cell_type": "code",
   "execution_count": 33,
   "metadata": {},
   "outputs": [
    {
     "name": "stdout",
     "output_type": "stream",
     "text": [
      "[0 2 1]\n"
     ]
    }
   ],
   "source": [
    "import numpy as np\n",
    "a = np.array([0,0,1])\n",
    "a[1] = 2.5\n",
    "print(a)"
   ]
  },
  {
   "cell_type": "markdown",
   "metadata": {},
   "source": [
    "### Deleting Portions of Arrays"
   ]
  },
  {
   "cell_type": "code",
   "execution_count": 34,
   "metadata": {},
   "outputs": [
    {
     "name": "stdout",
     "output_type": "stream",
     "text": [
      "[ 3  2  4  6  8 10]\n"
     ]
    }
   ],
   "source": [
    "my_array [0] = 3.141\n",
    "print(my_array)"
   ]
  },
  {
   "cell_type": "code",
   "execution_count": 35,
   "metadata": {},
   "outputs": [
    {
     "name": "stdout",
     "output_type": "stream",
     "text": [
      "[[ 0  1  2  3  4  5  6  7  8  9]\n",
      " [10 11 12 13 14 15 16 17 18 19]\n",
      " [20 21 22 23 24 25 26 27 28 29]\n",
      " [30 31 32 33 34 35 36 37 38 39]\n",
      " [40 41 42 43 44 45 46 47 48 49]\n",
      " [50 51 52 53 54 55 56 57 58 59]]\n",
      "\n",
      "[[ 0  1  2  3  4  5]\n",
      " [10 11 12 13 14 15]\n",
      " [20 21 22 23 24 25]\n",
      " [30 31 32 33 34 35]\n",
      " [40 41 42 43 44 45]\n",
      " [50 51 52 53 54 55]]\n"
     ]
    }
   ],
   "source": [
    "# Create an array 0 to 59 and shape it into 6 rows by 10 columns\n",
    "a = np.arange(0,60).reshape(6,10)\n",
    "print(a)\n",
    "print()\n",
    "# Delete the last four columns (6 through 9) (see Array Slicing)\n",
    "a = np.delete(a,a[:,6:])\n",
    "print(a.reshape(6,6))"
   ]
  },
  {
   "cell_type": "markdown",
   "metadata": {},
   "source": [
    "## Array slicing: Accessing subarrays\n",
    "```Python\n",
    "var[lower:upper:step]\n",
    "```\n",
    "Slicing an array extracts a subset of an array by specifying a lower bound, upper bound and (optionally) a step value. As in the Range (and ARange) functions the lower bound element is included in the result set, but the upper boudn value is not."
   ]
  },
  {
   "cell_type": "code",
   "execution_count": 36,
   "metadata": {},
   "outputs": [
    {
     "name": "stdout",
     "output_type": "stream",
     "text": [
      "[0 1 2 3 4]\n"
     ]
    }
   ],
   "source": [
    "# Print slice of first five elements (0 - 4)\n",
    "my_array = np.array([0,1,2,3,4,5,6,7,8,9])\n",
    "new_array = my_array[0:5] # The 5th element is 25\n",
    "print(new_array)"
   ]
  },
  {
   "cell_type": "code",
   "execution_count": 37,
   "metadata": {},
   "outputs": [
    {
     "data": {
      "text/plain": [
       "9"
      ]
     },
     "execution_count": 37,
     "metadata": {},
     "output_type": "execute_result"
    }
   ],
   "source": [
    "# Index of last element\n",
    "my_array[-1]"
   ]
  },
  {
   "cell_type": "code",
   "execution_count": 38,
   "metadata": {},
   "outputs": [
    {
     "data": {
      "text/plain": [
       "array([8, 9])"
      ]
     },
     "execution_count": 38,
     "metadata": {},
     "output_type": "execute_result"
    }
   ],
   "source": [
    "# Display the last two elements\n",
    "my_array[-2:]"
   ]
  },
  {
   "cell_type": "code",
   "execution_count": 39,
   "metadata": {},
   "outputs": [
    {
     "data": {
      "text/plain": [
       "array([0, 2, 4, 6, 8])"
      ]
     },
     "execution_count": 39,
     "metadata": {},
     "output_type": "execute_result"
    }
   ],
   "source": [
    "# Display every other element\n",
    "# ::step\n",
    "my_array[::2]"
   ]
  },
  {
   "cell_type": "markdown",
   "metadata": {},
   "source": [
    "### Slicing 2D Array"
   ]
  },
  {
   "cell_type": "code",
   "execution_count": 40,
   "metadata": {},
   "outputs": [
    {
     "name": "stdout",
     "output_type": "stream",
     "text": [
      "[ 0  1  2  3  4  5 10 11 12 13 14 15 20 21 22 23 24 25 30 31 32 33 34 35\n",
      " 40 41 42 43 44 45 50 51 52 53 54 55]\n",
      "Reshape array into 6 x 6\n",
      "[[ 0  1  2  3  4  5]\n",
      " [10 11 12 13 14 15]\n",
      " [20 21 22 23 24 25]\n",
      " [30 31 32 33 34 35]\n",
      " [40 41 42 43 44 45]\n",
      " [50 51 52 53 54 55]]\n"
     ]
    }
   ],
   "source": [
    "# 2D array from Deletion example\n",
    "print(a)\n",
    "print(\"Reshape array into 6 x 6\")\n",
    "a = a.reshape(6,6)\n",
    "print(a)"
   ]
  },
  {
   "cell_type": "markdown",
   "metadata": {},
   "source": [
    "![image](images_numpy/array6x6.jpg)"
   ]
  },
  {
   "cell_type": "code",
   "execution_count": 41,
   "metadata": {},
   "outputs": [
    {
     "name": "stdout",
     "output_type": "stream",
     "text": [
      "yellow = [3 4]\n"
     ]
    }
   ],
   "source": [
    "# First row = 0, show elements 3 up to 5, but not including 5\n",
    "yellow = a[0, 3:5]\n",
    "print(\"yellow =\", yellow)"
   ]
  },
  {
   "cell_type": "code",
   "execution_count": 42,
   "metadata": {},
   "outputs": [
    {
     "name": "stdout",
     "output_type": "stream",
     "text": [
      "red =  [ 2 12 22 32 42 52]\n"
     ]
    }
   ],
   "source": [
    "# include all rows (\":\"), limit to column 2\n",
    "red = a[:, 2]\n",
    "print(\"red = \", red)"
   ]
  },
  {
   "cell_type": "code",
   "execution_count": 43,
   "metadata": {},
   "outputs": [
    {
     "name": "stdout",
     "output_type": "stream",
     "text": [
      "dark blue =  [[20 22 24]\n",
      " [40 42 44]]\n"
     ]
    }
   ],
   "source": [
    "# start at row 2 and step 2\n",
    "# then start at column 0 and step 2\n",
    "dark_blue = a[2::2, ::2]\n",
    "print(\"dark blue = \", dark_blue)"
   ]
  },
  {
   "cell_type": "code",
   "execution_count": 44,
   "metadata": {},
   "outputs": [
    {
     "name": "stdout",
     "output_type": "stream",
     "text": [
      "blue = [[44 45]\n",
      " [54 55]]\n"
     ]
    }
   ],
   "source": [
    "# start at 4th row and go to 4th column\n",
    "blue = a[4:, 4:]\n",
    "print(\"blue =\", blue)\n"
   ]
  },
  {
   "cell_type": "markdown",
   "metadata": {},
   "source": [
    "## Transposing Arrays\n",
    "Use T to transpose arrays. Transpose swaps the order of the axes."
   ]
  },
  {
   "cell_type": "code",
   "execution_count": 45,
   "metadata": {},
   "outputs": [
    {
     "name": "stdout",
     "output_type": "stream",
     "text": [
      "(3, 4, 5)\n",
      "[[[6 7 7 8 1]\n",
      "  [5 9 8 9 4]\n",
      "  [3 0 3 5 0]\n",
      "  [2 3 8 1 3]]\n",
      "\n",
      " [[3 3 7 0 1]\n",
      "  [9 9 0 4 7]\n",
      "  [3 2 7 2 0]\n",
      "  [0 4 5 5 6]]\n",
      "\n",
      " [[8 4 1 4 9]\n",
      "  [8 1 1 7 9]\n",
      "  [9 3 6 7 2]\n",
      "  [0 3 5 9 4]]]\n",
      "(5, 4, 3)\n",
      "[[[6 3 8]\n",
      "  [5 9 8]\n",
      "  [3 3 9]\n",
      "  [2 0 0]]\n",
      "\n",
      " [[7 3 4]\n",
      "  [9 9 1]\n",
      "  [0 2 3]\n",
      "  [3 4 3]]\n",
      "\n",
      " [[7 7 1]\n",
      "  [8 0 1]\n",
      "  [3 7 6]\n",
      "  [8 5 5]]\n",
      "\n",
      " [[8 0 4]\n",
      "  [9 4 7]\n",
      "  [5 2 7]\n",
      "  [1 5 9]]\n",
      "\n",
      " [[1 1 9]\n",
      "  [4 7 9]\n",
      "  [0 0 2]\n",
      "  [3 6 4]]]\n"
     ]
    }
   ],
   "source": [
    "# orignal array\n",
    "print(random_3.shape)\n",
    "print(random_3)\n",
    "\n",
    "#Transpose array\n",
    "print(random_3.T.shape)\n",
    "print(random_3.T)"
   ]
  },
  {
   "cell_type": "markdown",
   "metadata": {},
   "source": [
    "## Array Concatenation and Splitting"
   ]
  },
  {
   "cell_type": "code",
   "execution_count": 46,
   "metadata": {},
   "outputs": [
    {
     "data": {
      "text/plain": [
       "array([1, 2, 3, 3, 2, 1])"
      ]
     },
     "execution_count": 46,
     "metadata": {},
     "output_type": "execute_result"
    }
   ],
   "source": [
    "# Use np.concatenate to join arrays\n",
    "x = np.array([1, 2, 3]) \n",
    "y = np.array([3, 2, 1]) \n",
    "np.concatenate([x, y])"
   ]
  },
  {
   "cell_type": "code",
   "execution_count": 47,
   "metadata": {},
   "outputs": [
    {
     "name": "stdout",
     "output_type": "stream",
     "text": [
      "[ 1  2  3  3  2  1 99 99 99]\n"
     ]
    }
   ],
   "source": [
    "# np.concatenate enables you to join more than two arrays\n",
    "z = [99, 99, 99] \n",
    "print(np.concatenate([x, y, z]))"
   ]
  },
  {
   "cell_type": "code",
   "execution_count": 48,
   "metadata": {},
   "outputs": [
    {
     "data": {
      "text/plain": [
       "array([[1, 2, 3],\n",
       "       [4, 5, 6],\n",
       "       [1, 2, 3],\n",
       "       [4, 5, 6]])"
      ]
     },
     "execution_count": 48,
     "metadata": {},
     "output_type": "execute_result"
    }
   ],
   "source": [
    "grid = np.array([[1, 2, 3], [4, 5, 6]])\n",
    "# concatenate along the first axis \n",
    "np.concatenate([grid, grid])"
   ]
  },
  {
   "cell_type": "code",
   "execution_count": 49,
   "metadata": {},
   "outputs": [
    {
     "data": {
      "text/plain": [
       "array([[1, 2, 3, 1, 2, 3],\n",
       "       [4, 5, 6, 4, 5, 6]])"
      ]
     },
     "execution_count": 49,
     "metadata": {},
     "output_type": "execute_result"
    }
   ],
   "source": [
    "# concatenate along the second axis (zero-indexed) \n",
    "np.concatenate([grid, grid], axis=1)"
   ]
  },
  {
   "cell_type": "markdown",
   "metadata": {},
   "source": [
    "### Joining arrays with mixed dimensions\n",
    "\n",
    "You may find it more straightforward to use vstack and hstack to join arrays."
   ]
  },
  {
   "cell_type": "code",
   "execution_count": 50,
   "metadata": {},
   "outputs": [
    {
     "name": "stdout",
     "output_type": "stream",
     "text": [
      "[[9 8 7]\n",
      " [6 5 4]]\n",
      "(3,)\n",
      "(2, 3)\n"
     ]
    }
   ],
   "source": [
    "x = np.array([1, 2, 3]) \n",
    "grid = np.array([[9, 8, 7], [6, 5, 4]])\n",
    "print(grid)\n",
    "print(x.shape)\n",
    "print(grid.shape)"
   ]
  },
  {
   "cell_type": "code",
   "execution_count": 51,
   "metadata": {},
   "outputs": [
    {
     "data": {
      "text/plain": [
       "array([[1, 2, 3],\n",
       "       [9, 8, 7],\n",
       "       [6, 5, 4]])"
      ]
     },
     "execution_count": 51,
     "metadata": {},
     "output_type": "execute_result"
    }
   ],
   "source": [
    "# vertically stack the arrays \n",
    "np.vstack([x, grid])"
   ]
  },
  {
   "cell_type": "code",
   "execution_count": 52,
   "metadata": {},
   "outputs": [
    {
     "data": {
      "text/plain": [
       "array([[ 9,  8,  7, 99],\n",
       "       [ 6,  5,  4, 99]])"
      ]
     },
     "execution_count": 52,
     "metadata": {},
     "output_type": "execute_result"
    }
   ],
   "source": [
    "# horizontally stack the arrays \n",
    "y = np.array([[99], [99]])\n",
    "np.hstack([grid, y])"
   ]
  },
  {
   "cell_type": "markdown",
   "metadata": {},
   "source": [
    "## Splitting Arrays\n",
    "Use np.split, np.vsplit, and np.hsplit to split an array. For each function, pass a list of indices giving the split points."
   ]
  },
  {
   "cell_type": "code",
   "execution_count": 53,
   "metadata": {},
   "outputs": [
    {
     "name": "stdout",
     "output_type": "stream",
     "text": [
      "[1 2] [ 3 99 99  3] [2 1]\n"
     ]
    }
   ],
   "source": [
    "x = [1, 2, 3, 99, 99, 3, 2, 1] \n",
    "x1, x2, x3 = np.split(x, [2, 6]) \n",
    "print(x1, x2, x3)"
   ]
  },
  {
   "cell_type": "markdown",
   "metadata": {},
   "source": [
    "Notice that N split points lead to N + 1 subarrays. The related functions np.hsplit and np.vsplit are similar."
   ]
  },
  {
   "cell_type": "code",
   "execution_count": 54,
   "metadata": {},
   "outputs": [
    {
     "data": {
      "text/plain": [
       "array([[ 0,  1,  2,  3],\n",
       "       [ 4,  5,  6,  7],\n",
       "       [ 8,  9, 10, 11],\n",
       "       [12, 13, 14, 15]])"
      ]
     },
     "execution_count": 54,
     "metadata": {},
     "output_type": "execute_result"
    }
   ],
   "source": [
    "grid = np.arange(16).reshape((4, 4)) \n",
    "grid"
   ]
  },
  {
   "cell_type": "code",
   "execution_count": 55,
   "metadata": {},
   "outputs": [
    {
     "name": "stdout",
     "output_type": "stream",
     "text": [
      "[[0 1 2 3]\n",
      " [4 5 6 7]]\n",
      "\n",
      "[[ 8  9 10 11]\n",
      " [12 13 14 15]]\n"
     ]
    }
   ],
   "source": [
    "upper, lower = np.vsplit(grid, [2]) \n",
    "print(upper) \n",
    "print()\n",
    "print(lower)"
   ]
  },
  {
   "cell_type": "code",
   "execution_count": 56,
   "metadata": {},
   "outputs": [
    {
     "name": "stdout",
     "output_type": "stream",
     "text": [
      "[[ 0  1  2  3]\n",
      " [ 4  5  6  7]\n",
      " [ 8  9 10 11]\n",
      " [12 13 14 15]]\n",
      "\n",
      "[[ 0]\n",
      " [ 4]\n",
      " [ 8]\n",
      " [12]]\n",
      "\n",
      "[[ 1  2  3]\n",
      " [ 5  6  7]\n",
      " [ 9 10 11]\n",
      " [13 14 15]]\n"
     ]
    }
   ],
   "source": [
    "print(grid)\n",
    "print()\n",
    "left, right = np.hsplit(grid, [1]) \n",
    "print(left) \n",
    "print()\n",
    "print(right)"
   ]
  },
  {
   "cell_type": "code",
   "execution_count": 57,
   "metadata": {},
   "outputs": [
    {
     "name": "stdout",
     "output_type": "stream",
     "text": [
      "sin(x, /, out=None, *, where=True, casting='same_kind', order='K', dtype=None, subok=True[, signature, extobj])\n",
      "\n",
      "Trigonometric sine, element-wise.\n",
      "\n",
      "Parameters\n",
      "----------\n",
      "x : array_like\n",
      "    Angle, in radians (:math:`2 \\pi` rad equals 360 degrees).\n",
      "out : ndarray, None, or tuple of ndarray and None, optional\n",
      "    A location into which the result is stored. If provided, it must have\n",
      "    a shape that the inputs broadcast to. If not provided or None,\n",
      "    a freshly-allocated array is returned. A tuple (possible only as a\n",
      "    keyword argument) must have length equal to the number of outputs.\n",
      "where : array_like, optional\n",
      "    This condition is broadcast over the input. At locations where the\n",
      "    condition is True, the `out` array will be set to the ufunc result.\n",
      "    Elsewhere, the `out` array will retain its original value.\n",
      "    Note that if an uninitialized `out` array is created via the default\n",
      "    ``out=None``, locations within it where the condition is False will\n",
      "    remain uninitialized.\n",
      "**kwargs\n",
      "    For other keyword-only arguments, see the\n",
      "    :ref:`ufunc docs <ufuncs.kwargs>`.\n",
      "\n",
      "Returns\n",
      "-------\n",
      "y : array_like\n",
      "    The sine of each element of x.\n",
      "    This is a scalar if `x` is a scalar.\n",
      "\n",
      "See Also\n",
      "--------\n",
      "arcsin, sinh, cos\n",
      "\n",
      "Notes\n",
      "-----\n",
      "The sine is one of the fundamental functions of trigonometry (the\n",
      "mathematical study of triangles).  Consider a circle of radius 1\n",
      "centered on the origin.  A ray comes in from the :math:`+x` axis, makes\n",
      "an angle at the origin (measured counter-clockwise from that axis), and\n",
      "departs from the origin.  The :math:`y` coordinate of the outgoing\n",
      "ray's intersection with the unit circle is the sine of that angle.  It\n",
      "ranges from -1 for :math:`x=3\\pi / 2` to +1 for :math:`\\pi / 2.`  The\n",
      "function has zeroes where the angle is a multiple of :math:`\\pi`.\n",
      "Sines of angles between :math:`\\pi` and :math:`2\\pi` are negative.\n",
      "The numerous properties of the sine and related functions are included\n",
      "in any standard trigonometry text.\n",
      "\n",
      "Examples\n",
      "--------\n",
      "Print sine of one angle:\n",
      "\n",
      ">>> np.sin(np.pi/2.)\n",
      "1.0\n",
      "\n",
      "Print sines of an array of angles given in degrees:\n",
      "\n",
      ">>> np.sin(np.array((0., 30., 45., 60., 90.)) * np.pi / 180. )\n",
      "array([ 0.        ,  0.5       ,  0.70710678,  0.8660254 ,  1.        ])\n",
      "\n",
      "Plot the sine function:\n",
      "\n",
      ">>> import matplotlib.pylab as plt\n",
      ">>> x = np.linspace(-np.pi, np.pi, 201)\n",
      ">>> plt.plot(x, np.sin(x))\n",
      ">>> plt.xlabel('Angle [rad]')\n",
      ">>> plt.ylabel('sin(x)')\n",
      ">>> plt.axis('tight')\n",
      ">>> plt.show()\n"
     ]
    }
   ],
   "source": [
    "# Display documentation for a specific ufunc (e.g., sine)\n",
    "np.info(np.sin)"
   ]
  },
  {
   "cell_type": "markdown",
   "metadata": {},
   "source": [
    "## Motivation for Ufuncs"
   ]
  },
  {
   "cell_type": "code",
   "execution_count": 58,
   "metadata": {},
   "outputs": [
    {
     "data": {
      "text/plain": [
       "array([0.16666667, 1.        , 0.25      , 0.25      , 0.125     ])"
      ]
     },
     "execution_count": 58,
     "metadata": {},
     "output_type": "execute_result"
    }
   ],
   "source": [
    "# Example: Compte the reciprocal of each value in the array using non-vectorized approach \n",
    "import numpy as np \n",
    "np.random.seed(0)\n",
    "\n",
    "def compute_reciprocals(values): \n",
    "    output = np.empty(len(values)) \n",
    "    for i in range(len(values)): \n",
    "        output[i] = 1.0 / values[i] #Python examines the object type at each loop (SLOW!)\n",
    "    return output\n",
    "\n",
    "values = np.random.randint(1, 10, size=5) \n",
    "compute_reciprocals(values)"
   ]
  },
  {
   "cell_type": "code",
   "execution_count": 59,
   "metadata": {},
   "outputs": [
    {
     "name": "stdout",
     "output_type": "stream",
     "text": [
      "3.21 s ± 44.4 ms per loop (mean ± std. dev. of 7 runs, 1 loop each)\n"
     ]
    }
   ],
   "source": [
    "# Benchmark the non-vectorized operation\n",
    "big_array = np.random.randint(1, 100, size=1000000) \n",
    "%timeit compute_reciprocals(big_array)"
   ]
  },
  {
   "cell_type": "markdown",
   "metadata": {},
   "source": [
    "NumPy provides a convenient interface into statically typed, compiled routines which means avoiding the slowness caused by type-checking at each pass in a loop.\n",
    "\n",
    "These routines are known as *vectorize* operations. A vectorized routine or function works not just on a single value, but on a whole vector of values at the same time.\n",
    "\n",
    "Computations using vectorization thorugh ufuncs are nearly always more efficient than their counterpart implemented through Python loops, especially as the arrays grow in size."
   ]
  },
  {
   "cell_type": "code",
   "execution_count": 60,
   "metadata": {},
   "outputs": [
    {
     "name": "stdout",
     "output_type": "stream",
     "text": [
      "[0.16666667 1.         0.25       0.25       0.125     ]\n",
      "[0.16666667 1.         0.25       0.25       0.125     ]\n"
     ]
    }
   ],
   "source": [
    "print(compute_reciprocals(values)) \n",
    "print(1.0 / values)"
   ]
  },
  {
   "cell_type": "code",
   "execution_count": 61,
   "metadata": {},
   "outputs": [
    {
     "name": "stdout",
     "output_type": "stream",
     "text": [
      "5.46 ms ± 145 µs per loop (mean ± std. dev. of 7 runs, 100 loops each)\n"
     ]
    }
   ],
   "source": [
    "%timeit (1.0 / big_array)"
   ]
  },
  {
   "cell_type": "markdown",
   "metadata": {},
   "source": [
    "## Array arithmetic\n",
    "NumPy’s ufuncs feel very natural to use because they make use of Python’s native arithmetic operators. The standard addition, subtraction, multiplication, and division can all be used:"
   ]
  },
  {
   "cell_type": "code",
   "execution_count": 62,
   "metadata": {},
   "outputs": [
    {
     "name": "stdout",
     "output_type": "stream",
     "text": [
      "[0 1 2 3]\n"
     ]
    }
   ],
   "source": [
    "x = np.arange(4) \n",
    "print(x)"
   ]
  },
  {
   "cell_type": "code",
   "execution_count": 63,
   "metadata": {},
   "outputs": [
    {
     "name": "stdout",
     "output_type": "stream",
     "text": [
      "x= [0 1 2 3]\n",
      "x + 5 = [5 6 7 8]\n",
      "x - 5 = [-5 -4 -3 -2]\n",
      "x * 2 = [0 2 4 6]\n",
      "x / 2 = [0.  0.5 1.  1.5]\n",
      "x // 2 = [0 0 1 1]\n",
      "-x=  [ 0 -1 -2 -3]\n",
      "x ** 2 =  [0 1 4 9]\n",
      "x % 2 =  [0 1 0 1]\n"
     ]
    }
   ],
   "source": [
    "print(\"x=\", x)\n",
    "print(\"x + 5 =\", x + 5) \n",
    "print(\"x - 5 =\", x - 5) \n",
    "print(\"x * 2 =\", x * 2)\n",
    "print(\"x / 2 =\", x / 2) \n",
    "print(\"x // 2 =\", x // 2) # floor division\n",
    "print(\"-x= \", -x)\n",
    "print(\"x ** 2 = \", x ** 2) \n",
    "print(\"x % 2 = \", x % 2)"
   ]
  },
  {
   "cell_type": "markdown",
   "metadata": {},
   "source": [
    "## Ufunc trigonometry example - Sine"
   ]
  },
  {
   "cell_type": "code",
   "execution_count": 64,
   "metadata": {},
   "outputs": [
    {
     "data": {
      "image/png": "[encoded data removed]",
      "text/plain": [
       "<Figure size 640x480 with 1 Axes>"
      ]
     },
     "metadata": {},
     "output_type": "display_data"
    }
   ],
   "source": [
    "import matplotlib.pylab as plt\n",
    "\n",
    "np.sin(np.array((0., 30., 45., 60., 90.)) * np.pi / 180. )\n",
    "\n",
    "x = np.linspace(-np.pi, np.pi, 201)\n",
    "plt.plot(x, np.sin(x))\n",
    "plt.xlabel('Angle [rad]')\n",
    "plt.ylabel('sin(x)')\n",
    "plt.axis('tight')\n",
    "plt.show()"
   ]
  },
  {
   "cell_type": "code",
   "execution_count": 65,
   "metadata": {},
   "outputs": [],
   "source": [
    "# You could use a simple selection sort\n",
    "import numpy as np\n",
    "def selection_sort(x): \n",
    "    for i in range(len(x)): \n",
    "        swap = i + np.argmin(x[i:]) \n",
    "        (x[i], x[swap]) = (x[swap], x[i])\n",
    "    return x"
   ]
  },
  {
   "cell_type": "code",
   "execution_count": 66,
   "metadata": {},
   "outputs": [
    {
     "data": {
      "text/plain": [
       "array([1, 2, 3, 4, 5])"
      ]
     },
     "execution_count": 66,
     "metadata": {},
     "output_type": "execute_result"
    }
   ],
   "source": [
    "x = np.array([2, 1, 4, 3, 5]) \n",
    "selection_sort(x)"
   ]
  },
  {
   "cell_type": "code",
   "execution_count": 67,
   "metadata": {},
   "outputs": [
    {
     "data": {
      "text/plain": [
       "array([1, 2, 3, 4, 5])"
      ]
     },
     "execution_count": 67,
     "metadata": {},
     "output_type": "execute_result"
    }
   ],
   "source": [
    "x = np.array([2, 1, 4, 3, 5]) \n",
    "np.sort(x)"
   ]
  },
  {
   "cell_type": "markdown",
   "metadata": {},
   "source": [
    "# Using `np.polyfit`\n",
    "`np.polyfit' performs a least squares polynomial fit--that is, it returns an vector of coefficients that bests fits the given data while minimizing the sqaured error."
   ]
  },
  {
   "cell_type": "code",
   "execution_count": 75,
   "metadata": {},
   "outputs": [],
   "source": [
    "import numpy as np\n",
    "import pandas as pd\n",
    "import matplotlib.pyplot as plt\n",
    "\n",
    "\n",
    "msba_students = {'hours_studied': [24,49,23,19,30,22,47,40,34,32,16,20,17,41,25,34,14,47,41,23,8,22,11,41,42,24,48,44,21,21,10,14,11,19,51],\n",
    "            'test_score':         [48.98,91.13,34.73,31.58,54.23,35.73,84.93,76.68,58.28,62.38,25.43,33.73,33.63,70.63,48.03,68.48,19.28,87.03,72.63,37.83,15.13,37.83,16.28,73.68,81.88,47.98,97.18,78.78,35.68,34.68,7.08,19.28,19.28,30.63,97.23]}\n",
    "\n",
    "df_student_data = pd.DataFrame(data=msba_students)"
   ]
  },
  {
   "cell_type": "code",
   "execution_count": 76,
   "metadata": {},
   "outputs": [
    {
     "data": {
      "text/html": [
       "<div>\n",
       "<style scoped>\n",
       "    .dataframe tbody tr th:only-of-type {\n",
       "        vertical-align: middle;\n",
       "    }\n",
       "\n",
       "    .dataframe tbody tr th {\n",
       "        vertical-align: top;\n",
       "    }\n",
       "\n",
       "    .dataframe thead th {\n",
       "        text-align: right;\n",
       "    }\n",
       "</style>\n",
       "<table border=\"1\" class=\"dataframe\">\n",
       "  <thead>\n",
       "    <tr style=\"text-align: right;\">\n",
       "      <th></th>\n",
       "      <th>hours_studied</th>\n",
       "      <th>test_score</th>\n",
       "    </tr>\n",
       "  </thead>\n",
       "  <tbody>\n",
       "    <tr>\n",
       "      <th>0</th>\n",
       "      <td>24</td>\n",
       "      <td>48.98</td>\n",
       "    </tr>\n",
       "    <tr>\n",
       "      <th>1</th>\n",
       "      <td>49</td>\n",
       "      <td>91.13</td>\n",
       "    </tr>\n",
       "    <tr>\n",
       "      <th>2</th>\n",
       "      <td>23</td>\n",
       "      <td>34.73</td>\n",
       "    </tr>\n",
       "    <tr>\n",
       "      <th>3</th>\n",
       "      <td>19</td>\n",
       "      <td>31.58</td>\n",
       "    </tr>\n",
       "    <tr>\n",
       "      <th>4</th>\n",
       "      <td>30</td>\n",
       "      <td>54.23</td>\n",
       "    </tr>\n",
       "    <tr>\n",
       "      <th>5</th>\n",
       "      <td>22</td>\n",
       "      <td>35.73</td>\n",
       "    </tr>\n",
       "    <tr>\n",
       "      <th>6</th>\n",
       "      <td>47</td>\n",
       "      <td>84.93</td>\n",
       "    </tr>\n",
       "    <tr>\n",
       "      <th>7</th>\n",
       "      <td>40</td>\n",
       "      <td>76.68</td>\n",
       "    </tr>\n",
       "    <tr>\n",
       "      <th>8</th>\n",
       "      <td>34</td>\n",
       "      <td>58.28</td>\n",
       "    </tr>\n",
       "    <tr>\n",
       "      <th>9</th>\n",
       "      <td>32</td>\n",
       "      <td>62.38</td>\n",
       "    </tr>\n",
       "    <tr>\n",
       "      <th>10</th>\n",
       "      <td>16</td>\n",
       "      <td>25.43</td>\n",
       "    </tr>\n",
       "    <tr>\n",
       "      <th>11</th>\n",
       "      <td>20</td>\n",
       "      <td>33.73</td>\n",
       "    </tr>\n",
       "    <tr>\n",
       "      <th>12</th>\n",
       "      <td>17</td>\n",
       "      <td>33.63</td>\n",
       "    </tr>\n",
       "    <tr>\n",
       "      <th>13</th>\n",
       "      <td>41</td>\n",
       "      <td>70.63</td>\n",
       "    </tr>\n",
       "    <tr>\n",
       "      <th>14</th>\n",
       "      <td>25</td>\n",
       "      <td>48.03</td>\n",
       "    </tr>\n",
       "    <tr>\n",
       "      <th>15</th>\n",
       "      <td>34</td>\n",
       "      <td>68.48</td>\n",
       "    </tr>\n",
       "    <tr>\n",
       "      <th>16</th>\n",
       "      <td>14</td>\n",
       "      <td>19.28</td>\n",
       "    </tr>\n",
       "    <tr>\n",
       "      <th>17</th>\n",
       "      <td>47</td>\n",
       "      <td>87.03</td>\n",
       "    </tr>\n",
       "    <tr>\n",
       "      <th>18</th>\n",
       "      <td>41</td>\n",
       "      <td>72.63</td>\n",
       "    </tr>\n",
       "    <tr>\n",
       "      <th>19</th>\n",
       "      <td>23</td>\n",
       "      <td>37.83</td>\n",
       "    </tr>\n",
       "    <tr>\n",
       "      <th>20</th>\n",
       "      <td>8</td>\n",
       "      <td>15.13</td>\n",
       "    </tr>\n",
       "    <tr>\n",
       "      <th>21</th>\n",
       "      <td>22</td>\n",
       "      <td>37.83</td>\n",
       "    </tr>\n",
       "    <tr>\n",
       "      <th>22</th>\n",
       "      <td>11</td>\n",
       "      <td>16.28</td>\n",
       "    </tr>\n",
       "    <tr>\n",
       "      <th>23</th>\n",
       "      <td>41</td>\n",
       "      <td>73.68</td>\n",
       "    </tr>\n",
       "    <tr>\n",
       "      <th>24</th>\n",
       "      <td>42</td>\n",
       "      <td>81.88</td>\n",
       "    </tr>\n",
       "    <tr>\n",
       "      <th>25</th>\n",
       "      <td>24</td>\n",
       "      <td>47.98</td>\n",
       "    </tr>\n",
       "    <tr>\n",
       "      <th>26</th>\n",
       "      <td>48</td>\n",
       "      <td>97.18</td>\n",
       "    </tr>\n",
       "    <tr>\n",
       "      <th>27</th>\n",
       "      <td>44</td>\n",
       "      <td>78.78</td>\n",
       "    </tr>\n",
       "    <tr>\n",
       "      <th>28</th>\n",
       "      <td>21</td>\n",
       "      <td>35.68</td>\n",
       "    </tr>\n",
       "    <tr>\n",
       "      <th>29</th>\n",
       "      <td>21</td>\n",
       "      <td>34.68</td>\n",
       "    </tr>\n",
       "    <tr>\n",
       "      <th>30</th>\n",
       "      <td>10</td>\n",
       "      <td>7.08</td>\n",
       "    </tr>\n",
       "    <tr>\n",
       "      <th>31</th>\n",
       "      <td>14</td>\n",
       "      <td>19.28</td>\n",
       "    </tr>\n",
       "    <tr>\n",
       "      <th>32</th>\n",
       "      <td>11</td>\n",
       "      <td>19.28</td>\n",
       "    </tr>\n",
       "    <tr>\n",
       "      <th>33</th>\n",
       "      <td>19</td>\n",
       "      <td>30.63</td>\n",
       "    </tr>\n",
       "    <tr>\n",
       "      <th>34</th>\n",
       "      <td>51</td>\n",
       "      <td>97.23</td>\n",
       "    </tr>\n",
       "  </tbody>\n",
       "</table>\n",
       "</div>"
      ],
      "text/plain": [
       "    hours_studied  test_score\n",
       "0              24       48.98\n",
       "1              49       91.13\n",
       "2              23       34.73\n",
       "3              19       31.58\n",
       "4              30       54.23\n",
       "5              22       35.73\n",
       "6              47       84.93\n",
       "7              40       76.68\n",
       "8              34       58.28\n",
       "9              32       62.38\n",
       "10             16       25.43\n",
       "11             20       33.73\n",
       "12             17       33.63\n",
       "13             41       70.63\n",
       "14             25       48.03\n",
       "15             34       68.48\n",
       "16             14       19.28\n",
       "17             47       87.03\n",
       "18             41       72.63\n",
       "19             23       37.83\n",
       "20              8       15.13\n",
       "21             22       37.83\n",
       "22             11       16.28\n",
       "23             41       73.68\n",
       "24             42       81.88\n",
       "25             24       47.98\n",
       "26             48       97.18\n",
       "27             44       78.78\n",
       "28             21       35.68\n",
       "29             21       34.68\n",
       "30             10        7.08\n",
       "31             14       19.28\n",
       "32             11       19.28\n",
       "33             19       30.63\n",
       "34             51       97.23"
      ]
     },
     "execution_count": 76,
     "metadata": {},
     "output_type": "execute_result"
    }
   ],
   "source": [
    "df_student_data"
   ]
  },
  {
   "cell_type": "code",
   "execution_count": 77,
   "metadata": {},
   "outputs": [],
   "source": [
    "x = df_student_data['hours_studied']\n",
    "y = df_student_data['test_score']"
   ]
  },
  {
   "cell_type": "code",
   "execution_count": 78,
   "metadata": {},
   "outputs": [
    {
     "data": {
      "text/plain": [
       "<matplotlib.collections.PathCollection at 0x20a3ff3e208>"
      ]
     },
     "execution_count": 78,
     "metadata": {},
     "output_type": "execute_result"
    },
    {
     "data": {
      "image/png": "[encoded data removed]",
      "text/plain": [
       "<Figure size 640x480 with 1 Axes>"
      ]
     },
     "metadata": {},
     "output_type": "display_data"
    }
   ],
   "source": [
    "plt.scatter(x,y)"
   ]
  },
  {
   "cell_type": "code",
   "execution_count": 79,
   "metadata": {},
   "outputs": [],
   "source": [
    "model = np.polyfit(x, y, 1)"
   ]
  },
  {
   "cell_type": "code",
   "execution_count": 80,
   "metadata": {},
   "outputs": [
    {
     "name": "stdout",
     "output_type": "stream",
     "text": [
      "np.polyfit result:  [ 2.00028161 -5.78078254]\n",
      "-5.780782535014696  is m (slope)  2.0002816129193044  is b (intercept).\n"
     ]
    }
   ],
   "source": [
    "print(\"np.polyfit result: \",model)\n",
    "print(model[1], ' is m (slope) ', model[0], ' is b (intercept).')"
   ]
  },
  {
   "cell_type": "code",
   "execution_count": 81,
   "metadata": {},
   "outputs": [
    {
     "data": {
      "text/plain": [
       "[<matplotlib.lines.Line2D at 0x20a3fddcc48>]"
      ]
     },
     "execution_count": 81,
     "metadata": {},
     "output_type": "execute_result"
    },
    {
     "data": {
      "image/png": "[encoded data removed]",
      "text/plain": [
       "<Figure size 640x480 with 1 Axes>"
      ]
     },
     "metadata": {},
     "output_type": "display_data"
    }
   ],
   "source": [
    "# To fit a regression line to the data\n",
    "\n",
    "x_predict = range(0, 51) # Predict for 0 hours to 50 hours\n",
    "\n",
    "# Equation for a line (y = mx + b)\n",
    "y_predict = x_predict * model[0] + model[1]\n",
    "\n",
    "\n",
    "#  This is equivalent to the previous line (y = mx + b)\n",
    "#  You can comment out the previous line and uncomment these two lines\n",
    "#   and the graph will remain the same.\n",
    "#predict = np.poly1d(model)\n",
    "#y_predict = predict(x_predict)\n",
    "\n",
    "plt.scatter(x, y)\n",
    "plt.plot(x_predict, y_predict, c = 'r')\n"
   ]
  }
 ],
 "metadata": {
  "kernelspec": {
   "display_name": "Python 3",
   "language": "python",
   "name": "python3"
  },
  "language_info": {
   "codemirror_mode": {
    "name": "ipython",
    "version": 3
   },
   "file_extension": ".py",
   "mimetype": "text/x-python",
   "name": "python",
   "nbconvert_exporter": "python",
   "pygments_lexer": "ipython3",
   "version": "3.7.6"
  },
  "toc-autonumbering": true,
  "toc-showcode": false,
  "toc-showmarkdowntxt": false
 },
 "nbformat": 4,
 "nbformat_minor": 4
}
