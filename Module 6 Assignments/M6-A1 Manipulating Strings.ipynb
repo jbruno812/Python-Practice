{
 "cells": [
  {
   "cell_type": "markdown",
   "metadata": {},
   "source": [
    "# M6-A1 Manipulating Strings"
   ]
  },
  {
   "cell_type": "code",
   "execution_count": 1,
   "metadata": {},
   "outputs": [
    {
     "ename": "NameError",
     "evalue": "name 'a' is not defined",
     "output_type": "error",
     "traceback": [
      "\u001b[1;31m---------------------------------------------------------------------------\u001b[0m",
      "\u001b[1;31mNameError\u001b[0m                                 Traceback (most recent call last)",
      "\u001b[1;32m<ipython-input-1-e007d305b461>\u001b[0m in \u001b[0;36m<module>\u001b[1;34m\u001b[0m\n\u001b[0;32m     20\u001b[0m \u001b[1;33m\u001b[0m\u001b[0m\n\u001b[0;32m     21\u001b[0m     \u001b[1;32mreturn\u001b[0m \u001b[1;33m(\u001b[0m\u001b[0ma\u001b[0m \u001b[1;33m+\u001b[0m \u001b[1;34m\" \"\u001b[0m \u001b[1;33m+\u001b[0m \u001b[0mb\u001b[0m \u001b[1;33m+\u001b[0m \u001b[1;34m\"\\n\"\u001b[0m \u001b[1;33m+\u001b[0m \u001b[0mc\u001b[0m \u001b[1;33m+\u001b[0m \u001b[1;34m\"\\n\"\u001b[0m \u001b[1;33m+\u001b[0m \u001b[0md\u001b[0m\u001b[1;33m+\u001b[0m\u001b[1;34m\",\"\u001b[0m \u001b[1;33m+\u001b[0m \u001b[1;34m\" \"\u001b[0m \u001b[1;33m+\u001b[0m \u001b[0me\u001b[0m \u001b[1;33m+\u001b[0m \u001b[1;34m\" \"\u001b[0m \u001b[1;33m+\u001b[0m \u001b[0mf\u001b[0m\u001b[1;33m)\u001b[0m\u001b[1;33m\u001b[0m\u001b[1;33m\u001b[0m\u001b[0m\n\u001b[1;32m---> 22\u001b[1;33m \u001b[0mformat_address\u001b[0m\u001b[1;33m(\u001b[0m\u001b[0ma\u001b[0m\u001b[1;33m,\u001b[0m\u001b[0mb\u001b[0m\u001b[1;33m,\u001b[0m\u001b[0mc\u001b[0m\u001b[1;33m,\u001b[0m\u001b[0md\u001b[0m\u001b[1;33m,\u001b[0m\u001b[0me\u001b[0m\u001b[1;33m,\u001b[0m\u001b[0mf\u001b[0m\u001b[1;33m)\u001b[0m\u001b[1;33m\u001b[0m\u001b[1;33m\u001b[0m\u001b[0m\n\u001b[0m\u001b[0;32m     23\u001b[0m \u001b[1;33m\u001b[0m\u001b[0m\n\u001b[0;32m     24\u001b[0m \u001b[1;31m#### This is correct format but no function\u001b[0m\u001b[1;33m\u001b[0m\u001b[1;33m\u001b[0m\u001b[1;33m\u001b[0m\u001b[0m\n",
      "\u001b[1;31mNameError\u001b[0m: name 'a' is not defined"
     ]
    }
   ],
   "source": [
    "# Create a function that receives named parameters for an address (first name, last name, street, city, state, zip) and\n",
    "#   returns a formatted address:\n",
    "#   Greg Bott\n",
    "#   361 Stadium Dr.\n",
    "#   Tuscaloosa, AL 35487\n",
    "#\n",
    "#   Name the function format_address()\n",
    "\n",
    "#### THIS IS FUNCTION ATTEMPT, COULDN'T FIGURE OUT IT USING FUNCTION\n",
    "def format_address(a,b,c,d,e,f):\n",
    "    \n",
    "    \n",
    "\n",
    "    a = input ('Type first name')\n",
    "    b = input ('Type last name')\n",
    "    c = input ('Type street name')\n",
    "    d = input ('Type city')\n",
    "    e = input ('Type state')\n",
    "    f = input ('Type zip')\n",
    "\n",
    "    return (a + \" \" + b + \"\\n\" + c + \"\\n\" + d+\",\" + \" \" + e + \" \" + f)\n",
    "format_address(a,b,c,d,e,f)\n",
    "\n",
    "#### This is correct format but no function\n",
    "\n",
    "a = input ('Type first name')\n",
    "b = input ('Type last name')\n",
    "c = input ('Type street name')\n",
    "d = input ('Type city')\n",
    "e = input ('Type state')\n",
    "f = input ('Type zip')\n",
    "\n",
    "print(a + \" \" + b + \"\\n\" + c + \"\\n\" + d+\",\" + \" \" + e + \" \" + f)"
   ]
  },
  {
   "cell_type": "code",
   "execution_count": 2,
   "metadata": {},
   "outputs": [],
   "source": [
    "# Create a function that accepts one or more words, finds the longest word and returns that word and its character length\n",
    "#   Name the function find_longest_word()\n",
    "def find_longest_word(word_list):  \n",
    "    longest_word =  max(word_list, key=len)\n",
    "    return longest_word"
   ]
  },
  {
   "cell_type": "code",
   "execution_count": 24,
   "metadata": {},
   "outputs": [
    {
     "name": "stdin",
     "output_type": "stream",
     "text": [
      "Type first name: john\n",
      "Type last name: bruno\n"
     ]
    },
    {
     "name": "stdout",
     "output_type": "stream",
     "text": [
      "bruno, john\n",
      "john bruno\n"
     ]
    },
    {
     "data": {
      "text/plain": [
       "<function __main__.name_swap(x, y)>"
      ]
     },
     "execution_count": 24,
     "metadata": {},
     "output_type": "execute_result"
    }
   ],
   "source": [
    "# Create a function that can accept first name - last name in one of two formats (first last or last, first) and return the opposite.\n",
    "#    Name the function name_swap()\n",
    "#    For example name_swap(\"Bott, Greg\") would return \"Greg Bott\" and vice versa\n",
    "\n",
    "def name_swap(x,y):\n",
    "    print (y + \",\" + \" \" + x) \n",
    "    print(x +\" \"+ y)\n",
    "    return name_swap\n",
    "x = input(\"Type first name:\")\n",
    "y = input(\"Type last name:\")\n",
    "name_swap(x,y)\n"
   ]
  },
  {
   "cell_type": "code",
   "execution_count": null,
   "metadata": {},
   "outputs": [],
   "source": [
    "# Create a function that accepts a single word and returns the reverse of that word.\n",
    "#   Name the function reverse_word.\n",
    "def reverse_word(x):\n",
    "  return x[::-1]\n",
    "## found that ::-1 will do exactly what I needed to do"
   ]
  }
 ],
 "metadata": {
  "kernelspec": {
   "display_name": "Python 3",
   "language": "python",
   "name": "python3"
  },
  "language_info": {
   "codemirror_mode": {
    "name": "ipython",
    "version": 3
   },
   "file_extension": ".py",
   "mimetype": "text/x-python",
   "name": "python",
   "nbconvert_exporter": "python",
   "pygments_lexer": "ipython3",
   "version": "3.7.6"
  }
 },
 "nbformat": 4,
 "nbformat_minor": 4
}
