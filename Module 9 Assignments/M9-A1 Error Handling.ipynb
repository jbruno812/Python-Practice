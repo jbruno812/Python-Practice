{
 "cells": [
  {
   "cell_type": "markdown",
   "metadata": {},
   "source": [
    "# Module 9, Assignment 1 - Error Handling\n",
    "\n",
    "## Objectives\n",
    "* Understand why and when to use error handling in Python\n",
    "* Be able to explain and use ```try...except``` blocks\n",
    "* Describe the purpose of an ```else``` statement within a ```try...except``` block\n",
    "* Describe the purpose of a ```finally``` statement within a ```try...except``` block\n",
    "* Demonstrate the ability to trap specific and general errors"
   ]
  },
  {
   "cell_type": "code",
   "execution_count": null,
   "metadata": {},
   "outputs": [],
   "source": [
    "# Write a function that accepts two parameters (an int for number of lines and the text file) that can be used \n",
    "#   to open a text file and display the first N lines of text. Provide appropriate error handling. \n",
    "#   Your error handling should provide exception handling for at least two specific errors.\n",
    "#   Name the function read_lines_of_text()"
   ]
  },
  {
   "cell_type": "code",
   "execution_count": 1,
   "metadata": {},
   "outputs": [
    {
     "name": "stdout",
     "output_type": "stream",
     "text": [
      "jhbjhb\n",
      "\n",
      "lknlkn\n",
      "\n",
      "jb\n",
      "\n",
      "No Exceptions thrown.\n",
      "Opening file process completed.\n"
     ]
    }
   ],
   "source": [
    "def read_lines_of_text(N, file):\n",
    "    \"\"\"This function takes a number to indicate number of lines and\n",
    "    a text file as parameters to output the lines in the file\"\"\"\n",
    "    try:\n",
    "        with open(file, \"r\") as f:   \n",
    "            lines_in_files = len(f.readlines())\n",
    "            if(lines_in_files < N):\n",
    "                    raise StopIteration(\"The number input is higher than amount of lines in file.\")\n",
    "        with open(file, \"r\") as file2:  \n",
    "            for i in range(N):\n",
    "                print(file2.readline())\n",
    "\n",
    "    except FileNotFoundError as e:\n",
    "        print(e,\"Please input correct file name.\")\n",
    "    except NameError as e:\n",
    "        print(e)\n",
    "    except Exception as e:\n",
    "        print(e)\n",
    "    else:\n",
    "        print(\"No Exceptions thrown.\")\n",
    "    finally:\n",
    "        print(\"Opening file process completed.\")\n",
    "\n",
    "read_lines_of_text(3,'untitled.txt')"
   ]
  }
 ],
 "metadata": {
  "kernelspec": {
   "display_name": "Python 3",
   "language": "python",
   "name": "python3"
  },
  "language_info": {
   "codemirror_mode": {
    "name": "ipython",
    "version": 3
   },
   "file_extension": ".py",
   "mimetype": "text/x-python",
   "name": "python",
   "nbconvert_exporter": "python",
   "pygments_lexer": "ipython3",
   "version": "3.7.6"
  }
 },
 "nbformat": 4,
 "nbformat_minor": 4
}
