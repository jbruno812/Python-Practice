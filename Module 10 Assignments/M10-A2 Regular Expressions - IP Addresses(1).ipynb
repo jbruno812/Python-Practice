{
 "cells": [
  {
   "cell_type": "markdown",
   "metadata": {},
   "source": [
    "# M10-A2 Regular Expressions - IP Addresses\n",
    "\n",
    "# Instructions:\n",
    "You will be utilizing mbox.txt for this assignment. To work with a local copy of mbox-short.txt, download it from the course Github repository. \n",
    "\n",
    "In this excercise, you will use regular expressions to find all IP addresses contained in the mbox-short.txt file. You will return two numbers each on their own line. The first number represents the total number of IP addresses found in the mbox-short.txt file. The second is the number of unique IP addresses contained in mbox-short.txt. Finally, print a sorted list of all unique IP addresses. Do all of this in a function named **get_ip_addresses** that returns the sorted list of unique IP addresses. Print the sorted list.\n",
    "\n",
    "As always, your program should be reasonably efficient, utilize docstrings, dynamic pathing, and utilize error handling.\n",
    "\n",
    "### Expected sample output:\n",
    "All IP addresses: 189<br>\n",
    "Unique IP addresses: 31<br>\n",
    "['127.0.0.1', '134.68.220.122', '141.211.14.25', '141.211.14.34', '141.211.14.36', '141.211.14.39', '141.211.14.43', '141.211.14.46', '141.211.14.58', '141.211.14.72', '141.211.14.76', '141.211.14.79', '141.211.14.83', '141.211.14.84', '141.211.14.90', '141.211.14.91', '141.211.14.92', '141.211.14.93', '141.211.14.97', '141.211.14.98', '141.211.93.141', '141.211.93.142', '141.211.93.143', '141.211.93.144', '141.211.93.145', '141.211.93.149', '141.211.93.151', '141.211.93.152', '141.211.93.153', '194.35.219.182', '194.35.219.184']"
   ]
  },
  {
   "cell_type": "code",
   "execution_count": 36,
   "metadata": {},
   "outputs": [
    {
     "name": "stdout",
     "output_type": "stream",
     "text": [
      "All IP addresses: 189\n",
      "Unique IP addresses: 31\n",
      "['127.0.0.1', '134.68.220.122', '141.211.14.25', '141.211.14.34', '141.211.14.36', '141.211.14.39', '141.211.14.43', '141.211.14.46', '141.211.14.58', '141.211.14.72', '141.211.14.76', '141.211.14.79', '141.211.14.83', '141.211.14.84', '141.211.14.90', '141.211.14.91', '141.211.14.92', '141.211.14.93', '141.211.14.97', '141.211.14.98', '141.211.93.141', '141.211.93.142', '141.211.93.143', '141.211.93.144', '141.211.93.145', '141.211.93.149', '141.211.93.151', '141.211.93.152', '141.211.93.153', '194.35.219.182', '194.35.219.184']\n",
      "No Exceptions thrown.\n",
      "Opening file process completed.\n"
     ]
    }
   ],
   "source": [
    "#Write your Python code here\n",
    "import re\n",
    "def get_ip_addresses(file):\n",
    "    \"\"\"This function takes a file as parameter to output the total and unique count of IP addresses in the file\n",
    "       and then sorting and listing those unique IP addresses.\"\"\"\n",
    "    try:\n",
    "        with open(file, \"r\") as f:\n",
    "            all_ip_list = []\n",
    "            for line in f:\n",
    "                line = line.rstrip()\n",
    "                x = re.findall('\\d{3}\\.\\d{1,3}\\.\\d{1,3}\\.\\d{1,3}', line)\n",
    "                if len(x) > 0:\n",
    "                    all_ip_list.extend(x)\n",
    "\n",
    "        print('All IP addresses:' + \" \" + str(len(all_ip_list)))\n",
    "        all_revs_set = set(all_ip_list)\n",
    "        print('Unique IP addresses:' + \" \" + str(len(all_revs_set)))\n",
    "        print (sorted(all_revs_set))\n",
    "   \n",
    "    except FileNotFoundError as e:\n",
    "        print(e,\"Please input correct file name.\")\n",
    "    except NameError as e:\n",
    "        print(e)\n",
    "    except Exception as e:\n",
    "        print(e)\n",
    "    else:\n",
    "        print(\"No Exceptions thrown.\")\n",
    "    finally:\n",
    "        print(\"Opening file process completed.\")\n",
    "    \n",
    "\n",
    "get_ip_addresses('mbox-short.txt')\n"
   ]
  },
  {
   "cell_type": "code",
   "execution_count": null,
   "metadata": {},
   "outputs": [],
   "source": []
  },
  {
   "cell_type": "code",
   "execution_count": null,
   "metadata": {},
   "outputs": [],
   "source": []
  }
 ],
 "metadata": {
  "kernelspec": {
   "display_name": "Python 3",
   "language": "python",
   "name": "python3"
  },
  "language_info": {
   "codemirror_mode": {
    "name": "ipython",
    "version": 3
   },
   "file_extension": ".py",
   "mimetype": "text/x-python",
   "name": "python",
   "nbconvert_exporter": "python",
   "pygments_lexer": "ipython3",
   "version": "3.7.6"
  }
 },
 "nbformat": 4,
 "nbformat_minor": 4
}
