{
 "cells": [
  {
   "cell_type": "markdown",
   "metadata": {},
   "source": [
    "# M2-A1 Loops - Diamond\n",
    "\n",
    "# Instructions:\n",
    "Write a Python that asks the user for a number, then prints a diamond with that many rows. \n",
    "\n",
    "**Bold** indicates input from the console.\n",
    "\n",
    "### Expected sample output:\n",
    "Please enter a number:\n",
    "\n",
    "**4**<br>\n",
    "<pre>\n",
    "   *\n",
    "  ***\n",
    " *****\n",
    "*******\n",
    " *****\n",
    "  ***\n",
    "   *\n",
    "   </pre>\n",
    "\n",
    "### Expected sample output:\n",
    "Please enter a number:<br>\n",
    "**10**<br>\n",
    "<pre> \n",
    "          *\n",
    "         ***\n",
    "        *****\n",
    "       *******\n",
    "      *********\n",
    "     ***********\n",
    "    *************\n",
    "   ***************\n",
    "  *****************\n",
    " *******************\n",
    "  *****************\n",
    "   ***************\n",
    "    *************\n",
    "     ***********\n",
    "      *********\n",
    "       *******\n",
    "        *****\n",
    "         ***\n",
    "          *"
   ]
  },
  {
   "cell_type": "code",
   "execution_count": 97,
   "metadata": {},
   "outputs": [
    {
     "name": "stdin",
     "output_type": "stream",
     "text": [
      "Please enter a number:  4\n"
     ]
    },
    {
     "name": "stdout",
     "output_type": "stream",
     "text": [
      "    \n",
      "   *\n",
      "  ***\n",
      " *****\n",
      "*******\n",
      " *****\n",
      "  ***\n",
      "   *\n"
     ]
    }
   ],
   "source": [
    "num = int(input((\"Please enter a number: \")))\n",
    "if num > 0:             \n",
    "    for i in range(num):\n",
    "        for j in range (num - i):   \n",
    "            print(\" \", end=\"\")\n",
    "        for s in range((i * 2) - 1):\n",
    "            print(\"*\", end=\"\")\n",
    "        print()\n",
    "    for i in range(num, 0, -1):\n",
    "        for j in range (num - i):\n",
    "            print(\" \", end=\"\")\n",
    "        for s in range((i * 2) - 1):\n",
    "            print(\"*\", end=\"\")\n",
    "        print()"
   ]
  },
  {
   "cell_type": "code",
   "execution_count": null,
   "metadata": {},
   "outputs": [],
   "source": []
  }
 ],
 "metadata": {
  "kernelspec": {
   "display_name": "Python 3",
   "language": "python",
   "name": "python3"
  },
  "language_info": {
   "codemirror_mode": {
    "name": "ipython",
    "version": 3
   },
   "file_extension": ".py",
   "mimetype": "text/x-python",
   "name": "python",
   "nbconvert_exporter": "python",
   "pygments_lexer": "ipython3",
   "version": "3.7.6"
  }
 },
 "nbformat": 4,
 "nbformat_minor": 4
}
