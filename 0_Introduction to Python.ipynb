{
 "cells": [
  {
   "cell_type": "markdown",
   "metadata": {},
   "source": [
    "# Introduction to Python\n",
    "\n",
    "We'll be coding using the Python programming language because it's friendly for beginners but still incredibly powerful for working with data. We'll use the latest version of Python, also known as Python 3."
   ]
  },
  {
   "cell_type": "markdown",
   "metadata": {},
   "source": [
    "## 1: Variables\n",
    "\n",
    "Variables are a fundamental building block of most programming languages. We use variables to store values that we want to use later. We first select a name for the variable and then assign the variable a value. We then can refer to that value using the variable name.\n",
    "\n",
    "For example, if we know we're going to be using the value 10 a lot, we can store the value 10 in a variable called b. Then whenever we want to refer to that value, we can use b instead of 10. To assign the value 10 to a new variable named b, you write the desired variable name, add an equals sign (=), and then write the value you want that variable to store.\n",
    "\n",
    "b = 10\n",
    "\n",
    "The equals sign (=) is called the assignment operator since it's used to assign the value on the right to the variable on the left. In Python, variable names can't have spaces or special characters like * or |. In general, you should use lower-case characters when naming variables. The one special character you can use is the underscore (_).\n",
    "\n",
    "In Python, the value assigned to a variable can be modified. You can assign a different value to an existing variable and the variable will refer to the new value instead. To assign a new value to the variable b, use the same assignment operator (=) along with the name of the variable and the new value you want assigned to it:\n",
    "\n",
    "b = 10\n",
    "b = 11\n",
    "\n",
    "b = 12\n",
    "\n",
    "After the last line of code, the variable b refers to the value 12.\n",
    "\n",
    "Instructions:\n",
    "\n",
    "The default code in the code cell assigns the value 5 to the variable b. Add a new line below that assigns 6 to b."
   ]
  },
  {
   "cell_type": "code",
   "execution_count": 1,
   "metadata": {
    "scrolled": true
   },
   "outputs": [],
   "source": [
    "# Here's a comment\n",
    "b = 6    # Here's another comment\n",
    "\n",
    "# Instructions: Make your mark in the code by adding a comment\n",
    "\n",
    "\n"
   ]
  },
  {
   "cell_type": "markdown",
   "metadata": {},
   "source": [
    "## 3: Print Function\n",
    "As we use more variables, we'd like a way to display the current value of a variable. Python contains a function called print() that will display the value of any current variable. A function contains code that takes in an input value (through the parentheses), performs some operations, and typically returns a value. Functions save you time by allowing you to reuse code. We'll learn more about functions soon, but for now, the print() function takes in a value and displays it. The following code will display the value 6:"
   ]
  },
  {
   "cell_type": "code",
   "execution_count": 2,
   "metadata": {
    "scrolled": true
   },
   "outputs": [
    {
     "name": "stdout",
     "output_type": "stream",
     "text": [
      "6\n",
      "6\n"
     ]
    }
   ],
   "source": [
    "print(6)\n",
    "# Since a variable refers to a value, you can specify a variable instead of a value:\n",
    "b = 6\n",
    "print(b) # Python will display `6`\n",
    "\n",
    "# Instructions: Use the print() function to display the value stored in b.\n",
    "# Use the print() function to display the number 500.\n",
    "\n"
   ]
  },
  {
   "cell_type": "code",
   "execution_count": 3,
   "metadata": {
    "scrolled": true
   },
   "outputs": [
    {
     "name": "stdout",
     "output_type": "stream",
     "text": [
      "v3*v4= 32.0\n",
      "v3*v4= 32.0\n",
      "I took python when I was 8\n",
      "I took python when I was 4.000000\n"
     ]
    }
   ],
   "source": [
    "# formatted output\n",
    "\n",
    "v1 = \"python\"\n",
    "v2 = \"eight\"\n",
    "v3 = 8\n",
    "v4 = 4.0\n",
    "\n",
    "# 1. print with a comma separated list of values\n",
    "print(\"v3*v4=\", v3*v4)\n",
    "\n",
    "# 2. print with a string concatenation operator\n",
    "print(\"v3*v4= \" + str(v3*v4))\n",
    "\n",
    "# 3. print with placeholders\n",
    "\n",
    "print(\"I took %s when I was %i\" %(v1, v3))\n",
    "print(\"I took %s when I was %f\" %(v1, v4))"
   ]
  },
  {
   "cell_type": "markdown",
   "metadata": {},
   "source": [
    "## 4: Types\n",
    "We've worked with numbers like 5 and 6 so far, which are known as integers. Another common type is a string, which is used to represent text. Some examples of strings are \"hello\" and \"Hello,World!\". Both strings and integers are different types of values. When a string is stored in a variable, we sometimes call the variable a string, to make it simpler to identify the variable based on its value. To represent a piece of text as a string, surround that text with quotes:\n",
    "\n",
    "\n",
    "\n",
    "s = \"Hello World\"\n",
    "\n",
    "\n",
    "Unlike variable names, strings can contain special characters and spaces. Use either single quotes (') or double quotes (\") to start and end the string. Another common type is a float, which is used to represent decimal values:\n",
    "\n",
    "\n",
    "\n",
    "d = 0.25\n",
    "\n",
    "You may have noticed a pattern here. Numerical values, like integers and floats, don't require quotes, but strings do. Each value in Python has a type associated with it, which Python uses to determine how the value should be handled. For example, Python contains a specificiation to allow integer variables to be divided, but not string variables. We'll learn more about that soon, but let's practice some of the concepts you've learned so far.\n",
    "\n",
    "\n"
   ]
  },
  {
   "cell_type": "code",
   "execution_count": 4,
   "metadata": {
    "scrolled": true
   },
   "outputs": [],
   "source": [
    "# Instructions\n",
    "# Assign the integer value 100 to the variable named hundred_integer.\n",
    "\n",
    "\n",
    "# Assign the string value \"hundred\" to the variable named hundred_string.\n",
    "\n",
    "\n",
    "# Assign the float value 100.5 to the variable named hundred_float.\n"
   ]
  },
  {
   "cell_type": "markdown",
   "metadata": {},
   "source": [
    "## 5: Type Function\n",
    "We can lookup the type of the value a variable contains using the type() function. Similar to the print() function, you pass in the variable of interest into the parentheses. Unlike the print() function, the type() function won't display the result but will instead return, or give back, the type.\n",
    "\n",
    "In the following code, the integer value 5 is assigned to the variable a. Then the type() function returns a value, which is passed to the print() function:\n",
    "\n",
    "\n",
    "a = 5\n",
    "\n",
    "print(type(a))\n",
    "\n",
    "\n",
    "Since the type() function returns a value, you can assign this value to a variable first. In the following code, the type of a is assigned to the variable t and then displayed using the print() function:\n",
    "\n",
    "\n",
    "\n",
    "a = 5\n",
    "\n",
    "t = type(a)\n",
    "\n",
    "print(t)\n",
    "\n",
    "\n",
    "\n"
   ]
  },
  {
   "cell_type": "code",
   "execution_count": 5,
   "metadata": {
    "scrolled": true
   },
   "outputs": [],
   "source": [
    "# Instructions\n",
    "# Assign the type of 10 to c then use the print() function to display c.\n",
    "\n",
    "\n",
    "\n",
    "\n",
    "\n"
   ]
  },
  {
   "cell_type": "markdown",
   "metadata": {},
   "source": [
    "## 6: Arithmetic Operators\n",
    "\n",
    "Python contains arithmetic operators, or symbols, which allow you to perform calculations using variables of numeric types, or numeric variables for short. The four basic arithmetic operators are:\n",
    "\n",
    "\n",
    "Operation | Sign\n",
    "--- | --- \n",
    "*+* | `for addition`\n",
    "*-* | `for subtraction`\n",
    "* | `for multiplication`\n",
    "*/* | `for division`\n",
    "\n",
    "To perform a calculation, you simply place the operator between the variables you want to perform calculations with (just like in math):\n",
    "\n",
    "\n",
    "\n",
    "\n",
    "        sixteen = 8 + 8\n",
    "\n",
    "        zero = 8 - 8\n",
    "\n",
    "        eight = 8\n",
    "\n",
    "        sixteen = eight + eight\n",
    "\n",
    "        twentyfour = eight + eight + eight\n",
    "\n",
    "        zero = eight + eight + eight - (eight * 3)\n",
    "\n",
    "\n",
    "\n",
    "Python inherits the order of operations principles from math. We use parentheses in the last line of the example code to specify that we want that multiplication operation (eight * 3) to happen separately.\n",
    "\n",
    "\n",
    "The division operator has some quirks that cause unexpected behavior. For example, dividing the integer 8 by itself (8) actually returns the float 1.0 not the integer 1 in Python 3. We'll dive more into why this happens in a later course but for now let's practice using the other operators.\n",
    "\n"
   ]
  },
  {
   "cell_type": "code",
   "execution_count": 6,
   "metadata": {
    "scrolled": true
   },
   "outputs": [],
   "source": [
    "# Instructions\n",
    "# Use the arithmetic operators and the variable five to perform calculations that result in 25.\n",
    "# Assign to the variable twenty_five.\n",
    "\n",
    "\n",
    "# Use the arithmetic operators and the variable five to perform calculations that result in -5. \n",
    "# Assign to the variable negative_five.\n",
    "\n",
    "\n",
    "\n",
    "\n",
    "\n",
    "\n",
    "\n"
   ]
  },
  {
   "cell_type": "markdown",
   "metadata": {},
   "source": [
    "## 7: Converting Types\n",
    "We've represented numeric values with types like integer and float so far. You can also represent them as strings, which allow you to take advantage of the features available to strings but not numeric types. Python contains functions that will convert a value to a different type.\n",
    "\n",
    "The str() function will convert a variable or value of numeric type into a string. The int() function will attempt to convert a string into an integer, but will result in an error if the string isn't actually an integer (e.g. \"January\"). We'll dive more into errors in a later mission, but the key idea is that an error stops your code from completing all the way through and will display a message describing the mistake you made.\n",
    "\n",
    "\n",
    "int_eight = 8\n",
    "\n",
    "str_eight = str(int_eight)\n",
    "\n",
    "int_eight = int(str_eight)\n",
    "\n",
    "int(\"January\") /# Will result in an error\n"
   ]
  },
  {
   "cell_type": "code",
   "execution_count": 7,
   "metadata": {
    "scrolled": true
   },
   "outputs": [],
   "source": [
    "# Instructions\n",
    "# The variable eight contains the integer 8 and the variable ten contains the string \"10\".\n",
    "# Convert eight to a string using the str() function and assign to str_eight.\n",
    "# Then, convert ten to an integer using the int() function and assign to int_ten.\n",
    "\n",
    "\n",
    "\n",
    "\n",
    "\n",
    "\n"
   ]
  },
  {
   "cell_type": "markdown",
   "metadata": {},
   "source": [
    "## 8: Object Oriented Programming\n",
    "\n",
    "Programming languages come in many different flavors but the most common paradigm is object-oriented programming, or OOP for short. An object is a value or variable that belongs to a specific class. A class contains a shared blueprint for all objects that are instances of that class.\n",
    "\n",
    "Python is an OOP language because the values we've worked with are objects and their types are classes. You can think of classes as a generalization of types. When we assign the integer value 5 to the variable a, a represents an object of the integer class. We say that a is an instance of the integer class. string, integer, and float are all classes. In later missions, we'll learn how to create our own classes and dive more into how to organize our code well using object oriented programming.\n",
    "\n",
    "The key idea to grasp for now is that all objects of a specific class contain methods , or bundles of reusable code. A method is similar to a function since it's code that we can write once and call repeatedly. The difference is that methods are specific to classes and can be used to modify an instance of that class. In the next step, we'll learn about how to use methods while working with a new class of object."
   ]
  },
  {
   "cell_type": "markdown",
   "metadata": {},
   "source": [
    "## 9: Lists\n",
    "A list is an object that represents a sequence of values. For example, the months in a year can be represented as a list, either as a sequence of strings (\"January\", \"February\", etc) or as a sequence of integers (0, 1, 2, etc). The most basic way to make a list is to create an empty list and then add values to it. To create an empty list, assign a pair of empty brackets [] to a variable:\n",
    "\n",
    "\n",
    "\n",
    "`l` is an empty list (contains no values)\n",
    "\n",
    "l = []\n",
    "\n",
    "\n",
    "To add values to the list, use the append() method. l is a list and has a method named append() that takes in a string input and adds that string value to l. Unlike functions, methods are called using dot notation (.) on a specific object. Let's see what this looks in code!\n",
    "\n",
    "In the following code cell, we use the append() method to add the string \"January\" to the list l. We then add the string \"February\" to list l. The append() method is called on an instance of the list class (l) and modifies that specific instance (l):\n",
    "\n",
    "\n",
    "`l` is an empty list to start\n",
    "\n",
    "l = []\n",
    "\n",
    "Python knows that `l` is a list, which has the append() method\n",
    "\n",
    "l.append(\"January\")\n",
    "\n",
    "l.append(\"February\")\n",
    "\n",
    "You can also use remove() function to remove an item.  \n",
    "\n",
    "l.remove(\"January\")\n",
    "\n",
    "The list l now contains 2 string values, January and February. In the starter code, we created an empty list, l, and then used the print() function to display the type to confirm. We appended January to the list l, followed by February."
   ]
  },
  {
   "cell_type": "code",
   "execution_count": 8,
   "metadata": {
    "scrolled": true
   },
   "outputs": [],
   "source": [
    "# Instructions\n",
    "# Append \"March\" and \"April\" to the list l\n",
    "# Display the list l using the print() function.\n",
    "\n",
    "\n",
    "\n"
   ]
  },
  {
   "cell_type": "markdown",
   "metadata": {},
   "source": [
    "## 10: Creating Lists With Values\n",
    "\n",
    "We learned how to create a list by first creating an empty list then adding values to the list using the append() method. When working with multiple lists, this can become tedious since you'd have to write many lines of code (one for each value in each list!).\n",
    "\n",
    "Python has a feature that allows you to create and fill a list with values at the same time. Instead of creating an empty list using empty brackets, [], and then adding elements to it using the append() method, you specify the values you want the list to contain in the brackets (separated by commas):\n",
    "\n",
    "\n",
    "l = [\"January\", \"February\", \"March\", \"April\"]\n",
    "\n",
    "m = [0,1,2,3]\n"
   ]
  },
  {
   "cell_type": "code",
   "execution_count": 9,
   "metadata": {
    "scrolled": true
   },
   "outputs": [],
   "source": [
    "# Instructions\n",
    "# Write a single line of code that creates a list, named years, \n",
    "#    and fills it with the integer values 2010, 2011, 2012, 2013, and 2014, in that order.\n",
    "\n",
    "\n",
    "\n"
   ]
  },
  {
   "cell_type": "markdown",
   "metadata": {},
   "source": [
    "## 11: Multiple Types In List\n",
    "In Python, you can add values of different types to the same list. The following code appends the integer 0 then the string \"January\" to the list m:\n",
    "\n",
    "\n",
    "\n",
    "    m = []\n",
    "    m.append(0)\n",
    "    m.append(\"January\")\n",
    "\n",
    "You can also utilize the shortcut we learned to create and fill a list with values of mixed types:\n",
    "\n",
    "\n",
    "    m = [0, \"January\", 1, \"February\"]\n",
    "    n = [0.0, \"Jan\", 1]\n"
   ]
  },
  {
   "cell_type": "code",
   "execution_count": 10,
   "metadata": {
    "scrolled": true
   },
   "outputs": [],
   "source": [
    "# Instructions\n",
    "# Create a list o that contains the following elements, in order:\n",
    "# \"Jan\" (string)\n",
    "# 5.0 (float)\n",
    "# 1.0 (float)\n",
    "# \"uary\" (string)\n",
    "# 10 (integer)\n",
    "\n",
    "\n",
    "\n",
    "\n",
    "\n",
    "\n",
    "\n"
   ]
  },
  {
   "cell_type": "markdown",
   "metadata": {},
   "source": [
    "## 12: List Index\n",
    "\n",
    "Now that we know how to create and add values to a list, let's learn how to actually access values in a list we've created. Since a list is a sequence of values, each value has an index, or position, associated with it. A list starts at index 0 and goes all the way to one less than the number of elements in the list. If you have a list with 5 values, or elements, the indices will range from 0 to 4.\n",
    "\n",
    "The main quirk is that to access the first value in a list, we actually use the index value 0, not 1. The second value is accessed by index value 1, the third value by index value 2, and so on. This is known as zero indexing since the indices start at 0 not 1. Many programming languages use zero indexing but there are some, like MATLAB, that don't.\n",
    "To return the value at a certain index, use bracket notation and pass in the integer corresponding to the index. In the following code, we create a list years with 5 elements and access the first, second, and fifth elements in the list. We assign each of the accessed values to variables:\n",
    "\n",
    "\n",
    "\n",
    "\n",
    "    years = [2010, 2011, 2012, 2013, 2014]\n",
    "    first_value = years[0] # 2010\n",
    "    second_value = years[1] # 2011\n",
    "    fifth_value = years[4] # 2014\n",
    "\n",
    "\n",
    "\n",
    "Python expects an integer value in the brackets that's in the range of the list's indices. Passing in a non-integer value or an integer value outside of the range of indices (e.g. index 7 for a list only containing 5 elements) will result in an error."
   ]
  },
  {
   "cell_type": "code",
   "execution_count": 11,
   "metadata": {
    "scrolled": true
   },
   "outputs": [],
   "source": [
    "# Instructions\n",
    "# The list int_months contains the values 1 to 12.\n",
    "# Select the value at index 4 and assign to the variable index_four.\n",
    "# Then, select the last value in the list and assign to last_value.\n",
    "\n",
    "\n",
    "\n",
    "\n",
    "\n",
    "\n",
    "\n"
   ]
  },
  {
   "cell_type": "markdown",
   "metadata": {},
   "source": [
    "## 13: List Length\n",
    "We mentioned earlier that trying to lookup a value at an index that's not in the list will return an error and cause your code to halt. You may be wondering how we avoid accidentally looking up a value that's outside the index of a list. Python contains the len() function that returns the length of a list, or the number of elements in that list. The function returns this value as an integer:\n",
    "\n",
    "\n",
    "    int_months = [1, 2, 3, 4, 5, 6, 7, 8, 9, 10, 11, 12]\n",
    "\n",
    "    twelve = len(int_months) # Contains the value 12.\n",
    "\n",
    "\n",
    "If we're ever unsure of the number of elements in a list, we can pass in the list to the len() function. Since the len() function returns an integer, we can subtract 1 from this number to retrieve the index of the last element in a list.\n",
    "\n",
    "\n",
    "    int_months = [1, 2, 3, 4, 5, 6, 7, 8, 9, 10, 11, 12]\n",
    "\n",
    "    eleven = len(int_months) - 1\n",
    "\n",
    "    last_value = int_months[eleven] # Contains the value at index 11.\n",
    "\n",
    "\n",
    "We need to subtract 1 from the result of the len() function, since lists are zero-indexed."
   ]
  },
  {
   "cell_type": "code",
   "execution_count": 12,
   "metadata": {
    "scrolled": true
   },
   "outputs": [],
   "source": [
    "# Instructions\n",
    "# Retrieve the second to last element from the list months and assign it to second_last.\n",
    "# Then, use the print() function to display second_last.\n",
    "\n",
    "\n",
    "\n",
    "\n",
    "\n"
   ]
  },
  {
   "cell_type": "markdown",
   "metadata": {},
   "source": [
    "## 14: List Slicing\n",
    "\n",
    "If we have a list containing thousands of values and we want to grab the values between index 10 and 500, this is a lot of work with what we know so far. Lists contain a feature called slicing that allow you to return all of the values between a starting index and an ending index. To slice a list, pass in the starting and ending index positions as integer values into the brackets we use for indexing a list, separated by a colon :. Only values from the starting index up to, but not including, the ending index are returned.\n",
    "\n",
    "When you slice a list, you return a new list containing just the values you're interested in. Python returns all values from the starting index to the ending index (not returning the value at the ending index). In the following code, we use a slice to retrieve a list containing just the values at index 2 and index 3:\n",
    "\n",
    "\n",
    "\n",
    "    months = [\"Jan\", \"Feb\", \"Mar\", \"Apr\", \"May\", \"Jun\", \"Jul\", \"Aug\", \"Sept\", \"Oct\", \"Nov\", \"Dec\"]\n",
    "    # Values at index 2, 3, but not 4.\n",
    "    two_four = months[2:4]\n",
    "\n",
    "\n",
    "In the following code, we use the len() function to retrieve the number of elements in the list months and use it as the ending index:\n",
    "\n",
    "    #  Values at index 8, 9, 10, 11 but not 12.\n",
    "    ending_index = len(months)\n",
    "    eight_eleven = months[8:ending_index]\n",
    "\n",
    "\n",
    "We returned a list eight_eleven that contains the last 4 elements in the list months by specifying a slice from the starting index (8) to the ending index (len(months)).\n"
   ]
  },
  {
   "cell_type": "code",
   "execution_count": 13,
   "metadata": {
    "collapsed": true,
    "scrolled": true
   },
   "outputs": [],
   "source": [
    "# Instructions\n",
    "# Use slicing to return a list named five_nine that contains the values from index 5 to index 9 (including the value at index 9).\n",
    "# Then, use the print() function to display the first 5 elements in months.\n",
    "\n",
    "\n",
    "\n",
    "\n",
    "\n"
   ]
  }
 ],
 "metadata": {
  "kernelspec": {
   "display_name": "Python 3",
   "language": "python",
   "name": "python3"
  },
  "language_info": {
   "codemirror_mode": {
    "name": "ipython",
    "version": 3
   },
   "file_extension": ".py",
   "mimetype": "text/x-python",
   "name": "python",
   "nbconvert_exporter": "python",
   "pygments_lexer": "ipython3",
   "version": "3.7.4"
  }
 },
 "nbformat": 4,
 "nbformat_minor": 1
}
