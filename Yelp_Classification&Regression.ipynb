{
 "cells": [
  {
   "cell_type": "markdown",
   "metadata": {},
   "source": [
    "# Homework 5 - Yelp Data Analysis\n",
    "\n",
    "In this notebook, we will work on two tasks. \n",
    "1. Predicting restaurant's rating \n",
    "2. Predicting Whether an Establishment has shut down"
   ]
  },
  {
   "cell_type": "code",
   "execution_count": 107,
   "metadata": {},
   "outputs": [],
   "source": [
    "### John Bruno \n",
    "import pandas as pd\n",
    "from collections import Counter\n",
    "import numpy as np\n",
    "import ast\n",
    "# reference: https://machinelearningmastery.com/smote-oversampling-for-imbalanced-classification/\n",
    "# pip install imblearn\n",
    "\n",
    "\n",
    "import seaborn as sns\n",
    "from sklearn import metrics\n",
    "from sklearn.metrics import confusion_matrix, classification_report, roc_auc_score\n",
    "import matplotlib.pyplot as plt\n",
    "from sklearn.model_selection import train_test_split\n",
    "\n",
    "from pdpbox.pdp import pdp_isolate, pdp_plot\n",
    "\n",
    "%matplotlib inline"
   ]
  },
  {
   "cell_type": "markdown",
   "metadata": {},
   "source": [
    "## Part I. Data Exploration\n",
    "\n",
    "The first step in performing a succesfull analysis is properly exploring our data. Below I have started by using pandas built in info() function to get some stats about all of the metrics in our data."
   ]
  },
  {
   "cell_type": "code",
   "execution_count": 108,
   "metadata": {},
   "outputs": [
    {
     "ename": "ParserError",
     "evalue": "Error tokenizing data. C error: out of memory",
     "output_type": "error",
     "traceback": [
      "\u001b[1;31m---------------------------------------------------------------------------\u001b[0m",
      "\u001b[1;31mParserError\u001b[0m                               Traceback (most recent call last)",
      "\u001b[1;32m<ipython-input-108-f523ae557a83>\u001b[0m in \u001b[0;36m<module>\u001b[1;34m\u001b[0m\n\u001b[1;32m----> 1\u001b[1;33m \u001b[0mdf_union\u001b[0m \u001b[1;33m=\u001b[0m \u001b[0mpd\u001b[0m\u001b[1;33m.\u001b[0m\u001b[0mread_csv\u001b[0m\u001b[1;33m(\u001b[0m\u001b[1;34m\"Data/business_unfold.csv\"\u001b[0m\u001b[1;33m,\u001b[0m \u001b[0mlow_memory\u001b[0m\u001b[1;33m=\u001b[0m\u001b[1;32mFalse\u001b[0m\u001b[1;33m)\u001b[0m\u001b[1;33m\u001b[0m\u001b[1;33m\u001b[0m\u001b[0m\n\u001b[0m\u001b[0;32m      2\u001b[0m \u001b[0mprint\u001b[0m\u001b[1;33m(\u001b[0m\u001b[0mdf_union\u001b[0m\u001b[1;33m.\u001b[0m\u001b[0mshape\u001b[0m\u001b[1;33m)\u001b[0m\u001b[1;33m\u001b[0m\u001b[1;33m\u001b[0m\u001b[0m\n",
      "\u001b[1;32m~\\Anaconda3\\lib\\site-packages\\pandas\\io\\parsers.py\u001b[0m in \u001b[0;36mparser_f\u001b[1;34m(filepath_or_buffer, sep, delimiter, header, names, index_col, usecols, squeeze, prefix, mangle_dupe_cols, dtype, engine, converters, true_values, false_values, skipinitialspace, skiprows, skipfooter, nrows, na_values, keep_default_na, na_filter, verbose, skip_blank_lines, parse_dates, infer_datetime_format, keep_date_col, date_parser, dayfirst, cache_dates, iterator, chunksize, compression, thousands, decimal, lineterminator, quotechar, quoting, doublequote, escapechar, comment, encoding, dialect, error_bad_lines, warn_bad_lines, delim_whitespace, low_memory, memory_map, float_precision)\u001b[0m\n\u001b[0;32m    683\u001b[0m         )\n\u001b[0;32m    684\u001b[0m \u001b[1;33m\u001b[0m\u001b[0m\n\u001b[1;32m--> 685\u001b[1;33m         \u001b[1;32mreturn\u001b[0m \u001b[0m_read\u001b[0m\u001b[1;33m(\u001b[0m\u001b[0mfilepath_or_buffer\u001b[0m\u001b[1;33m,\u001b[0m \u001b[0mkwds\u001b[0m\u001b[1;33m)\u001b[0m\u001b[1;33m\u001b[0m\u001b[1;33m\u001b[0m\u001b[0m\n\u001b[0m\u001b[0;32m    686\u001b[0m \u001b[1;33m\u001b[0m\u001b[0m\n\u001b[0;32m    687\u001b[0m     \u001b[0mparser_f\u001b[0m\u001b[1;33m.\u001b[0m\u001b[0m__name__\u001b[0m \u001b[1;33m=\u001b[0m \u001b[0mname\u001b[0m\u001b[1;33m\u001b[0m\u001b[1;33m\u001b[0m\u001b[0m\n",
      "\u001b[1;32m~\\Anaconda3\\lib\\site-packages\\pandas\\io\\parsers.py\u001b[0m in \u001b[0;36m_read\u001b[1;34m(filepath_or_buffer, kwds)\u001b[0m\n\u001b[0;32m    461\u001b[0m \u001b[1;33m\u001b[0m\u001b[0m\n\u001b[0;32m    462\u001b[0m     \u001b[1;32mtry\u001b[0m\u001b[1;33m:\u001b[0m\u001b[1;33m\u001b[0m\u001b[1;33m\u001b[0m\u001b[0m\n\u001b[1;32m--> 463\u001b[1;33m         \u001b[0mdata\u001b[0m \u001b[1;33m=\u001b[0m \u001b[0mparser\u001b[0m\u001b[1;33m.\u001b[0m\u001b[0mread\u001b[0m\u001b[1;33m(\u001b[0m\u001b[0mnrows\u001b[0m\u001b[1;33m)\u001b[0m\u001b[1;33m\u001b[0m\u001b[1;33m\u001b[0m\u001b[0m\n\u001b[0m\u001b[0;32m    464\u001b[0m     \u001b[1;32mfinally\u001b[0m\u001b[1;33m:\u001b[0m\u001b[1;33m\u001b[0m\u001b[1;33m\u001b[0m\u001b[0m\n\u001b[0;32m    465\u001b[0m         \u001b[0mparser\u001b[0m\u001b[1;33m.\u001b[0m\u001b[0mclose\u001b[0m\u001b[1;33m(\u001b[0m\u001b[1;33m)\u001b[0m\u001b[1;33m\u001b[0m\u001b[1;33m\u001b[0m\u001b[0m\n",
      "\u001b[1;32m~\\Anaconda3\\lib\\site-packages\\pandas\\io\\parsers.py\u001b[0m in \u001b[0;36mread\u001b[1;34m(self, nrows)\u001b[0m\n\u001b[0;32m   1152\u001b[0m     \u001b[1;32mdef\u001b[0m \u001b[0mread\u001b[0m\u001b[1;33m(\u001b[0m\u001b[0mself\u001b[0m\u001b[1;33m,\u001b[0m \u001b[0mnrows\u001b[0m\u001b[1;33m=\u001b[0m\u001b[1;32mNone\u001b[0m\u001b[1;33m)\u001b[0m\u001b[1;33m:\u001b[0m\u001b[1;33m\u001b[0m\u001b[1;33m\u001b[0m\u001b[0m\n\u001b[0;32m   1153\u001b[0m         \u001b[0mnrows\u001b[0m \u001b[1;33m=\u001b[0m \u001b[0m_validate_integer\u001b[0m\u001b[1;33m(\u001b[0m\u001b[1;34m\"nrows\"\u001b[0m\u001b[1;33m,\u001b[0m \u001b[0mnrows\u001b[0m\u001b[1;33m)\u001b[0m\u001b[1;33m\u001b[0m\u001b[1;33m\u001b[0m\u001b[0m\n\u001b[1;32m-> 1154\u001b[1;33m         \u001b[0mret\u001b[0m \u001b[1;33m=\u001b[0m \u001b[0mself\u001b[0m\u001b[1;33m.\u001b[0m\u001b[0m_engine\u001b[0m\u001b[1;33m.\u001b[0m\u001b[0mread\u001b[0m\u001b[1;33m(\u001b[0m\u001b[0mnrows\u001b[0m\u001b[1;33m)\u001b[0m\u001b[1;33m\u001b[0m\u001b[1;33m\u001b[0m\u001b[0m\n\u001b[0m\u001b[0;32m   1155\u001b[0m \u001b[1;33m\u001b[0m\u001b[0m\n\u001b[0;32m   1156\u001b[0m         \u001b[1;31m# May alter columns / col_dict\u001b[0m\u001b[1;33m\u001b[0m\u001b[1;33m\u001b[0m\u001b[1;33m\u001b[0m\u001b[0m\n",
      "\u001b[1;32m~\\Anaconda3\\lib\\site-packages\\pandas\\io\\parsers.py\u001b[0m in \u001b[0;36mread\u001b[1;34m(self, nrows)\u001b[0m\n\u001b[0;32m   2057\u001b[0m     \u001b[1;32mdef\u001b[0m \u001b[0mread\u001b[0m\u001b[1;33m(\u001b[0m\u001b[0mself\u001b[0m\u001b[1;33m,\u001b[0m \u001b[0mnrows\u001b[0m\u001b[1;33m=\u001b[0m\u001b[1;32mNone\u001b[0m\u001b[1;33m)\u001b[0m\u001b[1;33m:\u001b[0m\u001b[1;33m\u001b[0m\u001b[1;33m\u001b[0m\u001b[0m\n\u001b[0;32m   2058\u001b[0m         \u001b[1;32mtry\u001b[0m\u001b[1;33m:\u001b[0m\u001b[1;33m\u001b[0m\u001b[1;33m\u001b[0m\u001b[0m\n\u001b[1;32m-> 2059\u001b[1;33m             \u001b[0mdata\u001b[0m \u001b[1;33m=\u001b[0m \u001b[0mself\u001b[0m\u001b[1;33m.\u001b[0m\u001b[0m_reader\u001b[0m\u001b[1;33m.\u001b[0m\u001b[0mread\u001b[0m\u001b[1;33m(\u001b[0m\u001b[0mnrows\u001b[0m\u001b[1;33m)\u001b[0m\u001b[1;33m\u001b[0m\u001b[1;33m\u001b[0m\u001b[0m\n\u001b[0m\u001b[0;32m   2060\u001b[0m         \u001b[1;32mexcept\u001b[0m \u001b[0mStopIteration\u001b[0m\u001b[1;33m:\u001b[0m\u001b[1;33m\u001b[0m\u001b[1;33m\u001b[0m\u001b[0m\n\u001b[0;32m   2061\u001b[0m             \u001b[1;32mif\u001b[0m \u001b[0mself\u001b[0m\u001b[1;33m.\u001b[0m\u001b[0m_first_chunk\u001b[0m\u001b[1;33m:\u001b[0m\u001b[1;33m\u001b[0m\u001b[1;33m\u001b[0m\u001b[0m\n",
      "\u001b[1;32mpandas\\_libs\\parsers.pyx\u001b[0m in \u001b[0;36mpandas._libs.parsers.TextReader.read\u001b[1;34m()\u001b[0m\n",
      "\u001b[1;32mpandas\\_libs\\parsers.pyx\u001b[0m in \u001b[0;36mpandas._libs.parsers.TextReader._read_rows\u001b[1;34m()\u001b[0m\n",
      "\u001b[1;32mpandas\\_libs\\parsers.pyx\u001b[0m in \u001b[0;36mpandas._libs.parsers.raise_parser_error\u001b[1;34m()\u001b[0m\n",
      "\u001b[1;31mParserError\u001b[0m: Error tokenizing data. C error: out of memory"
     ]
    }
   ],
   "source": [
    "df_union = pd.read_csv(\"Data/business_unfold.csv\", low_memory=False)\n",
    "print(df_union.shape)"
   ]
  },
  {
   "cell_type": "code",
   "execution_count": null,
   "metadata": {},
   "outputs": [],
   "source": [
    "# select columns with less than 75% of missing values\n",
    "\n",
    "columns = df_union.columns\n",
    "marked_for_removal = []\n",
    "good_to_keep = []\n",
    "for column in columns:\n",
    "    temp = df_union[column]\n",
    "    temp_describe = temp.isnull().describe()\n",
    "    if temp_describe['top'] == True and temp_describe['freq'] > (temp_describe['count']*.75):\n",
    "        marked_for_removal.append(column)\n",
    "    else:\n",
    "        good_to_keep.append(column)\n",
    "        print(column + \" is good to keep! Less than 75% of its values are null-objects.\")\n",
    "print('('+ str(len(good_to_keep)) + ') columns are good to keep')\n",
    "print('\\n\\n')\n",
    "for column in marked_for_removal:\n",
    "    print(column + \" is marked for removal\")\n",
    "print('('+ str(len(marked_for_removal)) + ') columns have been marked for removal')\n",
    "    "
   ]
  },
  {
   "cell_type": "markdown",
   "metadata": {},
   "source": [
    "The columns that have been marked for removal must now be removed from the data"
   ]
  },
  {
   "cell_type": "code",
   "execution_count": 109,
   "metadata": {},
   "outputs": [
    {
     "name": "stdout",
     "output_type": "stream",
     "text": [
      "Unnamed: 0\n",
      "address\n",
      "business_id\n",
      "categories\n",
      "city\n",
      "hours\n",
      "is_open\n",
      "latitude\n",
      "longitude\n",
      "name\n",
      "postal_code\n",
      "review_count\n",
      "stars\n",
      "state\n",
      "businessID\n",
      "Alcohol\n",
      "BikeParking\n",
      "BusinessAcceptsCreditCards\n",
      "BusinessParking\n",
      "GoodForKids\n",
      "OutdoorSeating\n",
      "RestaurantsAttire\n",
      "RestaurantsDelivery\n",
      "RestaurantsGoodForGroups\n",
      "RestaurantsPriceRange2\n",
      "RestaurantsReservations\n",
      "RestaurantsTakeOut\n",
      "WiFi\n"
     ]
    }
   ],
   "source": [
    "#dropping the columns that have been marked for removal\n",
    "df = df_union.drop(marked_for_removal, axis=1)\n",
    "for i in list(df.columns):\n",
    "    print(i)"
   ]
  },
  {
   "cell_type": "code",
   "execution_count": 110,
   "metadata": {},
   "outputs": [],
   "source": [
    "# from the above list, only keep the columns you are interested.\n",
    "\n",
    "# latitude: a geographic coordinate that specifies the north–south position of a point on the Earth's surface\n",
    "# longitude: a geographic coordinate that specifies the east–west position of a point on the Earth's surface\n",
    "# review_count: the total number of reviews made on a business\n",
    "# stars: the avg star rating for a business\n",
    "# RestaurantsPriceRange2: the price range of a business ranging from 1-4\n",
    "# HasBikeParking: binary variable denoting whether a restaurant has bike parking or not\n",
    "# AcceptsCreditCards: a binary variable denoting whether a restaurant accepts credit cards or not\n",
    "\n",
    "keeplist = ['is_open','latitude','longitude','review_count','stars','Alcohol','BikeParking','BusinessAcceptsCreditCards','OutdoorSeating','GoodForKids']\n",
    "df = df[keeplist].dropna()"
   ]
  },
  {
   "cell_type": "code",
   "execution_count": 111,
   "metadata": {},
   "outputs": [
    {
     "name": "stdout",
     "output_type": "stream",
     "text": [
      "<class 'pandas.core.frame.DataFrame'>\n",
      "Int64Index: 22970 entries, 2 to 192603\n",
      "Data columns (total 10 columns):\n",
      "is_open                       22970 non-null int64\n",
      "latitude                      22970 non-null float64\n",
      "longitude                     22970 non-null float64\n",
      "review_count                  22970 non-null int64\n",
      "stars                         22970 non-null float64\n",
      "Alcohol                       22970 non-null object\n",
      "BikeParking                   22970 non-null object\n",
      "BusinessAcceptsCreditCards    22970 non-null object\n",
      "OutdoorSeating                22970 non-null object\n",
      "GoodForKids                   22970 non-null object\n",
      "dtypes: float64(3), int64(2), object(5)\n",
      "memory usage: 1.5+ MB\n",
      "None\n",
      "(22970, 10)\n"
     ]
    },
    {
     "data": {
      "text/html": [
       "<div>\n",
       "<style scoped>\n",
       "    .dataframe tbody tr th:only-of-type {\n",
       "        vertical-align: middle;\n",
       "    }\n",
       "\n",
       "    .dataframe tbody tr th {\n",
       "        vertical-align: top;\n",
       "    }\n",
       "\n",
       "    .dataframe thead th {\n",
       "        text-align: right;\n",
       "    }\n",
       "</style>\n",
       "<table border=\"1\" class=\"dataframe\">\n",
       "  <thead>\n",
       "    <tr style=\"text-align: right;\">\n",
       "      <th></th>\n",
       "      <th>is_open</th>\n",
       "      <th>latitude</th>\n",
       "      <th>longitude</th>\n",
       "      <th>review_count</th>\n",
       "      <th>stars</th>\n",
       "      <th>Alcohol</th>\n",
       "      <th>BikeParking</th>\n",
       "      <th>BusinessAcceptsCreditCards</th>\n",
       "      <th>OutdoorSeating</th>\n",
       "      <th>GoodForKids</th>\n",
       "    </tr>\n",
       "  </thead>\n",
       "  <tbody>\n",
       "    <tr>\n",
       "      <td>2</td>\n",
       "      <td>1</td>\n",
       "      <td>35.092564</td>\n",
       "      <td>-80.859132</td>\n",
       "      <td>170</td>\n",
       "      <td>4.0</td>\n",
       "      <td>u'beer_and_wine'</td>\n",
       "      <td>True</td>\n",
       "      <td>True</td>\n",
       "      <td>False</td>\n",
       "      <td>True</td>\n",
       "    </tr>\n",
       "    <tr>\n",
       "      <td>12</td>\n",
       "      <td>1</td>\n",
       "      <td>35.527410</td>\n",
       "      <td>-80.868003</td>\n",
       "      <td>9</td>\n",
       "      <td>3.5</td>\n",
       "      <td>'beer_and_wine'</td>\n",
       "      <td>True</td>\n",
       "      <td>True</td>\n",
       "      <td>True</td>\n",
       "      <td>False</td>\n",
       "    </tr>\n",
       "    <tr>\n",
       "      <td>13</td>\n",
       "      <td>1</td>\n",
       "      <td>41.708520</td>\n",
       "      <td>-81.359556</td>\n",
       "      <td>16</td>\n",
       "      <td>4.0</td>\n",
       "      <td>u'none'</td>\n",
       "      <td>True</td>\n",
       "      <td>True</td>\n",
       "      <td>False</td>\n",
       "      <td>True</td>\n",
       "    </tr>\n",
       "    <tr>\n",
       "      <td>22</td>\n",
       "      <td>1</td>\n",
       "      <td>36.080168</td>\n",
       "      <td>-115.182756</td>\n",
       "      <td>107</td>\n",
       "      <td>4.0</td>\n",
       "      <td>u'full_bar'</td>\n",
       "      <td>False</td>\n",
       "      <td>True</td>\n",
       "      <td>True</td>\n",
       "      <td>False</td>\n",
       "    </tr>\n",
       "    <tr>\n",
       "      <td>25</td>\n",
       "      <td>1</td>\n",
       "      <td>36.195615</td>\n",
       "      <td>-115.040529</td>\n",
       "      <td>184</td>\n",
       "      <td>4.5</td>\n",
       "      <td>u'beer_and_wine'</td>\n",
       "      <td>True</td>\n",
       "      <td>True</td>\n",
       "      <td>False</td>\n",
       "      <td>True</td>\n",
       "    </tr>\n",
       "  </tbody>\n",
       "</table>\n",
       "</div>"
      ],
      "text/plain": [
       "    is_open   latitude   longitude  review_count  stars           Alcohol  \\\n",
       "2         1  35.092564  -80.859132           170    4.0  u'beer_and_wine'   \n",
       "12        1  35.527410  -80.868003             9    3.5   'beer_and_wine'   \n",
       "13        1  41.708520  -81.359556            16    4.0           u'none'   \n",
       "22        1  36.080168 -115.182756           107    4.0       u'full_bar'   \n",
       "25        1  36.195615 -115.040529           184    4.5  u'beer_and_wine'   \n",
       "\n",
       "   BikeParking BusinessAcceptsCreditCards OutdoorSeating GoodForKids  \n",
       "2         True                       True          False        True  \n",
       "12        True                       True           True       False  \n",
       "13        True                       True          False        True  \n",
       "22       False                       True           True       False  \n",
       "25        True                       True          False        True  "
      ]
     },
     "execution_count": 111,
     "metadata": {},
     "output_type": "execute_result"
    }
   ],
   "source": [
    "# print the information of the dataset\n",
    "print(df.info())\n",
    "\n",
    "# print # of rows, # of columns\n",
    "print(df.shape)\n",
    "\n",
    "# print the first five rows\n",
    "df.head()"
   ]
  },
  {
   "cell_type": "markdown",
   "metadata": {},
   "source": [
    "# Part II. Data Cleansing\n",
    "\n",
    "Here we will convert text variables to numeric variable variables"
   ]
  },
  {
   "cell_type": "markdown",
   "metadata": {},
   "source": [
    "### Clean up the 'Alcohol' column"
   ]
  },
  {
   "cell_type": "code",
   "execution_count": 112,
   "metadata": {},
   "outputs": [
    {
     "data": {
      "text/plain": [
       "u'none'             7626\n",
       "u'full_bar'         6788\n",
       "'none'              3475\n",
       "u'beer_and_wine'    2183\n",
       "'full_bar'          1873\n",
       "'beer_and_wine'     1006\n",
       "None                  19\n",
       "Name: Alcohol, dtype: int64"
      ]
     },
     "execution_count": 112,
     "metadata": {},
     "output_type": "execute_result"
    }
   ],
   "source": [
    "df['Alcohol'].value_counts()"
   ]
  },
  {
   "cell_type": "code",
   "execution_count": 113,
   "metadata": {},
   "outputs": [],
   "source": [
    "df.loc[df[\"Alcohol\"] == \"u'none'\", \"Alcohol\"] = 0 \n",
    "df.loc[df[\"Alcohol\"] == \"'none'\", \"Alcohol\"] = 0\n",
    "df.loc[df[\"Alcohol\"] == \"None\", \"Alcohol\"] = 0\n",
    "\n",
    "df.loc[df[\"Alcohol\"] == \"u'beer_and_wine'\", \"Alcohol\"] = 1\n",
    "df.loc[df[\"Alcohol\"] == \"'beer_and_wine'\", \"Alcohol\"] = 1\n",
    "\n",
    "df.loc[df[\"Alcohol\"] == \"u'full_bar'\", \"Alcohol\"] = 2\n",
    "\n",
    "df.loc[df[\"Alcohol\"] == \"'full_bar'\", \"Alcohol\"] = 2"
   ]
  },
  {
   "cell_type": "code",
   "execution_count": 114,
   "metadata": {},
   "outputs": [
    {
     "data": {
      "text/plain": [
       "0    11120\n",
       "2     8661\n",
       "1     3189\n",
       "Name: Alcohol, dtype: int64"
      ]
     },
     "execution_count": 114,
     "metadata": {},
     "output_type": "execute_result"
    }
   ],
   "source": [
    "df['Alcohol'] = df['Alcohol'].astype(int)\n",
    "df['Alcohol'].value_counts()"
   ]
  },
  {
   "cell_type": "markdown",
   "metadata": {},
   "source": [
    "### Clean up other columns"
   ]
  },
  {
   "cell_type": "code",
   "execution_count": 115,
   "metadata": {},
   "outputs": [
    {
     "name": "stdout",
     "output_type": "stream",
     "text": [
      "<class 'pandas.core.frame.DataFrame'>\n",
      "Int64Index: 22970 entries, 2 to 192603\n",
      "Data columns (total 10 columns):\n",
      "is_open                       22970 non-null int64\n",
      "latitude                      22970 non-null float64\n",
      "longitude                     22970 non-null float64\n",
      "review_count                  22970 non-null int64\n",
      "stars                         22970 non-null float64\n",
      "Alcohol                       22970 non-null int32\n",
      "BikeParking                   22970 non-null object\n",
      "BusinessAcceptsCreditCards    22970 non-null object\n",
      "OutdoorSeating                22970 non-null object\n",
      "GoodForKids                   22970 non-null object\n",
      "dtypes: float64(3), int32(1), int64(2), object(4)\n",
      "memory usage: 1.5+ MB\n"
     ]
    }
   ],
   "source": [
    "df.info()"
   ]
  },
  {
   "cell_type": "code",
   "execution_count": 116,
   "metadata": {},
   "outputs": [
    {
     "data": {
      "text/plain": [
       "True     17501\n",
       "False     5447\n",
       "None        22\n",
       "Name: BikeParking, dtype: int64"
      ]
     },
     "execution_count": 116,
     "metadata": {},
     "output_type": "execute_result"
    }
   ],
   "source": [
    "# BikeParking\n",
    "df['BikeParking'].value_counts()"
   ]
  },
  {
   "cell_type": "code",
   "execution_count": 117,
   "metadata": {},
   "outputs": [
    {
     "data": {
      "text/plain": [
       "1    17501\n",
       "0     5469\n",
       "Name: BikeParking, dtype: int64"
      ]
     },
     "execution_count": 117,
     "metadata": {},
     "output_type": "execute_result"
    }
   ],
   "source": [
    "df.loc[df[\"BikeParking\"] == \"True\", \"BikeParking\"] = 1 \n",
    "df.loc[df[\"BikeParking\"] == \"False\", \"BikeParking\"] = 0\n",
    "df.loc[df[\"BikeParking\"] == \"None\", \"BikeParking\"] = 0\n",
    "\n",
    "df['BikeParking'] = df['BikeParking'].astype(int)\n",
    "df['BikeParking'].value_counts()"
   ]
  },
  {
   "cell_type": "code",
   "execution_count": 118,
   "metadata": {},
   "outputs": [
    {
     "data": {
      "text/plain": [
       "True     22489\n",
       "False      466\n",
       "None        15\n",
       "Name: BusinessAcceptsCreditCards, dtype: int64"
      ]
     },
     "execution_count": 118,
     "metadata": {},
     "output_type": "execute_result"
    }
   ],
   "source": [
    "# BusinessAcceptsCreditCards\n",
    "df['BusinessAcceptsCreditCards'].value_counts()"
   ]
  },
  {
   "cell_type": "code",
   "execution_count": 119,
   "metadata": {},
   "outputs": [
    {
     "data": {
      "text/plain": [
       "1    22489\n",
       "0      481\n",
       "Name: BusinessAcceptsCreditCards, dtype: int64"
      ]
     },
     "execution_count": 119,
     "metadata": {},
     "output_type": "execute_result"
    }
   ],
   "source": [
    "df.loc[df[\"BusinessAcceptsCreditCards\"] == \"True\", \"BusinessAcceptsCreditCards\"] = 1 \n",
    "df.loc[df[\"BusinessAcceptsCreditCards\"] == \"False\", \"BusinessAcceptsCreditCards\"] = 0\n",
    "df.loc[df[\"BusinessAcceptsCreditCards\"] == \"None\", \"BusinessAcceptsCreditCards\"] = 0\n",
    "\n",
    "df['BusinessAcceptsCreditCards'] = df['BusinessAcceptsCreditCards'].astype(int)\n",
    "df['BusinessAcceptsCreditCards'].value_counts()"
   ]
  },
  {
   "cell_type": "code",
   "execution_count": 120,
   "metadata": {},
   "outputs": [
    {
     "data": {
      "text/plain": [
       "False    12793\n",
       "True     10160\n",
       "None        17\n",
       "Name: OutdoorSeating, dtype: int64"
      ]
     },
     "execution_count": 120,
     "metadata": {},
     "output_type": "execute_result"
    }
   ],
   "source": [
    "# Task #1: change non-numeric values in the columns of 'OutdoorSeating','GoodForKids' to numeric values\n",
    "\n",
    "df['OutdoorSeating'].value_counts()"
   ]
  },
  {
   "cell_type": "code",
   "execution_count": 121,
   "metadata": {},
   "outputs": [
    {
     "data": {
      "text/plain": [
       "0    12810\n",
       "1    10160\n",
       "Name: OutdoorSeating, dtype: int64"
      ]
     },
     "execution_count": 121,
     "metadata": {},
     "output_type": "execute_result"
    }
   ],
   "source": [
    "df.loc[df[\"OutdoorSeating\"] == \"True\", \"OutdoorSeating\"] = 1 \n",
    "df.loc[df[\"OutdoorSeating\"] == \"False\", \"OutdoorSeating\"] = 0\n",
    "df.loc[df[\"OutdoorSeating\"] == \"None\", \"OutdoorSeating\"] = 0\n",
    "\n",
    "df['OutdoorSeating'] = df['OutdoorSeating'].astype(int)\n",
    "df['OutdoorSeating'].value_counts()"
   ]
  },
  {
   "cell_type": "code",
   "execution_count": 122,
   "metadata": {},
   "outputs": [
    {
     "data": {
      "text/plain": [
       "True     19297\n",
       "False     3668\n",
       "None         5\n",
       "Name: GoodForKids, dtype: int64"
      ]
     },
     "execution_count": 122,
     "metadata": {},
     "output_type": "execute_result"
    }
   ],
   "source": [
    "df['GoodForKids'].value_counts()"
   ]
  },
  {
   "cell_type": "code",
   "execution_count": 123,
   "metadata": {},
   "outputs": [
    {
     "data": {
      "text/plain": [
       "1    19297\n",
       "0     3673\n",
       "Name: GoodForKids, dtype: int64"
      ]
     },
     "execution_count": 123,
     "metadata": {},
     "output_type": "execute_result"
    }
   ],
   "source": [
    "df.loc[df[\"GoodForKids\"] == \"True\", \"GoodForKids\"] = 1 \n",
    "df.loc[df[\"GoodForKids\"] == \"False\", \"GoodForKids\"] = 0\n",
    "df.loc[df[\"GoodForKids\"] == \"None\", \"GoodForKids\"] = 0\n",
    "\n",
    "df['GoodForKids'] = df['GoodForKids'].astype(int)\n",
    "df['GoodForKids'].value_counts()"
   ]
  },
  {
   "cell_type": "code",
   "execution_count": 124,
   "metadata": {},
   "outputs": [
    {
     "name": "stdout",
     "output_type": "stream",
     "text": [
      "<class 'pandas.core.frame.DataFrame'>\n",
      "Int64Index: 22970 entries, 2 to 192603\n",
      "Data columns (total 10 columns):\n",
      "is_open                       22970 non-null int64\n",
      "latitude                      22970 non-null float64\n",
      "longitude                     22970 non-null float64\n",
      "review_count                  22970 non-null int64\n",
      "stars                         22970 non-null float64\n",
      "Alcohol                       22970 non-null int32\n",
      "BikeParking                   22970 non-null int32\n",
      "BusinessAcceptsCreditCards    22970 non-null int32\n",
      "OutdoorSeating                22970 non-null int32\n",
      "GoodForKids                   22970 non-null int32\n",
      "dtypes: float64(3), int32(5), int64(2)\n",
      "memory usage: 1.5 MB\n",
      "None\n"
     ]
    }
   ],
   "source": [
    "print(df.info())"
   ]
  },
  {
   "cell_type": "markdown",
   "metadata": {},
   "source": [
    "## Part III. Model 1_Predictive Restaurant’s Rating (Regression)"
   ]
  },
  {
   "cell_type": "code",
   "execution_count": 125,
   "metadata": {},
   "outputs": [],
   "source": [
    "x_columns = ['latitude','longitude','review_count','Alcohol','BikeParking','BusinessAcceptsCreditCards','OutdoorSeating','GoodForKids']\n",
    "# plot the distribution of 'stars'"
   ]
  },
  {
   "cell_type": "code",
   "execution_count": 126,
   "metadata": {},
   "outputs": [
    {
     "data": {
      "text/plain": [
       "<matplotlib.axes._subplots.AxesSubplot at 0x2ccc0290>"
      ]
     },
     "execution_count": 126,
     "metadata": {},
     "output_type": "execute_result"
    },
    {
     "data": {
      "image/png": "[encoded data removed]",
      "text/plain": [
       "<Figure size 432x288 with 1 Axes>"
      ]
     },
     "metadata": {
      "needs_background": "light"
     },
     "output_type": "display_data"
    }
   ],
   "source": [
    "df['stars'].hist()\n",
    "\n",
    "# if the distribution is too skewed, you might want to log-transform 'stars'.\n",
    "# df['stars'] = np.log(df['stars'])"
   ]
  },
  {
   "cell_type": "code",
   "execution_count": 127,
   "metadata": {},
   "outputs": [],
   "source": [
    "# split the dataset to train and test\n",
    "X = df[x_columns]\n",
    "y = df['stars']\n",
    "\n",
    "X_train, X_test, y_train, y_test = train_test_split(X, y, test_size = 0.3, random_state = 3)"
   ]
  },
  {
   "cell_type": "code",
   "execution_count": 128,
   "metadata": {},
   "outputs": [],
   "source": [
    "# Task #2: build a Random Forest Regressor model\n",
    "from sklearn.ensemble import RandomForestRegressor\n",
    "\n",
    "forest_reg = RandomForestRegressor(random_state=10)\n",
    "forest_reg.fit(X_train, y_train)\n",
    "\n",
    "y_pred_forest = forest_reg.predict(X_test)\n",
    "\n",
    "\n"
   ]
  },
  {
   "cell_type": "code",
   "execution_count": 129,
   "metadata": {},
   "outputs": [
    {
     "data": {
      "text/plain": [
       "<matplotlib.axes._subplots.AxesSubplot at 0x29c0a0b0>"
      ]
     },
     "execution_count": 129,
     "metadata": {},
     "output_type": "execute_result"
    },
    {
     "data": {
      "image/png": "[encoded data removed]",
      "text/plain": [
       "<Figure size 432x288 with 1 Axes>"
      ]
     },
     "metadata": {
      "needs_background": "light"
     },
     "output_type": "display_data"
    }
   ],
   "source": [
    "# Task #3: plot the features importance scores\n",
    "feat_importances = pd.Series(forest_reg.feature_importances_, index=X.columns)\n",
    "feat_importances.nlargest(8).plot(kind='barh')\n",
    "\n"
   ]
  },
  {
   "cell_type": "code",
   "execution_count": 130,
   "metadata": {},
   "outputs": [],
   "source": [
    "# Task #4: create three pdpbox plots to explain the impact of 'review_count', 'Alcohol' on 'stars' separately.\n",
    "# Also, interpret the pdpbox plots."
   ]
  },
  {
   "cell_type": "code",
   "execution_count": 131,
   "metadata": {},
   "outputs": [
    {
     "data": {
      "image/png": "[encoded data removed]",
      "text/plain": [
       "<Figure size 1080x684 with 3 Axes>"
      ]
     },
     "metadata": {
      "needs_background": "light"
     },
     "output_type": "display_data"
    }
   ],
   "source": [
    "pdp_TimeFirst = pdp_isolate(model=forest_reg, dataset=df, model_features=x_columns,feature='review_count')\n",
    "fig, axes = pdp_plot(pdp_isolate_out=pdp_TimeFirst,feature_name='review_count',plot_pts_dist=True)\n"
   ]
  },
  {
   "cell_type": "code",
   "execution_count": 132,
   "metadata": {},
   "outputs": [],
   "source": [
    "# review_count: amount of reviews \n",
    "    \n",
    "# Interpretation; When the amount of reviews is more, the higher the chance of that resturaunt being rated higher,\n",
    "# except when low review count.\n"
   ]
  },
  {
   "cell_type": "code",
   "execution_count": 133,
   "metadata": {},
   "outputs": [
    {
     "data": {
      "image/png": "[encoded data removed]",
      "text/plain": [
       "<Figure size 1080x684 with 3 Axes>"
      ]
     },
     "metadata": {
      "needs_background": "light"
     },
     "output_type": "display_data"
    }
   ],
   "source": [
    "pdp_TimeFirst = pdp_isolate(model=forest_reg, dataset=df, model_features=x_columns,feature='Alcohol')\n",
    "fig, axes = pdp_plot(pdp_isolate_out=pdp_TimeFirst,feature_name='Alcohol',plot_pts_dist=True)"
   ]
  },
  {
   "cell_type": "code",
   "execution_count": null,
   "metadata": {},
   "outputs": [],
   "source": [
    "# Alchohol: categorizes restuaraunts based on how they sell alcohol\n",
    "df.loc[df[\"Alcohol\"] == \"u'none'\", \"Alcohol\"] = 0 \n",
    "df.loc[df[\"Alcohol\"] == \"'none'\", \"Alcohol\"] = 0\n",
    "df.loc[df[\"Alcohol\"] == \"None\", \"Alcohol\"] = 0\n",
    "\n",
    "df.loc[df[\"Alcohol\"] == \"u'beer_and_wine'\", \"Alcohol\"] = 1\n",
    "df.loc[df[\"Alcohol\"] == \"'beer_and_wine'\", \"Alcohol\"] = 1\n",
    "\n",
    "df.loc[df[\"Alcohol\"] == \"u'full_bar'\", \"Alcohol\"] = 2\n",
    "\n",
    "df.loc[df[\"Alcohol\"] == \"'full_bar'\", \"Alcohol\"] = 2\n",
    "\n",
    "# 0 = none, 1 = beer/wine, 2 = full bar    \n",
    "# Interpretation; When the aresturaunt has none, higher chance rating isn't impacted, however when they sell beer and wine, \n",
    "# higher chance it improves rating slightly and when it's a full bar the higher the chance the rating decreases slightly."
   ]
  },
  {
   "cell_type": "code",
   "execution_count": 97,
   "metadata": {},
   "outputs": [
    {
     "name": "stdout",
     "output_type": "stream",
     "text": [
      "Random Forest RMSE: 0.6858\n"
     ]
    }
   ],
   "source": [
    "# Task #5: Measure model performance using RMSE\n",
    "from sklearn.metrics import mean_squared_error\n",
    "forest_mse = mean_squared_error(y_pred_forest, y_test)\n",
    "forest_rmse = np.sqrt(forest_mse)\n",
    "print('Random Forest RMSE: %.4f' % forest_rmse)\n"
   ]
  },
  {
   "cell_type": "markdown",
   "metadata": {},
   "source": [
    "## Part IV. Model 2_Predictive Restaurant’s Longevity (Classification)\n",
    "\n",
    "In this part, we will build up a classification model, in which 'is_open' is the dependent variable (y)."
   ]
  },
  {
   "cell_type": "code",
   "execution_count": 98,
   "metadata": {},
   "outputs": [
    {
     "data": {
      "text/plain": [
       "1    18634\n",
       "0     4336\n",
       "Name: is_open, dtype: int64"
      ]
     },
     "execution_count": 98,
     "metadata": {},
     "output_type": "execute_result"
    },
    {
     "data": {
      "image/png": "[encoded data removed]",
      "text/plain": [
       "<Figure size 432x288 with 1 Axes>"
      ]
     },
     "metadata": {
      "needs_background": "light"
     },
     "output_type": "display_data"
    }
   ],
   "source": [
    "# Plot the distribution of the y variable\n",
    "sns.countplot(df.is_open, label=\"Count\")\n",
    "df['is_open'].value_counts()"
   ]
  },
  {
   "cell_type": "code",
   "execution_count": 99,
   "metadata": {},
   "outputs": [],
   "source": [
    "x_columns = ['latitude','longitude','review_count','stars','Alcohol','BikeParking','BusinessAcceptsCreditCards','OutdoorSeating','GoodForKids']"
   ]
  },
  {
   "cell_type": "code",
   "execution_count": 100,
   "metadata": {},
   "outputs": [
    {
     "name": "stdout",
     "output_type": "stream",
     "text": [
      "SMOTE Counter({1: 18634, 0: 18634})\n"
     ]
    }
   ],
   "source": [
    "# SMOTE: Synthetic Minority Oversampling Technique (synthesize new examples from the minority class)\n",
    "from imblearn.over_sampling import (SMOTE)\n",
    "\n",
    "sampler = SMOTE(sampling_strategy = 1)\n",
    "X_rs, y_rs = sampler.fit_sample(df[x_columns], df['is_open'])\n",
    "print('SMOTE {}'.format(Counter(y_rs)))\n",
    "\n",
    "X=pd.DataFrame(X_rs, columns=x_columns)\n",
    "y = pd.DataFrame(y_rs, columns = ['is_open'])\n",
    "\n",
    "# combine the columns in X and y\n",
    "df_new = pd.concat([X, y], axis=1)"
   ]
  },
  {
   "cell_type": "code",
   "execution_count": 101,
   "metadata": {},
   "outputs": [
    {
     "data": {
      "text/plain": [
       "1    18634\n",
       "0    18634\n",
       "Name: is_open, dtype: int64"
      ]
     },
     "execution_count": 101,
     "metadata": {},
     "output_type": "execute_result"
    },
    {
     "data": {
      "image/png": "[encoded data removed]",
      "text/plain": [
       "<Figure size 432x288 with 1 Axes>"
      ]
     },
     "metadata": {
      "needs_background": "light"
     },
     "output_type": "display_data"
    }
   ],
   "source": [
    "# Plot the distribution of the y variable\n",
    "sns.countplot(df_new.is_open, label=\"Count\")\n",
    "df_new['is_open'].value_counts()"
   ]
  },
  {
   "cell_type": "code",
   "execution_count": 102,
   "metadata": {},
   "outputs": [],
   "source": [
    "# split the dataset for cross validation\n",
    "X_train, X_test, y_train, y_test = train_test_split\\\n",
    "  (X, y, train_size = 0.6, random_state = 1)"
   ]
  },
  {
   "cell_type": "code",
   "execution_count": null,
   "metadata": {},
   "outputs": [],
   "source": [
    "# Task #6: Create a Random Forest Classifier model \n",
    "\n",
    "for i in range(1, 11):\n",
    "    rfc2 = RandomForestClassifier(max_features=i, random_state=1)\n",
    "    rfc2.fit(X_train, y_train)\n",
    "    pred2 = rfc2.predict(X_test)\n",
    "    print(\"Accuracy for %s feature(s) equals %s\" %(i, accuracy_score(y_test, pred2)))\n",
    "\n",
    "\n"
   ]
  },
  {
   "cell_type": "code",
   "execution_count": null,
   "metadata": {},
   "outputs": [],
   "source": [
    "# Task #7: plot the features importance scores\n",
    "\n",
    "\n",
    "\n"
   ]
  },
  {
   "cell_type": "code",
   "execution_count": null,
   "metadata": {},
   "outputs": [],
   "source": [
    "# Task #8: create three pdpbox plots to explain the impact of 'stars', 'review_count', 'Alcohol' on 'is_open' separately.\n",
    "# Also, interpret the pdpbox plots."
   ]
  },
  {
   "cell_type": "code",
   "execution_count": null,
   "metadata": {},
   "outputs": [],
   "source": [
    "\n",
    "\n"
   ]
  },
  {
   "cell_type": "code",
   "execution_count": null,
   "metadata": {},
   "outputs": [],
   "source": [
    "\n",
    "\n",
    "\n"
   ]
  },
  {
   "cell_type": "code",
   "execution_count": null,
   "metadata": {},
   "outputs": [],
   "source": [
    "\n",
    "\n",
    "\n",
    "\n"
   ]
  }
 ],
 "metadata": {
  "kernelspec": {
   "display_name": "Python 3",
   "language": "python",
   "name": "python3"
  },
  "language_info": {
   "codemirror_mode": {
    "name": "ipython",
    "version": 3
   },
   "file_extension": ".py",
   "mimetype": "text/x-python",
   "name": "python",
   "nbconvert_exporter": "python",
   "pygments_lexer": "ipython3",
   "version": "3.7.6"
  }
 },
 "nbformat": 4,
 "nbformat_minor": 2
}
