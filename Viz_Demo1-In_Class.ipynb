{
 "cells": [
  {
   "cell_type": "code",
   "execution_count": 1,
   "metadata": {},
   "outputs": [
    {
     "name": "stderr",
     "output_type": "stream",
     "text": [
      "In C:\\Users\\jbrun\\AppData\\Roaming\\Python\\Python37\\site-packages\\matplotlib\\mpl-data\\stylelib\\_classic_test.mplstyle: \n",
      "The text.latex.preview rcparam was deprecated in Matplotlib 3.3 and will be removed two minor releases later.\n",
      "In C:\\Users\\jbrun\\AppData\\Roaming\\Python\\Python37\\site-packages\\matplotlib\\mpl-data\\stylelib\\_classic_test.mplstyle: \n",
      "The mathtext.fallback_to_cm rcparam was deprecated in Matplotlib 3.3 and will be removed two minor releases later.\n",
      "In C:\\Users\\jbrun\\AppData\\Roaming\\Python\\Python37\\site-packages\\matplotlib\\mpl-data\\stylelib\\_classic_test.mplstyle: Support for setting the 'mathtext.fallback_to_cm' rcParam is deprecated since 3.3 and will be removed two minor releases later; use 'mathtext.fallback : 'cm' instead.\n",
      "In C:\\Users\\jbrun\\AppData\\Roaming\\Python\\Python37\\site-packages\\matplotlib\\mpl-data\\stylelib\\_classic_test.mplstyle: \n",
      "The validate_bool_maybe_none function was deprecated in Matplotlib 3.3 and will be removed two minor releases later.\n",
      "In C:\\Users\\jbrun\\AppData\\Roaming\\Python\\Python37\\site-packages\\matplotlib\\mpl-data\\stylelib\\_classic_test.mplstyle: \n",
      "The savefig.jpeg_quality rcparam was deprecated in Matplotlib 3.3 and will be removed two minor releases later.\n",
      "In C:\\Users\\jbrun\\AppData\\Roaming\\Python\\Python37\\site-packages\\matplotlib\\mpl-data\\stylelib\\_classic_test.mplstyle: \n",
      "The keymap.all_axes rcparam was deprecated in Matplotlib 3.3 and will be removed two minor releases later.\n",
      "In C:\\Users\\jbrun\\AppData\\Roaming\\Python\\Python37\\site-packages\\matplotlib\\mpl-data\\stylelib\\_classic_test.mplstyle: \n",
      "The animation.avconv_path rcparam was deprecated in Matplotlib 3.3 and will be removed two minor releases later.\n",
      "In C:\\Users\\jbrun\\AppData\\Roaming\\Python\\Python37\\site-packages\\matplotlib\\mpl-data\\stylelib\\_classic_test.mplstyle: \n",
      "The animation.avconv_args rcparam was deprecated in Matplotlib 3.3 and will be removed two minor releases later.\n"
     ]
    }
   ],
   "source": [
    "import pathlib as Path\n",
    "import matplotlib.pyplot as plt\n",
    "import pandas as pd\n",
    "pd.set_option('display.max_rows', 100)"
   ]
  },
  {
   "cell_type": "code",
   "execution_count": 7,
   "metadata": {},
   "outputs": [
    {
     "name": "stderr",
     "output_type": "stream",
     "text": [
      "C:\\Users\\jbrun\\AppData\\Roaming\\Python\\Python37\\site-packages\\numpy\\lib\\arraysetops.py:580: FutureWarning: elementwise comparison failed; returning scalar instead, but in the future will perform elementwise comparison\n",
      "  mask |= (ar1 == a)\n"
     ]
    },
    {
     "name": "stdout",
     "output_type": "stream",
     "text": [
      "           index                   Week County  \\\n",
      "0              0  2017-11-27/2017-12-03  Adair   \n",
      "1              1  2017-11-27/2017-12-03  Adair   \n",
      "2              2  2017-11-27/2017-12-03  Adair   \n",
      "3              3  2017-11-27/2017-12-03  Adair   \n",
      "4              4  2017-11-27/2017-12-03  Adair   \n",
      "...          ...                    ...    ...   \n",
      "1308260  1308260  2020-11-30/2020-12-06  Worth   \n",
      "1308261  1308261  2020-11-30/2020-12-06  Worth   \n",
      "1308262  1308262  2020-11-30/2020-12-06  Worth   \n",
      "1308263  1308263  2020-11-30/2020-12-06  Worth   \n",
      "1308264  1308264  2020-11-30/2020-12-06  Worth   \n",
      "\n",
      "                          Category Name               Vendor Name  \\\n",
      "0                     American Brandies                 Luxco Inc   \n",
      "1          American Cordials & Liqueurs  Cedar Ridge Vineyards Ll   \n",
      "2                     American Dry Gins         Pernod Ricard Usa   \n",
      "3               American Flavored Vodka         Phillips Beverage   \n",
      "4                     American Schnapps           Jim Beam Brands   \n",
      "...                                 ...                       ...   \n",
      "1308260       Straight Bourbon Whiskies           Jim Beam Brands   \n",
      "1308261       Straight Bourbon Whiskies                 Luxco Inc   \n",
      "1308262  Temporary & Specialty Packages           Diageo Americas   \n",
      "1308263              Tennessee Whiskies        Brown Forman Corp.   \n",
      "1308264                 Whiskey Liqueur      Sazerac Company  Inc   \n",
      "\n",
      "         Volume Sold (Liters)  Volume Sold (Gallons)  Bottles Sold  Week Start  \n",
      "0                       54.00                  14.27            72  2017-11-27  \n",
      "1                        1.50                   0.40             2  2017-11-27  \n",
      "2                        1.50                   0.40             2  2017-11-27  \n",
      "3                        4.50                   1.18             6  2017-11-27  \n",
      "4                       14.25                   3.76            19  2017-11-27  \n",
      "...                       ...                    ...           ...         ...  \n",
      "1308260                  7.55                   1.98             7  2020-11-30  \n",
      "1308261                  9.00                   2.37            12  2020-11-30  \n",
      "1308262                 15.00                   3.95            12  2020-11-30  \n",
      "1308263                  4.49                   1.17             9  2020-11-30  \n",
      "1308264                  2.25                   0.59             6  2020-11-30  \n",
      "\n",
      "[1308265 rows x 9 columns]\n"
     ]
    }
   ],
   "source": [
    "from pathlib import Path\n",
    "path_1 = Path(r'C:\\Users\\jbrun\\Desktop\\UA 2020\\Spring\\OM 597 (Seminar)\\Python\\data')\n",
    "data = pd.read_csv(path_1.joinpath('viz_data.csv'), index_col=0).reset_index()\n",
    "print(data)\n"
   ]
  },
  {
   "cell_type": "code",
   "execution_count": 8,
   "metadata": {},
   "outputs": [
    {
     "data": {
      "text/html": [
       "<div>\n",
       "<style scoped>\n",
       "    .dataframe tbody tr th:only-of-type {\n",
       "        vertical-align: middle;\n",
       "    }\n",
       "\n",
       "    .dataframe tbody tr th {\n",
       "        vertical-align: top;\n",
       "    }\n",
       "\n",
       "    .dataframe thead th {\n",
       "        text-align: right;\n",
       "    }\n",
       "</style>\n",
       "<table border=\"1\" class=\"dataframe\">\n",
       "  <thead>\n",
       "    <tr style=\"text-align: right;\">\n",
       "      <th></th>\n",
       "      <th>index</th>\n",
       "      <th>Week</th>\n",
       "      <th>County</th>\n",
       "      <th>Category Name</th>\n",
       "      <th>Vendor Name</th>\n",
       "      <th>Volume Sold (Liters)</th>\n",
       "      <th>Volume Sold (Gallons)</th>\n",
       "      <th>Bottles Sold</th>\n",
       "      <th>Week Start</th>\n",
       "    </tr>\n",
       "  </thead>\n",
       "  <tbody>\n",
       "    <tr>\n",
       "      <th>0</th>\n",
       "      <td>0</td>\n",
       "      <td>2017-11-27/2017-12-03</td>\n",
       "      <td>Adair</td>\n",
       "      <td>American Brandies</td>\n",
       "      <td>Luxco Inc</td>\n",
       "      <td>54.00</td>\n",
       "      <td>14.27</td>\n",
       "      <td>72</td>\n",
       "      <td>2017-11-27</td>\n",
       "    </tr>\n",
       "    <tr>\n",
       "      <th>1</th>\n",
       "      <td>1</td>\n",
       "      <td>2017-11-27/2017-12-03</td>\n",
       "      <td>Adair</td>\n",
       "      <td>American Cordials &amp; Liqueurs</td>\n",
       "      <td>Cedar Ridge Vineyards Ll</td>\n",
       "      <td>1.50</td>\n",
       "      <td>0.40</td>\n",
       "      <td>2</td>\n",
       "      <td>2017-11-27</td>\n",
       "    </tr>\n",
       "    <tr>\n",
       "      <th>2</th>\n",
       "      <td>2</td>\n",
       "      <td>2017-11-27/2017-12-03</td>\n",
       "      <td>Adair</td>\n",
       "      <td>American Dry Gins</td>\n",
       "      <td>Pernod Ricard Usa</td>\n",
       "      <td>1.50</td>\n",
       "      <td>0.40</td>\n",
       "      <td>2</td>\n",
       "      <td>2017-11-27</td>\n",
       "    </tr>\n",
       "    <tr>\n",
       "      <th>3</th>\n",
       "      <td>3</td>\n",
       "      <td>2017-11-27/2017-12-03</td>\n",
       "      <td>Adair</td>\n",
       "      <td>American Flavored Vodka</td>\n",
       "      <td>Phillips Beverage</td>\n",
       "      <td>4.50</td>\n",
       "      <td>1.18</td>\n",
       "      <td>6</td>\n",
       "      <td>2017-11-27</td>\n",
       "    </tr>\n",
       "    <tr>\n",
       "      <th>4</th>\n",
       "      <td>4</td>\n",
       "      <td>2017-11-27/2017-12-03</td>\n",
       "      <td>Adair</td>\n",
       "      <td>American Schnapps</td>\n",
       "      <td>Jim Beam Brands</td>\n",
       "      <td>14.25</td>\n",
       "      <td>3.76</td>\n",
       "      <td>19</td>\n",
       "      <td>2017-11-27</td>\n",
       "    </tr>\n",
       "  </tbody>\n",
       "</table>\n",
       "</div>"
      ],
      "text/plain": [
       "   index                   Week County                 Category Name  \\\n",
       "0      0  2017-11-27/2017-12-03  Adair             American Brandies   \n",
       "1      1  2017-11-27/2017-12-03  Adair  American Cordials & Liqueurs   \n",
       "2      2  2017-11-27/2017-12-03  Adair             American Dry Gins   \n",
       "3      3  2017-11-27/2017-12-03  Adair       American Flavored Vodka   \n",
       "4      4  2017-11-27/2017-12-03  Adair             American Schnapps   \n",
       "\n",
       "                Vendor Name  Volume Sold (Liters)  Volume Sold (Gallons)  \\\n",
       "0                 Luxco Inc                 54.00                  14.27   \n",
       "1  Cedar Ridge Vineyards Ll                  1.50                   0.40   \n",
       "2         Pernod Ricard Usa                  1.50                   0.40   \n",
       "3         Phillips Beverage                  4.50                   1.18   \n",
       "4           Jim Beam Brands                 14.25                   3.76   \n",
       "\n",
       "   Bottles Sold  Week Start  \n",
       "0            72  2017-11-27  \n",
       "1             2  2017-11-27  \n",
       "2             2  2017-11-27  \n",
       "3             6  2017-11-27  \n",
       "4            19  2017-11-27  "
      ]
     },
     "execution_count": 8,
     "metadata": {},
     "output_type": "execute_result"
    }
   ],
   "source": [
    "data.head()"
   ]
  },
  {
   "cell_type": "code",
   "execution_count": 9,
   "metadata": {},
   "outputs": [],
   "source": [
    "data['Week Start'] = pd.to_datetime(data['Week Start'])"
   ]
  },
  {
   "cell_type": "code",
   "execution_count": 10,
   "metadata": {},
   "outputs": [
    {
     "data": {
      "text/plain": [
       "index                             int64\n",
       "Week                             object\n",
       "County                           object\n",
       "Category Name                    object\n",
       "Vendor Name                      object\n",
       "Volume Sold (Liters)            float64\n",
       "Volume Sold (Gallons)           float64\n",
       "Bottles Sold                      int64\n",
       "Week Start               datetime64[ns]\n",
       "dtype: object"
      ]
     },
     "execution_count": 10,
     "metadata": {},
     "output_type": "execute_result"
    }
   ],
   "source": [
    "data.dtypes"
   ]
  },
  {
   "cell_type": "code",
   "execution_count": 11,
   "metadata": {},
   "outputs": [
    {
     "data": {
      "text/html": [
       "<div>\n",
       "<style scoped>\n",
       "    .dataframe tbody tr th:only-of-type {\n",
       "        vertical-align: middle;\n",
       "    }\n",
       "\n",
       "    .dataframe tbody tr th {\n",
       "        vertical-align: top;\n",
       "    }\n",
       "\n",
       "    .dataframe thead th {\n",
       "        text-align: right;\n",
       "    }\n",
       "</style>\n",
       "<table border=\"1\" class=\"dataframe\">\n",
       "  <thead>\n",
       "    <tr style=\"text-align: right;\">\n",
       "      <th></th>\n",
       "      <th>index</th>\n",
       "      <th>Week</th>\n",
       "      <th>County</th>\n",
       "      <th>Category Name</th>\n",
       "      <th>Vendor Name</th>\n",
       "      <th>Volume Sold (Liters)</th>\n",
       "      <th>Volume Sold (Gallons)</th>\n",
       "      <th>Bottles Sold</th>\n",
       "      <th>Week Start</th>\n",
       "    </tr>\n",
       "  </thead>\n",
       "  <tbody>\n",
       "    <tr>\n",
       "      <th>0</th>\n",
       "      <td>0</td>\n",
       "      <td>2017-11-27/2017-12-03</td>\n",
       "      <td>Adair</td>\n",
       "      <td>American Brandies</td>\n",
       "      <td>Luxco Inc</td>\n",
       "      <td>54.00</td>\n",
       "      <td>14.27</td>\n",
       "      <td>72</td>\n",
       "      <td>2017-11-27</td>\n",
       "    </tr>\n",
       "    <tr>\n",
       "      <th>1</th>\n",
       "      <td>1</td>\n",
       "      <td>2017-11-27/2017-12-03</td>\n",
       "      <td>Adair</td>\n",
       "      <td>American Cordials &amp; Liqueurs</td>\n",
       "      <td>Cedar Ridge Vineyards Ll</td>\n",
       "      <td>1.50</td>\n",
       "      <td>0.40</td>\n",
       "      <td>2</td>\n",
       "      <td>2017-11-27</td>\n",
       "    </tr>\n",
       "    <tr>\n",
       "      <th>2</th>\n",
       "      <td>2</td>\n",
       "      <td>2017-11-27/2017-12-03</td>\n",
       "      <td>Adair</td>\n",
       "      <td>American Dry Gins</td>\n",
       "      <td>Pernod Ricard Usa</td>\n",
       "      <td>1.50</td>\n",
       "      <td>0.40</td>\n",
       "      <td>2</td>\n",
       "      <td>2017-11-27</td>\n",
       "    </tr>\n",
       "    <tr>\n",
       "      <th>3</th>\n",
       "      <td>3</td>\n",
       "      <td>2017-11-27/2017-12-03</td>\n",
       "      <td>Adair</td>\n",
       "      <td>American Flavored Vodka</td>\n",
       "      <td>Phillips Beverage</td>\n",
       "      <td>4.50</td>\n",
       "      <td>1.18</td>\n",
       "      <td>6</td>\n",
       "      <td>2017-11-27</td>\n",
       "    </tr>\n",
       "    <tr>\n",
       "      <th>4</th>\n",
       "      <td>4</td>\n",
       "      <td>2017-11-27/2017-12-03</td>\n",
       "      <td>Adair</td>\n",
       "      <td>American Schnapps</td>\n",
       "      <td>Jim Beam Brands</td>\n",
       "      <td>14.25</td>\n",
       "      <td>3.76</td>\n",
       "      <td>19</td>\n",
       "      <td>2017-11-27</td>\n",
       "    </tr>\n",
       "  </tbody>\n",
       "</table>\n",
       "</div>"
      ],
      "text/plain": [
       "   index                   Week County                 Category Name  \\\n",
       "0      0  2017-11-27/2017-12-03  Adair             American Brandies   \n",
       "1      1  2017-11-27/2017-12-03  Adair  American Cordials & Liqueurs   \n",
       "2      2  2017-11-27/2017-12-03  Adair             American Dry Gins   \n",
       "3      3  2017-11-27/2017-12-03  Adair       American Flavored Vodka   \n",
       "4      4  2017-11-27/2017-12-03  Adair             American Schnapps   \n",
       "\n",
       "                Vendor Name  Volume Sold (Liters)  Volume Sold (Gallons)  \\\n",
       "0                 Luxco Inc                 54.00                  14.27   \n",
       "1  Cedar Ridge Vineyards Ll                  1.50                   0.40   \n",
       "2         Pernod Ricard Usa                  1.50                   0.40   \n",
       "3         Phillips Beverage                  4.50                   1.18   \n",
       "4           Jim Beam Brands                 14.25                   3.76   \n",
       "\n",
       "   Bottles Sold Week Start  \n",
       "0            72 2017-11-27  \n",
       "1             2 2017-11-27  \n",
       "2             2 2017-11-27  \n",
       "3             6 2017-11-27  \n",
       "4            19 2017-11-27  "
      ]
     },
     "execution_count": 11,
     "metadata": {},
     "output_type": "execute_result"
    }
   ],
   "source": [
    "data.head()"
   ]
  },
  {
   "cell_type": "markdown",
   "metadata": {},
   "source": [
    "# Sales by Vendor"
   ]
  },
  {
   "cell_type": "code",
   "execution_count": 40,
   "metadata": {},
   "outputs": [
    {
     "data": {
      "text/plain": [
       "'Luxco Inc'"
      ]
     },
     "execution_count": 40,
     "metadata": {},
     "output_type": "execute_result"
    }
   ],
   "source": [
    "unique_vendors = data['Vendor Name'].unique().tolist()\n",
    "\n",
    "current_vendor = unique_vendors[0]\n",
    "current_vendor"
   ]
  },
  {
   "cell_type": "code",
   "execution_count": 15,
   "metadata": {},
   "outputs": [
    {
     "data": {
      "text/html": [
       "<div>\n",
       "<style scoped>\n",
       "    .dataframe tbody tr th:only-of-type {\n",
       "        vertical-align: middle;\n",
       "    }\n",
       "\n",
       "    .dataframe tbody tr th {\n",
       "        vertical-align: top;\n",
       "    }\n",
       "\n",
       "    .dataframe thead th {\n",
       "        text-align: right;\n",
       "    }\n",
       "</style>\n",
       "<table border=\"1\" class=\"dataframe\">\n",
       "  <thead>\n",
       "    <tr style=\"text-align: right;\">\n",
       "      <th></th>\n",
       "      <th>Week Start</th>\n",
       "      <th>Volume Sold (Gallons)</th>\n",
       "    </tr>\n",
       "  </thead>\n",
       "  <tbody>\n",
       "    <tr>\n",
       "      <th>0</th>\n",
       "      <td>2017-11-27</td>\n",
       "      <td>4130.53</td>\n",
       "    </tr>\n",
       "    <tr>\n",
       "      <th>1</th>\n",
       "      <td>2017-12-04</td>\n",
       "      <td>12042.60</td>\n",
       "    </tr>\n",
       "    <tr>\n",
       "      <th>2</th>\n",
       "      <td>2017-12-11</td>\n",
       "      <td>12090.73</td>\n",
       "    </tr>\n",
       "    <tr>\n",
       "      <th>3</th>\n",
       "      <td>2017-12-18</td>\n",
       "      <td>14905.92</td>\n",
       "    </tr>\n",
       "    <tr>\n",
       "      <th>4</th>\n",
       "      <td>2017-12-25</td>\n",
       "      <td>9324.41</td>\n",
       "    </tr>\n",
       "    <tr>\n",
       "      <th>...</th>\n",
       "      <td>...</td>\n",
       "      <td>...</td>\n",
       "    </tr>\n",
       "    <tr>\n",
       "      <th>153</th>\n",
       "      <td>2020-11-02</td>\n",
       "      <td>10938.11</td>\n",
       "    </tr>\n",
       "    <tr>\n",
       "      <th>154</th>\n",
       "      <td>2020-11-09</td>\n",
       "      <td>8878.29</td>\n",
       "    </tr>\n",
       "    <tr>\n",
       "      <th>155</th>\n",
       "      <td>2020-11-16</td>\n",
       "      <td>9897.74</td>\n",
       "    </tr>\n",
       "    <tr>\n",
       "      <th>156</th>\n",
       "      <td>2020-11-23</td>\n",
       "      <td>8845.21</td>\n",
       "    </tr>\n",
       "    <tr>\n",
       "      <th>157</th>\n",
       "      <td>2020-11-30</td>\n",
       "      <td>1747.34</td>\n",
       "    </tr>\n",
       "  </tbody>\n",
       "</table>\n",
       "<p>158 rows × 2 columns</p>\n",
       "</div>"
      ],
      "text/plain": [
       "    Week Start  Volume Sold (Gallons)\n",
       "0   2017-11-27                4130.53\n",
       "1   2017-12-04               12042.60\n",
       "2   2017-12-11               12090.73\n",
       "3   2017-12-18               14905.92\n",
       "4   2017-12-25                9324.41\n",
       "..         ...                    ...\n",
       "153 2020-11-02               10938.11\n",
       "154 2020-11-09                8878.29\n",
       "155 2020-11-16                9897.74\n",
       "156 2020-11-23                8845.21\n",
       "157 2020-11-30                1747.34\n",
       "\n",
       "[158 rows x 2 columns]"
      ]
     },
     "execution_count": 15,
     "metadata": {},
     "output_type": "execute_result"
    }
   ],
   "source": [
    "myfilter = data['Vendor Name'] == current_vendor\n",
    "vendor_data = data[myfilter]\n",
    "vendor_data.groupby(['Week Start'])['Volume Sold (Gallons)'].sum().reset_index()"
   ]
  },
  {
   "cell_type": "code",
   "execution_count": 22,
   "metadata": {},
   "outputs": [],
   "source": [
    "import seaborn as sns\n",
    "sns.set_style('whitegrid')"
   ]
  },
  {
   "cell_type": "code",
   "execution_count": 23,
   "metadata": {},
   "outputs": [
    {
     "data": {
      "image/png": "[encoded data removed]",
      "text/plain": [
       "<Figure size 504x288 with 1 Axes>"
      ]
     },
     "metadata": {},
     "output_type": "display_data"
    }
   ],
   "source": [
    "fig, ax = plt.subplots(1, 1, figsize = (7,4))\n",
    "\n",
    "ax.plot(vendor_data['Week Start'],\n",
    "        vendor_data['Volume Sold (Gallons)'])\n",
    "ax.tick_params(axis = 'x' ,rotation = 60)\n",
    "plt.show()"
   ]
  },
  {
   "cell_type": "code",
   "execution_count": 26,
   "metadata": {},
   "outputs": [],
   "source": [
    "current_vendor1 = unique_vendors[0]\n",
    "current_vendor2 = unique_vendors[1]\n",
    "\n",
    "myfilter = data['Vendor Name'] == current_vendor1\n",
    "vendor1_data = data[myfilter]\n",
    "vendor1_data = vendor1_data.groupby(['Week Start'])['Volume Sold (Gallons)'].sum().reset_index()\n",
    "\n",
    "myfilter = data['Vendor Name'] == current_vendor2\n",
    "vendor2_data = data[myfilter]\n",
    "vendor2_data = vendor_data2.groupby(['Week Start'])['Volume Sold (Gallons)'].sum().reset_index()"
   ]
  },
  {
   "cell_type": "code",
   "execution_count": 27,
   "metadata": {},
   "outputs": [
    {
     "data": {
      "text/plain": [
       "'Cedar Ridge Vineyards Ll'"
      ]
     },
     "execution_count": 27,
     "metadata": {},
     "output_type": "execute_result"
    }
   ],
   "source": [
    "current_vendor2"
   ]
  },
  {
   "cell_type": "code",
   "execution_count": 29,
   "metadata": {},
   "outputs": [
    {
     "data": {
      "image/png": "[encoded data removed]",
      "text/plain": [
       "<Figure size 864x288 with 2 Axes>"
      ]
     },
     "metadata": {},
     "output_type": "display_data"
    }
   ],
   "source": [
    "fig, ax = plt.subplots(1, 2, figsize = (12, 4), sharey = True)\n",
    "\n",
    "ax[0].plot(vendor1_data['Week Start'],\n",
    "        vendor1_data['Volume Sold (Gallons)'])\n",
    "ax[0].tick_params(axis = 'x' ,rotation = 60)\n",
    "\n",
    "ax[1].plot(vendor2_data['Week Start'],\n",
    "        vendor2_data['Volume Sold (Gallons)'])\n",
    "ax[1].tick_params(axis = 'x' ,rotation = 60)\n",
    "plt.show()"
   ]
  },
  {
   "cell_type": "code",
   "execution_count": 41,
   "metadata": {},
   "outputs": [],
   "source": [
    "def comparison_plot(current_vendor1, current_vendor2):\n",
    "    \n",
    "    current_selections = [current_vendor1, current_vendor2]\n",
    "\n",
    "    fig, ax = plt.subplots(1, 2, figsize = (12, 4), sharey = True)\n",
    "\n",
    "    for selection, current_axis in zip(current_selections, ax):\n",
    "\n",
    "        myfilter = data['Vendor Name'] == current_vendor1\n",
    "        vendor_data = data[myfilter]\n",
    "        vendor_data = vendor_data.groupby(['Week Start'])['Volume Sold (Gallons)'].sum().reset_index()\n",
    "\n",
    "        current_axis.plot(vendor_data['Week Start'],\n",
    "                vendor_data['Volume Sold (Gallons)'])\n",
    "\n",
    "        current_axis.tick_params(axis = 'x' ,rotation = 60)\n",
    "        current_axis.set_title(f'Weekly Sales for {selection})', fontsize = 14)\n",
    "\n",
    "plt.show()"
   ]
  },
  {
   "cell_type": "code",
   "execution_count": 42,
   "metadata": {},
   "outputs": [
    {
     "data": {
      "image/png": "[encoded data removed]",
      "text/plain": [
       "<Figure size 864x288 with 2 Axes>"
      ]
     },
     "metadata": {},
     "output_type": "display_data"
    }
   ],
   "source": [
    "current_vendor1 = unique_vendors[0]\n",
    "current_vendor2 = unique_vendors[4]\n",
    "comparison_plot(current_vendor1, current_vendor2)"
   ]
  },
  {
   "cell_type": "code",
   "execution_count": 43,
   "metadata": {},
   "outputs": [],
   "source": [
    "from ipywidgets import interact"
   ]
  },
  {
   "cell_type": "code",
   "execution_count": 44,
   "metadata": {},
   "outputs": [
    {
     "data": {
      "application/vnd.jupyter.widget-view+json": {
       "model_id": "c18410303ba148e782afb5c64774ad1e",
       "version_major": 2,
       "version_minor": 0
      },
      "text/plain": [
       "interactive(children=(Dropdown(description='current_vendor1', options=('Luxco Inc', 'Cedar Ridge Vineyards Ll'…"
      ]
     },
     "metadata": {},
     "output_type": "display_data"
    },
    {
     "data": {
      "text/plain": [
       "<function __main__.comparison_plot(current_vendor1, current_vendor2)>"
      ]
     },
     "execution_count": 44,
     "metadata": {},
     "output_type": "execute_result"
    }
   ],
   "source": [
    "interact(comparison_plot, current_vendor1 = unique_vendors, current_vendor2 = unique_vendors)"
   ]
  },
  {
   "cell_type": "code",
   "execution_count": null,
   "metadata": {},
   "outputs": [],
   "source": []
  }
 ],
 "metadata": {
  "kernelspec": {
   "display_name": "Python 3",
   "language": "python",
   "name": "python3"
  },
  "language_info": {
   "codemirror_mode": {
    "name": "ipython",
    "version": 3
   },
   "file_extension": ".py",
   "mimetype": "text/x-python",
   "name": "python",
   "nbconvert_exporter": "python",
   "pygments_lexer": "ipython3",
   "version": "3.7.6"
  }
 },
 "nbformat": 4,
 "nbformat_minor": 4
}
