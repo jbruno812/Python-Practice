{
 "cells": [
  {
   "cell_type": "markdown",
   "metadata": {},
   "source": [
    "# M7-A1 Lists, Tuples, and Sets - Sorting Names in Arrays\n",
    "\n",
    "# Instructions:\n",
    "Ask the user for the number of names in a list and get the names from the user. Sort the names and output them in the array format, aka: print(array)\n",
    "\n",
    "**Bold** indicates input from the console.\n",
    "\n",
    "### Expected sample output:\n",
    "How many names are in your list?<br>\n",
    "**5**<br>\n",
    "Enter name<br>\n",
    "**Jerry**<br>\n",
    "Enter name<br>\n",
    "**Jacob**<br>\n",
    "Enter name<br>\n",
    "**Justin**<br>\n",
    "Enter name<br>\n",
    "**Jared**<br>\n",
    "Enter name<br>\n",
    "**Jobe**<br>\n",
    "['Jacob', 'Jared', 'Jerry', 'Jobe', 'Justin']<br>\n",
    "\n",
    "### Expected sample output:\n",
    "How many names are in your list?<br>\n",
    "**9**<br>\n",
    "Enter name<br>\n",
    "**Sam**<br>\n",
    "Enter name<br>\n",
    "**Lauren**<br>\n",
    "Enter name<br>\n",
    "**Karen**<br>\n",
    "Enter name<br>\n",
    "**Jared**<br>\n",
    "Enter name<br>\n",
    "**Liz**<br>\n",
    "Enter name<br>\n",
    "**Zachary**<br>\n",
    "Enter name<br>\n",
    "**Allison**<br>\n",
    "Enter name<br>\n",
    "**Marylin**<br>\n",
    "Enter name<br>\n",
    "**Cary**<br>\n",
    "['Allison', 'Cary', 'Jared', 'Karen', 'Lauren', 'Liz', 'Marylin', 'Sam', 'Zachary']<br>"
   ]
  },
  {
   "cell_type": "code",
   "execution_count": null,
   "metadata": {},
   "outputs": [],
   "source": [
    "#Write your Python code here\n",
    "list =[]\n",
    "number = int(input(\"how many names are in your list: \"))\n",
    "for i in range(0,number):    \n",
    "    names = (input(\"Enter name:\"))\n",
    "    list.append(names)\n",
    "print(list)"
   ]
  }
 ],
 "metadata": {
  "kernelspec": {
   "display_name": "Python 3",
   "language": "python",
   "name": "python3"
  },
  "language_info": {
   "codemirror_mode": {
    "name": "ipython",
    "version": 3
   },
   "file_extension": ".py",
   "mimetype": "text/x-python",
   "name": "python",
   "nbconvert_exporter": "python",
   "pygments_lexer": "ipython3",
   "version": "3.7.6"
  }
 },
 "nbformat": 4,
 "nbformat_minor": 4
}
