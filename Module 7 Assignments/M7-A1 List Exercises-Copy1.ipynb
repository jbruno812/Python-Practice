{
 "cells": [
  {
   "cell_type": "markdown",
   "metadata": {},
   "source": [
    "# List Exercises"
   ]
  },
  {
   "cell_type": "code",
   "execution_count": 2,
   "metadata": {},
   "outputs": [
    {
     "name": "stdout",
     "output_type": "stream",
     "text": [
      "3 + 5 + 8 = 16\n"
     ]
    }
   ],
   "source": [
    "# Create a function that can receive a list as its parameter and return the sum printed like this: 3 + 5 + 8 = 16\n",
    "#   Name the function: expanded_sum()\n",
    "def expanded_sum(*x):\n",
    "    \"\"\"function that takes numbers as a list to print the addition and sum\"\"\"\n",
    "    return print(x[0], \"+\", x[1], \"+\", x[2], \"=\", sum(x)) \n",
    "\n",
    "expanded_sum(3,5,8)"
   ]
  },
  {
   "cell_type": "code",
   "execution_count": 30,
   "metadata": {},
   "outputs": [
    {
     "name": "stdout",
     "output_type": "stream",
     "text": [
      "[3, 5, 8] +  9 = 25\n"
     ]
    }
   ],
   "source": [
    "my_list = [3,5,8,9]\n",
    "eq = str(my_list[0:-1]) + \" + \"\n",
    "for num in my_list:\n",
    "    if num == my_list[-1]:\n",
    "        print(eq, num, \"=\", sum(my_list))\n",
    "   \n",
    "    "
   ]
  },
  {
   "cell_type": "code",
   "execution_count": 19,
   "metadata": {},
   "outputs": [
    {
     "name": "stdout",
     "output_type": "stream",
     "text": [
      "3 + 5\n",
      "3 + 8\n",
      "3 + 4\n"
     ]
    }
   ],
   "source": [
    "my_list = [3,5,8,4]\n",
    "eq = str(my_list[0]) + \" + \"\n",
    "for num in my_list[1:]:\n",
    "    equation = str(eq)  + str(num) \n",
    "    print(equation)"
   ]
  },
  {
   "cell_type": "code",
   "execution_count": 73,
   "metadata": {},
   "outputs": [
    {
     "data": {
      "text/plain": [
       "10"
      ]
     },
     "execution_count": 73,
     "metadata": {},
     "output_type": "execute_result"
    }
   ],
   "source": [
    "my_listlen(my_list)-2"
   ]
  },
  {
   "cell_type": "code",
   "execution_count": 76,
   "metadata": {},
   "outputs": [
    {
     "data": {
      "text/plain": [
       "10"
      ]
     },
     "execution_count": 76,
     "metadata": {},
     "output_type": "execute_result"
    }
   ],
   "source": [
    "my_list[-2]"
   ]
  },
  {
   "cell_type": "code",
   "execution_count": 43,
   "metadata": {},
   "outputs": [
    {
     "data": {
      "text/plain": [
       "(2, 5)"
      ]
     },
     "execution_count": 43,
     "metadata": {},
     "output_type": "execute_result"
    }
   ],
   "source": [
    "# Create a function that takes a list as parameter and returns a list containing only the lowest and highest number (in that order)\n",
    "#   Name the function: get_high_low()\n",
    "def get_high_low(*x):\n",
    "    return min(x), max(x) \n",
    "\n",
    "get_high_low(3,5,2,5)"
   ]
  },
  {
   "cell_type": "code",
   "execution_count": 51,
   "metadata": {},
   "outputs": [
    {
     "name": "stdout",
     "output_type": "stream",
     "text": [
      "True\n"
     ]
    }
   ],
   "source": [
    "# Create a function that returns True if a list passed to it is empty.\n",
    "#   Name the function: is_list_empty()\n",
    "def is_list_empty(*x):\n",
    "    if not x:\n",
    "        print(True)\n",
    "    return \n",
    "is_list_empty()"
   ]
  },
  {
   "cell_type": "code",
   "execution_count": 58,
   "metadata": {},
   "outputs": [
    {
     "data": {
      "text/plain": [
       "True"
      ]
     },
     "execution_count": 58,
     "metadata": {},
     "output_type": "execute_result"
    }
   ],
   "source": [
    "# Create a function that takes two lists and returns True if they have at least one common member.\n",
    "#   Name the function common_member()\n",
    "def common_member(list1, list2):\n",
    "    for x in list1:\n",
    "        for y in list2:\n",
    "            if x==y:\n",
    "                check = True\n",
    "                return check\n",
    "common_member((1,3), (7,3,5))\n"
   ]
  }
 ],
 "metadata": {
  "kernelspec": {
   "display_name": "Python 3",
   "language": "python",
   "name": "python3"
  },
  "language_info": {
   "codemirror_mode": {
    "name": "ipython",
    "version": 3
   },
   "file_extension": ".py",
   "mimetype": "text/x-python",
   "name": "python",
   "nbconvert_exporter": "python",
   "pygments_lexer": "ipython3",
   "version": "3.7.6"
  }
 },
 "nbformat": 4,
 "nbformat_minor": 4
}
