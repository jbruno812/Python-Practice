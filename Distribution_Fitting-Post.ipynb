{
 "cells": [
  {
   "cell_type": "markdown",
   "metadata": {},
   "source": [
    "# Distribution Fitting\n",
    "Prepared by: Nickolas Freeman, PhD\n",
    "\n",
    "In this notebook, we will look at methods for fitting distributions to data using Python. In particular, we will look at both parametric and non-parametric distribution fitting methods. \n",
    "\n",
    "From https://en.wikipedia.org/wiki/Parametric_statistics (accessed 12/31/2018):\n",
    "> Parametric statistics is a branch of statistics which assumes that sample data comes from a population that follows a probability distribution based on a fixed set of parameters. Most well-known elementary statistical methods are parametric. Conversely a non-parametric model differs precisely in that the parameter set (or feature set in machine learning) is not fixed and can increase, or even decrease if new relevant information is collected.\n",
    ">\n",
    "> Since a parametric model relies on a fixed parameter set, it assumes more about a given population than non-parametric methods do. When the assumptions are correct, parametric methods will produce more accurate and precise estimates than non-parametric methods, i.e. have more statistical power. However, as more is assumed by parametric methods, when the assumptions are not correct they have a greater chance of failing, and for this reason are not robust statistical methods. On the other hand, parametric formulae are often simpler to write down and faster to compute. For this reason their simplicity can make up for their lack of robustness, especially if care is taken to examine diagnostic statistics.\n",
    "\n",
    "The parametric methods that we look at will attempt to estimate the parameters of a known empirical distribution from a data set. Essentially, we will define a set of known probability distributions, attempt to fit each one to a given data set, and then compare the errors associated with the various distribution fits to identify a single distribution that provides the closest approximation.\n",
    "\n",
    "The non-parametric method that we will consider is known as kernel density estimation. Kernel density estimation works by centering a fixed *kernel function* at each data point that composes a data set. An example of a *kernel function* is a Normal distribution with mean equal to the data point value and a standard deviation of 1.0. Summing the kernal functions for all values in the sample space, and then normalizing the resulting sums results in a estimate of the probability distribution function for the data. The smoothness of the kernel density estimate (KDE) is controlled by the kernel function. For example, using a Normal distribution with a standard deviation of 2.0 will result in a smoother KDE than a Normal distribution with a standard deviation of 1.0.\n",
    "\n",
    "Before discussing either approach to distribution fitting, we will first discuss the detection and removal of outliers from a data set. \n",
    "\n",
    "The following code block imports packages that we will use to demonstrate parametric distribution fitting. In partiucular, we will largely rely on the capabilities provided by the `scipy.stats` module. From https://en.wikipedia.org/wiki/SciPy (accessed 12/31/2019):\n",
    "\n",
    "> SciPy (pronounced \"Sigh Pie\") is a free and open-source Python library used for scientific computing and technical computing.\n",
    ">\n",
    ">SciPy contains modules for optimization, linear algebra, integration, interpolation, special functions, FFT, signal and image processing, ODE solvers and other tasks common in science and engineering.\n",
    ">\n",
    ">SciPy builds on the NumPy array object and is part of the NumPy stack which includes tools like Matplotlib, pandas and SymPy, and an expanding set of scientific computing libraries. This NumPy stack has similar users to other applications such as MATLAB, GNU Octave, and Scilab. The NumPy stack is also sometimes referred to as the SciPy stack.\n",
    "\n",
    "[Back to Table of Contents](#Table_of_Contents)<br>"
   ]
  },
  {
   "cell_type": "code",
   "execution_count": 1,
   "metadata": {},
   "outputs": [
    {
     "name": "stderr",
     "output_type": "stream",
     "text": [
      "In C:\\Users\\jbrun\\AppData\\Roaming\\Python\\Python37\\site-packages\\matplotlib\\mpl-data\\stylelib\\_classic_test.mplstyle: \n",
      "The text.latex.preview rcparam was deprecated in Matplotlib 3.3 and will be removed two minor releases later.\n",
      "In C:\\Users\\jbrun\\AppData\\Roaming\\Python\\Python37\\site-packages\\matplotlib\\mpl-data\\stylelib\\_classic_test.mplstyle: \n",
      "The mathtext.fallback_to_cm rcparam was deprecated in Matplotlib 3.3 and will be removed two minor releases later.\n",
      "In C:\\Users\\jbrun\\AppData\\Roaming\\Python\\Python37\\site-packages\\matplotlib\\mpl-data\\stylelib\\_classic_test.mplstyle: Support for setting the 'mathtext.fallback_to_cm' rcParam is deprecated since 3.3 and will be removed two minor releases later; use 'mathtext.fallback : 'cm' instead.\n",
      "In C:\\Users\\jbrun\\AppData\\Roaming\\Python\\Python37\\site-packages\\matplotlib\\mpl-data\\stylelib\\_classic_test.mplstyle: \n",
      "The validate_bool_maybe_none function was deprecated in Matplotlib 3.3 and will be removed two minor releases later.\n",
      "In C:\\Users\\jbrun\\AppData\\Roaming\\Python\\Python37\\site-packages\\matplotlib\\mpl-data\\stylelib\\_classic_test.mplstyle: \n",
      "The savefig.jpeg_quality rcparam was deprecated in Matplotlib 3.3 and will be removed two minor releases later.\n",
      "In C:\\Users\\jbrun\\AppData\\Roaming\\Python\\Python37\\site-packages\\matplotlib\\mpl-data\\stylelib\\_classic_test.mplstyle: \n",
      "The keymap.all_axes rcparam was deprecated in Matplotlib 3.3 and will be removed two minor releases later.\n",
      "In C:\\Users\\jbrun\\AppData\\Roaming\\Python\\Python37\\site-packages\\matplotlib\\mpl-data\\stylelib\\_classic_test.mplstyle: \n",
      "The animation.avconv_path rcparam was deprecated in Matplotlib 3.3 and will be removed two minor releases later.\n",
      "In C:\\Users\\jbrun\\AppData\\Roaming\\Python\\Python37\\site-packages\\matplotlib\\mpl-data\\stylelib\\_classic_test.mplstyle: \n",
      "The animation.avconv_args rcparam was deprecated in Matplotlib 3.3 and will be removed two minor releases later.\n"
     ]
    }
   ],
   "source": [
    "import numpy as np \n",
    "import pandas as pd\n",
    "import matplotlib.pyplot as plt\n",
    "import scipy.stats as st\n",
    "import seaborn as sns\n",
    "sns.set_style('whitegrid')\n",
    "import sklearn.neighbors as skneighbor\n",
    "from sklearn.model_selection import train_test_split\n",
    "from sklearn.model_selection import GridSearchCV"
   ]
  },
  {
   "cell_type": "markdown",
   "metadata": {},
   "source": [
    "The following code block uses `numpy` to randomly generate a 500-point data set that follows a lognormal distribution. This data is plotted as a histogram. \n",
    "\n",
    "[Back to Table of Contents](#Table_of_Contents)<br>"
   ]
  },
  {
   "cell_type": "code",
   "execution_count": 2,
   "metadata": {},
   "outputs": [
    {
     "data": {
      "image/png": "[encoded data removed]",
      "text/plain": [
       "<Figure size 864x432 with 1 Axes>"
      ]
     },
     "metadata": {
      "needs_background": "light"
     },
     "output_type": "display_data"
    }
   ],
   "source": [
    "np.random.seed(0)\n",
    "data  = np.random.lognormal(mean = 0.5, sigma = 0.5, size = 1000)\n",
    "\n",
    "fig, ax = plt.subplots(1, 1, figsize = (12, 6))\n",
    "\n",
    "ax.hist(data, edgecolor = 'k', label = 'Actual Data')\n",
    "ax.set_ylabel('Frequency', fontsize = 20)\n",
    "ax.set_xlabel('Value', fontsize = 20)\n",
    "ax.set_title('Histogram of Data',  fontsize = 20)\n",
    "\n",
    "plt.show()"
   ]
  },
  {
   "cell_type": "markdown",
   "metadata": {},
   "source": [
    "## Outlier Detection and Removal\n",
    "<a id=\"Outlier_Detection_and_Removal\"> </a>\n",
    "\n",
    "In this section, we will discuss the detection and removal of outliers from a data set. The most common approach for this purpose is the use of boxplots (see https://towardsdatascience.com/understanding-boxplots-5e2df7bcbd51 (accessed 2/27/2020) for additional discussion.\n",
    "\n",
    "> Boxplots are a standardized way of displaying the distribution of data based on a five number summary (\"minimum\", first quartile (Q1), median, third quartile (Q3), and \"maximum\"), where\n",
    "> - the median (Q2/50th Percentile) denotes the middle value of the dataset,\n",
    "> - the first quartile (Q1/25th Percentile) denotes the middle number between the smallest number (not the \"minimum\") and the median of the dataset,\n",
    "> - the third quartile (Q3/75th Percentile) denotes the middle value between the median and the highest value (not the \"maximum\") of the dataset,\n",
    "> - the interquartile range (IQR) denotes the difference between the third and first quartiles,\n",
    "> - the \"maximum\" is estimated as Q3 + 1.5(IQR), and\n",
    "> - the \"minimum\" is estimated as Q1 -1.5(IQR).\n",
    "\n",
    "Essentially, the boxlot calculations use the interquartile range (IQR) to approximate the variability associated with the data, and estimate the minimum and maximum values using multiples of the IQR. These estimations of the minimum and maximum values are not the smallest and largest values in the data. Instead, they are approximations for *reasonable* boundaries of the distribution. Any values that are less than or greater than these boundaries are flagged as outliers.\n",
    "\n",
    "<div class=\"alert alert-block alert-danger\">\n",
    "    <b>Analysts should exercise extreme care when using boxplots to identify outliers when the underlying data is skewed. In particular, traditional boxplots implicitly assume that the underlying data is symmetric. If applied to skewed data, the traditional method for detecting outliers can lead to incorrectly identifying points as outliers.  \n",
    "</div>\n",
    "    \n",
    "Given the sensitivity of the traditional approach for outlier detection to data skewness, we will employ the publised in Walker et al. (2018). In this research, the authors propose a new method for identifying outliers that is based on a statistic called Bowley’s Coefficient. Using this statistic, the authors devise a new approach for detecting outliers that is robust and better able to accommodate skewed data. The citation for the paper, which was published in *The American Statistician* is:\n",
    "\n",
    "Walker, M. L., Dovoedo, Y. H., Chakraborti, S., & Hilton, C. W. (2018). An improved boxplot for univariate data. The American Statistician, 72(4), 348-353.\n",
    "\n",
    "The following code block defines a function for handling outliers that defaults to the method described in Walker et al. (2018). However, it also allows users to force the assumption of symmetric data.\n",
    "\n",
    "[Back to Table of Contents](#Table_of_Contents)<br>"
   ]
  },
  {
   "cell_type": "code",
   "execution_count": 3,
   "metadata": {},
   "outputs": [],
   "source": [
    "def handle_outliers(data, outlier_threshold = 3.0, assume_symmetric = False, return_bool_array = False):\n",
    "    '''\n",
    "    This function removes outliers from a dataset that is structured\n",
    "    as a 1-dimensional numpy array, pandas seriers, or list. In contrast\n",
    "    to using traditional boxplots, the defualt for this function is based on \n",
    "    the outlier detection method described in Walker et al. (2018). A citation for\n",
    "    the paper follows. In contrast to more traditional methods, this approach\n",
    "    does not assume that the data is symmetric. If a user wants to force the\n",
    "    assumption of symmetry, they may do so using the optional assume_symmetric\n",
    "    argument. By default, the function returns a list that conatins the data\n",
    "    with outliers removed. If the user wants to inspect the data points flagged\n",
    "    as outliers, the return_bool_array argument may be specified to return a list\n",
    "    of boolean values with True indicating that a point is NOT an outlier and\n",
    "    False indicating that a point IS an outlier.\n",
    "    \n",
    "    The citation for the boxplot method employed for non-symmetric data is:\n",
    "    Walker, M. L., Dovoedo, Y. H., Chakraborti, S., & Hilton, C. W. (2018). \n",
    "    An improved boxplot for univariate data. \n",
    "    The American Statistician, 72(4), 348-353.\n",
    "    \n",
    "    Arguments:\n",
    "    data: a 1-dimensional numpy array, pandas series, or python list that \n",
    "    includes the data\n",
    "    \n",
    "    assume_symmetric: True or False to indicate whether or not the assumption\n",
    "    of symmetrically distributed data should be enforced (default = False)\n",
    "    \n",
    "    return_bool_array: True or False to indicate whether or not to return a\n",
    "    list of values with the outliers removed (False) or a list of boolean\n",
    "    values where True indicates that a point is NOT an outlier and\n",
    "    False indicates that a point IS an outlier\n",
    "    \n",
    "    Returns:\n",
    "    By default, the function returns a list that conatins the data\n",
    "    with outliers removed. If the user wants to inspect the data points flagged\n",
    "    as outliers, the return_bool_array argument may be specified to return a list\n",
    "    of boolean values with True indicating that a point is NOT an outlier and\n",
    "    False indicating that a point IS an outlier.\n",
    "             \n",
    "    '''\n",
    "    import numpy as np\n",
    "    \n",
    "    # Convert data to a numpy array\n",
    "    data = np.array(data)     \n",
    "        \n",
    "    # calculate the 25th, 50th, and 75th percentiles    \n",
    "    q1, q2, q3 = np.nanpercentile(data, [25, 50, 75])\n",
    "    \n",
    "    # calculate the interquartile range\n",
    "    IQR = q3 - q1\n",
    "    \n",
    "    # if user wants to force the assumption that\n",
    "    # data is symmetric\n",
    "    if assume_symmetric:\n",
    "        \n",
    "        # set ratios for lower and upper fences to 1\n",
    "        RL = 1\n",
    "        RU = 1\n",
    "        \n",
    "    # if user wants to use non-symmetric method\n",
    "    else:    \n",
    "        # Calculate Bowley’s Coefficient\n",
    "        BC = (q3 + q1 - 2*q2)/(q3-q1)\n",
    "\n",
    "        # Calculate ratio for lower fence\n",
    "        RL = (1 - BC)/(1 + BC)\n",
    "        \n",
    "        # Calculate ratio for upper fence\n",
    "        RU = (1 + BC)/(1 - BC)\n",
    "\n",
    "    # compute upper and lower fences\n",
    "    FL = q1 - outlier_threshold*IQR*RL\n",
    "    FU = q3 + outlier_threshold*IQR*RU\n",
    "        \n",
    "    # Calculate values between lower and upper fences\n",
    "    mask = np.logical_not((data >= FU) | (data <= FL))\n",
    "    \n",
    "    # if return_bool_array is True\n",
    "    if return_bool_array:\n",
    "        # return mask as a list\n",
    "        return mask.tolist()\n",
    "    \n",
    "    else: \n",
    "        # return list of values with outliers removed\n",
    "        return data[np.logical_not((data > FU) | (data < FL))].tolist()  "
   ]
  },
  {
   "cell_type": "markdown",
   "metadata": {},
   "source": [
    "The following code block constructs a histogram that shows the original data along with the copies of the data that have outliers removed.\n",
    "\n",
    "[Back to Table of Contents](#Table_of_Contents)<br>"
   ]
  },
  {
   "cell_type": "code",
   "execution_count": 4,
   "metadata": {},
   "outputs": [
    {
     "data": {
      "application/vnd.jupyter.widget-view+json": {
       "model_id": "822358d8f6cf4f0ca3b3609aca6bae00",
       "version_major": 2,
       "version_minor": 0
      },
      "text/plain": [
       "interactive(children=(Dropdown(description='view', options=('Data', 'Walker et al. (2018) Method', 'Traditiona…"
      ]
     },
     "metadata": {},
     "output_type": "display_data"
    }
   ],
   "source": [
    "from ipywidgets import interact\n",
    "@interact(view = ['Data', 'Walker et al. (2018) Method', 'Traditional'])\n",
    "\n",
    "def interactive_plot(view = 'Data'):\n",
    "    \n",
    "    view_dict = {'Data': data, \n",
    "                 'Walker et al. (2018) Method': handle_outliers(data), \n",
    "                 'Traditional': handle_outliers(data, assume_symmetric = True)}\n",
    "\n",
    "    fig, ax = plt.subplots(1, 1, figsize = (12, 6))\n",
    "    \n",
    "    ax.hist(view_dict[view], \n",
    "            bins = np.arange(0, 7, 0.25),\n",
    "            density = True,\n",
    "            edgecolor = 'k', \n",
    "            color = 'g')\n",
    "    ax.set_xlabel('Value', fontsize = 15)\n",
    "    ax.set_ylabel('Frequency', fontsize = 15)\n",
    "    ax.set_title(f'Histogram for {view}', fontsize = 15)\n",
    "    ax.set_xlim([0, data.max()+1])\n",
    "\n",
    "    plt.show()"
   ]
  },
  {
   "cell_type": "code",
   "execution_count": 5,
   "metadata": {},
   "outputs": [],
   "source": [
    "def plot_sample_vs_data(data_array, sample_array, bin_width = 0.25):\n",
    "    fig, ax = plt.subplots(1, 1, figsize = (12, 6))\n",
    "\n",
    "    ax.hist(data_array, \n",
    "            density = True, \n",
    "            bins = np.arange(0, data_array.max(), bin_width), \n",
    "            edgecolor = 'k', \n",
    "            color = 'b', \n",
    "            label = 'Original Data')\n",
    "    ax.hist(sample_array, \n",
    "            density = True, \n",
    "            bins = np.arange(0, data_array.max(), bin_width), \n",
    "            alpha = 0.7, \n",
    "            edgecolor = 'k', \n",
    "            color = 'g', \n",
    "            label = 'Sampled Data')\n",
    "    ax.set_xlabel('Value', fontsize = 15)\n",
    "    ax.set_ylabel('Frequency', fontsize = 15)\n",
    "    ax.legend()\n",
    "    ax.set_title('Histogram of Data', fontsize = 15)\n",
    "\n",
    "    plt.show()"
   ]
  },
  {
   "cell_type": "markdown",
   "metadata": {},
   "source": [
    "## Parametric Distribution Fitting\n",
    "<a id=\"Parametric_Distribution_Fitting\"> </a>\n",
    "\n",
    "This section looks at how we can use the `scipy` library to for parametric distribution fitting. As stated earlier, parametric statistical techniques assume that a sample of data belongs to a larger population that follows a probability distribution that is based on a fixed set of parameters, e.g., a normal distribution with mean $\\mu$ and standard deviation $\\sigma$. Our approach to fitting distributions will be as follows:\n",
    "\n",
    "1. Construct a histogram of the data,\n",
    "2. Use the bin edges of the histogram to compute the midpoints of the bins,\n",
    "3. Fit known probability distributions to the previously computed midpoints,\n",
    "4. Calculate the sum-of-squares error between the fit from step 3 and the actal data,\n",
    "5. Select a distibrution for use based on the computed errors.\n",
    "\n",
    "[Back to Table of Contents](#Table_of_Contents)<br>"
   ]
  },
  {
   "cell_type": "markdown",
   "metadata": {},
   "source": [
    "The following code block shows how we can use the `scipy.stats` module, which we imported under the alias `st`, to fit a lognormal distribution to our data and generate 1000 random numbers from the fit distribution."
   ]
  },
  {
   "cell_type": "code",
   "execution_count": 6,
   "metadata": {},
   "outputs": [],
   "source": [
    "my_args = st.lognorm.fit(data)\n",
    "my_dist = st.lognorm(*my_args)\n",
    "my_sample = my_dist.rvs(1000)"
   ]
  },
  {
   "cell_type": "markdown",
   "metadata": {},
   "source": [
    "The following plot confirms the quality of the fit."
   ]
  },
  {
   "cell_type": "code",
   "execution_count": 7,
   "metadata": {},
   "outputs": [
    {
     "data": {
      "image/png": "[encoded data removed]",
      "text/plain": [
       "<Figure size 864x432 with 1 Axes>"
      ]
     },
     "metadata": {
      "needs_background": "light"
     },
     "output_type": "display_data"
    }
   ],
   "source": [
    "plot_sample_vs_data(data, my_sample)"
   ]
  },
  {
   "cell_type": "markdown",
   "metadata": {},
   "source": [
    "The following code block shows how we can compute a sum-of-squares error (SSE) estimate for the fitted lognormal distribution."
   ]
  },
  {
   "cell_type": "code",
   "execution_count": 8,
   "metadata": {},
   "outputs": [
    {
     "data": {
      "text/plain": [
       "0.020957937108664303"
      ]
     },
     "execution_count": 8,
     "metadata": {},
     "output_type": "execute_result"
    }
   ],
   "source": [
    "y, x = np.histogram(data, bins = 'auto', density = True)\n",
    "x_vals = ((x + np.roll(x, shift = -1))/2.0)[:-1]\n",
    "y_hat = my_dist.pdf(x_vals)\n",
    "np.sum((y_hat - y)**2)"
   ]
  },
  {
   "cell_type": "markdown",
   "metadata": {},
   "source": [
    "Compare this to the SSE for a normal distribution fit."
   ]
  },
  {
   "cell_type": "code",
   "execution_count": 9,
   "metadata": {},
   "outputs": [
    {
     "data": {
      "text/plain": [
       "0.24602909825364144"
      ]
     },
     "execution_count": 9,
     "metadata": {},
     "output_type": "execute_result"
    }
   ],
   "source": [
    "current_distribution = st.norm\n",
    "my_args = current_distribution.fit(data)\n",
    "my_dist = current_distribution(*my_args)\n",
    "\n",
    "y, x = np.histogram(data, bins = 'auto', density = True)\n",
    "x_vals = ((x + np.roll(x, shift = -1))/2.0)[:-1]\n",
    "\n",
    "y_hat = my_dist.pdf(x_vals)\n",
    "np.sum((y_hat - y)**2)"
   ]
  },
  {
   "cell_type": "markdown",
   "metadata": {},
   "source": [
    "The following code block shows how we can access a list containing names and default parameters for the continuous distributions available from `scipy.stats`."
   ]
  },
  {
   "cell_type": "code",
   "execution_count": 10,
   "metadata": {},
   "outputs": [
    {
     "name": "stdout",
     "output_type": "stream",
     "text": [
      "<scipy.stats._continuous_distns.alpha_gen object at 0x000001F5290F2748>\n",
      "<scipy.stats._continuous_distns.anglit_gen object at 0x000001F5290F2B08>\n",
      "<scipy.stats._continuous_distns.arcsine_gen object at 0x000001F5290F2F48>\n",
      "<scipy.stats._continuous_distns.argus_gen object at 0x000001F5291D4288>\n",
      "<scipy.stats._continuous_distns.beta_gen object at 0x000001F5290F37C8>\n",
      "<scipy.stats._continuous_distns.betaprime_gen object at 0x000001F5290F3A48>\n",
      "<scipy.stats._continuous_distns.bradford_gen object at 0x000001F5290F3FC8>\n",
      "<scipy.stats._continuous_distns.burr_gen object at 0x000001F5290FF4C8>\n",
      "<scipy.stats._continuous_distns.burr12_gen object at 0x000001F5290FFA08>\n",
      "<scipy.stats._continuous_distns.cauchy_gen object at 0x000001F5291083C8>\n",
      "<scipy.stats._continuous_distns.chi_gen object at 0x000001F529108808>\n",
      "<scipy.stats._continuous_distns.chi2_gen object at 0x000001F529108E48>\n",
      "<scipy.stats._continuous_distns.cosine_gen object at 0x000001F529113388>\n",
      "<scipy.stats._continuous_distns.crystalball_gen object at 0x000001F5291CCAC8>\n",
      "<scipy.stats._continuous_distns.dgamma_gen object at 0x000001F529113588>\n",
      "<scipy.stats._continuous_distns.dweibull_gen object at 0x000001F529113D48>\n",
      "<scipy.stats._continuous_distns.erlang_gen object at 0x000001F52911FE48>\n",
      "<scipy.stats._continuous_distns.expon_gen object at 0x000001F5291172C8>\n",
      "<scipy.stats._continuous_distns.exponnorm_gen object at 0x000001F529117788>\n",
      "<scipy.stats._continuous_distns.exponpow_gen object at 0x000001F529120148>\n",
      "<scipy.stats._continuous_distns.exponweib_gen object at 0x000001F527ED6488>\n",
      "<scipy.stats._continuous_distns.f_gen object at 0x000001F529120DC8>\n",
      "<scipy.stats._continuous_distns.fatiguelife_gen object at 0x000001F529120388>\n",
      "<scipy.stats._continuous_distns.fisk_gen object at 0x000001F5290FFFC8>\n",
      "<scipy.stats._continuous_distns.foldcauchy_gen object at 0x000001F5291208C8>\n",
      "<scipy.stats._continuous_distns.foldnorm_gen object at 0x000001F52911B4C8>\n",
      "<scipy.stats._continuous_distns.gamma_gen object at 0x000001F52911F908>\n",
      "<scipy.stats._continuous_distns.gausshyper_gen object at 0x000001F529142108>\n",
      "<scipy.stats._continuous_distns.genexpon_gen object at 0x000001F529129BC8>\n",
      "<scipy.stats._continuous_distns.genextreme_gen object at 0x000001F52911F3C8>\n",
      "<scipy.stats._continuous_distns.gengamma_gen object at 0x000001F515920C48>\n",
      "<scipy.stats._continuous_distns.gengamma_gen object at 0x000001F515920C48>\n",
      "<scipy.stats._continuous_distns.genhalflogistic_gen object at 0x000001F52913C8C8>\n",
      "<scipy.stats._continuous_distns.geninvgauss_gen object at 0x000001F529150148>\n",
      "<scipy.stats._continuous_distns.genlogistic_gen object at 0x000001F529129388>\n",
      "<scipy.stats._continuous_distns.gennorm_gen object at 0x000001F5291CC2C8>\n",
      "<scipy.stats._continuous_distns.halfgennorm_gen object at 0x000001F5291CC708>\n",
      "<scipy.stats._continuous_distns.genpareto_gen object at 0x000001F5291297C8>\n",
      "<scipy.stats._continuous_distns.gilbrat_gen object at 0x000001F52916C848>\n",
      "<scipy.stats._continuous_distns.gompertz_gen object at 0x000001F52913CDC8>\n",
      "<scipy.stats._continuous_distns.gumbel_l_gen object at 0x000001F529140688>\n",
      "<scipy.stats._continuous_distns.gumbel_r_gen object at 0x000001F529140248>\n",
      "<scipy.stats._continuous_distns.halfcauchy_gen object at 0x000001F529140C48>\n",
      "<scipy.stats._continuous_distns.halflogistic_gen object at 0x000001F529144188>\n",
      "<scipy.stats._continuous_distns.halfnorm_gen object at 0x000001F529144648>\n",
      "<scipy.stats._continuous_distns.hypsecant_gen object at 0x000001F529144B48>\n",
      "<scipy.stats._continuous_distns.invgamma_gen object at 0x000001F529142748>\n",
      "<scipy.stats._continuous_distns.invgauss_gen object at 0x000001F529142B08>\n",
      "<scipy.stats._continuous_distns.invweibull_gen object at 0x000001F529150C08>\n",
      "<scipy.stats._continuous_distns.johnsonsb_gen object at 0x000001F5165B7F88>\n",
      "<scipy.stats._continuous_distns.johnsonsu_gen object at 0x000001F52915E648>\n",
      "<scipy.stats._continuous_distns.kappa4_gen object at 0x000001F529178988>\n",
      "<scipy.stats._continuous_distns.kappa4_gen object at 0x000001F529178988>\n",
      "<scipy.stats._continuous_distns.kappa4_gen object at 0x000001F529178988>\n",
      "<scipy.stats._continuous_distns.kappa4_gen object at 0x000001F529178988>\n",
      "<scipy.stats._continuous_distns.kappa3_gen object at 0x000001F529178F88>\n",
      "<scipy.stats._continuous_distns.ksone_gen object at 0x000001F528432588>\n",
      "<scipy.stats._continuous_distns.kstwo_gen object at 0x000001F5290E9D48>\n",
      "<scipy.stats._continuous_distns.kstwobign_gen object at 0x000001F5290F20C8>\n",
      "<scipy.stats._continuous_distns.laplace_gen object at 0x000001F52915EC08>\n",
      "<scipy.stats._continuous_distns.laplace_asymmetric_gen object at 0x000001F529162108>\n",
      "<scipy.stats._continuous_distns.levy_gen object at 0x000001F529162608>\n",
      "<scipy.stats._continuous_distns.levy_l_gen object at 0x000001F529162848>\n",
      "<scipy.stats._continuous_distns.levy_stable_gen object at 0x000001F52916D088>\n",
      "<scipy.stats._continuous_distns.loggamma_gen object at 0x000001F52916DB08>\n",
      "<scipy.stats._continuous_distns.logistic_gen object at 0x000001F52916D748>\n",
      "<scipy.stats._continuous_distns.loglaplace_gen object at 0x000001F52916C148>\n",
      "<scipy.stats._continuous_distns.lognorm_gen object at 0x000001F52916C488>\n",
      "<scipy.stats._continuous_distns.reciprocal_gen object at 0x000001F5291A2988>\n",
      "<scipy.stats._continuous_distns.lomax_gen object at 0x000001F529192848>\n",
      "<scipy.stats._continuous_distns.maxwell_gen object at 0x000001F52916CF08>\n",
      "<scipy.stats._continuous_distns.mielke_gen object at 0x000001F5291783C8>\n",
      "<scipy.stats._continuous_distns.moyal_gen object at 0x000001F529181208>\n",
      "<scipy.stats._continuous_distns.nakagami_gen object at 0x000001F529181848>\n",
      "<scipy.stats._continuous_distns.ncf_gen object at 0x000001F529187408>\n",
      "<scipy.stats._continuous_distns.nct_gen object at 0x000001F529187EC8>\n",
      "<scipy.stats._continuous_distns.ncx2_gen object at 0x000001F529181E48>\n",
      "<scipy.stats._continuous_distns.norm_gen object at 0x000001F5290F2248>\n",
      "<scipy.stats._continuous_distns.norminvgauss_gen object at 0x000001F529150688>\n",
      "<scipy.stats._continuous_distns.pareto_gen object at 0x000001F529192488>\n",
      "<scipy.stats._continuous_distns.pearson3_gen object at 0x000001F529192D88>\n",
      "<scipy.stats._continuous_distns.powerlaw_gen object at 0x000001F52919C388>\n",
      "<scipy.stats._continuous_distns.powerlognorm_gen object at 0x000001F52919C848>\n",
      "<scipy.stats._continuous_distns.powernorm_gen object at 0x000001F52919CA48>\n",
      "<scipy.stats._continuous_distns.rayleigh_gen object at 0x000001F5291A24C8>\n",
      "<scipy.stats._continuous_distns.rdist_gen object at 0x000001F5291A2188>\n",
      "<scipy.stats._continuous_distns.recipinvgauss_gen object at 0x000001F5291AC948>\n",
      "<scipy.stats._continuous_distns.reciprocal_gen object at 0x000001F5291AC188>\n",
      "<scipy.stats._continuous_distns.rice_gen object at 0x000001F5291AC688>\n",
      "<scipy.stats._continuous_distns.semicircular_gen object at 0x000001F5291AB088>\n",
      "<scipy.stats._continuous_distns.skew_norm_gen object at 0x000001F5291AB288>\n",
      "<scipy.stats._continuous_distns.t_gen object at 0x000001F5291879C8>\n",
      "<scipy.stats._continuous_distns.trapezoid_gen object at 0x000001F5291ABA48>\n",
      "<scipy.stats._continuous_distns.triang_gen object at 0x000001F5291B3548>\n",
      "<scipy.stats._continuous_distns.truncexpon_gen object at 0x000001F5291B3948>\n",
      "<scipy.stats._continuous_distns.truncnorm_gen object at 0x000001F5291B3D48>\n",
      "<scipy.stats._continuous_distns.truncnorm_gen object at 0x000001F5291B3D48>\n",
      "<scipy.stats._continuous_distns.tukeylambda_gen object at 0x000001F5291B94C8>\n",
      "<scipy.stats._continuous_distns.uniform_gen object at 0x000001F5291B9988>\n",
      "<scipy.stats._continuous_distns.vonmises_gen object at 0x000001F5291B9CC8>\n",
      "<scipy.stats._continuous_distns.vonmises_gen object at 0x000001F5291C4448>\n",
      "<scipy.stats._continuous_distns.wald_gen object at 0x000001F5291C4748>\n",
      "<scipy.stats._continuous_distns.weibull_max_gen object at 0x000001F52911BD88>\n",
      "<scipy.stats._continuous_distns.weibull_min_gen object at 0x000001F52911B708>\n",
      "<scipy.stats._continuous_distns.wrapcauchy_gen object at 0x000001F5291C4B88>\n"
     ]
    }
   ],
   "source": [
    "for current_distribution, defaults in st._distr_params.distcont:\n",
    "    mydist = eval(f'st.{current_distribution}')\n",
    "    print(mydist)"
   ]
  },
  {
   "cell_type": "code",
   "execution_count": 11,
   "metadata": {},
   "outputs": [
    {
     "data": {
      "text/plain": [
       "<scipy.stats._continuous_distns.wrapcauchy_gen at 0x1f5291c4b88>"
      ]
     },
     "execution_count": 11,
     "metadata": {},
     "output_type": "execute_result"
    }
   ],
   "source": [
    "mydist"
   ]
  },
  {
   "cell_type": "markdown",
   "metadata": {},
   "source": [
    "## Non-Parametric Distribution Fitting\n",
    "<a id=\"nonParametric_Distribution_Fitting\"> </a>\n",
    "\n",
    "We will now look at a non-parametric technique for approximating a a probability density function for a finite set of sample data that is known as kernel density estimation. As mentioned earlier, kernel density estimation works by centering a fixed *kernel function* at each data point that composes a data set. Summing the kernal functions for all values in the sample space, and then normalizing the resulting sums results in a estimate of the probability distribution function for the data. The smoothness of the kernel density estimate (KDE) is controlled by the kernel function.\n",
    "\n",
    "We will demonstrate kernel density estimation using another set of randomly generated data that is multi-modal, i.e., it has multiple peaks. The following code block generates and plots the data set.\n",
    "\n",
    "[Back to Table of Contents](#Table_of_Contents)<br>"
   ]
  },
  {
   "cell_type": "code",
   "execution_count": 12,
   "metadata": {},
   "outputs": [
    {
     "data": {
      "image/png": "[encoded data removed]",
      "text/plain": [
       "<Figure size 864x432 with 1 Axes>"
      ]
     },
     "metadata": {
      "needs_background": "light"
     },
     "output_type": "display_data"
    }
   ],
   "source": [
    "np.random.seed(0)\n",
    "data = np.random.normal(loc = 10, scale = 3, size = 300)\n",
    "data = np.append(data, np.random.normal(loc = 20, scale = 1, size = 50))\n",
    "np.random.shuffle(data)\n",
    "\n",
    "fig, ax = plt.subplots(1, 1, figsize = (12, 6))\n",
    "\n",
    "ax.hist(data, \n",
    "        edgecolor = 'k',\n",
    "        bins = np.arange(np.floor(data.min()), np.ceil(data.max()), 1),\n",
    "        label = 'Actual Data')\n",
    "ax.set_ylabel('Frequency', fontsize = 20)\n",
    "ax.set_xlabel('Value', fontsize = 20)\n",
    "ax.set_title('Histogram of Data',  fontsize = 20)\n",
    "\n",
    "plt.show()"
   ]
  },
  {
   "cell_type": "markdown",
   "metadata": {},
   "source": [
    "Before continuing, we define a convenience function that we will use throughout the remainder of this notebook. The function finds the minimum and maximum difference between any two consecutive values in a data set.\n",
    "\n",
    "[Back to Table of Contents](#Table_of_Contents)<br>"
   ]
  },
  {
   "cell_type": "code",
   "execution_count": 13,
   "metadata": {},
   "outputs": [],
   "source": [
    "def find_min_max_diff(data):\n",
    "    '''\n",
    "    This function finds the minimum and maximum difference between any\n",
    "    two consecutive values in a data set\n",
    "    \n",
    "    Arguments\n",
    "    data:\n",
    "        a 1-dimensional list or Numpy array that includes the data\n",
    "        \n",
    "    Returns\n",
    "    min_val, max_val: \n",
    "        a tuple specifiying the minimum and maximum difference between any\n",
    "        two consecutive values in a data set\n",
    "    \n",
    "    '''\n",
    "    \n",
    "    import numpy as np\n",
    "    \n",
    "    data = np.array(data)\n",
    "    \n",
    "    data_copy = data.copy()\n",
    "    data_copy = np.unique(data_copy)\n",
    "    data_copy.sort()\n",
    "    min_val = np.min(np.roll(data_copy, -1)[:-1] - data_copy[:-1])\n",
    "    max_val =  np.max(np.roll(data_copy, -1)[:-1] - data_copy[:-1])\n",
    "    \n",
    "    return min_val, max_val "
   ]
  },
  {
   "cell_type": "markdown",
   "metadata": {},
   "source": [
    "The following code block demonstrates the use of the previously defined function.\n",
    "\n",
    "[Back to Table of Contents](#Table_of_Contents)<br>"
   ]
  },
  {
   "cell_type": "code",
   "execution_count": 14,
   "metadata": {},
   "outputs": [
    {
     "data": {
      "text/plain": [
       "(2.910829806523907e-06, 0.9887599908289557)"
      ]
     },
     "execution_count": 14,
     "metadata": {},
     "output_type": "execute_result"
    }
   ],
   "source": [
    "find_min_max_diff(data)"
   ]
  },
  {
   "cell_type": "markdown",
   "metadata": {},
   "source": [
    "To motivate the intuition behind kernel density estimation, let's recall how histograms summarize a dataset. In particular, note how the number of bins we use affects our perception of the distribution for the underlying data. When a smaller number of wide bins are used, we obtain a *smoother* approximation for the distribution than we do if we use a use a larger number of narrower bins. This is demonstrated in the following code block that allows a user to vary the number of bins used to construct a histogram for the data.\n",
    "\n",
    "[Back to Table of Contents](#Table_of_Contents)<br>"
   ]
  },
  {
   "cell_type": "code",
   "execution_count": 15,
   "metadata": {},
   "outputs": [
    {
     "data": {
      "application/vnd.jupyter.widget-view+json": {
       "model_id": "b9c37d13c1fb416c9d2171fe32a7c5b0",
       "version_major": 2,
       "version_minor": 0
      },
      "text/plain": [
       "interactive(children=(Dropdown(description='bins', options=(1, 2, 3, 5, 10, 15, 20, 30, 40, 50, 100, 200, 350)…"
      ]
     },
     "metadata": {},
     "output_type": "display_data"
    }
   ],
   "source": [
    "from ipywidgets import interact\n",
    "@interact(bins=[1, 2, 3, 5, 10, 15, 20, 30, 40, 50, 100, 200, len(data)])\n",
    "\n",
    "def interactive_plot(bins=1):\n",
    "    fig, ax = plt.subplots(1, 1, figsize = (12, 6))\n",
    "\n",
    "    ax.hist(data,  \n",
    "            bins = bins, \n",
    "            edgecolor = 'k', \n",
    "            label = \"Original Data\")\n",
    "    ax.set_xlabel('Value', fontsize = 15)\n",
    "    ax.set_ylabel('Frequency', fontsize = 15)\n",
    "    ax.legend()\n",
    "    ax.set_title('Histogram of Data', fontsize = 15)\n",
    "\n",
    "    plt.show()"
   ]
  },
  {
   "cell_type": "markdown",
   "metadata": {},
   "source": [
    "Instead of dividng the range of possible values into bins, suppose that we were to center a *Normal* (or *Gaussian*) distribution on each one of the data points in our sample, each with a standard deviation equal to 1.00. The following code block shows what would happen as we vary the number of points that we plot such curves on.\n",
    "\n",
    "[Back to Table of Contents](#Table_of_Contents)<br>"
   ]
  },
  {
   "cell_type": "code",
   "execution_count": 16,
   "metadata": {},
   "outputs": [
    {
     "data": {
      "application/vnd.jupyter.widget-view+json": {
       "model_id": "ff946eac6bf64450a381d34f8bb992d8",
       "version_major": 2,
       "version_minor": 0
      },
      "text/plain": [
       "interactive(children=(Dropdown(description='points', options=(1, 2, 3, 5, 10, 20, 30, 100, 350), value=1), Out…"
      ]
     },
     "metadata": {},
     "output_type": "display_data"
    }
   ],
   "source": [
    "@interact(points=[1, 2, 3, 5, 10, 20, 30, 100, len(data)])\n",
    "\n",
    "def interactive_plot(points=1):\n",
    "\n",
    "    X_plot = np.linspace(np.floor(np.min(data))*0.75, \n",
    "                         np.ceil(np.max(data))*1.1, \n",
    "                         20*int(np.ceil(np.max(data)))).reshape(-1,1)\n",
    "\n",
    "    fig, ax = plt.subplots(1, 1, figsize=(12,6))\n",
    "\n",
    "    samples = []\n",
    "    sigma = 1.0\n",
    "    for i in range(points):\n",
    "        mu = data[i]\n",
    "        new_sample = 1/(sigma * np.sqrt(2 * np.pi)) * np.exp( - (X_plot - mu)**2 / (2 * sigma**2) )\n",
    "        ax.plot(X_plot, new_sample)\n",
    "        ax.set_xlabel(\"Value\",fontsize = 16)\n",
    "        ax.xaxis.set_tick_params(labelsize=16)\n",
    "        ax.yaxis.set_tick_params(labelsize=16)\n",
    "        ax.set_title(f'{points} Point(s) Shown',fontsize = 20)\n",
    "\n",
    "    plt.show()"
   ]
  },
  {
   "cell_type": "markdown",
   "metadata": {},
   "source": [
    "Now, instead of just plotting the individual distributions, what if we summed up the height of distributions overlapping for each value within the range of values.\n",
    "\n",
    "[Back to Table of Contents](#Table_of_Contents)<br>"
   ]
  },
  {
   "cell_type": "code",
   "execution_count": 17,
   "metadata": {},
   "outputs": [
    {
     "data": {
      "application/vnd.jupyter.widget-view+json": {
       "model_id": "72c5a2f6ae93465c968a0bcc95e2f953",
       "version_major": 2,
       "version_minor": 0
      },
      "text/plain": [
       "interactive(children=(Dropdown(description='points', options=(1, 2, 3, 5, 10, 20, 30, 100, 350), value=1), Out…"
      ]
     },
     "metadata": {},
     "output_type": "display_data"
    }
   ],
   "source": [
    "@interact(points=[1, 2, 3, 5, 10, 20, 30, 100, len(data)])\n",
    "\n",
    "def interactive_plot(points=1):\n",
    "\n",
    "    X_plot = np.linspace(np.floor(np.min(data))*0.75, \n",
    "                         np.ceil(np.max(data))*1.1, \n",
    "                         20*int(np.ceil(np.max(data)))).reshape(-1,1)\n",
    "\n",
    "    fig, ax = plt.subplots(1, 1, figsize=(12,6))\n",
    "\n",
    "    samples = []\n",
    "    sigma = 1.0\n",
    "    for i in range(points):\n",
    "        mu = data[i]\n",
    "        new_sample = 1/(sigma * np.sqrt(2 * np.pi)) * np.exp( - (X_plot - mu)**2 / (2 * sigma**2) )\n",
    "        samples.append(new_sample)\n",
    "        ax.plot(X_plot, new_sample, linestyle='--', color='b')\n",
    "        ax.set_xlabel(\"Value\",fontsize = 16)\n",
    "        ax.xaxis.set_tick_params(labelsize=16)\n",
    "        ax.yaxis.set_tick_params(labelsize=16)\n",
    "        ax.set_title(f'{points} Point(s) Shown',fontsize = 20)\n",
    "    \n",
    "    samples = np.array(samples)\n",
    "    samples = samples.sum(axis = 0)\n",
    "    ax.plot(X_plot, samples, color = 'k', linewidth=4)\n",
    "\n",
    "    plt.show()"
   ]
  },
  {
   "cell_type": "markdown",
   "metadata": {},
   "source": [
    "If we normalize this sum, we obtain an approximation for the relative frequency of the underlying data.\n",
    "\n",
    "The following code block computes and plots the resulting approximation, which is a kernel density estimate (KDE) for the data that is based on a *gaussian* kernel with a *bandwidth* of 1.0. \n",
    "\n",
    "[Back to Table of Contents](#Table_of_Contents)<br>"
   ]
  },
  {
   "cell_type": "code",
   "execution_count": 18,
   "metadata": {},
   "outputs": [
    {
     "data": {
      "image/png": "[encoded data removed]",
      "text/plain": [
       "<Figure size 864x432 with 1 Axes>"
      ]
     },
     "metadata": {
      "needs_background": "light"
     },
     "output_type": "display_data"
    }
   ],
   "source": [
    "X_plot = np.linspace(np.floor(np.min(data)), \n",
    "                     np.ceil(np.max(data)), \n",
    "                     20*int(np.ceil(np.max(data)))).reshape(-1,1)\n",
    "\n",
    "samples = []\n",
    "sigma = 1.0\n",
    "for i in range(len(data)):\n",
    "    mu = data[i]\n",
    "    new_sample = 1/(sigma * np.sqrt(2 * np.pi)) * np.exp( - (X_plot - mu)**2 / (2 * sigma**2) )\n",
    "    samples.append(new_sample)\n",
    "    \n",
    "samples = np.array(samples)\n",
    "samples = samples.sum(axis = 0)\n",
    "samples = samples/samples.sum()\n",
    "\n",
    "\n",
    "fig, ax = plt.subplots(1, 1, figsize=(12, 6))\n",
    "ax.plot(X_plot, samples)\n",
    "ax.set_xlabel('Value',fontsize = 16)\n",
    "ax.set_ylabel('Relative Frequency',fontsize = 16)\n",
    "ax.set_title(f'Gaussian KDE with Bandwidth = {sigma}', fontsize = 20)\n",
    "ax.xaxis.set_tick_params(labelsize=16)\n",
    "ax.yaxis.set_tick_params(labelsize=16)\n",
    "plt.show()"
   ]
  },
  {
   "cell_type": "markdown",
   "metadata": {},
   "source": [
    "Although the previous approximation bears some resemblance to our original data, it is clearly undersmoothed. The following code block shows how we can increase the smoothing by changing the standard deviation for the underlying gaussian curves that we plot at each data point. This is referred to as varying the *bandwidth* for the KDE.\n",
    "\n",
    "[Back to Table of Contents](#Table_of_Contents)<br>"
   ]
  },
  {
   "cell_type": "code",
   "execution_count": 19,
   "metadata": {},
   "outputs": [
    {
     "data": {
      "application/vnd.jupyter.widget-view+json": {
       "model_id": "b8b319abe9e04597a3364daf9134b7c0",
       "version_major": 2,
       "version_minor": 0
      },
      "text/plain": [
       "interactive(children=(Dropdown(description='bandwidth', options=(0.1, 0.25, 0.5, 0.75, 1.0, 2.0, 3.0, 5.0, 10.…"
      ]
     },
     "metadata": {},
     "output_type": "display_data"
    }
   ],
   "source": [
    "@interact(bandwidth=[0.1, 0.25, 0.5, 0.75, 1.00, 2.0, 3.0, 5.0, 10.0, 20.0, 100.0])\n",
    "\n",
    "def interactive_plot(bandwidth = 0.1):\n",
    "\n",
    "    X_plot = np.linspace(np.floor(np.min(data))*0.75, np.ceil(np.max(data))*1.1, 20*int(np.ceil(np.max(data)))).reshape(-1,1)\n",
    "\n",
    "    samples = []\n",
    "    sigma = bandwidth\n",
    "    for i in range(len(data)):\n",
    "        mu = data[i]\n",
    "        new_sample = 1/(sigma * np.sqrt(2 * np.pi)) * np.exp( - (X_plot - mu)**2 / (2 * sigma**2) )\n",
    "        samples.append(new_sample)\n",
    "\n",
    "    samples = np.array(samples)\n",
    "    samples = samples.sum(axis = 0)\n",
    "    samples = samples/samples.sum()\n",
    "\n",
    "\n",
    "    fig, ax = plt.subplots(1, 1, figsize=(12, 6))\n",
    "    ax.plot(X_plot, samples)\n",
    "    ax.set_xlabel('Value',fontsize = 16)\n",
    "    ax.set_ylabel('Relative Frequency',fontsize = 16)\n",
    "    ax.set_title(f'Gaussian KDE with Bandwidth = {sigma}', fontsize = 20)\n",
    "    ax.xaxis.set_tick_params(labelsize=16)\n",
    "    ax.yaxis.set_tick_params(labelsize=16)\n",
    "    plt.show()"
   ]
  },
  {
   "cell_type": "code",
   "execution_count": 20,
   "metadata": {},
   "outputs": [
    {
     "data": {
      "image/png": "[encoded data removed]",
      "text/plain": [
       "<Figure size 864x432 with 1 Axes>"
      ]
     },
     "metadata": {
      "needs_background": "light"
     },
     "output_type": "display_data"
    }
   ],
   "source": [
    "kde = skneighbor.KernelDensity(bandwidth = 1.3, \n",
    "                               kernel = 'epanechnikov')\n",
    "kde_fit = kde.fit(data.reshape(-1, 1))\n",
    "\n",
    "min_val = 0\n",
    "max_val = 25\n",
    "steps = 1000\n",
    "pdfx = np.linspace(min_val, max_val, steps)\n",
    "pdfy = kde_fit.score_samples(pdfx.reshape(-1, 1))\n",
    "\n",
    "pdfy = np.exp(pdfy)\n",
    "\n",
    "fig, ax = plt.subplots(1, 1, figsize=(12, 6))\n",
    "ax.plot(pdfx, pdfy)\n",
    "ax.set_xlabel('Value',fontsize = 16)\n",
    "ax.set_ylabel('Relative Frequency',fontsize = 16)\n",
    "ax.set_title(f'Probability Density Function from KDE', fontsize = 20)\n",
    "ax.xaxis.set_tick_params(labelsize=16)\n",
    "ax.yaxis.set_tick_params(labelsize=16)\n",
    "plt.show()"
   ]
  },
  {
   "cell_type": "code",
   "execution_count": 21,
   "metadata": {},
   "outputs": [
    {
     "data": {
      "text/plain": [
       "['gaussian', 'tophat', 'epanechnikov', 'exponential', 'linear', 'cosine']"
      ]
     },
     "execution_count": 21,
     "metadata": {},
     "output_type": "execute_result"
    }
   ],
   "source": [
    "skneighbor._kde.VALID_KERNELS"
   ]
  },
  {
   "cell_type": "code",
   "execution_count": 22,
   "metadata": {},
   "outputs": [],
   "source": [
    "valid_kernels = [\n",
    "    'gaussian',\n",
    "    'tophat',\n",
    "    'epanechnikov',\n",
    "    'exponential',\n",
    "    'linear',\n",
    "    'cosine',\n",
    "]"
   ]
  },
  {
   "cell_type": "code",
   "execution_count": 23,
   "metadata": {},
   "outputs": [
    {
     "data": {
      "image/png": "[encoded data removed]",
      "text/plain": [
       "<Figure size 864x432 with 1 Axes>"
      ]
     },
     "metadata": {
      "needs_background": "light"
     },
     "output_type": "display_data"
    }
   ],
   "source": [
    "plot_sample_vs_data(data, data, bin_width = 0.75)"
   ]
  },
  {
   "cell_type": "code",
   "execution_count": 24,
   "metadata": {},
   "outputs": [
    {
     "name": "stdout",
     "output_type": "stream",
     "text": [
      "Best bandwidth is: 0.7000000000000001\n",
      "Best score is: -243.87900751557973\n"
     ]
    }
   ],
   "source": [
    "fit_data = {}\n",
    "for replication in range(10):\n",
    "\n",
    "    train, test = train_test_split(data, random_state = replication)\n",
    "\n",
    "    for bandwidth in np.linspace(0.1, 5.0, 50):\n",
    "\n",
    "        kde = skneighbor.KernelDensity(bandwidth = bandwidth, \n",
    "                                       kernel = 'gaussian')\n",
    "        kde_fit = kde.fit(train.reshape(-1, 1))\n",
    "        score = kde_fit.score_samples(test.reshape(-1, 1)).sum()\n",
    "        if bandwidth in fit_data:\n",
    "            fit_data[bandwidth].append(score)\n",
    "        else:\n",
    "            fit_data[bandwidth] = [score]\n",
    "            \n",
    "best_bandwidth = None\n",
    "best_score = None\n",
    "for bandwidth in fit_data:\n",
    "    objective_value = sum(fit_data[bandwidth])/len(fit_data[bandwidth])\n",
    "    if best_score is None:\n",
    "        best_bandwidth = bandwidth\n",
    "        best_score = objective_value\n",
    "    elif objective_value > best_score:\n",
    "        best_bandwidth = bandwidth\n",
    "        best_score = objective_value\n",
    "    else:\n",
    "        pass\n",
    "        \n",
    "print(f'Best bandwidth is: {best_bandwidth}')\n",
    "print(f'Best score is: {best_score}')"
   ]
  },
  {
   "cell_type": "code",
   "execution_count": 25,
   "metadata": {},
   "outputs": [
    {
     "data": {
      "text/plain": [
       "0.7000000000000001"
      ]
     },
     "execution_count": 25,
     "metadata": {},
     "output_type": "execute_result"
    }
   ],
   "source": [
    "best_bandwidth"
   ]
  },
  {
   "cell_type": "code",
   "execution_count": 26,
   "metadata": {},
   "outputs": [],
   "source": [
    "kde = skneighbor.KernelDensity(bandwidth = best_bandwidth,\n",
    "                               kernel = 'gaussian')\n",
    "kde_fit = kde.fit(data.reshape(-1, 1))"
   ]
  },
  {
   "cell_type": "code",
   "execution_count": 27,
   "metadata": {},
   "outputs": [],
   "source": [
    "min_val = np.floor(data.min()).astype(int)\n",
    "max_val = np.ceil(data.max()).astype(int)\n",
    "\n",
    "pdfx = np.linspace(min_val, max_val, num = 1000)\n",
    "pdfy = np.exp(kde_fit.score_samples(pdfx.reshape(-1, 1)))\n",
    "pdfy = pdfy/pdfy.sum()\n",
    "cdf = pdfy.cumsum()\n",
    "\n",
    "np.random.seed(0)\n",
    "rns = np.random.uniform(size = len(data))\n",
    "my_sample = []\n",
    "for rn in rns:\n",
    "    my_sample.append(pdfx[(cdf < rn).argmin()-1])\n",
    "    \n",
    "my_sample = np.array(my_sample)"
   ]
  },
  {
   "cell_type": "code",
   "execution_count": 28,
   "metadata": {},
   "outputs": [
    {
     "data": {
      "image/png": "[encoded data removed]",
      "text/plain": [
       "<Figure size 864x432 with 1 Axes>"
      ]
     },
     "metadata": {
      "needs_background": "light"
     },
     "output_type": "display_data"
    }
   ],
   "source": [
    "plot_sample_vs_data(data, my_sample, bin_width = 0.5)"
   ]
  },
  {
   "cell_type": "code",
   "execution_count": 29,
   "metadata": {},
   "outputs": [
    {
     "ename": "TypeError",
     "evalue": "'wrapcauchy_gen' object is not iterable",
     "output_type": "error",
     "traceback": [
      "\u001b[1;31m---------------------------------------------------------------------------\u001b[0m",
      "\u001b[1;31mTypeError\u001b[0m                                 Traceback (most recent call last)",
      "\u001b[1;32m<ipython-input-29-7de92136e23c>\u001b[0m in \u001b[0;36m<module>\u001b[1;34m\u001b[0m\n\u001b[0;32m      5\u001b[0m \u001b[0mmles\u001b[0m \u001b[1;33m=\u001b[0m \u001b[1;33m[\u001b[0m\u001b[1;33m]\u001b[0m\u001b[1;33m\u001b[0m\u001b[1;33m\u001b[0m\u001b[0m\n\u001b[0;32m      6\u001b[0m \u001b[1;33m\u001b[0m\u001b[0m\n\u001b[1;32m----> 7\u001b[1;33m \u001b[1;32mfor\u001b[0m \u001b[0mdistribution\u001b[0m \u001b[1;32min\u001b[0m \u001b[0mdistributions\u001b[0m\u001b[1;33m:\u001b[0m\u001b[1;33m\u001b[0m\u001b[1;33m\u001b[0m\u001b[0m\n\u001b[0m\u001b[0;32m      8\u001b[0m     \u001b[0mpars\u001b[0m \u001b[1;33m=\u001b[0m \u001b[0mdistribution\u001b[0m\u001b[1;33m.\u001b[0m\u001b[0mfit\u001b[0m\u001b[1;33m(\u001b[0m\u001b[0mdata\u001b[0m\u001b[1;33m)\u001b[0m\u001b[1;33m\u001b[0m\u001b[1;33m\u001b[0m\u001b[0m\n\u001b[0;32m      9\u001b[0m     \u001b[0mmle\u001b[0m \u001b[1;33m=\u001b[0m \u001b[0mdistribution\u001b[0m\u001b[1;33m.\u001b[0m\u001b[0mnnlf\u001b[0m\u001b[1;33m(\u001b[0m\u001b[0mpars\u001b[0m\u001b[1;33m,\u001b[0m \u001b[0mdata\u001b[0m\u001b[1;33m)\u001b[0m\u001b[1;33m\u001b[0m\u001b[1;33m\u001b[0m\u001b[0m\n",
      "\u001b[1;31mTypeError\u001b[0m: 'wrapcauchy_gen' object is not iterable"
     ]
    }
   ],
   "source": [
    "for current_distribution, defaults in st._distr_params.distcont:\n",
    "    mydist = eval(f'st.{current_distribution}')\n",
    "data = np.random.random(10000)\n",
    "distributions = mydist\n",
    "mles = []\n",
    "\n",
    "for distribution in distributions:\n",
    "    pars = distribution.fit(data)\n",
    "    mle = distribution.nnlf(pars, data)\n",
    "    mles.append(mle)\n",
    "\n",
    "results = [(distribution.name, mle) for distribution, mle in zip(distributions, mles)]\n",
    "best_fit = sorted(zip(distributions, mles), key=lambda d: d[1])[0]\n",
    "print ('Best fit reached using {}, MLE value: {}'.format(best_fit[0].name, best_fit[1]))\n",
    "\n"
   ]
  },
  {
   "cell_type": "code",
   "execution_count": 30,
   "metadata": {},
   "outputs": [],
   "source": [
    "def fit_scipy_distributions(array, bins):\n",
    "\n",
    "    data = np.random.random(10000)\n",
    "    distributions = [st.alpha,st.anglit,st.arcsine,st.beta,st.betaprime,st.bradford,st.burr,st.cauchy,st.chi,st.chi2,st.cosine,\n",
    "        st.dgamma,st.dweibull,st.erlang,st.expon,st.exponnorm,st.exponweib,st.exponpow,st.f,st.fatiguelife,st.fisk,\n",
    "        st.foldcauchy,st.foldnorm,st.genlogistic,st.genpareto,st.gennorm,st.genexpon,\n",
    "        st.genextreme,st.gausshyper,st.gamma,st.gengamma,st.genhalflogistic,st.gilbrat,st.gompertz,st.gumbel_r,\n",
    "        st.gumbel_l,st.halfcauchy,st.halflogistic,st.halfnorm,st.halfgennorm,st.hypsecant,st.invgamma,st.invgauss,\n",
    "        st.invweibull,st.johnsonsb,st.johnsonsu,st.ksone,st.kstwobign,st.laplace,st.levy,st.levy_l,st.levy_stable,\n",
    "        st.logistic,st.loggamma,st.loglaplace,st.lognorm,st.lomax,st.maxwell,st.mielke,st.nakagami,st.ncx2,st.ncf,\n",
    "        st.nct,st.norm,st.pareto,st.pearson3,st.powerlaw,st.powerlognorm,st.powernorm,st.rdist,st.reciprocal,\n",
    "        st.rayleigh,st.rice,st.recipinvgauss,st.semicircular,st.t,st.triang,st.truncexpon,st.truncnorm,st.tukeylambda,\n",
    "        st.uniform,st.vonmises,st.vonmises_line,st.wald,st.weibull_min,st.weibull_max,st.wrapcauchy]\n",
    "    mles = []\n",
    "\n",
    "    for distribution in distributions:\n",
    "        pars = distribution.fit(data)\n",
    "        mle = distribution.nnlf(pars, data)\n",
    "        mles.append(mle)\n",
    "\n",
    "\n",
    "    results = [(distribution.name, mle) for distribution, mle in zip(distributions, mles)]\n",
    "    best_fit = sorted(zip(distributions, mles), key=lambda d: d[1])[0]\n",
    "\n",
    "    print ('Best fit reached using {}, MLE value: {}'.format(best_fit[0].name, best_fit[1]))"
   ]
  },
  {
   "cell_type": "code",
   "execution_count": 31,
   "metadata": {},
   "outputs": [],
   "source": [
    "test_array = st.norm.rvs(loc=7, scale=13, size=10000, random_state=1)"
   ]
  },
  {
   "cell_type": "code",
   "execution_count": null,
   "metadata": {},
   "outputs": [],
   "source": [
    "fit_scipy_distributions(test_array, bins = 100)"
   ]
  },
  {
   "cell_type": "code",
   "execution_count": null,
   "metadata": {},
   "outputs": [],
   "source": [
    "fit_data = {}\n",
    "for replication in range(10):\n",
    "\n",
    "    train, test = train_test_split(data, random_state = replication)\n",
    "\n",
    "    for bandwidth in np.linspace(0.1, 5.0, 50):\n",
    "\n",
    "        kde = skneighbor.KernelDensity(bandwidth = bandwidth, \n",
    "                                       kernel = 'gaussian')\n",
    "        kde_fit = kde.fit(train.reshape(-1, 1))\n",
    "        score = kde_fit.score_samples(test.reshape(-1, 1)).sum()\n",
    "        if bandwidth in fit_data:\n",
    "            fit_data[bandwidth].append(score)\n",
    "        else:\n",
    "            fit_data[bandwidth] = [score]\n",
    "            \n",
    "best_bandwidth = None\n",
    "best_score = None\n",
    "for bandwidth in fit_data:\n",
    "    objective_value = sum(fit_data[bandwidth])/len(fit_data[bandwidth])\n",
    "    if best_score is None:\n",
    "        best_bandwidth = bandwidth\n",
    "        best_score = objective_value\n",
    "    elif objective_value > best_score:\n",
    "        best_bandwidth = bandwidth\n",
    "        best_score = objective_value\n",
    "    else:\n",
    "        pass\n",
    "        \n",
    "print(f'Best bandwidth is: {best_bandwidth}')\n",
    "print(f'Best score is: {best_score}')"
   ]
  },
  {
   "cell_type": "code",
   "execution_count": null,
   "metadata": {},
   "outputs": [],
   "source": []
  }
 ],
 "metadata": {
  "kernelspec": {
   "display_name": "Python 3",
   "language": "python",
   "name": "python3"
  },
  "language_info": {
   "codemirror_mode": {
    "name": "ipython",
    "version": 3
   },
   "file_extension": ".py",
   "mimetype": "text/x-python",
   "name": "python",
   "nbconvert_exporter": "python",
   "pygments_lexer": "ipython3",
   "version": "3.7.6"
  }
 },
 "nbformat": 4,
 "nbformat_minor": 4
}
