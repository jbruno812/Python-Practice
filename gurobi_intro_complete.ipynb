{
 "cells": [
  {
   "cell_type": "code",
   "execution_count": null,
   "metadata": {},
   "outputs": [],
   "source": [
    "import pathlib\n",
    "\n",
    "import numpy as np\n",
    "import pandas as pd\n",
    "pd.set_option('display.max_columns', None)\n",
    "\n",
    "import modelingutils as mu\n",
    "\n",
    "%config Completer.use_jedi = False"
   ]
  },
  {
   "cell_type": "markdown",
   "metadata": {},
   "source": [
    "From https://en.wikipedia.org/wiki/Knapsack_problem (accessed 2/10/2021):\n",
    "\n",
    "> The knapsack problem is a problem in combinatorial optimization: Given a set of items, each with a weight and a value, determine the number of each item to include in a collection so that the total weight is less than or equal to a given limit and the total value is as large as possible. It derives its name from the problem faced by someone who is constrained by a fixed-size knapsack and must fill it with the most valuable items. The problem often arises in resource allocation where the decision makers have to choose from a set of non-divisible projects or tasks under a fixed budget or time constraint, respectively.\n",
    ">\n",
    "> The most common problem being solved is the 0-1 knapsack problem, which restricts the number ${\\displaystyle x_{i}}$ of copies of each kind of item to zero or one. Given a set of ${\\displaystyle n}$ items numbered from 1 up to ${\\displaystyle n}$, each with a weight ${\\displaystyle w_{i}}$ and a value ${\\displaystyle v_{i}}$, along with a maximum weight capacity ${\\displaystyle W}$,\n",
    ">\n",
    "\\begin{align}\n",
    "\\mbox{maximize } &\\sum _{i=1}^{n}v_{i}x_{i}\\\\\n",
    "\\mbox{subject to,}\\qquad\\\\ \n",
    "\\sum _{i=1}^{n}w_{i}x_{i}&\\leq W\\\\\n",
    "x_{i}&\\in \\{0,1\\}.\n",
    "\\end{align}\n",
    ">Here $\\displaystyle x_{i}$ represents the number of instances of item $\\displaystyle i$ to include in the knapsack. Informally, the problem is to maximize the sum of the values of the items in the knapsack so that the sum of the weights is less than or equal to the knapsack's capacity."
   ]
  },
  {
   "cell_type": "markdown",
   "metadata": {},
   "source": [
    "A more explicit formulation is:\n",
    "\n",
    "$\\underline{\\mbox{Sets & Indices}}$</br>\n",
    "$\\mathcal{I}$ - set of items, $i\\in\\mathcal{I}$\n",
    "\n",
    "$\\underline{\\mbox{Parameters}}$</br>\n",
    "$v_{i}$ - value of item $i$, $\\forall i\\in\\mathcal{I}$.</br>\n",
    "$w_{i}$ - capacity required to include item $i$, $\\forall i\\in\\mathcal{I}$.</br>\n",
    "$W$ - available capacity.</br>\n",
    "\n",
    "$\\underline{\\mbox{Decision Variables}}$</br>\n",
    "$x_{i}$ - 1, if the optimal solution includes item $i$; 0, otherwise.</br>\n",
    "\n",
    "\n",
    "\\begin{align}\n",
    "\\mbox{maximize } &\\sum _{i\\in\\mathcal{I}}v_{i}x_{i}\\\\\n",
    "\\mbox{subject to,}\\qquad\\\\ \n",
    "\\sum _{i\\in\\mathcal{I}}w_{i}x_{i}&\\leq W\\\\\n",
    "x_{i}&\\in \\{0,1\\}, \\forall i \\in \\mathcal{I}.\n",
    "\\end{align}"
   ]
  },
  {
   "cell_type": "markdown",
   "metadata": {},
   "source": [
    "The following code block imports Gurobi."
   ]
  },
  {
   "cell_type": "code",
   "execution_count": null,
   "metadata": {},
   "outputs": [],
   "source": [
    "from gurobipy import *"
   ]
  },
  {
   "cell_type": "markdown",
   "metadata": {},
   "source": [
    "The following code block randomly creates the required sets and parameters for a number of items specified by $n$. "
   ]
  },
  {
   "cell_type": "code",
   "execution_count": null,
   "metadata": {},
   "outputs": [],
   "source": [
    "np.random.seed(0)\n",
    "\n",
    "n = 30\n",
    "I = {i for i in range(1, n+1)}\n",
    "w = {i: np.random.uniform(low = 1, high = 10) for i in I}\n",
    "v = {i: np.random.uniform(low = 1, high = 10) for i in I}\n",
    "W = n*3"
   ]
  },
  {
   "cell_type": "markdown",
   "metadata": {},
   "source": [
    "The following code block defines a Gurobi `Model` object for our problem. "
   ]
  },
  {
   "cell_type": "code",
   "execution_count": null,
   "metadata": {},
   "outputs": [],
   "source": [
    "ks_model = Model('Knapsack')"
   ]
  },
  {
   "cell_type": "markdown",
   "metadata": {},
   "source": [
    "The following code block defines our decision variables."
   ]
  },
  {
   "cell_type": "code",
   "execution_count": null,
   "metadata": {},
   "outputs": [],
   "source": [
    "x = ks_model.addVars(I, \n",
    "                     vtype = GRB.BINARY, \n",
    "                     name = 'x')"
   ]
  },
  {
   "cell_type": "markdown",
   "metadata": {},
   "source": [
    "The following code block defines our objective function.\n",
    "\n",
    "$$\\mbox{maximize } \\sum _{i\\in\\mathcal{I}}v_{i}x_{i}$$"
   ]
  },
  {
   "cell_type": "code",
   "execution_count": null,
   "metadata": {},
   "outputs": [],
   "source": [
    "total_value = LinExpr()\n",
    "for i in I:\n",
    "    total_value.add(v[i]*x[i])\n",
    "ks_model.setObjective(total_value, sense = GRB.MAXIMIZE)"
   ]
  },
  {
   "cell_type": "markdown",
   "metadata": {},
   "source": [
    "The following code block defines our single **SET** of constraints.\n",
    "\n",
    "$$\\sum _{i\\in\\mathcal{I}}w_{i}x_{i}\\leq W$$"
   ]
  },
  {
   "cell_type": "code",
   "execution_count": null,
   "metadata": {},
   "outputs": [],
   "source": [
    "total_weight = LinExpr()\n",
    "for i in I:\n",
    "    total_weight.add(w[i]*x[i])\n",
    "    \n",
    "ks_model.addConstr(total_weight <= W)"
   ]
  },
  {
   "cell_type": "markdown",
   "metadata": {},
   "source": [
    "The following code block optimizes our model."
   ]
  },
  {
   "cell_type": "code",
   "execution_count": null,
   "metadata": {},
   "outputs": [],
   "source": [
    "ks_model.optimize()"
   ]
  },
  {
   "cell_type": "markdown",
   "metadata": {},
   "source": [
    "The following code block prints 10 items included in the optimal solution."
   ]
  },
  {
   "cell_type": "code",
   "execution_count": null,
   "metadata": {},
   "outputs": [],
   "source": [
    "items_to_include = [i for i in I if x[i].x > 0]\n",
    "items_to_include[:10]        "
   ]
  },
  {
   "cell_type": "markdown",
   "metadata": {},
   "source": [
    "The following code block prints additional details regarding the solution."
   ]
  },
  {
   "cell_type": "code",
   "execution_count": null,
   "metadata": {},
   "outputs": [],
   "source": [
    "print(f'Optimal solution includes {len(items_to_include)} of {n} items for a total value of {ks_model.ObjVal}')\n",
    "\n",
    "capacity_required = np.round(sum([w[i] for i in items_to_include]))\n",
    "\n",
    "print(f'The optimal solution uses {capacity_required} of the available {W} units of capacity')"
   ]
  },
  {
   "cell_type": "markdown",
   "metadata": {},
   "source": [
    "# How well could we do on our own?"
   ]
  },
  {
   "cell_type": "markdown",
   "metadata": {},
   "source": [
    "The following code block creates a *value per unit capacity metric* and sorts the items by this metric."
   ]
  },
  {
   "cell_type": "code",
   "execution_count": null,
   "metadata": {},
   "outputs": [],
   "source": [
    "value_per_unit_capacity = {i: v[i]/w[i] for i in I}\n",
    "item_order = [k for k, v in sorted(value_per_unit_capacity.items(), key = lambda item: item[1], reverse = True)]"
   ]
  },
  {
   "cell_type": "markdown",
   "metadata": {},
   "source": [
    "The following code block demonstrates a simple *greedy* heuristic for the problem."
   ]
  },
  {
   "cell_type": "code",
   "execution_count": null,
   "metadata": {},
   "outputs": [],
   "source": [
    "available_capacity = W\n",
    "\n",
    "heuristic_solution = []\n",
    "heuristic_value = 0\n",
    "for item in item_order:\n",
    "    if w[item] < available_capacity:\n",
    "        available_capacity -= w[item]\n",
    "        heuristic_solution.append(item)\n",
    "        heuristic_value += v[item]"
   ]
  },
  {
   "cell_type": "markdown",
   "metadata": {},
   "source": [
    "The following code block prints additional details regarding the solution."
   ]
  },
  {
   "cell_type": "code",
   "execution_count": null,
   "metadata": {},
   "outputs": [],
   "source": [
    "print(f'Heuristic solution includes {len(heuristic_solution)} of {n} items for a total value of {heuristic_value}')\n",
    "\n",
    "capacity_required = np.round(sum([w[i] for i in heuristic_solution]))\n",
    "\n",
    "print(f'The heuristic solution uses {capacity_required} of the available {W} units of capacity')"
   ]
  },
  {
   "cell_type": "markdown",
   "metadata": {},
   "source": [
    "## A Larger instance"
   ]
  },
  {
   "cell_type": "code",
   "execution_count": null,
   "metadata": {},
   "outputs": [],
   "source": [
    "data = pd.read_csv('sample.csv')\n",
    "data = data.set_index('item')\n",
    "I = set(data.index.to_list())\n",
    "v = data['v'].to_dict()\n",
    "w = data['w'].to_dict()\n",
    "W = 49877"
   ]
  },
  {
   "cell_type": "code",
   "execution_count": null,
   "metadata": {},
   "outputs": [],
   "source": [
    "ks_model = Model('Knapsack')\n",
    "\n",
    "x = ks_model.addVars(I, \n",
    "                     vtype = GRB.BINARY, \n",
    "                     name = 'x')\n",
    "\n",
    "total_value = LinExpr()\n",
    "for i in I:\n",
    "    total_value.add(v[i]*x[i])\n",
    "ks_model.setObjective(total_value, sense = GRB.MAXIMIZE)\n",
    "\n",
    "total_weight = LinExpr()\n",
    "for i in I:\n",
    "    total_weight.add(w[i]*x[i])\n",
    "    \n",
    "ks_model.addConstr(total_weight <= W)\n",
    "\n",
    "ks_model.optimize()"
   ]
  },
  {
   "cell_type": "code",
   "execution_count": null,
   "metadata": {},
   "outputs": [],
   "source": [
    "print(f'Optimal solution includes {len(items_to_include)} of {n} items for a total value of {ks_model.ObjVal}')\n",
    "\n",
    "capacity_required = np.round(sum([w[i] for i in items_to_include]))\n",
    "\n",
    "print(f'The optimal solution uses {capacity_required} of the available {W} units of capacity')"
   ]
  },
  {
   "cell_type": "code",
   "execution_count": null,
   "metadata": {},
   "outputs": [],
   "source": [
    "value_per_unit_capacity = {i: v[i]/w[i] for i in I}\n",
    "item_order = [k for k, v in sorted(value_per_unit_capacity.items(), key = lambda item: item[1], reverse = True)]\n",
    "\n",
    "available_capacity = W\n",
    "\n",
    "heuristic_solution = []\n",
    "heuristic_value = 0\n",
    "for item in item_order:\n",
    "    if w[item] < available_capacity:\n",
    "        available_capacity -= w[item]\n",
    "        heuristic_solution.append(item)\n",
    "        heuristic_value += v[item]"
   ]
  },
  {
   "cell_type": "code",
   "execution_count": null,
   "metadata": {},
   "outputs": [],
   "source": [
    "print(f'Heuristic solution includes {len(heuristic_solution)} of {n} items for a total value of {heuristic_value}')\n",
    "\n",
    "capacity_required = np.round(sum([w[i] for i in heuristic_solution]))\n",
    "\n",
    "print(f'The optimal solution uses {capacity_required} of the available {W} units of capacity')"
   ]
  },
  {
   "cell_type": "markdown",
   "metadata": {},
   "source": [
    "# A *Harder* Problem\n",
    "\n",
    "Gurobi seems to be able to handle the Knapsack problem with ease. Is this true for all problems? We will now see how Gurobi works on the Traveling Salesman Problem (TSP). From https://en.wikipedia.org/wiki/Travelling_salesman_problem (accessed 2/17/2021):\n",
    "\n",
    "> The travelling salesman problem (also called the traveling salesperson problem or TSP) asks the following question: \"Given a list of cities and the distances between each pair of cities, what is the shortest possible route that visits each city exactly once and returns to the origin city?\" It is an NP-hard problem in combinatorial optimization, important in theoretical computer science and operations research.\n",
    "\n",
    "Essentially, if we were to find an algorithm that can determine a **Provably Optimal** solution to the TSP that has a runtime that can be bound by a polynomial function of the problem input size, i.e., we can find an algorithm $f$ that has runtime $O(f(n)) \\leq n^{p}$, for some value of $p$, we would be able to settle the debate regarding the classes **P** and **NP** (and win a million dollars, see https://www.claymath.org/millennium-problems/p-vs-np-problem).\n",
    "\n",
    "The following chart shows how the number of years to check all of the solutions to a TSP problem on the worlds fastest supercomputer varies as a function of the problem size."
   ]
  },
  {
   "cell_type": "code",
   "execution_count": null,
   "metadata": {},
   "outputs": [],
   "source": [
    "import math\n",
    "import matplotlib.pyplot as plt\n",
    "import seaborn as sns\n",
    "sns.set_style('whitegrid')\n",
    "\n",
    "stats = []\n",
    "for n in range(2, 35):\n",
    "\n",
    "    possible_solutions = math.factorial(n)\n",
    "    computations_per_second = 200000000000000000\n",
    "    seconds_required = possible_solutions//computations_per_second\n",
    "    years_required = seconds_required//(60*60*24*365)\n",
    "    stats.append([n, max(1, years_required)])\n",
    "    \n",
    "stats = pd.DataFrame(stats, columns = ['n', 'years'])\n",
    "\n",
    "fig, ax = plt.subplots(1, 1, figsize = (8, 5))\n",
    "\n",
    "sns.lineplot(\n",
    "    x = 'n',\n",
    "    y = 'years',\n",
    "    data = stats,\n",
    ")\n",
    "ax.set_yscale('log')\n",
    "\n",
    "plt.show()"
   ]
  },
  {
   "cell_type": "markdown",
   "metadata": {},
   "source": [
    "Estimates suggest a UPS driver makes roughly 120 drops a day. How many years would be required to check all possible solutions?"
   ]
  },
  {
   "cell_type": "code",
   "execution_count": null,
   "metadata": {},
   "outputs": [],
   "source": [
    "n = 120\n",
    "possible_solutions = math.factorial(n)\n",
    "computations_per_second = 200000000000000000\n",
    "seconds_required = possible_solutions//computations_per_second\n",
    "years_required = seconds_required//(60*60*24*365)\n",
    "years_required"
   ]
  },
  {
   "cell_type": "markdown",
   "metadata": {},
   "source": [
    "Let's see how Gurobi performs on the UPS-sized problem. Note: code modified from that available at https://www.gurobi.com/documentation/9.1/examples/tsp_py.html "
   ]
  },
  {
   "cell_type": "code",
   "execution_count": null,
   "metadata": {},
   "outputs": [],
   "source": [
    "import math\n",
    "import random\n",
    "from itertools import combinations\n",
    "import gurobipy as gp\n",
    "from gurobipy import GRB\n",
    "\n",
    "\n",
    "# Callback - use lazy constraints to eliminate sub-tours\n",
    "def subtourelim(model, where):\n",
    "    if where == GRB.Callback.MIPSOL:\n",
    "        # make a list of edges selected in the solution\n",
    "        vals = model.cbGetSolution(model._vars)\n",
    "        selected = gp.tuplelist((i, j) for i, j in model._vars.keys()\n",
    "                                if vals[i, j] > 0.5)\n",
    "        # find the shortest cycle in the selected edge list\n",
    "        tour = subtour(selected)\n",
    "        if len(tour) < n:\n",
    "            # add subtour elimination constr. for every pair of cities in tour\n",
    "            model.cbLazy(gp.quicksum(model._vars[i, j]\n",
    "                                     for i, j in combinations(tour, 2))\n",
    "                         <= len(tour)-1)\n",
    "\n",
    "\n",
    "# Given a tuplelist of edges, find the shortest subtour\n",
    "\n",
    "def subtour(edges):\n",
    "    unvisited = list(range(n))\n",
    "    cycle = range(n+1)  # initial length has 1 more city\n",
    "    while unvisited:  # true if list is non-empty\n",
    "        thiscycle = []\n",
    "        neighbors = unvisited\n",
    "        while neighbors:\n",
    "            current = neighbors[0]\n",
    "            thiscycle.append(current)\n",
    "            unvisited.remove(current)\n",
    "            neighbors = [j for i, j in edges.select(current, '*')\n",
    "                         if j in unvisited]\n",
    "        if len(cycle) > len(thiscycle):\n",
    "            cycle = thiscycle\n",
    "    return cycle\n",
    "\n",
    "random.seed(1)\n",
    "points = [(random.randint(0, 100), random.randint(0, 100)) for i in range(n)]\n",
    "\n",
    "# Dictionary of Euclidean distance between each pair of points\n",
    "\n",
    "dist = {(i, j):\n",
    "        math.sqrt(sum((points[i][k]-points[j][k])**2 for k in range(2)))\n",
    "        for i in range(n) for j in range(i)}\n",
    "\n",
    "m = gp.Model()\n",
    "\n",
    "# Create variables\n",
    "\n",
    "vars = m.addVars(dist.keys(), obj=dist, vtype=GRB.BINARY, name='e')\n",
    "for i, j in vars.keys():\n",
    "    vars[j, i] = vars[i, j]  # edge in opposite direction\n",
    "\n",
    "# Add degree-2 constraint\n",
    "\n",
    "m.addConstrs(vars.sum(i, '*') == 2 for i in range(n))\n",
    "\n",
    "# Optimize model\n",
    "\n",
    "m._vars = vars\n",
    "m.Params.lazyConstraints = 1\n",
    "m.Params.TimeLimit = 60\n",
    "m.optimize(subtourelim)\n",
    "\n",
    "vals = m.getAttr('x', vars)\n",
    "selected = gp.tuplelist((i, j) for i, j in vals.keys() if vals[i, j] > 0.5)\n",
    "\n",
    "tour = subtour(selected)\n",
    "assert len(tour) == n\n",
    "\n",
    "print('')\n",
    "print('Optimal tour: %s' % str(tour))\n",
    "print('Optimal cost: %g' % m.objVal)\n",
    "print('')"
   ]
  },
  {
   "cell_type": "code",
   "execution_count": null,
   "metadata": {},
   "outputs": [],
   "source": []
  }
 ],
 "metadata": {
  "kernelspec": {
   "display_name": "Python 3",
   "language": "python",
   "name": "python3"
  },
  "language_info": {
   "codemirror_mode": {
    "name": "ipython",
    "version": 3
   },
   "file_extension": ".py",
   "mimetype": "text/x-python",
   "name": "python",
   "nbconvert_exporter": "python",
   "pygments_lexer": "ipython3",
   "version": "3.8.5"
  }
 },
 "nbformat": 4,
 "nbformat_minor": 4
}
