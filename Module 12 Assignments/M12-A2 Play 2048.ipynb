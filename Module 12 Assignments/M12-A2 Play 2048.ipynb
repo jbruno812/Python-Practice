{
 "cells": [
  {
   "cell_type": "markdown",
   "metadata": {},
   "source": [
    "# Automated 2048\n",
    "Using ```selenium```, write code that does the following:\n",
    "* Starts an instance of Chrome\n",
    "* Navigates to https://play2048.co/\n",
    "* Plays 10 consecutive games of 2084 and indicates when it is starting each game\n",
    "* Print the score of each game it has finished\n",
    "* Completes all games without human intervention\n",
    "* Prints the best score for the 10 games\n",
    "* All of this should be done in a method named **play_2048()**"
   ]
  },
  {
   "cell_type": "markdown",
   "metadata": {},
   "source": [
    "A hint is available, but will cost you 5 points. One of the difficult parts of this exercise is determining when the game is over. I have one way to do it that I will share with you for 5 points. If you want the hint and agree not to share it with others, contact one of the TA's."
   ]
  },
  {
   "cell_type": "markdown",
   "metadata": {},
   "source": [
    "Submit this assignment as a .PY file on BB\n",
    "\n",
    "As always, your code should be reasonably efficient, utilize error handling, and docstrings where needed."
   ]
  },
  {
   "cell_type": "code",
   "execution_count": 2,
   "metadata": {},
   "outputs": [
    {
     "name": "stdout",
     "output_type": "stream",
     "text": [
      "Playing game 0\n",
      "Game 0 score: 2804\n",
      "Playing game 1\n",
      "Game 1 score: 2096\n",
      "Playing game 2\n",
      "Game 2 score: 3080\n",
      "Playing game 3\n",
      "Game 3 score: 1572\n",
      "Playing game 4\n",
      "Game 4 score: 3004\n",
      "Playing game 5\n",
      "Game 5 score: 2380\n",
      "Playing game 6\n",
      "Game 6 score: 928\n",
      "Playing game 7\n",
      "Game 7 score: 2964\n",
      "Playing game 8\n",
      "Game 8 score: 1272\n",
      "Playing game 9\n",
      "Game 9 score: 952\n",
      "GAME OVER.......\n",
      "Your high score is:\n",
      "3080\n"
     ]
    }
   ],
   "source": [
    "#Write your Python code here\n",
    "from selenium import webdriver\n",
    "from selenium.webdriver.common.keys import Keys\n",
    "from selenium.common.exceptions import NoSuchElementException\n",
    "import time\n",
    "\n",
    "def play_2048():\n",
    "    \"\"\"This function opens a website for the game 2048 and plays it 10 times. This requires chromedriver\n",
    "       in the directory of the script. It outputs the game you are on, that game's score, and the highscore\n",
    "       out of the 10 games.\"\"\"\n",
    "    browser = webdriver.Chrome()\n",
    "    browser.get('https://play2048.co/')\n",
    "    htmlElem = browser.find_element_by_tag_name('html')\n",
    "    i = 0\n",
    "    while True:\n",
    "        if i == 10:\n",
    "                print(\"GAME OVER.......\")\n",
    "                print(\"Your high score is:\")\n",
    "                hs = browser.find_element_by_class_name(\"best-container\")\n",
    "                hs = hs.text\n",
    "                print(hs)\n",
    "                break\n",
    "        htmlElem.send_keys(Keys.RIGHT)\n",
    "        htmlElem.send_keys(Keys.UP)\n",
    "        htmlElem.send_keys(Keys.LEFT)\n",
    "        htmlElem.send_keys(Keys.UP)\n",
    "        htmlElem.send_keys(Keys.DOWN)\n",
    "        try:\n",
    "            retry = browser.find_element_by_link_text('Try again')\n",
    "        except NoSuchElementException as no_element_err:\n",
    "            continue\n",
    "                \n",
    "        else:\n",
    "            print('Playing game' + \" \" + str(i))\n",
    "            i = i + 1\n",
    "            score = browser.find_element_by_class_name(\"score-container\")\n",
    "            score = int(score.text)\n",
    "            print('Game' + \" \" + str(i-1) + \" \" + 'score:' + \" \" + str(score))\n",
    "            time.sleep(2)\n",
    "            retry.click()\n",
    "        \n",
    "\n",
    "if __name__ == '__main__':\n",
    "    play_2048()"
   ]
  }
 ],
 "metadata": {
  "kernelspec": {
   "display_name": "Python 3",
   "language": "python",
   "name": "python3"
  },
  "language_info": {
   "codemirror_mode": {
    "name": "ipython",
    "version": 3
   },
   "file_extension": ".py",
   "mimetype": "text/x-python",
   "name": "python",
   "nbconvert_exporter": "python",
   "pygments_lexer": "ipython3",
   "version": "3.7.6"
  }
 },
 "nbformat": 4,
 "nbformat_minor": 4
}
