{
 "cells": [
  {
   "cell_type": "markdown",
   "metadata": {},
   "source": [
    "## M4-A2 Functions Practice"
   ]
  },
  {
   "cell_type": "code",
   "execution_count": 13,
   "metadata": {},
   "outputs": [],
   "source": [
    "# Write a function that returns the Max of exactly 4 numbers passed to it\n",
    "#     Name the function get_max\n",
    "a = 3\n",
    "b = 2\n",
    "c = 5\n",
    "d = 1\n",
    "def get_max(a,b,c,d):\n",
    "    list = [a,b,c,d]\n",
    "    return max(list)\n",
    "get_max(a,b,c,d)"
   ]
  },
  {
   "cell_type": "code",
   "execution_count": 14,
   "metadata": {},
   "outputs": [
    {
     "data": {
      "text/plain": [
       "10"
      ]
     },
     "execution_count": 14,
     "metadata": {},
     "output_type": "execute_result"
    }
   ],
   "source": [
    "# Write a function that returns the sum 0 or more numbers\n",
    "#    Name the function get_sum\n",
    "a = 3\n",
    "b = 2\n",
    "c = 5\n",
    "def get_sum(a,b,c):\n",
    "    list = [a,b,c]\n",
    "    return sum(list)\n",
    "get_sum(a,b,c)\n"
   ]
  },
  {
   "cell_type": "code",
   "execution_count": 24,
   "metadata": {},
   "outputs": [
    {
     "name": "stdout",
     "output_type": "stream",
     "text": [
      "This number is between 0 and 10\n",
      "This number is between 10 and 20\n"
     ]
    }
   ],
   "source": [
    "# Write a function that returns the range of tens that the number is between.\n",
    "#    For example, the number 4 would return, \"This  number is between 0 and 10\", \n",
    "#    17 would return, \"This number is between 10 and 20\"\n",
    "#    Name the function get_between_ten\n",
    "def get_between_10(x):\n",
    "    if 0 <= x <= 10:\n",
    "        print( \"This number is between 0 and 10\")\n",
    "    elif 10 <= x <= 20:\n",
    "        print(\"This number is between 10 and 20\")\n",
    "get_between_10(4)\n",
    "get_between_10(17)"
   ]
  },
  {
   "cell_type": "code",
   "execution_count": 71,
   "metadata": {},
   "outputs": [
    {
     "data": {
      "text/plain": [
       "True"
      ]
     },
     "execution_count": 71,
     "metadata": {},
     "output_type": "execute_result"
    }
   ],
   "source": [
    "# Write a function that takes zero or more numbers and \n",
    "#    prints a response for each number indicating whether or not it is a prime number\n",
    "#    Name the function is_prime\n",
    "def is_prime(x):\n",
    "    if (x <= 1): \n",
    "        return False\n",
    "  \n",
    "    for i in range(2, x): \n",
    "        if (x % i == 0): \n",
    "            return False\n",
    "        \n",
    "    return True\n",
    "\n",
    "is_prime(13)"
   ]
  },
  {
   "cell_type": "code",
   "execution_count": null,
   "metadata": {},
   "outputs": [],
   "source": []
  }
 ],
 "metadata": {
  "kernelspec": {
   "display_name": "Python 3",
   "language": "python",
   "name": "python3"
  },
  "language_info": {
   "codemirror_mode": {
    "name": "ipython",
    "version": 3
   },
   "file_extension": ".py",
   "mimetype": "text/x-python",
   "name": "python",
   "nbconvert_exporter": "python",
   "pygments_lexer": "ipython3",
   "version": "3.7.6"
  }
 },
 "nbformat": 4,
 "nbformat_minor": 4
}
