{
 "cells": [
  {
   "cell_type": "markdown",
   "metadata": {},
   "source": [
    "This notebook provides an overview of some popular models for the supervised machine learning task of binary classification.\n",
    "From https://en.wikipedia.org/wiki/Binary_classification (accessed 2/17/2021):\n",
    "\n",
    ">\"Binary classification is the task of classifying the elements of a set into two groups on the basis of a classification rule. Typical binary classification problems include:\n",
    ">\n",
    ">Medical testing to determine if a patient has certain disease or not;\n",
    "Quality control in industry, deciding whether a specification has been met;\n",
    "In information retrieval, deciding whether a page should be in the result set of a search or not.\n",
    "Binary classification is dichotomization applied to a practical situation. In many practical binary classification problems, the two groups are not symmetric, and rather than overall accuracy, the relative proportion of different types of errors is of interest. For example, in medical testing, detecting a disease when it is not present (a false positive) is considered differently from not detecting a disease when it is present (a false negative).\"\n",
    "\n",
    "We will be using a medical testing dataset to demonstrate techniques. The following code block imports some of the libraries we will be using and initializes bokeh to output to the notebook."
   ]
  },
  {
   "cell_type": "code",
   "execution_count": 1,
   "metadata": {},
   "outputs": [
    {
     "data": {
      "text/html": [
       "\n",
       "    <div class=\"bk-root\">\n",
       "        <a href=\"https://bokeh.org\" target=\"_blank\" class=\"bk-logo bk-logo-small bk-logo-notebook\"></a>\n",
       "        <span id=\"1001\">Loading BokehJS ...</span>\n",
       "    </div>"
      ]
     },
     "metadata": {},
     "output_type": "display_data"
    },
    {
     "data": {
      "application/javascript": [
       "\n",
       "(function(root) {\n",
       "  function now() {\n",
       "    return new Date();\n",
       "  }\n",
       "\n",
       "  var force = true;\n",
       "\n",
       "  if (typeof root._bokeh_onload_callbacks === \"undefined\" || force === true) {\n",
       "    root._bokeh_onload_callbacks = [];\n",
       "    root._bokeh_is_loading = undefined;\n",
       "  }\n",
       "\n",
       "  var JS_MIME_TYPE = 'application/javascript';\n",
       "  var HTML_MIME_TYPE = 'text/html';\n",
       "  var EXEC_MIME_TYPE = 'application/vnd.bokehjs_exec.v0+json';\n",
       "  var CLASS_NAME = 'output_bokeh rendered_html';\n",
       "\n",
       "  /**\n",
       "   * Render data to the DOM node\n",
       "   */\n",
       "  function render(props, node) {\n",
       "    var script = document.createElement(\"script\");\n",
       "    node.appendChild(script);\n",
       "  }\n",
       "\n",
       "  /**\n",
       "   * Handle when an output is cleared or removed\n",
       "   */\n",
       "  function handleClearOutput(event, handle) {\n",
       "    var cell = handle.cell;\n",
       "\n",
       "    var id = cell.output_area._bokeh_element_id;\n",
       "    var server_id = cell.output_area._bokeh_server_id;\n",
       "    // Clean up Bokeh references\n",
       "    if (id != null && id in Bokeh.index) {\n",
       "      Bokeh.index[id].model.document.clear();\n",
       "      delete Bokeh.index[id];\n",
       "    }\n",
       "\n",
       "    if (server_id !== undefined) {\n",
       "      // Clean up Bokeh references\n",
       "      var cmd = \"from bokeh.io.state import curstate; print(curstate().uuid_to_server['\" + server_id + \"'].get_sessions()[0].document.roots[0]._id)\";\n",
       "      cell.notebook.kernel.execute(cmd, {\n",
       "        iopub: {\n",
       "          output: function(msg) {\n",
       "            var id = msg.content.text.trim();\n",
       "            if (id in Bokeh.index) {\n",
       "              Bokeh.index[id].model.document.clear();\n",
       "              delete Bokeh.index[id];\n",
       "            }\n",
       "          }\n",
       "        }\n",
       "      });\n",
       "      // Destroy server and session\n",
       "      var cmd = \"import bokeh.io.notebook as ion; ion.destroy_server('\" + server_id + \"')\";\n",
       "      cell.notebook.kernel.execute(cmd);\n",
       "    }\n",
       "  }\n",
       "\n",
       "  /**\n",
       "   * Handle when a new output is added\n",
       "   */\n",
       "  function handleAddOutput(event, handle) {\n",
       "    var output_area = handle.output_area;\n",
       "    var output = handle.output;\n",
       "\n",
       "    // limit handleAddOutput to display_data with EXEC_MIME_TYPE content only\n",
       "    if ((output.output_type != \"display_data\") || (!output.data.hasOwnProperty(EXEC_MIME_TYPE))) {\n",
       "      return\n",
       "    }\n",
       "\n",
       "    var toinsert = output_area.element.find(\".\" + CLASS_NAME.split(' ')[0]);\n",
       "\n",
       "    if (output.metadata[EXEC_MIME_TYPE][\"id\"] !== undefined) {\n",
       "      toinsert[toinsert.length - 1].firstChild.textContent = output.data[JS_MIME_TYPE];\n",
       "      // store reference to embed id on output_area\n",
       "      output_area._bokeh_element_id = output.metadata[EXEC_MIME_TYPE][\"id\"];\n",
       "    }\n",
       "    if (output.metadata[EXEC_MIME_TYPE][\"server_id\"] !== undefined) {\n",
       "      var bk_div = document.createElement(\"div\");\n",
       "      bk_div.innerHTML = output.data[HTML_MIME_TYPE];\n",
       "      var script_attrs = bk_div.children[0].attributes;\n",
       "      for (var i = 0; i < script_attrs.length; i++) {\n",
       "        toinsert[toinsert.length - 1].firstChild.setAttribute(script_attrs[i].name, script_attrs[i].value);\n",
       "        toinsert[toinsert.length - 1].firstChild.textContent = bk_div.children[0].textContent\n",
       "      }\n",
       "      // store reference to server id on output_area\n",
       "      output_area._bokeh_server_id = output.metadata[EXEC_MIME_TYPE][\"server_id\"];\n",
       "    }\n",
       "  }\n",
       "\n",
       "  function register_renderer(events, OutputArea) {\n",
       "\n",
       "    function append_mime(data, metadata, element) {\n",
       "      // create a DOM node to render to\n",
       "      var toinsert = this.create_output_subarea(\n",
       "        metadata,\n",
       "        CLASS_NAME,\n",
       "        EXEC_MIME_TYPE\n",
       "      );\n",
       "      this.keyboard_manager.register_events(toinsert);\n",
       "      // Render to node\n",
       "      var props = {data: data, metadata: metadata[EXEC_MIME_TYPE]};\n",
       "      render(props, toinsert[toinsert.length - 1]);\n",
       "      element.append(toinsert);\n",
       "      return toinsert\n",
       "    }\n",
       "\n",
       "    /* Handle when an output is cleared or removed */\n",
       "    events.on('clear_output.CodeCell', handleClearOutput);\n",
       "    events.on('delete.Cell', handleClearOutput);\n",
       "\n",
       "    /* Handle when a new output is added */\n",
       "    events.on('output_added.OutputArea', handleAddOutput);\n",
       "\n",
       "    /**\n",
       "     * Register the mime type and append_mime function with output_area\n",
       "     */\n",
       "    OutputArea.prototype.register_mime_type(EXEC_MIME_TYPE, append_mime, {\n",
       "      /* Is output safe? */\n",
       "      safe: true,\n",
       "      /* Index of renderer in `output_area.display_order` */\n",
       "      index: 0\n",
       "    });\n",
       "  }\n",
       "\n",
       "  // register the mime type if in Jupyter Notebook environment and previously unregistered\n",
       "  if (root.Jupyter !== undefined) {\n",
       "    var events = require('base/js/events');\n",
       "    var OutputArea = require('notebook/js/outputarea').OutputArea;\n",
       "\n",
       "    if (OutputArea.prototype.mime_types().indexOf(EXEC_MIME_TYPE) == -1) {\n",
       "      register_renderer(events, OutputArea);\n",
       "    }\n",
       "  }\n",
       "\n",
       "  \n",
       "  if (typeof (root._bokeh_timeout) === \"undefined\" || force === true) {\n",
       "    root._bokeh_timeout = Date.now() + 5000;\n",
       "    root._bokeh_failed_load = false;\n",
       "  }\n",
       "\n",
       "  var NB_LOAD_WARNING = {'data': {'text/html':\n",
       "     \"<div style='background-color: #fdd'>\\n\"+\n",
       "     \"<p>\\n\"+\n",
       "     \"BokehJS does not appear to have successfully loaded. If loading BokehJS from CDN, this \\n\"+\n",
       "     \"may be due to a slow or bad network connection. Possible fixes:\\n\"+\n",
       "     \"</p>\\n\"+\n",
       "     \"<ul>\\n\"+\n",
       "     \"<li>re-rerun `output_notebook()` to attempt to load from CDN again, or</li>\\n\"+\n",
       "     \"<li>use INLINE resources instead, as so:</li>\\n\"+\n",
       "     \"</ul>\\n\"+\n",
       "     \"<code>\\n\"+\n",
       "     \"from bokeh.resources import INLINE\\n\"+\n",
       "     \"output_notebook(resources=INLINE)\\n\"+\n",
       "     \"</code>\\n\"+\n",
       "     \"</div>\"}};\n",
       "\n",
       "  function display_loaded() {\n",
       "    var el = document.getElementById(\"1001\");\n",
       "    if (el != null) {\n",
       "      el.textContent = \"BokehJS is loading...\";\n",
       "    }\n",
       "    if (root.Bokeh !== undefined) {\n",
       "      if (el != null) {\n",
       "        el.textContent = \"BokehJS \" + root.Bokeh.version + \" successfully loaded.\";\n",
       "      }\n",
       "    } else if (Date.now() < root._bokeh_timeout) {\n",
       "      setTimeout(display_loaded, 100)\n",
       "    }\n",
       "  }\n",
       "\n",
       "\n",
       "  function run_callbacks() {\n",
       "    try {\n",
       "      root._bokeh_onload_callbacks.forEach(function(callback) {\n",
       "        if (callback != null)\n",
       "          callback();\n",
       "      });\n",
       "    } finally {\n",
       "      delete root._bokeh_onload_callbacks\n",
       "    }\n",
       "    console.debug(\"Bokeh: all callbacks have finished\");\n",
       "  }\n",
       "\n",
       "  function load_libs(css_urls, js_urls, callback) {\n",
       "    if (css_urls == null) css_urls = [];\n",
       "    if (js_urls == null) js_urls = [];\n",
       "\n",
       "    root._bokeh_onload_callbacks.push(callback);\n",
       "    if (root._bokeh_is_loading > 0) {\n",
       "      console.debug(\"Bokeh: BokehJS is being loaded, scheduling callback at\", now());\n",
       "      return null;\n",
       "    }\n",
       "    if (js_urls == null || js_urls.length === 0) {\n",
       "      run_callbacks();\n",
       "      return null;\n",
       "    }\n",
       "    console.debug(\"Bokeh: BokehJS not loaded, scheduling load and callback at\", now());\n",
       "    root._bokeh_is_loading = css_urls.length + js_urls.length;\n",
       "\n",
       "    function on_load() {\n",
       "      root._bokeh_is_loading--;\n",
       "      if (root._bokeh_is_loading === 0) {\n",
       "        console.debug(\"Bokeh: all BokehJS libraries/stylesheets loaded\");\n",
       "        run_callbacks()\n",
       "      }\n",
       "    }\n",
       "\n",
       "    function on_error() {\n",
       "      console.error(\"failed to load \" + url);\n",
       "    }\n",
       "\n",
       "    for (var i = 0; i < css_urls.length; i++) {\n",
       "      var url = css_urls[i];\n",
       "      const element = document.createElement(\"link\");\n",
       "      element.onload = on_load;\n",
       "      element.onerror = on_error;\n",
       "      element.rel = \"stylesheet\";\n",
       "      element.type = \"text/css\";\n",
       "      element.href = url;\n",
       "      console.debug(\"Bokeh: injecting link tag for BokehJS stylesheet: \", url);\n",
       "      document.body.appendChild(element);\n",
       "    }\n",
       "\n",
       "    const hashes = {\"https://cdn.bokeh.org/bokeh/release/bokeh-2.2.3.min.js\": \"T2yuo9Oe71Cz/I4X9Ac5+gpEa5a8PpJCDlqKYO0CfAuEszu1JrXLl8YugMqYe3sM\", \"https://cdn.bokeh.org/bokeh/release/bokeh-widgets-2.2.3.min.js\": \"98GDGJ0kOMCUMUePhksaQ/GYgB3+NH9h996V88sh3aOiUNX3N+fLXAtry6xctSZ6\", \"https://cdn.bokeh.org/bokeh/release/bokeh-tables-2.2.3.min.js\": \"89bArO+nlbP3sgakeHjCo1JYxYR5wufVgA3IbUvDY+K7w4zyxJqssu7wVnfeKCq8\"};\n",
       "\n",
       "    for (var i = 0; i < js_urls.length; i++) {\n",
       "      var url = js_urls[i];\n",
       "      var element = document.createElement('script');\n",
       "      element.onload = on_load;\n",
       "      element.onerror = on_error;\n",
       "      element.async = false;\n",
       "      element.src = url;\n",
       "      if (url in hashes) {\n",
       "        element.crossOrigin = \"anonymous\";\n",
       "        element.integrity = \"sha384-\" + hashes[url];\n",
       "      }\n",
       "      console.debug(\"Bokeh: injecting script tag for BokehJS library: \", url);\n",
       "      document.head.appendChild(element);\n",
       "    }\n",
       "  };\n",
       "\n",
       "  function inject_raw_css(css) {\n",
       "    const element = document.createElement(\"style\");\n",
       "    element.appendChild(document.createTextNode(css));\n",
       "    document.body.appendChild(element);\n",
       "  }\n",
       "\n",
       "  \n",
       "  var js_urls = [\"https://cdn.bokeh.org/bokeh/release/bokeh-2.2.3.min.js\", \"https://cdn.bokeh.org/bokeh/release/bokeh-widgets-2.2.3.min.js\", \"https://cdn.bokeh.org/bokeh/release/bokeh-tables-2.2.3.min.js\"];\n",
       "  var css_urls = [];\n",
       "  \n",
       "\n",
       "  var inline_js = [\n",
       "    function(Bokeh) {\n",
       "      Bokeh.set_log_level(\"info\");\n",
       "    },\n",
       "    function(Bokeh) {\n",
       "    \n",
       "    \n",
       "    }\n",
       "  ];\n",
       "\n",
       "  function run_inline_js() {\n",
       "    \n",
       "    if (root.Bokeh !== undefined || force === true) {\n",
       "      \n",
       "    for (var i = 0; i < inline_js.length; i++) {\n",
       "      inline_js[i].call(root, root.Bokeh);\n",
       "    }\n",
       "    if (force === true) {\n",
       "        display_loaded();\n",
       "      }} else if (Date.now() < root._bokeh_timeout) {\n",
       "      setTimeout(run_inline_js, 100);\n",
       "    } else if (!root._bokeh_failed_load) {\n",
       "      console.log(\"Bokeh: BokehJS failed to load within specified timeout.\");\n",
       "      root._bokeh_failed_load = true;\n",
       "    } else if (force !== true) {\n",
       "      var cell = $(document.getElementById(\"1001\")).parents('.cell').data().cell;\n",
       "      cell.output_area.append_execute_result(NB_LOAD_WARNING)\n",
       "    }\n",
       "\n",
       "  }\n",
       "\n",
       "  if (root._bokeh_is_loading === 0) {\n",
       "    console.debug(\"Bokeh: BokehJS loaded, going straight to plotting\");\n",
       "    run_inline_js();\n",
       "  } else {\n",
       "    load_libs(css_urls, js_urls, function() {\n",
       "      console.debug(\"Bokeh: BokehJS plotting callback run at\", now());\n",
       "      run_inline_js();\n",
       "    });\n",
       "  }\n",
       "}(window));"
      ],
      "application/vnd.bokehjs_load.v0+json": "\n(function(root) {\n  function now() {\n    return new Date();\n  }\n\n  var force = true;\n\n  if (typeof root._bokeh_onload_callbacks === \"undefined\" || force === true) {\n    root._bokeh_onload_callbacks = [];\n    root._bokeh_is_loading = undefined;\n  }\n\n  \n\n  \n  if (typeof (root._bokeh_timeout) === \"undefined\" || force === true) {\n    root._bokeh_timeout = Date.now() + 5000;\n    root._bokeh_failed_load = false;\n  }\n\n  var NB_LOAD_WARNING = {'data': {'text/html':\n     \"<div style='background-color: #fdd'>\\n\"+\n     \"<p>\\n\"+\n     \"BokehJS does not appear to have successfully loaded. If loading BokehJS from CDN, this \\n\"+\n     \"may be due to a slow or bad network connection. Possible fixes:\\n\"+\n     \"</p>\\n\"+\n     \"<ul>\\n\"+\n     \"<li>re-rerun `output_notebook()` to attempt to load from CDN again, or</li>\\n\"+\n     \"<li>use INLINE resources instead, as so:</li>\\n\"+\n     \"</ul>\\n\"+\n     \"<code>\\n\"+\n     \"from bokeh.resources import INLINE\\n\"+\n     \"output_notebook(resources=INLINE)\\n\"+\n     \"</code>\\n\"+\n     \"</div>\"}};\n\n  function display_loaded() {\n    var el = document.getElementById(\"1001\");\n    if (el != null) {\n      el.textContent = \"BokehJS is loading...\";\n    }\n    if (root.Bokeh !== undefined) {\n      if (el != null) {\n        el.textContent = \"BokehJS \" + root.Bokeh.version + \" successfully loaded.\";\n      }\n    } else if (Date.now() < root._bokeh_timeout) {\n      setTimeout(display_loaded, 100)\n    }\n  }\n\n\n  function run_callbacks() {\n    try {\n      root._bokeh_onload_callbacks.forEach(function(callback) {\n        if (callback != null)\n          callback();\n      });\n    } finally {\n      delete root._bokeh_onload_callbacks\n    }\n    console.debug(\"Bokeh: all callbacks have finished\");\n  }\n\n  function load_libs(css_urls, js_urls, callback) {\n    if (css_urls == null) css_urls = [];\n    if (js_urls == null) js_urls = [];\n\n    root._bokeh_onload_callbacks.push(callback);\n    if (root._bokeh_is_loading > 0) {\n      console.debug(\"Bokeh: BokehJS is being loaded, scheduling callback at\", now());\n      return null;\n    }\n    if (js_urls == null || js_urls.length === 0) {\n      run_callbacks();\n      return null;\n    }\n    console.debug(\"Bokeh: BokehJS not loaded, scheduling load and callback at\", now());\n    root._bokeh_is_loading = css_urls.length + js_urls.length;\n\n    function on_load() {\n      root._bokeh_is_loading--;\n      if (root._bokeh_is_loading === 0) {\n        console.debug(\"Bokeh: all BokehJS libraries/stylesheets loaded\");\n        run_callbacks()\n      }\n    }\n\n    function on_error() {\n      console.error(\"failed to load \" + url);\n    }\n\n    for (var i = 0; i < css_urls.length; i++) {\n      var url = css_urls[i];\n      const element = document.createElement(\"link\");\n      element.onload = on_load;\n      element.onerror = on_error;\n      element.rel = \"stylesheet\";\n      element.type = \"text/css\";\n      element.href = url;\n      console.debug(\"Bokeh: injecting link tag for BokehJS stylesheet: \", url);\n      document.body.appendChild(element);\n    }\n\n    const hashes = {\"https://cdn.bokeh.org/bokeh/release/bokeh-2.2.3.min.js\": \"T2yuo9Oe71Cz/I4X9Ac5+gpEa5a8PpJCDlqKYO0CfAuEszu1JrXLl8YugMqYe3sM\", \"https://cdn.bokeh.org/bokeh/release/bokeh-widgets-2.2.3.min.js\": \"98GDGJ0kOMCUMUePhksaQ/GYgB3+NH9h996V88sh3aOiUNX3N+fLXAtry6xctSZ6\", \"https://cdn.bokeh.org/bokeh/release/bokeh-tables-2.2.3.min.js\": \"89bArO+nlbP3sgakeHjCo1JYxYR5wufVgA3IbUvDY+K7w4zyxJqssu7wVnfeKCq8\"};\n\n    for (var i = 0; i < js_urls.length; i++) {\n      var url = js_urls[i];\n      var element = document.createElement('script');\n      element.onload = on_load;\n      element.onerror = on_error;\n      element.async = false;\n      element.src = url;\n      if (url in hashes) {\n        element.crossOrigin = \"anonymous\";\n        element.integrity = \"sha384-\" + hashes[url];\n      }\n      console.debug(\"Bokeh: injecting script tag for BokehJS library: \", url);\n      document.head.appendChild(element);\n    }\n  };\n\n  function inject_raw_css(css) {\n    const element = document.createElement(\"style\");\n    element.appendChild(document.createTextNode(css));\n    document.body.appendChild(element);\n  }\n\n  \n  var js_urls = [\"https://cdn.bokeh.org/bokeh/release/bokeh-2.2.3.min.js\", \"https://cdn.bokeh.org/bokeh/release/bokeh-widgets-2.2.3.min.js\", \"https://cdn.bokeh.org/bokeh/release/bokeh-tables-2.2.3.min.js\"];\n  var css_urls = [];\n  \n\n  var inline_js = [\n    function(Bokeh) {\n      Bokeh.set_log_level(\"info\");\n    },\n    function(Bokeh) {\n    \n    \n    }\n  ];\n\n  function run_inline_js() {\n    \n    if (root.Bokeh !== undefined || force === true) {\n      \n    for (var i = 0; i < inline_js.length; i++) {\n      inline_js[i].call(root, root.Bokeh);\n    }\n    if (force === true) {\n        display_loaded();\n      }} else if (Date.now() < root._bokeh_timeout) {\n      setTimeout(run_inline_js, 100);\n    } else if (!root._bokeh_failed_load) {\n      console.log(\"Bokeh: BokehJS failed to load within specified timeout.\");\n      root._bokeh_failed_load = true;\n    } else if (force !== true) {\n      var cell = $(document.getElementById(\"1001\")).parents('.cell').data().cell;\n      cell.output_area.append_execute_result(NB_LOAD_WARNING)\n    }\n\n  }\n\n  if (root._bokeh_is_loading === 0) {\n    console.debug(\"Bokeh: BokehJS loaded, going straight to plotting\");\n    run_inline_js();\n  } else {\n    load_libs(css_urls, js_urls, function() {\n      console.debug(\"Bokeh: BokehJS plotting callback run at\", now());\n      run_inline_js();\n    });\n  }\n}(window));"
     },
     "metadata": {},
     "output_type": "display_data"
    }
   ],
   "source": [
    "import matplotlib.pyplot as plt\n",
    "import numpy as np\n",
    "import pandas as pd\n",
    "pd.options.display.float_format = '{:,.4f}'.format\n",
    "import seaborn as sns\n",
    "sns.set_style('whitegrid')\n",
    "\n",
    "from bokeh.layouts import gridplot, column\n",
    "from bokeh.models import (BasicTicker, ColorBar, ColumnDataSource, \n",
    "                          HoverTool, LabelSet, LinearColorMapper, NumeralTickFormatter)\n",
    "from bokeh.palettes import brewer, RdBu, Reds\n",
    "from bokeh.plotting import figure, show, output_notebook\n",
    "from bokeh.transform import transform\n",
    "\n",
    "%config Completer.use_jedi = False\n",
    "output_notebook()"
   ]
  },
  {
   "cell_type": "markdown",
   "metadata": {},
   "source": [
    "The following code block defines a function that we will use to generate a confusion matrix for the various prediction models."
   ]
  },
  {
   "cell_type": "code",
   "execution_count": 2,
   "metadata": {},
   "outputs": [],
   "source": [
    "def plot_confusion_matrix(y_true, y_predicted):\n",
    "    \n",
    "    from sklearn import metrics\n",
    "    \n",
    "    accuracy = np.round(100*(y_true == y_predicted).astype(int).sum()/len(y_predicted), 2)\n",
    "    \n",
    "    confusion = pd.DataFrame(metrics.confusion_matrix(y_true, y_predicted))\n",
    "    confusion.index.name = \"True\"\n",
    "    confusion.columns.name = \"Predicted\"\n",
    "    confusion = confusion.stack().rename(\"value\").reset_index()\n",
    "    confusion['True'] = confusion['True'].astype(str)\n",
    "    confusion['Predicted'] = confusion['Predicted'].astype(str)\n",
    "\n",
    "    source = ColumnDataSource(confusion)\n",
    "\n",
    "    values = sorted(list(confusion['True'].unique()))\n",
    "\n",
    "    palette = brewer['RdBu'][10]\n",
    "    color_mapper = LinearColorMapper(\n",
    "        palette = palette, \n",
    "    )\n",
    "\n",
    "    p = figure(\n",
    "        plot_width = 400, \n",
    "        plot_height = 400, \n",
    "        title = f'Confusion Matrix: Overall accuracy = {accuracy}%',\n",
    "        x_range = ['0', '1'], \n",
    "        y_range = ['0', '1'],\n",
    "        x_axis_label = 'Predicted',\n",
    "        y_axis_label = 'True',\n",
    "        tools = 'hover', \n",
    "        x_axis_location=\"below\",\n",
    "    )\n",
    "\n",
    "    p.rect(\n",
    "        x = 'Predicted', \n",
    "        y = 'True', \n",
    "        width = 1, \n",
    "        height = 1, \n",
    "        source = source,\n",
    "        line_color = 'grey', \n",
    "        fill_color = transform('value', color_mapper),\n",
    "    )\n",
    "\n",
    "    hover = p.hover.tooltips = [\n",
    "        (\"True\", \"@{True}\"),\n",
    "        (\"Predicted\", \"@{Predicted}\"),\n",
    "        (\"Count\", \"@value\"),\n",
    "    ]\n",
    "\n",
    "    p.axis.axis_line_color = None\n",
    "    p.axis.major_tick_line_color = None\n",
    "    p.axis.major_label_text_font_size = \"14px\"\n",
    "    p.axis.major_label_standoff = 0\n",
    "    p.xaxis.major_label_orientation = 1.0\n",
    "    \n",
    "    labels = LabelSet(x='Predicted', y='True', text='value',\n",
    "                      render_mode='canvas', text_color = 'white',\n",
    "                      x_offset = 70, y_offset = 70, source=source,)\n",
    "\n",
    "    p.add_layout(labels)\n",
    "\n",
    "    show(p)"
   ]
  },
  {
   "cell_type": "markdown",
   "metadata": {},
   "source": [
    "We will use a subset of a popular dataset that has been used for ML demonstrations that focuses on the task of predicting heart disease in patients. Details on the dataset can be found at https://archive.ics.uci.edu/ml/datasets/heart+disease.\n",
    "\n",
    "The following code block reads the sample and create  a `heart_disease` column that captures whether or not the presence of heart disease was found in the patient."
   ]
  },
  {
   "cell_type": "code",
   "execution_count": 3,
   "metadata": {},
   "outputs": [
    {
     "data": {
      "text/html": [
       "<div>\n",
       "<style scoped>\n",
       "    .dataframe tbody tr th:only-of-type {\n",
       "        vertical-align: middle;\n",
       "    }\n",
       "\n",
       "    .dataframe tbody tr th {\n",
       "        vertical-align: top;\n",
       "    }\n",
       "\n",
       "    .dataframe thead th {\n",
       "        text-align: right;\n",
       "    }\n",
       "</style>\n",
       "<table border=\"1\" class=\"dataframe\">\n",
       "  <thead>\n",
       "    <tr style=\"text-align: right;\">\n",
       "      <th></th>\n",
       "      <th>age</th>\n",
       "      <th>sex</th>\n",
       "      <th>chest_pain</th>\n",
       "      <th>blood_pressure</th>\n",
       "      <th>serum_cholestoral</th>\n",
       "      <th>fasting_blood_sugar</th>\n",
       "      <th>electrocardiographic</th>\n",
       "      <th>max_heart_rate</th>\n",
       "      <th>induced_angina</th>\n",
       "      <th>ST_depression</th>\n",
       "      <th>slope</th>\n",
       "      <th>vessels</th>\n",
       "      <th>thal</th>\n",
       "      <th>heart_disease</th>\n",
       "    </tr>\n",
       "  </thead>\n",
       "  <tbody>\n",
       "    <tr>\n",
       "      <th>0</th>\n",
       "      <td>63.0000</td>\n",
       "      <td>1.0000</td>\n",
       "      <td>1.0000</td>\n",
       "      <td>145.0000</td>\n",
       "      <td>233.0000</td>\n",
       "      <td>1.0000</td>\n",
       "      <td>2.0000</td>\n",
       "      <td>150.0000</td>\n",
       "      <td>0.0000</td>\n",
       "      <td>2.3000</td>\n",
       "      <td>3.0000</td>\n",
       "      <td>0.0000</td>\n",
       "      <td>6.0000</td>\n",
       "      <td>0.0000</td>\n",
       "    </tr>\n",
       "    <tr>\n",
       "      <th>1</th>\n",
       "      <td>67.0000</td>\n",
       "      <td>1.0000</td>\n",
       "      <td>4.0000</td>\n",
       "      <td>160.0000</td>\n",
       "      <td>286.0000</td>\n",
       "      <td>0.0000</td>\n",
       "      <td>2.0000</td>\n",
       "      <td>108.0000</td>\n",
       "      <td>1.0000</td>\n",
       "      <td>1.5000</td>\n",
       "      <td>2.0000</td>\n",
       "      <td>3.0000</td>\n",
       "      <td>3.0000</td>\n",
       "      <td>1.0000</td>\n",
       "    </tr>\n",
       "    <tr>\n",
       "      <th>2</th>\n",
       "      <td>67.0000</td>\n",
       "      <td>1.0000</td>\n",
       "      <td>4.0000</td>\n",
       "      <td>120.0000</td>\n",
       "      <td>229.0000</td>\n",
       "      <td>0.0000</td>\n",
       "      <td>2.0000</td>\n",
       "      <td>129.0000</td>\n",
       "      <td>1.0000</td>\n",
       "      <td>2.6000</td>\n",
       "      <td>2.0000</td>\n",
       "      <td>2.0000</td>\n",
       "      <td>7.0000</td>\n",
       "      <td>1.0000</td>\n",
       "    </tr>\n",
       "    <tr>\n",
       "      <th>3</th>\n",
       "      <td>37.0000</td>\n",
       "      <td>1.0000</td>\n",
       "      <td>3.0000</td>\n",
       "      <td>130.0000</td>\n",
       "      <td>250.0000</td>\n",
       "      <td>0.0000</td>\n",
       "      <td>0.0000</td>\n",
       "      <td>187.0000</td>\n",
       "      <td>0.0000</td>\n",
       "      <td>3.5000</td>\n",
       "      <td>3.0000</td>\n",
       "      <td>0.0000</td>\n",
       "      <td>3.0000</td>\n",
       "      <td>0.0000</td>\n",
       "    </tr>\n",
       "    <tr>\n",
       "      <th>4</th>\n",
       "      <td>41.0000</td>\n",
       "      <td>0.0000</td>\n",
       "      <td>2.0000</td>\n",
       "      <td>130.0000</td>\n",
       "      <td>204.0000</td>\n",
       "      <td>0.0000</td>\n",
       "      <td>2.0000</td>\n",
       "      <td>172.0000</td>\n",
       "      <td>0.0000</td>\n",
       "      <td>1.4000</td>\n",
       "      <td>1.0000</td>\n",
       "      <td>0.0000</td>\n",
       "      <td>3.0000</td>\n",
       "      <td>0.0000</td>\n",
       "    </tr>\n",
       "  </tbody>\n",
       "</table>\n",
       "</div>"
      ],
      "text/plain": [
       "      age    sex  chest_pain  blood_pressure  serum_cholestoral  \\\n",
       "0 63.0000 1.0000      1.0000        145.0000           233.0000   \n",
       "1 67.0000 1.0000      4.0000        160.0000           286.0000   \n",
       "2 67.0000 1.0000      4.0000        120.0000           229.0000   \n",
       "3 37.0000 1.0000      3.0000        130.0000           250.0000   \n",
       "4 41.0000 0.0000      2.0000        130.0000           204.0000   \n",
       "\n",
       "   fasting_blood_sugar  electrocardiographic  max_heart_rate  induced_angina  \\\n",
       "0               1.0000                2.0000        150.0000          0.0000   \n",
       "1               0.0000                2.0000        108.0000          1.0000   \n",
       "2               0.0000                2.0000        129.0000          1.0000   \n",
       "3               0.0000                0.0000        187.0000          0.0000   \n",
       "4               0.0000                2.0000        172.0000          0.0000   \n",
       "\n",
       "   ST_depression  slope  vessels   thal  heart_disease  \n",
       "0         2.3000 3.0000   0.0000 6.0000         0.0000  \n",
       "1         1.5000 2.0000   3.0000 3.0000         1.0000  \n",
       "2         2.6000 2.0000   2.0000 7.0000         1.0000  \n",
       "3         3.5000 3.0000   0.0000 3.0000         0.0000  \n",
       "4         1.4000 1.0000   0.0000 3.0000         0.0000  "
      ]
     },
     "execution_count": 3,
     "metadata": {},
     "output_type": "execute_result"
    }
   ],
   "source": [
    "data = pd.read_csv('cleveland.csv')\n",
    "\n",
    "my_filter = data['diagnosis'] == 0\n",
    "data.loc[my_filter, 'heart_disease'] = 0\n",
    "data.loc[~my_filter, 'heart_disease'] = 1\n",
    "data = data.drop(columns = ['diagnosis'])\n",
    "data.columns = [col.replace(' ', '_') for col in data.columns]\n",
    "\n",
    "for col in data.columns:\n",
    "    data[col] = pd.to_numeric(data[col], errors = 'coerce')\n",
    "    data[col] = data[col].fillna(data[col].median())\n",
    "\n",
    "data.head()"
   ]
  },
  {
   "cell_type": "markdown",
   "metadata": {},
   "source": [
    "The following code block uses bokeh to generate a heatmap showing the correlation between column values."
   ]
  },
  {
   "cell_type": "code",
   "execution_count": 4,
   "metadata": {},
   "outputs": [
    {
     "data": {
      "text/html": [
       "\n",
       "\n",
       "\n",
       "\n",
       "\n",
       "\n",
       "  <div class=\"bk-root\" id=\"e4be8d03-7e52-4499-b38b-33c953e963bb\" data-root-id=\"1004\"></div>\n"
      ]
     },
     "metadata": {},
     "output_type": "display_data"
    },
    {
     "data": {
      "application/javascript": [
       "(function(root) {\n",
       "  function embed_document(root) {\n",
       "    \n",
       "  var docs_json = {\"db0a3369-92dc-4678-8f28-49aac12df026\":{\"roots\":{\"references\":[{\"attributes\":{\"below\":[{\"id\":\"1015\"}],\"center\":[{\"id\":\"1017\"},{\"id\":\"1020\"}],\"left\":[{\"id\":\"1018\"}],\"plot_height\":400,\"plot_width\":550,\"renderers\":[{\"id\":\"1027\"}],\"right\":[{\"id\":\"1030\"}],\"title\":{\"id\":\"1005\"},\"toolbar\":{\"id\":\"1022\"},\"x_range\":{\"id\":\"1007\"},\"x_scale\":{\"id\":\"1011\"},\"y_range\":{\"id\":\"1009\"},\"y_scale\":{\"id\":\"1013\"}},\"id\":\"1004\",\"subtype\":\"Figure\",\"type\":\"Plot\"},{\"attributes\":{\"data\":{\"Correlation\":{\"__ndarray__\":\"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\",\"dtype\":\"float64\",\"order\":\"little\",\"shape\":[196]},\"Variable 1\":[\"age\",\"age\",\"age\",\"age\",\"age\",\"age\",\"age\",\"age\",\"age\",\"age\",\"age\",\"age\",\"age\",\"age\",\"sex\",\"sex\",\"sex\",\"sex\",\"sex\",\"sex\",\"sex\",\"sex\",\"sex\",\"sex\",\"sex\",\"sex\",\"sex\",\"sex\",\"chest_pain\",\"chest_pain\",\"chest_pain\",\"chest_pain\",\"chest_pain\",\"chest_pain\",\"chest_pain\",\"chest_pain\",\"chest_pain\",\"chest_pain\",\"chest_pain\",\"chest_pain\",\"chest_pain\",\"chest_pain\",\"blood_pressure\",\"blood_pressure\",\"blood_pressure\",\"blood_pressure\",\"blood_pressure\",\"blood_pressure\",\"blood_pressure\",\"blood_pressure\",\"blood_pressure\",\"blood_pressure\",\"blood_pressure\",\"blood_pressure\",\"blood_pressure\",\"blood_pressure\",\"serum_cholestoral\",\"serum_cholestoral\",\"serum_cholestoral\",\"serum_cholestoral\",\"serum_cholestoral\",\"serum_cholestoral\",\"serum_cholestoral\",\"serum_cholestoral\",\"serum_cholestoral\",\"serum_cholestoral\",\"serum_cholestoral\",\"serum_cholestoral\",\"serum_cholestoral\",\"serum_cholestoral\",\"fasting_blood_sugar\",\"fasting_blood_sugar\",\"fasting_blood_sugar\",\"fasting_blood_sugar\",\"fasting_blood_sugar\",\"fasting_blood_sugar\",\"fasting_blood_sugar\",\"fasting_blood_sugar\",\"fasting_blood_sugar\",\"fasting_blood_sugar\",\"fasting_blood_sugar\",\"fasting_blood_sugar\",\"fasting_blood_sugar\",\"fasting_blood_sugar\",\"electrocardiographic\",\"electrocardiographic\",\"electrocardiographic\",\"electrocardiographic\",\"electrocardiographic\",\"electrocardiographic\",\"electrocardiographic\",\"electrocardiographic\",\"electrocardiographic\",\"electrocardiographic\",\"electrocardiographic\",\"electrocardiographic\",\"electrocardiographic\",\"electrocardiographic\",\"max_heart_rate\",\"max_heart_rate\",\"max_heart_rate\",\"max_heart_rate\",\"max_heart_rate\",\"max_heart_rate\",\"max_heart_rate\",\"max_heart_rate\",\"max_heart_rate\",\"max_heart_rate\",\"max_heart_rate\",\"max_heart_rate\",\"max_heart_rate\",\"max_heart_rate\",\"induced_angina\",\"induced_angina\",\"induced_angina\",\"induced_angina\",\"induced_angina\",\"induced_angina\",\"induced_angina\",\"induced_angina\",\"induced_angina\",\"induced_angina\",\"induced_angina\",\"induced_angina\",\"induced_angina\",\"induced_angina\",\"ST_depression\",\"ST_depression\",\"ST_depression\",\"ST_depression\",\"ST_depression\",\"ST_depression\",\"ST_depression\",\"ST_depression\",\"ST_depression\",\"ST_depression\",\"ST_depression\",\"ST_depression\",\"ST_depression\",\"ST_depression\",\"slope\",\"slope\",\"slope\",\"slope\",\"slope\",\"slope\",\"slope\",\"slope\",\"slope\",\"slope\",\"slope\",\"slope\",\"slope\",\"slope\",\"vessels\",\"vessels\",\"vessels\",\"vessels\",\"vessels\",\"vessels\",\"vessels\",\"vessels\",\"vessels\",\"vessels\",\"vessels\",\"vessels\",\"vessels\",\"vessels\",\"thal\",\"thal\",\"thal\",\"thal\",\"thal\",\"thal\",\"thal\",\"thal\",\"thal\",\"thal\",\"thal\",\"thal\",\"thal\",\"thal\",\"heart_disease\",\"heart_disease\",\"heart_disease\",\"heart_disease\",\"heart_disease\",\"heart_disease\",\"heart_disease\",\"heart_disease\",\"heart_disease\",\"heart_disease\",\"heart_disease\",\"heart_disease\",\"heart_disease\",\"heart_disease\"],\"Variable 2\":[\"age\",\"sex\",\"chest_pain\",\"blood_pressure\",\"serum_cholestoral\",\"fasting_blood_sugar\",\"electrocardiographic\",\"max_heart_rate\",\"induced_angina\",\"ST_depression\",\"slope\",\"vessels\",\"thal\",\"heart_disease\",\"age\",\"sex\",\"chest_pain\",\"blood_pressure\",\"serum_cholestoral\",\"fasting_blood_sugar\",\"electrocardiographic\",\"max_heart_rate\",\"induced_angina\",\"ST_depression\",\"slope\",\"vessels\",\"thal\",\"heart_disease\",\"age\",\"sex\",\"chest_pain\",\"blood_pressure\",\"serum_cholestoral\",\"fasting_blood_sugar\",\"electrocardiographic\",\"max_heart_rate\",\"induced_angina\",\"ST_depression\",\"slope\",\"vessels\",\"thal\",\"heart_disease\",\"age\",\"sex\",\"chest_pain\",\"blood_pressure\",\"serum_cholestoral\",\"fasting_blood_sugar\",\"electrocardiographic\",\"max_heart_rate\",\"induced_angina\",\"ST_depression\",\"slope\",\"vessels\",\"thal\",\"heart_disease\",\"age\",\"sex\",\"chest_pain\",\"blood_pressure\",\"serum_cholestoral\",\"fasting_blood_sugar\",\"electrocardiographic\",\"max_heart_rate\",\"induced_angina\",\"ST_depression\",\"slope\",\"vessels\",\"thal\",\"heart_disease\",\"age\",\"sex\",\"chest_pain\",\"blood_pressure\",\"serum_cholestoral\",\"fasting_blood_sugar\",\"electrocardiographic\",\"max_heart_rate\",\"induced_angina\",\"ST_depression\",\"slope\",\"vessels\",\"thal\",\"heart_disease\",\"age\",\"sex\",\"chest_pain\",\"blood_pressure\",\"serum_cholestoral\",\"fasting_blood_sugar\",\"electrocardiographic\",\"max_heart_rate\",\"induced_angina\",\"ST_depression\",\"slope\",\"vessels\",\"thal\",\"heart_disease\",\"age\",\"sex\",\"chest_pain\",\"blood_pressure\",\"serum_cholestoral\",\"fasting_blood_sugar\",\"electrocardiographic\",\"max_heart_rate\",\"induced_angina\",\"ST_depression\",\"slope\",\"vessels\",\"thal\",\"heart_disease\",\"age\",\"sex\",\"chest_pain\",\"blood_pressure\",\"serum_cholestoral\",\"fasting_blood_sugar\",\"electrocardiographic\",\"max_heart_rate\",\"induced_angina\",\"ST_depression\",\"slope\",\"vessels\",\"thal\",\"heart_disease\",\"age\",\"sex\",\"chest_pain\",\"blood_pressure\",\"serum_cholestoral\",\"fasting_blood_sugar\",\"electrocardiographic\",\"max_heart_rate\",\"induced_angina\",\"ST_depression\",\"slope\",\"vessels\",\"thal\",\"heart_disease\",\"age\",\"sex\",\"chest_pain\",\"blood_pressure\",\"serum_cholestoral\",\"fasting_blood_sugar\",\"electrocardiographic\",\"max_heart_rate\",\"induced_angina\",\"ST_depression\",\"slope\",\"vessels\",\"thal\",\"heart_disease\",\"age\",\"sex\",\"chest_pain\",\"blood_pressure\",\"serum_cholestoral\",\"fasting_blood_sugar\",\"electrocardiographic\",\"max_heart_rate\",\"induced_angina\",\"ST_depression\",\"slope\",\"vessels\",\"thal\",\"heart_disease\",\"age\",\"sex\",\"chest_pain\",\"blood_pressure\",\"serum_cholestoral\",\"fasting_blood_sugar\",\"electrocardiographic\",\"max_heart_rate\",\"induced_angina\",\"ST_depression\",\"slope\",\"vessels\",\"thal\",\"heart_disease\",\"age\",\"sex\",\"chest_pain\",\"blood_pressure\",\"serum_cholestoral\",\"fasting_blood_sugar\",\"electrocardiographic\",\"max_heart_rate\",\"induced_angina\",\"ST_depression\",\"slope\",\"vessels\",\"thal\",\"heart_disease\"],\"index\":[0,1,2,3,4,5,6,7,8,9,10,11,12,13,14,15,16,17,18,19,20,21,22,23,24,25,26,27,28,29,30,31,32,33,34,35,36,37,38,39,40,41,42,43,44,45,46,47,48,49,50,51,52,53,54,55,56,57,58,59,60,61,62,63,64,65,66,67,68,69,70,71,72,73,74,75,76,77,78,79,80,81,82,83,84,85,86,87,88,89,90,91,92,93,94,95,96,97,98,99,100,101,102,103,104,105,106,107,108,109,110,111,112,113,114,115,116,117,118,119,120,121,122,123,124,125,126,127,128,129,130,131,132,133,134,135,136,137,138,139,140,141,142,143,144,145,146,147,148,149,150,151,152,153,154,155,156,157,158,159,160,161,162,163,164,165,166,167,168,169,170,171,172,173,174,175,176,177,178,179,180,181,182,183,184,185,186,187,188,189,190,191,192,193,194,195]},\"selected\":{\"id\":\"1041\"},\"selection_policy\":{\"id\":\"1040\"}},\"id\":\"1002\",\"type\":\"ColumnDataSource\"},{\"attributes\":{},\"id\":\"1036\",\"type\":\"CategoricalTickFormatter\"},{\"attributes\":{\"fill_alpha\":{\"value\":0.1},\"fill_color\":{\"field\":\"Correlation\",\"transform\":{\"id\":\"1003\"}},\"height\":{\"units\":\"data\",\"value\":1},\"line_alpha\":{\"value\":0.1},\"line_color\":{\"value\":\"grey\"},\"width\":{\"units\":\"data\",\"value\":1},\"x\":{\"field\":\"Variable 2\"},\"y\":{\"field\":\"Variable 1\"}},\"id\":\"1026\",\"type\":\"Rect\"},{\"attributes\":{\"text\":\"Correlation Matrix\"},\"id\":\"1005\",\"type\":\"Title\"},{\"attributes\":{},\"id\":\"1038\",\"type\":\"CategoricalTickFormatter\"},{\"attributes\":{\"factors\":[\"ST_depression\",\"age\",\"blood_pressure\",\"chest_pain\",\"electrocardiographic\",\"fasting_blood_sugar\",\"heart_disease\",\"induced_angina\",\"max_heart_rate\",\"serum_cholestoral\",\"sex\",\"slope\",\"thal\",\"vessels\"]},\"id\":\"1007\",\"type\":\"FactorRange\"},{\"attributes\":{},\"id\":\"1016\",\"type\":\"CategoricalTicker\"},{\"attributes\":{\"high\":1.0,\"low\":-1,\"palette\":[\"#053061\",\"#2166ac\",\"#4393c3\",\"#92c5de\",\"#d1e5f0\",\"#fddbc7\",\"#f4a582\",\"#d6604d\",\"#b2182b\",\"#67001f\"]},\"id\":\"1003\",\"type\":\"LinearColorMapper\"},{\"attributes\":{},\"id\":\"1013\",\"type\":\"CategoricalScale\"},{\"attributes\":{\"color_mapper\":{\"id\":\"1003\"},\"formatter\":{\"id\":\"1032\"},\"label_standoff\":4,\"location\":[0,0],\"major_label_text_align\":\"left\",\"major_label_text_font_size\":\"12px\",\"ticker\":{\"id\":\"1029\"}},\"id\":\"1030\",\"type\":\"ColorBar\"},{\"attributes\":{\"active_drag\":\"auto\",\"active_inspect\":\"auto\",\"active_multi\":null,\"active_scroll\":\"auto\",\"active_tap\":\"auto\",\"tools\":[{\"id\":\"1021\"}]},\"id\":\"1022\",\"type\":\"Toolbar\"},{\"attributes\":{\"axis_line_color\":null,\"formatter\":{\"id\":\"1036\"},\"major_label_orientation\":1.0,\"major_label_standoff\":0,\"major_label_text_font_size\":\"12px\",\"major_tick_line_color\":null,\"ticker\":{\"id\":\"1016\"}},\"id\":\"1015\",\"type\":\"CategoricalAxis\"},{\"attributes\":{\"callback\":null,\"tooltips\":[[\"Variable 1\",\"@{Variable 1}\"],[\"Variable 2\",\"@{Variable 2}\"],[\"Correlation\",\"@Correlation{0.2f%}\"]]},\"id\":\"1021\",\"type\":\"HoverTool\"},{\"attributes\":{\"source\":{\"id\":\"1002\"}},\"id\":\"1028\",\"type\":\"CDSView\"},{\"attributes\":{\"axis\":{\"id\":\"1015\"},\"ticker\":null},\"id\":\"1017\",\"type\":\"Grid\"},{\"attributes\":{\"format\":\"0.0%\"},\"id\":\"1032\",\"type\":\"NumeralTickFormatter\"},{\"attributes\":{},\"id\":\"1011\",\"type\":\"CategoricalScale\"},{\"attributes\":{},\"id\":\"1041\",\"type\":\"Selection\"},{\"attributes\":{\"data_source\":{\"id\":\"1002\"},\"glyph\":{\"id\":\"1025\"},\"hover_glyph\":null,\"muted_glyph\":null,\"nonselection_glyph\":{\"id\":\"1026\"},\"selection_glyph\":null,\"view\":{\"id\":\"1028\"}},\"id\":\"1027\",\"type\":\"GlyphRenderer\"},{\"attributes\":{\"factors\":[\"vessels\",\"thal\",\"slope\",\"sex\",\"serum_cholestoral\",\"max_heart_rate\",\"induced_angina\",\"heart_disease\",\"fasting_blood_sugar\",\"electrocardiographic\",\"chest_pain\",\"blood_pressure\",\"age\",\"ST_depression\"]},\"id\":\"1009\",\"type\":\"FactorRange\"},{\"attributes\":{\"axis_line_color\":null,\"formatter\":{\"id\":\"1038\"},\"major_label_standoff\":0,\"major_label_text_font_size\":\"12px\",\"major_tick_line_color\":null,\"ticker\":{\"id\":\"1019\"}},\"id\":\"1018\",\"type\":\"CategoricalAxis\"},{\"attributes\":{},\"id\":\"1019\",\"type\":\"CategoricalTicker\"},{\"attributes\":{\"axis\":{\"id\":\"1018\"},\"dimension\":1,\"ticker\":null},\"id\":\"1020\",\"type\":\"Grid\"},{\"attributes\":{},\"id\":\"1040\",\"type\":\"UnionRenderers\"},{\"attributes\":{\"fill_color\":{\"field\":\"Correlation\",\"transform\":{\"id\":\"1003\"}},\"height\":{\"units\":\"data\",\"value\":1},\"line_color\":{\"value\":\"grey\"},\"width\":{\"units\":\"data\",\"value\":1},\"x\":{\"field\":\"Variable 2\"},\"y\":{\"field\":\"Variable 1\"}},\"id\":\"1025\",\"type\":\"Rect\"},{\"attributes\":{\"desired_num_ticks\":10},\"id\":\"1029\",\"type\":\"BasicTicker\"}],\"root_ids\":[\"1004\"]},\"title\":\"Bokeh Application\",\"version\":\"2.2.3\"}};\n",
       "  var render_items = [{\"docid\":\"db0a3369-92dc-4678-8f28-49aac12df026\",\"root_ids\":[\"1004\"],\"roots\":{\"1004\":\"e4be8d03-7e52-4499-b38b-33c953e963bb\"}}];\n",
       "  root.Bokeh.embed.embed_items_notebook(docs_json, render_items);\n",
       "\n",
       "  }\n",
       "  if (root.Bokeh !== undefined) {\n",
       "    embed_document(root);\n",
       "  } else {\n",
       "    var attempts = 0;\n",
       "    var timer = setInterval(function(root) {\n",
       "      if (root.Bokeh !== undefined) {\n",
       "        clearInterval(timer);\n",
       "        embed_document(root);\n",
       "      } else {\n",
       "        attempts++;\n",
       "        if (attempts > 100) {\n",
       "          clearInterval(timer);\n",
       "          console.log(\"Bokeh: ERROR: Unable to run BokehJS code because BokehJS library is missing\");\n",
       "        }\n",
       "      }\n",
       "    }, 10, root)\n",
       "  }\n",
       "})(window);"
      ],
      "application/vnd.bokehjs_exec.v0+json": ""
     },
     "metadata": {
      "application/vnd.bokehjs_exec.v0+json": {
       "id": "1004"
      }
     },
     "output_type": "display_data"
    }
   ],
   "source": [
    "correlation_matrix = data.corr()\n",
    "correlation_matrix = correlation_matrix.unstack().reset_index()\n",
    "correlation_matrix.columns = ['Variable 1', 'Variable 2', 'Correlation']\n",
    "variables = sorted(list(correlation_matrix['Variable 1'].unique()))\n",
    "\n",
    "source = ColumnDataSource(correlation_matrix)\n",
    "\n",
    "palette = brewer['RdBu'][10]\n",
    "color_mapper = LinearColorMapper(\n",
    "    palette = palette, \n",
    "    low = -1, \n",
    "    high = 1.0,\n",
    ")\n",
    "\n",
    "p = figure(\n",
    "    plot_width = 550, \n",
    "    plot_height = 400, \n",
    "    title = f'Correlation Matrix',\n",
    "    x_range = variables, \n",
    "    y_range = list(reversed(variables)),\n",
    "    tools = 'hover', \n",
    "    x_axis_location=\"below\",\n",
    ")\n",
    "\n",
    "p.rect(\n",
    "    x = 'Variable 2', \n",
    "    y = 'Variable 1', \n",
    "    width = 1, \n",
    "    height = 1, \n",
    "    source = source,\n",
    "    line_color = 'grey', \n",
    "    fill_color = transform('Correlation', color_mapper),\n",
    ")\n",
    "\n",
    "color_bar = ColorBar(\n",
    "    color_mapper = color_mapper, \n",
    "    location = (0, 0),\n",
    "    ticker = BasicTicker(desired_num_ticks = len(palette)),\n",
    ")\n",
    "color_bar.formatter = NumeralTickFormatter(format=\"0.0%\")\n",
    "\n",
    "p.add_layout(color_bar, 'right')\n",
    "\n",
    "hover = p.hover.tooltips = [\n",
    "    (\"Variable 1\", \"@{Variable 1}\"),\n",
    "    (\"Variable 2\", \"@{Variable 2}\"),\n",
    "    (\"Correlation\", \"@Correlation{0.2f%}\"),\n",
    "]\n",
    "\n",
    "p.axis.axis_line_color = None\n",
    "p.axis.major_tick_line_color = None\n",
    "p.axis.major_label_text_font_size = \"12px\"\n",
    "p.axis.major_label_standoff = 0\n",
    "p.xaxis.major_label_orientation = 1.0\n",
    "\n",
    "color_bar.label_standoff = 4\n",
    "color_bar.major_label_text_align = 'left'\n",
    "color_bar.major_label_text_font_size = '12px'\n",
    "\n",
    "show(p)"
   ]
  },
  {
   "cell_type": "markdown",
   "metadata": {},
   "source": [
    "The following code block defines a list of `features`, which are things that we want to use to base our predictions on, and a `target` variable, which denotes the column that we aim to predict."
   ]
  },
  {
   "cell_type": "code",
   "execution_count": 5,
   "metadata": {},
   "outputs": [],
   "source": [
    "features = [\n",
    "    'age', \n",
    "    'sex', \n",
    "    'chest_pain', \n",
    "    'blood_pressure', \n",
    "    'serum_cholestoral',\n",
    "    'fasting_blood_sugar', \n",
    "    'electrocardiographic', \n",
    "    'max_heart_rate',\n",
    "    'induced_angina', \n",
    "    'ST_depression', \n",
    "    'slope', \n",
    "    'vessels', \n",
    "    'thal',\n",
    "]\n",
    "\n",
    "target = 'heart_disease'"
   ]
  },
  {
   "cell_type": "markdown",
   "metadata": {},
   "source": [
    "Before attempting any prediction, let's inspect the value in the various feature columns."
   ]
  },
  {
   "cell_type": "code",
   "execution_count": 6,
   "metadata": {},
   "outputs": [
    {
     "data": {
      "text/html": [
       "<div>\n",
       "<style scoped>\n",
       "    .dataframe tbody tr th:only-of-type {\n",
       "        vertical-align: middle;\n",
       "    }\n",
       "\n",
       "    .dataframe tbody tr th {\n",
       "        vertical-align: top;\n",
       "    }\n",
       "\n",
       "    .dataframe thead th {\n",
       "        text-align: right;\n",
       "    }\n",
       "</style>\n",
       "<table border=\"1\" class=\"dataframe\">\n",
       "  <thead>\n",
       "    <tr style=\"text-align: right;\">\n",
       "      <th></th>\n",
       "      <th>count</th>\n",
       "      <th>mean</th>\n",
       "      <th>std</th>\n",
       "      <th>min</th>\n",
       "      <th>50%</th>\n",
       "      <th>max</th>\n",
       "    </tr>\n",
       "  </thead>\n",
       "  <tbody>\n",
       "    <tr>\n",
       "      <th>age</th>\n",
       "      <td>303.0000</td>\n",
       "      <td>54.4389</td>\n",
       "      <td>9.0387</td>\n",
       "      <td>29.0000</td>\n",
       "      <td>56.0000</td>\n",
       "      <td>77.0000</td>\n",
       "    </tr>\n",
       "    <tr>\n",
       "      <th>sex</th>\n",
       "      <td>303.0000</td>\n",
       "      <td>0.6799</td>\n",
       "      <td>0.4673</td>\n",
       "      <td>0.0000</td>\n",
       "      <td>1.0000</td>\n",
       "      <td>1.0000</td>\n",
       "    </tr>\n",
       "    <tr>\n",
       "      <th>chest_pain</th>\n",
       "      <td>303.0000</td>\n",
       "      <td>3.1584</td>\n",
       "      <td>0.9601</td>\n",
       "      <td>1.0000</td>\n",
       "      <td>3.0000</td>\n",
       "      <td>4.0000</td>\n",
       "    </tr>\n",
       "    <tr>\n",
       "      <th>blood_pressure</th>\n",
       "      <td>303.0000</td>\n",
       "      <td>131.6898</td>\n",
       "      <td>17.5997</td>\n",
       "      <td>94.0000</td>\n",
       "      <td>130.0000</td>\n",
       "      <td>200.0000</td>\n",
       "    </tr>\n",
       "    <tr>\n",
       "      <th>serum_cholestoral</th>\n",
       "      <td>303.0000</td>\n",
       "      <td>246.6931</td>\n",
       "      <td>51.7769</td>\n",
       "      <td>126.0000</td>\n",
       "      <td>241.0000</td>\n",
       "      <td>564.0000</td>\n",
       "    </tr>\n",
       "    <tr>\n",
       "      <th>fasting_blood_sugar</th>\n",
       "      <td>303.0000</td>\n",
       "      <td>0.1485</td>\n",
       "      <td>0.3562</td>\n",
       "      <td>0.0000</td>\n",
       "      <td>0.0000</td>\n",
       "      <td>1.0000</td>\n",
       "    </tr>\n",
       "    <tr>\n",
       "      <th>electrocardiographic</th>\n",
       "      <td>303.0000</td>\n",
       "      <td>0.9901</td>\n",
       "      <td>0.9950</td>\n",
       "      <td>0.0000</td>\n",
       "      <td>1.0000</td>\n",
       "      <td>2.0000</td>\n",
       "    </tr>\n",
       "    <tr>\n",
       "      <th>max_heart_rate</th>\n",
       "      <td>303.0000</td>\n",
       "      <td>149.6073</td>\n",
       "      <td>22.8750</td>\n",
       "      <td>71.0000</td>\n",
       "      <td>153.0000</td>\n",
       "      <td>202.0000</td>\n",
       "    </tr>\n",
       "    <tr>\n",
       "      <th>induced_angina</th>\n",
       "      <td>303.0000</td>\n",
       "      <td>0.3267</td>\n",
       "      <td>0.4698</td>\n",
       "      <td>0.0000</td>\n",
       "      <td>0.0000</td>\n",
       "      <td>1.0000</td>\n",
       "    </tr>\n",
       "    <tr>\n",
       "      <th>ST_depression</th>\n",
       "      <td>303.0000</td>\n",
       "      <td>1.0396</td>\n",
       "      <td>1.1611</td>\n",
       "      <td>0.0000</td>\n",
       "      <td>0.8000</td>\n",
       "      <td>6.2000</td>\n",
       "    </tr>\n",
       "    <tr>\n",
       "      <th>slope</th>\n",
       "      <td>303.0000</td>\n",
       "      <td>1.6007</td>\n",
       "      <td>0.6162</td>\n",
       "      <td>1.0000</td>\n",
       "      <td>2.0000</td>\n",
       "      <td>3.0000</td>\n",
       "    </tr>\n",
       "    <tr>\n",
       "      <th>vessels</th>\n",
       "      <td>303.0000</td>\n",
       "      <td>0.6634</td>\n",
       "      <td>0.9344</td>\n",
       "      <td>0.0000</td>\n",
       "      <td>0.0000</td>\n",
       "      <td>3.0000</td>\n",
       "    </tr>\n",
       "    <tr>\n",
       "      <th>thal</th>\n",
       "      <td>303.0000</td>\n",
       "      <td>4.7228</td>\n",
       "      <td>1.9384</td>\n",
       "      <td>3.0000</td>\n",
       "      <td>3.0000</td>\n",
       "      <td>7.0000</td>\n",
       "    </tr>\n",
       "    <tr>\n",
       "      <th>heart_disease</th>\n",
       "      <td>303.0000</td>\n",
       "      <td>0.4587</td>\n",
       "      <td>0.4991</td>\n",
       "      <td>0.0000</td>\n",
       "      <td>0.0000</td>\n",
       "      <td>1.0000</td>\n",
       "    </tr>\n",
       "  </tbody>\n",
       "</table>\n",
       "</div>"
      ],
      "text/plain": [
       "                        count     mean     std      min      50%      max\n",
       "age                  303.0000  54.4389  9.0387  29.0000  56.0000  77.0000\n",
       "sex                  303.0000   0.6799  0.4673   0.0000   1.0000   1.0000\n",
       "chest_pain           303.0000   3.1584  0.9601   1.0000   3.0000   4.0000\n",
       "blood_pressure       303.0000 131.6898 17.5997  94.0000 130.0000 200.0000\n",
       "serum_cholestoral    303.0000 246.6931 51.7769 126.0000 241.0000 564.0000\n",
       "fasting_blood_sugar  303.0000   0.1485  0.3562   0.0000   0.0000   1.0000\n",
       "electrocardiographic 303.0000   0.9901  0.9950   0.0000   1.0000   2.0000\n",
       "max_heart_rate       303.0000 149.6073 22.8750  71.0000 153.0000 202.0000\n",
       "induced_angina       303.0000   0.3267  0.4698   0.0000   0.0000   1.0000\n",
       "ST_depression        303.0000   1.0396  1.1611   0.0000   0.8000   6.2000\n",
       "slope                303.0000   1.6007  0.6162   1.0000   2.0000   3.0000\n",
       "vessels              303.0000   0.6634  0.9344   0.0000   0.0000   3.0000\n",
       "thal                 303.0000   4.7228  1.9384   3.0000   3.0000   7.0000\n",
       "heart_disease        303.0000   0.4587  0.4991   0.0000   0.0000   1.0000"
      ]
     },
     "execution_count": 6,
     "metadata": {},
     "output_type": "execute_result"
    }
   ],
   "source": [
    "data.describe(percentiles = [0.5]).transpose()"
   ]
  },
  {
   "cell_type": "markdown",
   "metadata": {},
   "source": [
    "As you can see, the values for each feature are not similarly scaled. This can be an issue for some prediction models. The following code block uses the `StandardScaler` class from `scikit-learn` to scale the feature values, which are saved in a DataFrame named `scaled_data`. "
   ]
  },
  {
   "cell_type": "code",
   "execution_count": 7,
   "metadata": {},
   "outputs": [],
   "source": [
    "from sklearn import preprocessing\n",
    "\n",
    "scaler = preprocessing.StandardScaler()\n",
    "scaled_data = scaler.fit(data[features])\n",
    "scaled_data = scaler.fit_transform(data[features])\n",
    "scaled_data = pd.DataFrame(scaled_data, columns = features)\n",
    "scaled_data[target] = data[target]\n",
    "\n",
    "# scaler.mean_\n",
    "# scaler.scale_"
   ]
  },
  {
   "cell_type": "markdown",
   "metadata": {},
   "source": [
    "The following code block shows that the scaled data is much more comparable with respect to scaling."
   ]
  },
  {
   "cell_type": "code",
   "execution_count": 8,
   "metadata": {},
   "outputs": [
    {
     "data": {
      "text/html": [
       "<div>\n",
       "<style scoped>\n",
       "    .dataframe tbody tr th:only-of-type {\n",
       "        vertical-align: middle;\n",
       "    }\n",
       "\n",
       "    .dataframe tbody tr th {\n",
       "        vertical-align: top;\n",
       "    }\n",
       "\n",
       "    .dataframe thead th {\n",
       "        text-align: right;\n",
       "    }\n",
       "</style>\n",
       "<table border=\"1\" class=\"dataframe\">\n",
       "  <thead>\n",
       "    <tr style=\"text-align: right;\">\n",
       "      <th></th>\n",
       "      <th>count</th>\n",
       "      <th>mean</th>\n",
       "      <th>std</th>\n",
       "      <th>min</th>\n",
       "      <th>50%</th>\n",
       "      <th>max</th>\n",
       "    </tr>\n",
       "  </thead>\n",
       "  <tbody>\n",
       "    <tr>\n",
       "      <th>age</th>\n",
       "      <td>303.0000</td>\n",
       "      <td>-0.0000</td>\n",
       "      <td>1.0017</td>\n",
       "      <td>-2.8191</td>\n",
       "      <td>0.1730</td>\n",
       "      <td>2.5002</td>\n",
       "    </tr>\n",
       "    <tr>\n",
       "      <th>sex</th>\n",
       "      <td>303.0000</td>\n",
       "      <td>-0.0000</td>\n",
       "      <td>1.0017</td>\n",
       "      <td>-1.4573</td>\n",
       "      <td>0.6862</td>\n",
       "      <td>0.6862</td>\n",
       "    </tr>\n",
       "    <tr>\n",
       "      <th>chest_pain</th>\n",
       "      <td>303.0000</td>\n",
       "      <td>-0.0000</td>\n",
       "      <td>1.0017</td>\n",
       "      <td>-2.2518</td>\n",
       "      <td>-0.1653</td>\n",
       "      <td>0.8780</td>\n",
       "    </tr>\n",
       "    <tr>\n",
       "      <th>blood_pressure</th>\n",
       "      <td>303.0000</td>\n",
       "      <td>0.0000</td>\n",
       "      <td>1.0017</td>\n",
       "      <td>-2.1450</td>\n",
       "      <td>-0.0962</td>\n",
       "      <td>3.8877</td>\n",
       "    </tr>\n",
       "    <tr>\n",
       "      <th>serum_cholestoral</th>\n",
       "      <td>303.0000</td>\n",
       "      <td>0.0000</td>\n",
       "      <td>1.0017</td>\n",
       "      <td>-2.3349</td>\n",
       "      <td>-0.1101</td>\n",
       "      <td>6.1385</td>\n",
       "    </tr>\n",
       "    <tr>\n",
       "      <th>fasting_blood_sugar</th>\n",
       "      <td>303.0000</td>\n",
       "      <td>-0.0000</td>\n",
       "      <td>1.0017</td>\n",
       "      <td>-0.4176</td>\n",
       "      <td>-0.4176</td>\n",
       "      <td>2.3944</td>\n",
       "    </tr>\n",
       "    <tr>\n",
       "      <th>electrocardiographic</th>\n",
       "      <td>303.0000</td>\n",
       "      <td>-0.0000</td>\n",
       "      <td>1.0017</td>\n",
       "      <td>-0.9967</td>\n",
       "      <td>0.0100</td>\n",
       "      <td>1.0167</td>\n",
       "    </tr>\n",
       "    <tr>\n",
       "      <th>max_heart_rate</th>\n",
       "      <td>303.0000</td>\n",
       "      <td>-0.0000</td>\n",
       "      <td>1.0017</td>\n",
       "      <td>-3.4421</td>\n",
       "      <td>0.1486</td>\n",
       "      <td>2.2942</td>\n",
       "    </tr>\n",
       "    <tr>\n",
       "      <th>induced_angina</th>\n",
       "      <td>303.0000</td>\n",
       "      <td>-0.0000</td>\n",
       "      <td>1.0017</td>\n",
       "      <td>-0.6966</td>\n",
       "      <td>-0.6966</td>\n",
       "      <td>1.4355</td>\n",
       "    </tr>\n",
       "    <tr>\n",
       "      <th>ST_depression</th>\n",
       "      <td>303.0000</td>\n",
       "      <td>0.0000</td>\n",
       "      <td>1.0017</td>\n",
       "      <td>-0.8969</td>\n",
       "      <td>-0.2067</td>\n",
       "      <td>4.4519</td>\n",
       "    </tr>\n",
       "    <tr>\n",
       "      <th>slope</th>\n",
       "      <td>303.0000</td>\n",
       "      <td>0.0000</td>\n",
       "      <td>1.0017</td>\n",
       "      <td>-0.9764</td>\n",
       "      <td>0.6491</td>\n",
       "      <td>2.2746</td>\n",
       "    </tr>\n",
       "    <tr>\n",
       "      <th>vessels</th>\n",
       "      <td>303.0000</td>\n",
       "      <td>-0.0000</td>\n",
       "      <td>1.0017</td>\n",
       "      <td>-0.7111</td>\n",
       "      <td>-0.7111</td>\n",
       "      <td>2.5049</td>\n",
       "    </tr>\n",
       "    <tr>\n",
       "      <th>thal</th>\n",
       "      <td>303.0000</td>\n",
       "      <td>0.0000</td>\n",
       "      <td>1.0017</td>\n",
       "      <td>-0.8902</td>\n",
       "      <td>-0.8902</td>\n",
       "      <td>1.1768</td>\n",
       "    </tr>\n",
       "    <tr>\n",
       "      <th>heart_disease</th>\n",
       "      <td>303.0000</td>\n",
       "      <td>0.4587</td>\n",
       "      <td>0.4991</td>\n",
       "      <td>0.0000</td>\n",
       "      <td>0.0000</td>\n",
       "      <td>1.0000</td>\n",
       "    </tr>\n",
       "  </tbody>\n",
       "</table>\n",
       "</div>"
      ],
      "text/plain": [
       "                        count    mean    std     min     50%    max\n",
       "age                  303.0000 -0.0000 1.0017 -2.8191  0.1730 2.5002\n",
       "sex                  303.0000 -0.0000 1.0017 -1.4573  0.6862 0.6862\n",
       "chest_pain           303.0000 -0.0000 1.0017 -2.2518 -0.1653 0.8780\n",
       "blood_pressure       303.0000  0.0000 1.0017 -2.1450 -0.0962 3.8877\n",
       "serum_cholestoral    303.0000  0.0000 1.0017 -2.3349 -0.1101 6.1385\n",
       "fasting_blood_sugar  303.0000 -0.0000 1.0017 -0.4176 -0.4176 2.3944\n",
       "electrocardiographic 303.0000 -0.0000 1.0017 -0.9967  0.0100 1.0167\n",
       "max_heart_rate       303.0000 -0.0000 1.0017 -3.4421  0.1486 2.2942\n",
       "induced_angina       303.0000 -0.0000 1.0017 -0.6966 -0.6966 1.4355\n",
       "ST_depression        303.0000  0.0000 1.0017 -0.8969 -0.2067 4.4519\n",
       "slope                303.0000  0.0000 1.0017 -0.9764  0.6491 2.2746\n",
       "vessels              303.0000 -0.0000 1.0017 -0.7111 -0.7111 2.5049\n",
       "thal                 303.0000  0.0000 1.0017 -0.8902 -0.8902 1.1768\n",
       "heart_disease        303.0000  0.4587 0.4991  0.0000  0.0000 1.0000"
      ]
     },
     "execution_count": 8,
     "metadata": {},
     "output_type": "execute_result"
    }
   ],
   "source": [
    "scaled_data.describe(percentiles = [0.5]).transpose()"
   ]
  },
  {
   "cell_type": "markdown",
   "metadata": {},
   "source": [
    "Typically, we measure the quality of prediction models using training and testing datasets. Before constructing such datasets, let's look at how the target variable is distributed."
   ]
  },
  {
   "cell_type": "code",
   "execution_count": 9,
   "metadata": {},
   "outputs": [
    {
     "data": {
      "text/plain": [
       "0.0000   0.5413\n",
       "1.0000   0.4587\n",
       "Name: heart_disease, dtype: float64"
      ]
     },
     "execution_count": 9,
     "metadata": {},
     "output_type": "execute_result"
    }
   ],
   "source": [
    "pd.value_counts(scaled_data[target])/pd.value_counts(scaled_data[target]).sum()"
   ]
  },
  {
   "cell_type": "markdown",
   "metadata": {},
   "source": [
    "In our dataset, we have an relatively even distribution of values in the target column. However, it is a good practice to make sure that your training and testing datasets have the same distribution. The following code blocks demonstrate how we can come up with somehwat unrepresentative train/test splits if we are not careful."
   ]
  },
  {
   "cell_type": "code",
   "execution_count": 10,
   "metadata": {},
   "outputs": [
    {
     "name": "stdout",
     "output_type": "stream",
     "text": [
      "297\n",
      "736\n",
      "790\n",
      "809\n",
      "839\n",
      "952\n"
     ]
    }
   ],
   "source": [
    "from sklearn.model_selection import train_test_split\n",
    "\n",
    "for i in range(1000):\n",
    "    train, test = train_test_split(scaled_data, random_state = i)\n",
    "    temp = pd.value_counts(train[target])/pd.value_counts(train[target]).sum()\n",
    "    if temp[0] < temp[1]:\n",
    "        print(i)"
   ]
  },
  {
   "cell_type": "markdown",
   "metadata": {},
   "source": [
    "We can use the `stratify` argument in scikit-learn's `test_train_split` function to ensure our splits are representative of the balance we observe in the data."
   ]
  },
  {
   "cell_type": "code",
   "execution_count": 11,
   "metadata": {},
   "outputs": [],
   "source": [
    "for i in range(1000):\n",
    "    train, test = train_test_split(scaled_data, stratify = scaled_data[target], random_state = i)\n",
    "    temp = pd.value_counts(train[target])/pd.value_counts(train[target]).sum()\n",
    "    if temp[0] < temp[1]:\n",
    "        print(i)"
   ]
  },
  {
   "cell_type": "code",
   "execution_count": 12,
   "metadata": {},
   "outputs": [
    {
     "data": {
      "text/plain": [
       "0.0000   0.5419\n",
       "1.0000   0.4581\n",
       "Name: heart_disease, dtype: float64"
      ]
     },
     "execution_count": 12,
     "metadata": {},
     "output_type": "execute_result"
    }
   ],
   "source": [
    "train, test = train_test_split(scaled_data, stratify = scaled_data[target], random_state = 809)\n",
    "pd.value_counts(train[target])/pd.value_counts(train[target]).sum()"
   ]
  },
  {
   "cell_type": "markdown",
   "metadata": {},
   "source": [
    "The following code block creates our various train/test objects."
   ]
  },
  {
   "cell_type": "code",
   "execution_count": 13,
   "metadata": {},
   "outputs": [],
   "source": [
    "train, test = train_test_split(scaled_data, stratify = scaled_data[target], random_state = 809)\n",
    "x_train, y_train = train[features], train[target]\n",
    "x_test, y_test = test[features], test[target]"
   ]
  },
  {
   "cell_type": "markdown",
   "metadata": {},
   "source": [
    "# Question: Would linear regression work?\n",
    "\n",
    "The following code block uses `statsmodels` linear regression implementation to understand the effects of features on the target."
   ]
  },
  {
   "cell_type": "code",
   "execution_count": 14,
   "metadata": {},
   "outputs": [
    {
     "data": {
      "text/html": [
       "<table class=\"simpletable\">\n",
       "<caption>OLS Regression Results</caption>\n",
       "<tr>\n",
       "  <th>Dep. Variable:</th>      <td>heart_disease</td>  <th>  R-squared:         </th> <td>   0.602</td>\n",
       "</tr>\n",
       "<tr>\n",
       "  <th>Model:</th>                   <td>OLS</td>       <th>  Adj. R-squared:    </th> <td>   0.578</td>\n",
       "</tr>\n",
       "<tr>\n",
       "  <th>Method:</th>             <td>Least Squares</td>  <th>  F-statistic:       </th> <td>   24.81</td>\n",
       "</tr>\n",
       "<tr>\n",
       "  <th>Date:</th>             <td>Mon, 22 Feb 2021</td> <th>  Prob (F-statistic):</th> <td>8.30e-36</td>\n",
       "</tr>\n",
       "<tr>\n",
       "  <th>Time:</th>                 <td>14:21:03</td>     <th>  Log-Likelihood:    </th> <td> -59.302</td>\n",
       "</tr>\n",
       "<tr>\n",
       "  <th>No. Observations:</th>      <td>   227</td>      <th>  AIC:               </th> <td>   146.6</td>\n",
       "</tr>\n",
       "<tr>\n",
       "  <th>Df Residuals:</th>          <td>   213</td>      <th>  BIC:               </th> <td>   194.6</td>\n",
       "</tr>\n",
       "<tr>\n",
       "  <th>Df Model:</th>              <td>    13</td>      <th>                     </th>     <td> </td>   \n",
       "</tr>\n",
       "<tr>\n",
       "  <th>Covariance Type:</th>      <td>nonrobust</td>    <th>                     </th>     <td> </td>   \n",
       "</tr>\n",
       "</table>\n",
       "<table class=\"simpletable\">\n",
       "<tr>\n",
       "            <td></td>              <th>coef</th>     <th>std err</th>      <th>t</th>      <th>P>|t|</th>  <th>[0.025</th>    <th>0.975]</th>  \n",
       "</tr>\n",
       "<tr>\n",
       "  <th>Intercept</th>            <td>    0.4602</td> <td>    0.022</td> <td>   21.178</td> <td> 0.000</td> <td>    0.417</td> <td>    0.503</td>\n",
       "</tr>\n",
       "<tr>\n",
       "  <th>age</th>                  <td>   -0.0017</td> <td>    0.026</td> <td>   -0.063</td> <td> 0.950</td> <td>   -0.054</td> <td>    0.050</td>\n",
       "</tr>\n",
       "<tr>\n",
       "  <th>sex</th>                  <td>    0.0754</td> <td>    0.025</td> <td>    3.076</td> <td> 0.002</td> <td>    0.027</td> <td>    0.124</td>\n",
       "</tr>\n",
       "<tr>\n",
       "  <th>chest_pain</th>           <td>    0.0954</td> <td>    0.025</td> <td>    3.811</td> <td> 0.000</td> <td>    0.046</td> <td>    0.145</td>\n",
       "</tr>\n",
       "<tr>\n",
       "  <th>blood_pressure</th>       <td>    0.0325</td> <td>    0.025</td> <td>    1.308</td> <td> 0.192</td> <td>   -0.016</td> <td>    0.082</td>\n",
       "</tr>\n",
       "<tr>\n",
       "  <th>serum_cholestoral</th>    <td>    0.0165</td> <td>    0.025</td> <td>    0.666</td> <td> 0.506</td> <td>   -0.032</td> <td>    0.065</td>\n",
       "</tr>\n",
       "<tr>\n",
       "  <th>fasting_blood_sugar</th>  <td>   -0.0210</td> <td>    0.023</td> <td>   -0.912</td> <td> 0.363</td> <td>   -0.066</td> <td>    0.024</td>\n",
       "</tr>\n",
       "<tr>\n",
       "  <th>electrocardiographic</th> <td>    0.0116</td> <td>    0.022</td> <td>    0.518</td> <td> 0.605</td> <td>   -0.033</td> <td>    0.056</td>\n",
       "</tr>\n",
       "<tr>\n",
       "  <th>max_heart_rate</th>       <td>   -0.0495</td> <td>    0.027</td> <td>   -1.820</td> <td> 0.070</td> <td>   -0.103</td> <td>    0.004</td>\n",
       "</tr>\n",
       "<tr>\n",
       "  <th>induced_angina</th>       <td>    0.0473</td> <td>    0.025</td> <td>    1.892</td> <td> 0.060</td> <td>   -0.002</td> <td>    0.097</td>\n",
       "</tr>\n",
       "<tr>\n",
       "  <th>ST_depression</th>        <td>    0.0720</td> <td>    0.029</td> <td>    2.515</td> <td> 0.013</td> <td>    0.016</td> <td>    0.128</td>\n",
       "</tr>\n",
       "<tr>\n",
       "  <th>slope</th>                <td>    0.0176</td> <td>    0.029</td> <td>    0.615</td> <td> 0.539</td> <td>   -0.039</td> <td>    0.074</td>\n",
       "</tr>\n",
       "<tr>\n",
       "  <th>vessels</th>              <td>    0.1465</td> <td>    0.025</td> <td>    5.835</td> <td> 0.000</td> <td>    0.097</td> <td>    0.196</td>\n",
       "</tr>\n",
       "<tr>\n",
       "  <th>thal</th>                 <td>    0.1324</td> <td>    0.027</td> <td>    4.971</td> <td> 0.000</td> <td>    0.080</td> <td>    0.185</td>\n",
       "</tr>\n",
       "</table>\n",
       "<table class=\"simpletable\">\n",
       "<tr>\n",
       "  <th>Omnibus:</th>       <td> 6.631</td> <th>  Durbin-Watson:     </th> <td>   1.793</td>\n",
       "</tr>\n",
       "<tr>\n",
       "  <th>Prob(Omnibus):</th> <td> 0.036</td> <th>  Jarque-Bera (JB):  </th> <td>   6.611</td>\n",
       "</tr>\n",
       "<tr>\n",
       "  <th>Skew:</th>          <td> 0.330</td> <th>  Prob(JB):          </th> <td>  0.0367</td>\n",
       "</tr>\n",
       "<tr>\n",
       "  <th>Kurtosis:</th>      <td> 3.513</td> <th>  Cond. No.          </th> <td>    3.02</td>\n",
       "</tr>\n",
       "</table><br/><br/>Notes:<br/>[1] Standard Errors assume that the covariance matrix of the errors is correctly specified."
      ],
      "text/plain": [
       "<class 'statsmodels.iolib.summary.Summary'>\n",
       "\"\"\"\n",
       "                            OLS Regression Results                            \n",
       "==============================================================================\n",
       "Dep. Variable:          heart_disease   R-squared:                       0.602\n",
       "Model:                            OLS   Adj. R-squared:                  0.578\n",
       "Method:                 Least Squares   F-statistic:                     24.81\n",
       "Date:                Mon, 22 Feb 2021   Prob (F-statistic):           8.30e-36\n",
       "Time:                        14:21:03   Log-Likelihood:                -59.302\n",
       "No. Observations:                 227   AIC:                             146.6\n",
       "Df Residuals:                     213   BIC:                             194.6\n",
       "Df Model:                          13                                         \n",
       "Covariance Type:            nonrobust                                         \n",
       "========================================================================================\n",
       "                           coef    std err          t      P>|t|      [0.025      0.975]\n",
       "----------------------------------------------------------------------------------------\n",
       "Intercept                0.4602      0.022     21.178      0.000       0.417       0.503\n",
       "age                     -0.0017      0.026     -0.063      0.950      -0.054       0.050\n",
       "sex                      0.0754      0.025      3.076      0.002       0.027       0.124\n",
       "chest_pain               0.0954      0.025      3.811      0.000       0.046       0.145\n",
       "blood_pressure           0.0325      0.025      1.308      0.192      -0.016       0.082\n",
       "serum_cholestoral        0.0165      0.025      0.666      0.506      -0.032       0.065\n",
       "fasting_blood_sugar     -0.0210      0.023     -0.912      0.363      -0.066       0.024\n",
       "electrocardiographic     0.0116      0.022      0.518      0.605      -0.033       0.056\n",
       "max_heart_rate          -0.0495      0.027     -1.820      0.070      -0.103       0.004\n",
       "induced_angina           0.0473      0.025      1.892      0.060      -0.002       0.097\n",
       "ST_depression            0.0720      0.029      2.515      0.013       0.016       0.128\n",
       "slope                    0.0176      0.029      0.615      0.539      -0.039       0.074\n",
       "vessels                  0.1465      0.025      5.835      0.000       0.097       0.196\n",
       "thal                     0.1324      0.027      4.971      0.000       0.080       0.185\n",
       "==============================================================================\n",
       "Omnibus:                        6.631   Durbin-Watson:                   1.793\n",
       "Prob(Omnibus):                  0.036   Jarque-Bera (JB):                6.611\n",
       "Skew:                           0.330   Prob(JB):                       0.0367\n",
       "Kurtosis:                       3.513   Cond. No.                         3.02\n",
       "==============================================================================\n",
       "\n",
       "Notes:\n",
       "[1] Standard Errors assume that the covariance matrix of the errors is correctly specified.\n",
       "\"\"\""
      ]
     },
     "execution_count": 14,
     "metadata": {},
     "output_type": "execute_result"
    }
   ],
   "source": [
    "import statsmodels.formula.api as smf\n",
    "\n",
    "formula = f\"{target} ~ {' + '.join(features)}\"\n",
    "\n",
    "model = smf.ols(\n",
    "    formula = formula, \n",
    "    data = train)\n",
    "\n",
    "fit_model = model.fit()\n",
    "\n",
    "fit_model.summary()"
   ]
  },
  {
   "cell_type": "markdown",
   "metadata": {},
   "source": [
    "The following code block shows how we can use the fit model to make predictions."
   ]
  },
  {
   "cell_type": "code",
   "execution_count": 15,
   "metadata": {},
   "outputs": [
    {
     "data": {
      "text/plain": [
       "92     1\n",
       "190    0\n",
       "215    0\n",
       "294    0\n",
       "35     0\n",
       "      ..\n",
       "280    1\n",
       "191    1\n",
       "213    1\n",
       "126    1\n",
       "268    0\n",
       "Length: 76, dtype: int32"
      ]
     },
     "execution_count": 15,
     "metadata": {},
     "output_type": "execute_result"
    }
   ],
   "source": [
    "predictions = fit_model.predict(test[features])\n",
    "\n",
    "predictions =(predictions > 0.5).astype(int)\n",
    " \n",
    "predictions"
   ]
  },
  {
   "cell_type": "markdown",
   "metadata": {},
   "source": [
    "The following code block compares the predictions on our test data to the actual target values in our test data to generate a `confusion matrix`. This matrix allows us to inspect the accuracy of our model with respect to true/false positives and true/false negatives."
   ]
  },
  {
   "cell_type": "code",
   "execution_count": 16,
   "metadata": {},
   "outputs": [
    {
     "data": {
      "text/html": [
       "\n",
       "\n",
       "\n",
       "\n",
       "\n",
       "\n",
       "  <div class=\"bk-root\" id=\"042bc0b5-2158-4f08-a3aa-9778d15abdd5\" data-root-id=\"1079\"></div>\n"
      ]
     },
     "metadata": {},
     "output_type": "display_data"
    },
    {
     "data": {
      "application/javascript": [
       "(function(root) {\n",
       "  function embed_document(root) {\n",
       "    \n",
       "  var docs_json = {\"e89d705d-1e6c-43e9-9d45-b6480f8fcafc\":{\"roots\":{\"references\":[{\"attributes\":{\"below\":[{\"id\":\"1090\"}],\"center\":[{\"id\":\"1092\"},{\"id\":\"1095\"},{\"id\":\"1105\"}],\"left\":[{\"id\":\"1093\"}],\"plot_height\":400,\"plot_width\":400,\"renderers\":[{\"id\":\"1102\"}],\"title\":{\"id\":\"1080\"},\"toolbar\":{\"id\":\"1097\"},\"x_range\":{\"id\":\"1082\"},\"x_scale\":{\"id\":\"1086\"},\"y_range\":{\"id\":\"1084\"},\"y_scale\":{\"id\":\"1088\"}},\"id\":\"1079\",\"subtype\":\"Figure\",\"type\":\"Plot\"},{\"attributes\":{},\"id\":\"1086\",\"type\":\"CategoricalScale\"},{\"attributes\":{\"fill_alpha\":{\"value\":0.1},\"fill_color\":{\"field\":\"value\",\"transform\":{\"id\":\"1078\"}},\"height\":{\"units\":\"data\",\"value\":1},\"line_alpha\":{\"value\":0.1},\"line_color\":{\"value\":\"grey\"},\"width\":{\"units\":\"data\",\"value\":1},\"x\":{\"field\":\"Predicted\"},\"y\":{\"field\":\"True\"}},\"id\":\"1101\",\"type\":\"Rect\"},{\"attributes\":{\"active_drag\":\"auto\",\"active_inspect\":\"auto\",\"active_multi\":null,\"active_scroll\":\"auto\",\"active_tap\":\"auto\",\"tools\":[{\"id\":\"1096\"}]},\"id\":\"1097\",\"type\":\"Toolbar\"},{\"attributes\":{},\"id\":\"1115\",\"type\":\"CategoricalTickFormatter\"},{\"attributes\":{\"axis\":{\"id\":\"1093\"},\"dimension\":1,\"ticker\":null},\"id\":\"1095\",\"type\":\"Grid\"},{\"attributes\":{\"palette\":[\"#053061\",\"#2166ac\",\"#4393c3\",\"#92c5de\",\"#d1e5f0\",\"#fddbc7\",\"#f4a582\",\"#d6604d\",\"#b2182b\",\"#67001f\"]},\"id\":\"1078\",\"type\":\"LinearColorMapper\"},{\"attributes\":{\"data_source\":{\"id\":\"1077\"},\"glyph\":{\"id\":\"1100\"},\"hover_glyph\":null,\"muted_glyph\":null,\"nonselection_glyph\":{\"id\":\"1101\"},\"selection_glyph\":null,\"view\":{\"id\":\"1103\"}},\"id\":\"1102\",\"type\":\"GlyphRenderer\"},{\"attributes\":{\"factors\":[\"0\",\"1\"]},\"id\":\"1084\",\"type\":\"FactorRange\"},{\"attributes\":{\"axis\":{\"id\":\"1090\"},\"ticker\":null},\"id\":\"1092\",\"type\":\"Grid\"},{\"attributes\":{},\"id\":\"1119\",\"type\":\"UnionRenderers\"},{\"attributes\":{},\"id\":\"1094\",\"type\":\"CategoricalTicker\"},{\"attributes\":{\"text\":\"Confusion Matrix: Overall accuracy = 78.95%\"},\"id\":\"1080\",\"type\":\"Title\"},{\"attributes\":{\"data\":{\"Predicted\":[\"0\",\"1\",\"0\",\"1\"],\"True\":[\"0\",\"0\",\"1\",\"1\"],\"index\":[0,1,2,3],\"value\":[36,5,11,24]},\"selected\":{\"id\":\"1120\"},\"selection_policy\":{\"id\":\"1119\"}},\"id\":\"1077\",\"type\":\"ColumnDataSource\"},{\"attributes\":{\"callback\":null,\"tooltips\":[[\"True\",\"@{True}\"],[\"Predicted\",\"@{Predicted}\"],[\"Count\",\"@value\"]]},\"id\":\"1096\",\"type\":\"HoverTool\"},{\"attributes\":{\"axis_label\":\"Predicted\",\"axis_line_color\":null,\"formatter\":{\"id\":\"1115\"},\"major_label_orientation\":1.0,\"major_label_standoff\":0,\"major_label_text_font_size\":\"14px\",\"major_tick_line_color\":null,\"ticker\":{\"id\":\"1091\"}},\"id\":\"1090\",\"type\":\"CategoricalAxis\"},{\"attributes\":{},\"id\":\"1117\",\"type\":\"CategoricalTickFormatter\"},{\"attributes\":{\"source\":{\"id\":\"1077\"},\"text\":{\"field\":\"value\"},\"text_color\":{\"value\":\"white\"},\"x\":{\"field\":\"Predicted\"},\"x_offset\":{\"value\":70},\"y\":{\"field\":\"True\"},\"y_offset\":{\"value\":70}},\"id\":\"1105\",\"type\":\"LabelSet\"},{\"attributes\":{\"factors\":[\"0\",\"1\"]},\"id\":\"1082\",\"type\":\"FactorRange\"},{\"attributes\":{},\"id\":\"1091\",\"type\":\"CategoricalTicker\"},{\"attributes\":{},\"id\":\"1088\",\"type\":\"CategoricalScale\"},{\"attributes\":{\"fill_color\":{\"field\":\"value\",\"transform\":{\"id\":\"1078\"}},\"height\":{\"units\":\"data\",\"value\":1},\"line_color\":{\"value\":\"grey\"},\"width\":{\"units\":\"data\",\"value\":1},\"x\":{\"field\":\"Predicted\"},\"y\":{\"field\":\"True\"}},\"id\":\"1100\",\"type\":\"Rect\"},{\"attributes\":{\"axis_label\":\"True\",\"axis_line_color\":null,\"formatter\":{\"id\":\"1117\"},\"major_label_standoff\":0,\"major_label_text_font_size\":\"14px\",\"major_tick_line_color\":null,\"ticker\":{\"id\":\"1094\"}},\"id\":\"1093\",\"type\":\"CategoricalAxis\"},{\"attributes\":{},\"id\":\"1120\",\"type\":\"Selection\"},{\"attributes\":{\"source\":{\"id\":\"1077\"}},\"id\":\"1103\",\"type\":\"CDSView\"}],\"root_ids\":[\"1079\"]},\"title\":\"Bokeh Application\",\"version\":\"2.2.3\"}};\n",
       "  var render_items = [{\"docid\":\"e89d705d-1e6c-43e9-9d45-b6480f8fcafc\",\"root_ids\":[\"1079\"],\"roots\":{\"1079\":\"042bc0b5-2158-4f08-a3aa-9778d15abdd5\"}}];\n",
       "  root.Bokeh.embed.embed_items_notebook(docs_json, render_items);\n",
       "\n",
       "  }\n",
       "  if (root.Bokeh !== undefined) {\n",
       "    embed_document(root);\n",
       "  } else {\n",
       "    var attempts = 0;\n",
       "    var timer = setInterval(function(root) {\n",
       "      if (root.Bokeh !== undefined) {\n",
       "        clearInterval(timer);\n",
       "        embed_document(root);\n",
       "      } else {\n",
       "        attempts++;\n",
       "        if (attempts > 100) {\n",
       "          clearInterval(timer);\n",
       "          console.log(\"Bokeh: ERROR: Unable to run BokehJS code because BokehJS library is missing\");\n",
       "        }\n",
       "      }\n",
       "    }, 10, root)\n",
       "  }\n",
       "})(window);"
      ],
      "application/vnd.bokehjs_exec.v0+json": ""
     },
     "metadata": {
      "application/vnd.bokehjs_exec.v0+json": {
       "id": "1079"
      }
     },
     "output_type": "display_data"
    }
   ],
   "source": [
    "predictions = fit_model.predict(test[features])\n",
    "\n",
    "predictions = (predictions > 0.5).astype(int)\n",
    "\n",
    "plot_confusion_matrix(y_test.values, predictions.values)"
   ]
  },
  {
   "cell_type": "markdown",
   "metadata": {},
   "source": [
    "# What about other, more *sophisticated* approaches?"
   ]
  },
  {
   "cell_type": "markdown",
   "metadata": {},
   "source": [
    "## Logistic Regression\n",
    "\n",
    "https://en.wikipedia.org/wiki/Logistic_regression"
   ]
  },
  {
   "cell_type": "code",
   "execution_count": 17,
   "metadata": {},
   "outputs": [],
   "source": [
    "from sklearn.linear_model import LogisticRegression"
   ]
  },
  {
   "cell_type": "code",
   "execution_count": 18,
   "metadata": {},
   "outputs": [
    {
     "data": {
      "text/plain": [
       "0.7894736842105263"
      ]
     },
     "execution_count": 18,
     "metadata": {},
     "output_type": "execute_result"
    }
   ],
   "source": [
    "clf = LogisticRegression(random_state=0, solver = 'newton-cg')\n",
    "\n",
    "clf = clf.fit(x_train, y_train)\n",
    "\n",
    "clf.score(x_test, y_test)"
   ]
  },
  {
   "cell_type": "code",
   "execution_count": 19,
   "metadata": {},
   "outputs": [
    {
     "data": {
      "text/html": [
       "\n",
       "\n",
       "\n",
       "\n",
       "\n",
       "\n",
       "  <div class=\"bk-root\" id=\"b78adc53-0f49-4d84-970b-b02620a39bde\" data-root-id=\"1158\"></div>\n"
      ]
     },
     "metadata": {},
     "output_type": "display_data"
    },
    {
     "data": {
      "application/javascript": [
       "(function(root) {\n",
       "  function embed_document(root) {\n",
       "    \n",
       "  var docs_json = {\"3429e661-b5dd-4870-a007-7183027ac9d9\":{\"roots\":{\"references\":[{\"attributes\":{\"below\":[{\"id\":\"1169\"}],\"center\":[{\"id\":\"1171\"},{\"id\":\"1174\"},{\"id\":\"1184\"}],\"left\":[{\"id\":\"1172\"}],\"plot_height\":400,\"plot_width\":400,\"renderers\":[{\"id\":\"1181\"}],\"title\":{\"id\":\"1159\"},\"toolbar\":{\"id\":\"1176\"},\"x_range\":{\"id\":\"1161\"},\"x_scale\":{\"id\":\"1165\"},\"y_range\":{\"id\":\"1163\"},\"y_scale\":{\"id\":\"1167\"}},\"id\":\"1158\",\"subtype\":\"Figure\",\"type\":\"Plot\"},{\"attributes\":{\"source\":{\"id\":\"1156\"},\"text\":{\"field\":\"value\"},\"text_color\":{\"value\":\"white\"},\"x\":{\"field\":\"Predicted\"},\"x_offset\":{\"value\":70},\"y\":{\"field\":\"True\"},\"y_offset\":{\"value\":70}},\"id\":\"1184\",\"type\":\"LabelSet\"},{\"attributes\":{},\"id\":\"1173\",\"type\":\"CategoricalTicker\"},{\"attributes\":{\"fill_alpha\":{\"value\":0.1},\"fill_color\":{\"field\":\"value\",\"transform\":{\"id\":\"1157\"}},\"height\":{\"units\":\"data\",\"value\":1},\"line_alpha\":{\"value\":0.1},\"line_color\":{\"value\":\"grey\"},\"width\":{\"units\":\"data\",\"value\":1},\"x\":{\"field\":\"Predicted\"},\"y\":{\"field\":\"True\"}},\"id\":\"1180\",\"type\":\"Rect\"},{\"attributes\":{\"source\":{\"id\":\"1156\"}},\"id\":\"1182\",\"type\":\"CDSView\"},{\"attributes\":{\"axis_label\":\"Predicted\",\"axis_line_color\":null,\"formatter\":{\"id\":\"1201\"},\"major_label_orientation\":1.0,\"major_label_standoff\":0,\"major_label_text_font_size\":\"14px\",\"major_tick_line_color\":null,\"ticker\":{\"id\":\"1170\"}},\"id\":\"1169\",\"type\":\"CategoricalAxis\"},{\"attributes\":{},\"id\":\"1205\",\"type\":\"UnionRenderers\"},{\"attributes\":{\"data_source\":{\"id\":\"1156\"},\"glyph\":{\"id\":\"1179\"},\"hover_glyph\":null,\"muted_glyph\":null,\"nonselection_glyph\":{\"id\":\"1180\"},\"selection_glyph\":null,\"view\":{\"id\":\"1182\"}},\"id\":\"1181\",\"type\":\"GlyphRenderer\"},{\"attributes\":{\"factors\":[\"0\",\"1\"]},\"id\":\"1163\",\"type\":\"FactorRange\"},{\"attributes\":{},\"id\":\"1206\",\"type\":\"Selection\"},{\"attributes\":{},\"id\":\"1165\",\"type\":\"CategoricalScale\"},{\"attributes\":{},\"id\":\"1203\",\"type\":\"CategoricalTickFormatter\"},{\"attributes\":{\"axis\":{\"id\":\"1172\"},\"dimension\":1,\"ticker\":null},\"id\":\"1174\",\"type\":\"Grid\"},{\"attributes\":{},\"id\":\"1167\",\"type\":\"CategoricalScale\"},{\"attributes\":{},\"id\":\"1201\",\"type\":\"CategoricalTickFormatter\"},{\"attributes\":{\"axis_label\":\"True\",\"axis_line_color\":null,\"formatter\":{\"id\":\"1203\"},\"major_label_standoff\":0,\"major_label_text_font_size\":\"14px\",\"major_tick_line_color\":null,\"ticker\":{\"id\":\"1173\"}},\"id\":\"1172\",\"type\":\"CategoricalAxis\"},{\"attributes\":{\"fill_color\":{\"field\":\"value\",\"transform\":{\"id\":\"1157\"}},\"height\":{\"units\":\"data\",\"value\":1},\"line_color\":{\"value\":\"grey\"},\"width\":{\"units\":\"data\",\"value\":1},\"x\":{\"field\":\"Predicted\"},\"y\":{\"field\":\"True\"}},\"id\":\"1179\",\"type\":\"Rect\"},{\"attributes\":{\"active_drag\":\"auto\",\"active_inspect\":\"auto\",\"active_multi\":null,\"active_scroll\":\"auto\",\"active_tap\":\"auto\",\"tools\":[{\"id\":\"1175\"}]},\"id\":\"1176\",\"type\":\"Toolbar\"},{\"attributes\":{\"data\":{\"Predicted\":[\"0\",\"1\",\"0\",\"1\"],\"True\":[\"0\",\"0\",\"1\",\"1\"],\"index\":[0,1,2,3],\"value\":[36,5,11,24]},\"selected\":{\"id\":\"1206\"},\"selection_policy\":{\"id\":\"1205\"}},\"id\":\"1156\",\"type\":\"ColumnDataSource\"},{\"attributes\":{\"axis\":{\"id\":\"1169\"},\"ticker\":null},\"id\":\"1171\",\"type\":\"Grid\"},{\"attributes\":{\"callback\":null,\"tooltips\":[[\"True\",\"@{True}\"],[\"Predicted\",\"@{Predicted}\"],[\"Count\",\"@value\"]]},\"id\":\"1175\",\"type\":\"HoverTool\"},{\"attributes\":{\"factors\":[\"0\",\"1\"]},\"id\":\"1161\",\"type\":\"FactorRange\"},{\"attributes\":{\"text\":\"Confusion Matrix: Overall accuracy = 78.95%\"},\"id\":\"1159\",\"type\":\"Title\"},{\"attributes\":{},\"id\":\"1170\",\"type\":\"CategoricalTicker\"},{\"attributes\":{\"palette\":[\"#053061\",\"#2166ac\",\"#4393c3\",\"#92c5de\",\"#d1e5f0\",\"#fddbc7\",\"#f4a582\",\"#d6604d\",\"#b2182b\",\"#67001f\"]},\"id\":\"1157\",\"type\":\"LinearColorMapper\"}],\"root_ids\":[\"1158\"]},\"title\":\"Bokeh Application\",\"version\":\"2.2.3\"}};\n",
       "  var render_items = [{\"docid\":\"3429e661-b5dd-4870-a007-7183027ac9d9\",\"root_ids\":[\"1158\"],\"roots\":{\"1158\":\"b78adc53-0f49-4d84-970b-b02620a39bde\"}}];\n",
       "  root.Bokeh.embed.embed_items_notebook(docs_json, render_items);\n",
       "\n",
       "  }\n",
       "  if (root.Bokeh !== undefined) {\n",
       "    embed_document(root);\n",
       "  } else {\n",
       "    var attempts = 0;\n",
       "    var timer = setInterval(function(root) {\n",
       "      if (root.Bokeh !== undefined) {\n",
       "        clearInterval(timer);\n",
       "        embed_document(root);\n",
       "      } else {\n",
       "        attempts++;\n",
       "        if (attempts > 100) {\n",
       "          clearInterval(timer);\n",
       "          console.log(\"Bokeh: ERROR: Unable to run BokehJS code because BokehJS library is missing\");\n",
       "        }\n",
       "      }\n",
       "    }, 10, root)\n",
       "  }\n",
       "})(window);"
      ],
      "application/vnd.bokehjs_exec.v0+json": ""
     },
     "metadata": {
      "application/vnd.bokehjs_exec.v0+json": {
       "id": "1158"
      }
     },
     "output_type": "display_data"
    }
   ],
   "source": [
    "predictions = clf.predict(x_test)\n",
    "plot_confusion_matrix(y_test, predictions)"
   ]
  },
  {
   "cell_type": "markdown",
   "metadata": {},
   "source": [
    "## Decision Trees\n",
    "\n",
    "https://en.wikipedia.org/wiki/Decision_tree_learning"
   ]
  },
  {
   "cell_type": "code",
   "execution_count": 20,
   "metadata": {},
   "outputs": [],
   "source": [
    "from sklearn import tree"
   ]
  },
  {
   "cell_type": "code",
   "execution_count": 21,
   "metadata": {},
   "outputs": [
    {
     "data": {
      "text/plain": [
       "0.6578947368421053"
      ]
     },
     "execution_count": 21,
     "metadata": {},
     "output_type": "execute_result"
    }
   ],
   "source": [
    "clf = tree.DecisionTreeClassifier()\n",
    "\n",
    "clf = clf.fit(x_train, y_train)\n",
    "\n",
    "clf.score(x_test, y_test)"
   ]
  },
  {
   "cell_type": "code",
   "execution_count": 22,
   "metadata": {},
   "outputs": [
    {
     "name": "stdout",
     "output_type": "stream",
     "text": [
      "Max depth = 1: 0.6973684210526315\n",
      "Max depth = 2: 0.6842105263157895\n",
      "Max depth = 3: 0.75\n",
      "Max depth = 4: 0.7236842105263158\n",
      "Max depth = 5: 0.6842105263157895\n",
      "Max depth = 6: 0.6710526315789473\n",
      "Max depth = 7: 0.6842105263157895\n",
      "Max depth = 8: 0.7105263157894737\n",
      "Max depth = 9: 0.6973684210526315\n"
     ]
    }
   ],
   "source": [
    "for max_depth in range(1, 10):\n",
    "    clf = tree.DecisionTreeClassifier(max_depth = max_depth, random_state = 0)\n",
    "\n",
    "    clf = clf.fit(x_train, y_train)\n",
    "    \n",
    "    score = clf.score(x_test, y_test)\n",
    "    \n",
    "    print(f'Max depth = {max_depth}: {score}') "
   ]
  },
  {
   "cell_type": "code",
   "execution_count": 23,
   "metadata": {},
   "outputs": [
    {
     "name": "stdout",
     "output_type": "stream",
     "text": [
      "|--- thal <= -0.12\n",
      "|   |--- chest_pain <= 0.36\n",
      "|   |   |--- ST_depression <= 1.26\n",
      "|   |   |   |--- class: 0.0\n",
      "|   |   |--- ST_depression >  1.26\n",
      "|   |   |   |--- class: 1.0\n",
      "|   |--- chest_pain >  0.36\n",
      "|   |   |--- vessels <= -0.18\n",
      "|   |   |   |--- class: 0.0\n",
      "|   |   |--- vessels >  -0.18\n",
      "|   |   |   |--- class: 1.0\n",
      "|--- thal >  -0.12\n",
      "|   |--- chest_pain <= -0.69\n",
      "|   |   |--- vessels <= -0.18\n",
      "|   |   |   |--- class: 0.0\n",
      "|   |   |--- vessels >  -0.18\n",
      "|   |   |   |--- class: 1.0\n",
      "|   |--- chest_pain >  -0.69\n",
      "|   |   |--- ST_depression <= -0.29\n",
      "|   |   |   |--- class: 1.0\n",
      "|   |   |--- ST_depression >  -0.29\n",
      "|   |   |   |--- class: 1.0\n",
      "\n"
     ]
    }
   ],
   "source": [
    "clf = tree.DecisionTreeClassifier(max_depth = 3, random_state = 0)\n",
    "\n",
    "clf = clf.fit(x_train, y_train)\n",
    "\n",
    "score = clf.score(x_test, y_test)\n",
    "\n",
    "print(tree.export_text(clf, feature_names = features))"
   ]
  },
  {
   "cell_type": "code",
   "execution_count": 24,
   "metadata": {},
   "outputs": [
    {
     "data": {
      "text/html": [
       "\n",
       "\n",
       "\n",
       "\n",
       "\n",
       "\n",
       "  <div class=\"bk-root\" id=\"947585c6-f6bc-4fdd-b6e6-948b1360da5d\" data-root-id=\"1244\"></div>\n"
      ]
     },
     "metadata": {},
     "output_type": "display_data"
    },
    {
     "data": {
      "application/javascript": [
       "(function(root) {\n",
       "  function embed_document(root) {\n",
       "    \n",
       "  var docs_json = {\"c6a3e86a-2ac1-47f8-bd4b-18d39971ae80\":{\"roots\":{\"references\":[{\"attributes\":{\"below\":[{\"id\":\"1255\"}],\"center\":[{\"id\":\"1257\"},{\"id\":\"1260\"},{\"id\":\"1270\"}],\"left\":[{\"id\":\"1258\"}],\"plot_height\":400,\"plot_width\":400,\"renderers\":[{\"id\":\"1267\"}],\"title\":{\"id\":\"1245\"},\"toolbar\":{\"id\":\"1262\"},\"x_range\":{\"id\":\"1247\"},\"x_scale\":{\"id\":\"1251\"},\"y_range\":{\"id\":\"1249\"},\"y_scale\":{\"id\":\"1253\"}},\"id\":\"1244\",\"subtype\":\"Figure\",\"type\":\"Plot\"},{\"attributes\":{},\"id\":\"1253\",\"type\":\"CategoricalScale\"},{\"attributes\":{\"axis_label\":\"Predicted\",\"axis_line_color\":null,\"formatter\":{\"id\":\"1294\"},\"major_label_orientation\":1.0,\"major_label_standoff\":0,\"major_label_text_font_size\":\"14px\",\"major_tick_line_color\":null,\"ticker\":{\"id\":\"1256\"}},\"id\":\"1255\",\"type\":\"CategoricalAxis\"},{\"attributes\":{\"axis\":{\"id\":\"1258\"},\"dimension\":1,\"ticker\":null},\"id\":\"1260\",\"type\":\"Grid\"},{\"attributes\":{\"fill_alpha\":{\"value\":0.1},\"fill_color\":{\"field\":\"value\",\"transform\":{\"id\":\"1243\"}},\"height\":{\"units\":\"data\",\"value\":1},\"line_alpha\":{\"value\":0.1},\"line_color\":{\"value\":\"grey\"},\"width\":{\"units\":\"data\",\"value\":1},\"x\":{\"field\":\"Predicted\"},\"y\":{\"field\":\"True\"}},\"id\":\"1266\",\"type\":\"Rect\"},{\"attributes\":{\"factors\":[\"0\",\"1\"]},\"id\":\"1247\",\"type\":\"FactorRange\"},{\"attributes\":{},\"id\":\"1256\",\"type\":\"CategoricalTicker\"},{\"attributes\":{\"factors\":[\"0\",\"1\"]},\"id\":\"1249\",\"type\":\"FactorRange\"},{\"attributes\":{\"source\":{\"id\":\"1242\"},\"text\":{\"field\":\"value\"},\"text_color\":{\"value\":\"white\"},\"x\":{\"field\":\"Predicted\"},\"x_offset\":{\"value\":70},\"y\":{\"field\":\"True\"},\"y_offset\":{\"value\":70}},\"id\":\"1270\",\"type\":\"LabelSet\"},{\"attributes\":{},\"id\":\"1294\",\"type\":\"CategoricalTickFormatter\"},{\"attributes\":{\"axis\":{\"id\":\"1255\"},\"ticker\":null},\"id\":\"1257\",\"type\":\"Grid\"},{\"attributes\":{\"data\":{\"Predicted\":[\"0\",\"1\",\"0\",\"1\"],\"True\":[\"0\",\"0\",\"1\",\"1\"],\"index\":[0,1,2,3],\"value\":[31,10,9,26]},\"selected\":{\"id\":\"1299\"},\"selection_policy\":{\"id\":\"1298\"}},\"id\":\"1242\",\"type\":\"ColumnDataSource\"},{\"attributes\":{\"callback\":null,\"tooltips\":[[\"True\",\"@{True}\"],[\"Predicted\",\"@{Predicted}\"],[\"Count\",\"@value\"]]},\"id\":\"1261\",\"type\":\"HoverTool\"},{\"attributes\":{},\"id\":\"1298\",\"type\":\"UnionRenderers\"},{\"attributes\":{\"source\":{\"id\":\"1242\"}},\"id\":\"1268\",\"type\":\"CDSView\"},{\"attributes\":{},\"id\":\"1251\",\"type\":\"CategoricalScale\"},{\"attributes\":{\"data_source\":{\"id\":\"1242\"},\"glyph\":{\"id\":\"1265\"},\"hover_glyph\":null,\"muted_glyph\":null,\"nonselection_glyph\":{\"id\":\"1266\"},\"selection_glyph\":null,\"view\":{\"id\":\"1268\"}},\"id\":\"1267\",\"type\":\"GlyphRenderer\"},{\"attributes\":{\"axis_label\":\"True\",\"axis_line_color\":null,\"formatter\":{\"id\":\"1296\"},\"major_label_standoff\":0,\"major_label_text_font_size\":\"14px\",\"major_tick_line_color\":null,\"ticker\":{\"id\":\"1259\"}},\"id\":\"1258\",\"type\":\"CategoricalAxis\"},{\"attributes\":{\"text\":\"Confusion Matrix: Overall accuracy = 75.0%\"},\"id\":\"1245\",\"type\":\"Title\"},{\"attributes\":{\"palette\":[\"#053061\",\"#2166ac\",\"#4393c3\",\"#92c5de\",\"#d1e5f0\",\"#fddbc7\",\"#f4a582\",\"#d6604d\",\"#b2182b\",\"#67001f\"]},\"id\":\"1243\",\"type\":\"LinearColorMapper\"},{\"attributes\":{\"fill_color\":{\"field\":\"value\",\"transform\":{\"id\":\"1243\"}},\"height\":{\"units\":\"data\",\"value\":1},\"line_color\":{\"value\":\"grey\"},\"width\":{\"units\":\"data\",\"value\":1},\"x\":{\"field\":\"Predicted\"},\"y\":{\"field\":\"True\"}},\"id\":\"1265\",\"type\":\"Rect\"},{\"attributes\":{},\"id\":\"1299\",\"type\":\"Selection\"},{\"attributes\":{\"active_drag\":\"auto\",\"active_inspect\":\"auto\",\"active_multi\":null,\"active_scroll\":\"auto\",\"active_tap\":\"auto\",\"tools\":[{\"id\":\"1261\"}]},\"id\":\"1262\",\"type\":\"Toolbar\"},{\"attributes\":{},\"id\":\"1296\",\"type\":\"CategoricalTickFormatter\"},{\"attributes\":{},\"id\":\"1259\",\"type\":\"CategoricalTicker\"}],\"root_ids\":[\"1244\"]},\"title\":\"Bokeh Application\",\"version\":\"2.2.3\"}};\n",
       "  var render_items = [{\"docid\":\"c6a3e86a-2ac1-47f8-bd4b-18d39971ae80\",\"root_ids\":[\"1244\"],\"roots\":{\"1244\":\"947585c6-f6bc-4fdd-b6e6-948b1360da5d\"}}];\n",
       "  root.Bokeh.embed.embed_items_notebook(docs_json, render_items);\n",
       "\n",
       "  }\n",
       "  if (root.Bokeh !== undefined) {\n",
       "    embed_document(root);\n",
       "  } else {\n",
       "    var attempts = 0;\n",
       "    var timer = setInterval(function(root) {\n",
       "      if (root.Bokeh !== undefined) {\n",
       "        clearInterval(timer);\n",
       "        embed_document(root);\n",
       "      } else {\n",
       "        attempts++;\n",
       "        if (attempts > 100) {\n",
       "          clearInterval(timer);\n",
       "          console.log(\"Bokeh: ERROR: Unable to run BokehJS code because BokehJS library is missing\");\n",
       "        }\n",
       "      }\n",
       "    }, 10, root)\n",
       "  }\n",
       "})(window);"
      ],
      "application/vnd.bokehjs_exec.v0+json": ""
     },
     "metadata": {
      "application/vnd.bokehjs_exec.v0+json": {
       "id": "1244"
      }
     },
     "output_type": "display_data"
    }
   ],
   "source": [
    "predictions = clf.predict(x_test)\n",
    "plot_confusion_matrix(y_test, predictions)"
   ]
  },
  {
   "cell_type": "markdown",
   "metadata": {},
   "source": [
    "## Random Forest\n",
    "\n",
    "https://en.wikipedia.org/wiki/Random_forest"
   ]
  },
  {
   "cell_type": "code",
   "execution_count": 25,
   "metadata": {},
   "outputs": [
    {
     "data": {
      "text/plain": [
       "0.7368421052631579"
      ]
     },
     "execution_count": 25,
     "metadata": {},
     "output_type": "execute_result"
    }
   ],
   "source": [
    "from sklearn.ensemble import RandomForestClassifier\n",
    "\n",
    "clf = RandomForestClassifier(random_state = 0)\n",
    "\n",
    "clf = clf.fit(x_train, y_train)\n",
    "\n",
    "clf.score(x_test, y_test)"
   ]
  },
  {
   "cell_type": "code",
   "execution_count": 26,
   "metadata": {},
   "outputs": [
    {
     "data": {
      "text/html": [
       "\n",
       "\n",
       "\n",
       "\n",
       "\n",
       "\n",
       "  <div class=\"bk-root\" id=\"57b52c65-d0ad-458e-a104-ffd75a195f0d\" data-root-id=\"1337\"></div>\n"
      ]
     },
     "metadata": {},
     "output_type": "display_data"
    },
    {
     "data": {
      "application/javascript": [
       "(function(root) {\n",
       "  function embed_document(root) {\n",
       "    \n",
       "  var docs_json = {\"c1796c6f-b61d-44af-8659-4173c827eca9\":{\"roots\":{\"references\":[{\"attributes\":{\"below\":[{\"id\":\"1348\"}],\"center\":[{\"id\":\"1350\"},{\"id\":\"1353\"},{\"id\":\"1363\"}],\"left\":[{\"id\":\"1351\"}],\"plot_height\":400,\"plot_width\":400,\"renderers\":[{\"id\":\"1360\"}],\"title\":{\"id\":\"1338\"},\"toolbar\":{\"id\":\"1355\"},\"x_range\":{\"id\":\"1340\"},\"x_scale\":{\"id\":\"1344\"},\"y_range\":{\"id\":\"1342\"},\"y_scale\":{\"id\":\"1346\"}},\"id\":\"1337\",\"subtype\":\"Figure\",\"type\":\"Plot\"},{\"attributes\":{\"data_source\":{\"id\":\"1335\"},\"glyph\":{\"id\":\"1358\"},\"hover_glyph\":null,\"muted_glyph\":null,\"nonselection_glyph\":{\"id\":\"1359\"},\"selection_glyph\":null,\"view\":{\"id\":\"1361\"}},\"id\":\"1360\",\"type\":\"GlyphRenderer\"},{\"attributes\":{\"active_drag\":\"auto\",\"active_inspect\":\"auto\",\"active_multi\":null,\"active_scroll\":\"auto\",\"active_tap\":\"auto\",\"tools\":[{\"id\":\"1354\"}]},\"id\":\"1355\",\"type\":\"Toolbar\"},{\"attributes\":{\"source\":{\"id\":\"1335\"}},\"id\":\"1361\",\"type\":\"CDSView\"},{\"attributes\":{\"source\":{\"id\":\"1335\"},\"text\":{\"field\":\"value\"},\"text_color\":{\"value\":\"white\"},\"x\":{\"field\":\"Predicted\"},\"x_offset\":{\"value\":70},\"y\":{\"field\":\"True\"},\"y_offset\":{\"value\":70}},\"id\":\"1363\",\"type\":\"LabelSet\"},{\"attributes\":{\"fill_alpha\":{\"value\":0.1},\"fill_color\":{\"field\":\"value\",\"transform\":{\"id\":\"1336\"}},\"height\":{\"units\":\"data\",\"value\":1},\"line_alpha\":{\"value\":0.1},\"line_color\":{\"value\":\"grey\"},\"width\":{\"units\":\"data\",\"value\":1},\"x\":{\"field\":\"Predicted\"},\"y\":{\"field\":\"True\"}},\"id\":\"1359\",\"type\":\"Rect\"},{\"attributes\":{},\"id\":\"1398\",\"type\":\"UnionRenderers\"},{\"attributes\":{},\"id\":\"1399\",\"type\":\"Selection\"},{\"attributes\":{},\"id\":\"1396\",\"type\":\"CategoricalTickFormatter\"},{\"attributes\":{},\"id\":\"1346\",\"type\":\"CategoricalScale\"},{\"attributes\":{\"palette\":[\"#053061\",\"#2166ac\",\"#4393c3\",\"#92c5de\",\"#d1e5f0\",\"#fddbc7\",\"#f4a582\",\"#d6604d\",\"#b2182b\",\"#67001f\"]},\"id\":\"1336\",\"type\":\"LinearColorMapper\"},{\"attributes\":{\"fill_color\":{\"field\":\"value\",\"transform\":{\"id\":\"1336\"}},\"height\":{\"units\":\"data\",\"value\":1},\"line_color\":{\"value\":\"grey\"},\"width\":{\"units\":\"data\",\"value\":1},\"x\":{\"field\":\"Predicted\"},\"y\":{\"field\":\"True\"}},\"id\":\"1358\",\"type\":\"Rect\"},{\"attributes\":{\"callback\":null,\"tooltips\":[[\"True\",\"@{True}\"],[\"Predicted\",\"@{Predicted}\"],[\"Count\",\"@value\"]]},\"id\":\"1354\",\"type\":\"HoverTool\"},{\"attributes\":{},\"id\":\"1352\",\"type\":\"CategoricalTicker\"},{\"attributes\":{},\"id\":\"1344\",\"type\":\"CategoricalScale\"},{\"attributes\":{\"axis_label\":\"Predicted\",\"axis_line_color\":null,\"formatter\":{\"id\":\"1394\"},\"major_label_orientation\":1.0,\"major_label_standoff\":0,\"major_label_text_font_size\":\"14px\",\"major_tick_line_color\":null,\"ticker\":{\"id\":\"1349\"}},\"id\":\"1348\",\"type\":\"CategoricalAxis\"},{\"attributes\":{\"axis_label\":\"True\",\"axis_line_color\":null,\"formatter\":{\"id\":\"1396\"},\"major_label_standoff\":0,\"major_label_text_font_size\":\"14px\",\"major_tick_line_color\":null,\"ticker\":{\"id\":\"1352\"}},\"id\":\"1351\",\"type\":\"CategoricalAxis\"},{\"attributes\":{\"axis\":{\"id\":\"1351\"},\"dimension\":1,\"ticker\":null},\"id\":\"1353\",\"type\":\"Grid\"},{\"attributes\":{},\"id\":\"1394\",\"type\":\"CategoricalTickFormatter\"},{\"attributes\":{\"factors\":[\"0\",\"1\"]},\"id\":\"1340\",\"type\":\"FactorRange\"},{\"attributes\":{\"data\":{\"Predicted\":[\"0\",\"1\",\"0\",\"1\"],\"True\":[\"0\",\"0\",\"1\",\"1\"],\"index\":[0,1,2,3],\"value\":[34,7,13,22]},\"selected\":{\"id\":\"1399\"},\"selection_policy\":{\"id\":\"1398\"}},\"id\":\"1335\",\"type\":\"ColumnDataSource\"},{\"attributes\":{\"text\":\"Confusion Matrix: Overall accuracy = 73.68%\"},\"id\":\"1338\",\"type\":\"Title\"},{\"attributes\":{\"axis\":{\"id\":\"1348\"},\"ticker\":null},\"id\":\"1350\",\"type\":\"Grid\"},{\"attributes\":{},\"id\":\"1349\",\"type\":\"CategoricalTicker\"},{\"attributes\":{\"factors\":[\"0\",\"1\"]},\"id\":\"1342\",\"type\":\"FactorRange\"}],\"root_ids\":[\"1337\"]},\"title\":\"Bokeh Application\",\"version\":\"2.2.3\"}};\n",
       "  var render_items = [{\"docid\":\"c1796c6f-b61d-44af-8659-4173c827eca9\",\"root_ids\":[\"1337\"],\"roots\":{\"1337\":\"57b52c65-d0ad-458e-a104-ffd75a195f0d\"}}];\n",
       "  root.Bokeh.embed.embed_items_notebook(docs_json, render_items);\n",
       "\n",
       "  }\n",
       "  if (root.Bokeh !== undefined) {\n",
       "    embed_document(root);\n",
       "  } else {\n",
       "    var attempts = 0;\n",
       "    var timer = setInterval(function(root) {\n",
       "      if (root.Bokeh !== undefined) {\n",
       "        clearInterval(timer);\n",
       "        embed_document(root);\n",
       "      } else {\n",
       "        attempts++;\n",
       "        if (attempts > 100) {\n",
       "          clearInterval(timer);\n",
       "          console.log(\"Bokeh: ERROR: Unable to run BokehJS code because BokehJS library is missing\");\n",
       "        }\n",
       "      }\n",
       "    }, 10, root)\n",
       "  }\n",
       "})(window);"
      ],
      "application/vnd.bokehjs_exec.v0+json": ""
     },
     "metadata": {
      "application/vnd.bokehjs_exec.v0+json": {
       "id": "1337"
      }
     },
     "output_type": "display_data"
    }
   ],
   "source": [
    "y_hat = clf.predict(x_test)\n",
    "plot_confusion_matrix(y_test, y_hat)"
   ]
  },
  {
   "cell_type": "markdown",
   "metadata": {},
   "source": [
    "## Gradient Boosted Trees\n",
    "\n",
    "https://en.wikipedia.org/wiki/Gradient_boosting#Gradient_tree_boosting"
   ]
  },
  {
   "cell_type": "code",
   "execution_count": 27,
   "metadata": {},
   "outputs": [
    {
     "data": {
      "text/plain": [
       "0.7368421052631579"
      ]
     },
     "execution_count": 27,
     "metadata": {},
     "output_type": "execute_result"
    }
   ],
   "source": [
    "from sklearn.ensemble import GradientBoostingClassifier\n",
    "\n",
    "clf = GradientBoostingClassifier(random_state = 0)\n",
    "\n",
    "clf = clf.fit(x_train, y_train)\n",
    "\n",
    "clf.score(x_test, y_test)"
   ]
  },
  {
   "cell_type": "code",
   "execution_count": 28,
   "metadata": {},
   "outputs": [
    {
     "data": {
      "text/html": [
       "\n",
       "\n",
       "\n",
       "\n",
       "\n",
       "\n",
       "  <div class=\"bk-root\" id=\"b5531f56-0b21-4a61-b1c1-d25a0231b3fd\" data-root-id=\"1437\"></div>\n"
      ]
     },
     "metadata": {},
     "output_type": "display_data"
    },
    {
     "data": {
      "application/javascript": [
       "(function(root) {\n",
       "  function embed_document(root) {\n",
       "    \n",
       "  var docs_json = {\"25a50153-5eba-412c-957e-b4bd8f55ed53\":{\"roots\":{\"references\":[{\"attributes\":{\"below\":[{\"id\":\"1448\"}],\"center\":[{\"id\":\"1450\"},{\"id\":\"1453\"},{\"id\":\"1463\"}],\"left\":[{\"id\":\"1451\"}],\"plot_height\":400,\"plot_width\":400,\"renderers\":[{\"id\":\"1460\"}],\"title\":{\"id\":\"1438\"},\"toolbar\":{\"id\":\"1455\"},\"x_range\":{\"id\":\"1440\"},\"x_scale\":{\"id\":\"1444\"},\"y_range\":{\"id\":\"1442\"},\"y_scale\":{\"id\":\"1446\"}},\"id\":\"1437\",\"subtype\":\"Figure\",\"type\":\"Plot\"},{\"attributes\":{},\"id\":\"1444\",\"type\":\"CategoricalScale\"},{\"attributes\":{\"axis_label\":\"True\",\"axis_line_color\":null,\"formatter\":{\"id\":\"1503\"},\"major_label_standoff\":0,\"major_label_text_font_size\":\"14px\",\"major_tick_line_color\":null,\"ticker\":{\"id\":\"1452\"}},\"id\":\"1451\",\"type\":\"CategoricalAxis\"},{\"attributes\":{},\"id\":\"1503\",\"type\":\"CategoricalTickFormatter\"},{\"attributes\":{\"factors\":[\"0\",\"1\"]},\"id\":\"1440\",\"type\":\"FactorRange\"},{\"attributes\":{\"data\":{\"Predicted\":[\"0\",\"1\",\"0\",\"1\"],\"True\":[\"0\",\"0\",\"1\",\"1\"],\"index\":[0,1,2,3],\"value\":[32,9,11,24]},\"selected\":{\"id\":\"1506\"},\"selection_policy\":{\"id\":\"1505\"}},\"id\":\"1435\",\"type\":\"ColumnDataSource\"},{\"attributes\":{\"text\":\"Confusion Matrix: Overall accuracy = 73.68%\"},\"id\":\"1438\",\"type\":\"Title\"},{\"attributes\":{\"source\":{\"id\":\"1435\"},\"text\":{\"field\":\"value\"},\"text_color\":{\"value\":\"white\"},\"x\":{\"field\":\"Predicted\"},\"x_offset\":{\"value\":70},\"y\":{\"field\":\"True\"},\"y_offset\":{\"value\":70}},\"id\":\"1463\",\"type\":\"LabelSet\"},{\"attributes\":{},\"id\":\"1449\",\"type\":\"CategoricalTicker\"},{\"attributes\":{\"factors\":[\"0\",\"1\"]},\"id\":\"1442\",\"type\":\"FactorRange\"},{\"attributes\":{\"axis\":{\"id\":\"1448\"},\"ticker\":null},\"id\":\"1450\",\"type\":\"Grid\"},{\"attributes\":{\"fill_alpha\":{\"value\":0.1},\"fill_color\":{\"field\":\"value\",\"transform\":{\"id\":\"1436\"}},\"height\":{\"units\":\"data\",\"value\":1},\"line_alpha\":{\"value\":0.1},\"line_color\":{\"value\":\"grey\"},\"width\":{\"units\":\"data\",\"value\":1},\"x\":{\"field\":\"Predicted\"},\"y\":{\"field\":\"True\"}},\"id\":\"1459\",\"type\":\"Rect\"},{\"attributes\":{},\"id\":\"1505\",\"type\":\"UnionRenderers\"},{\"attributes\":{\"fill_color\":{\"field\":\"value\",\"transform\":{\"id\":\"1436\"}},\"height\":{\"units\":\"data\",\"value\":1},\"line_color\":{\"value\":\"grey\"},\"width\":{\"units\":\"data\",\"value\":1},\"x\":{\"field\":\"Predicted\"},\"y\":{\"field\":\"True\"}},\"id\":\"1458\",\"type\":\"Rect\"},{\"attributes\":{\"source\":{\"id\":\"1435\"}},\"id\":\"1461\",\"type\":\"CDSView\"},{\"attributes\":{\"data_source\":{\"id\":\"1435\"},\"glyph\":{\"id\":\"1458\"},\"hover_glyph\":null,\"muted_glyph\":null,\"nonselection_glyph\":{\"id\":\"1459\"},\"selection_glyph\":null,\"view\":{\"id\":\"1461\"}},\"id\":\"1460\",\"type\":\"GlyphRenderer\"},{\"attributes\":{\"palette\":[\"#053061\",\"#2166ac\",\"#4393c3\",\"#92c5de\",\"#d1e5f0\",\"#fddbc7\",\"#f4a582\",\"#d6604d\",\"#b2182b\",\"#67001f\"]},\"id\":\"1436\",\"type\":\"LinearColorMapper\"},{\"attributes\":{\"callback\":null,\"tooltips\":[[\"True\",\"@{True}\"],[\"Predicted\",\"@{Predicted}\"],[\"Count\",\"@value\"]]},\"id\":\"1454\",\"type\":\"HoverTool\"},{\"attributes\":{},\"id\":\"1446\",\"type\":\"CategoricalScale\"},{\"attributes\":{\"active_drag\":\"auto\",\"active_inspect\":\"auto\",\"active_multi\":null,\"active_scroll\":\"auto\",\"active_tap\":\"auto\",\"tools\":[{\"id\":\"1454\"}]},\"id\":\"1455\",\"type\":\"Toolbar\"},{\"attributes\":{\"axis_label\":\"Predicted\",\"axis_line_color\":null,\"formatter\":{\"id\":\"1501\"},\"major_label_orientation\":1.0,\"major_label_standoff\":0,\"major_label_text_font_size\":\"14px\",\"major_tick_line_color\":null,\"ticker\":{\"id\":\"1449\"}},\"id\":\"1448\",\"type\":\"CategoricalAxis\"},{\"attributes\":{\"axis\":{\"id\":\"1451\"},\"dimension\":1,\"ticker\":null},\"id\":\"1453\",\"type\":\"Grid\"},{\"attributes\":{},\"id\":\"1506\",\"type\":\"Selection\"},{\"attributes\":{},\"id\":\"1452\",\"type\":\"CategoricalTicker\"},{\"attributes\":{},\"id\":\"1501\",\"type\":\"CategoricalTickFormatter\"}],\"root_ids\":[\"1437\"]},\"title\":\"Bokeh Application\",\"version\":\"2.2.3\"}};\n",
       "  var render_items = [{\"docid\":\"25a50153-5eba-412c-957e-b4bd8f55ed53\",\"root_ids\":[\"1437\"],\"roots\":{\"1437\":\"b5531f56-0b21-4a61-b1c1-d25a0231b3fd\"}}];\n",
       "  root.Bokeh.embed.embed_items_notebook(docs_json, render_items);\n",
       "\n",
       "  }\n",
       "  if (root.Bokeh !== undefined) {\n",
       "    embed_document(root);\n",
       "  } else {\n",
       "    var attempts = 0;\n",
       "    var timer = setInterval(function(root) {\n",
       "      if (root.Bokeh !== undefined) {\n",
       "        clearInterval(timer);\n",
       "        embed_document(root);\n",
       "      } else {\n",
       "        attempts++;\n",
       "        if (attempts > 100) {\n",
       "          clearInterval(timer);\n",
       "          console.log(\"Bokeh: ERROR: Unable to run BokehJS code because BokehJS library is missing\");\n",
       "        }\n",
       "      }\n",
       "    }, 10, root)\n",
       "  }\n",
       "})(window);"
      ],
      "application/vnd.bokehjs_exec.v0+json": ""
     },
     "metadata": {
      "application/vnd.bokehjs_exec.v0+json": {
       "id": "1437"
      }
     },
     "output_type": "display_data"
    }
   ],
   "source": [
    "predictions = clf.predict(x_test)\n",
    "plot_confusion_matrix(y_test, predictions)"
   ]
  },
  {
   "cell_type": "markdown",
   "metadata": {},
   "source": [
    "## AdaBoost\n",
    "\n",
    "https://en.wikipedia.org/wiki/AdaBoost"
   ]
  },
  {
   "cell_type": "code",
   "execution_count": 29,
   "metadata": {},
   "outputs": [
    {
     "data": {
      "text/plain": [
       "0.75"
      ]
     },
     "execution_count": 29,
     "metadata": {},
     "output_type": "execute_result"
    }
   ],
   "source": [
    "from sklearn.ensemble import AdaBoostClassifier\n",
    "\n",
    "clf = AdaBoostClassifier(random_state = 0)\n",
    "\n",
    "clf = clf.fit(x_train, y_train)\n",
    "\n",
    "clf.score(x_test, y_test)"
   ]
  },
  {
   "cell_type": "code",
   "execution_count": 30,
   "metadata": {},
   "outputs": [
    {
     "data": {
      "text/html": [
       "\n",
       "\n",
       "\n",
       "\n",
       "\n",
       "\n",
       "  <div class=\"bk-root\" id=\"3297f643-f2c5-45da-8618-5933cc5e7c75\" data-root-id=\"1544\"></div>\n"
      ]
     },
     "metadata": {},
     "output_type": "display_data"
    },
    {
     "data": {
      "application/javascript": [
       "(function(root) {\n",
       "  function embed_document(root) {\n",
       "    \n",
       "  var docs_json = {\"500cfe32-e68a-48f6-b881-9384daa2d5fe\":{\"roots\":{\"references\":[{\"attributes\":{\"below\":[{\"id\":\"1555\"}],\"center\":[{\"id\":\"1557\"},{\"id\":\"1560\"},{\"id\":\"1570\"}],\"left\":[{\"id\":\"1558\"}],\"plot_height\":400,\"plot_width\":400,\"renderers\":[{\"id\":\"1567\"}],\"title\":{\"id\":\"1545\"},\"toolbar\":{\"id\":\"1562\"},\"x_range\":{\"id\":\"1547\"},\"x_scale\":{\"id\":\"1551\"},\"y_range\":{\"id\":\"1549\"},\"y_scale\":{\"id\":\"1553\"}},\"id\":\"1544\",\"subtype\":\"Figure\",\"type\":\"Plot\"},{\"attributes\":{\"source\":{\"id\":\"1542\"},\"text\":{\"field\":\"value\"},\"text_color\":{\"value\":\"white\"},\"x\":{\"field\":\"Predicted\"},\"x_offset\":{\"value\":70},\"y\":{\"field\":\"True\"},\"y_offset\":{\"value\":70}},\"id\":\"1570\",\"type\":\"LabelSet\"},{\"attributes\":{\"fill_alpha\":{\"value\":0.1},\"fill_color\":{\"field\":\"value\",\"transform\":{\"id\":\"1543\"}},\"height\":{\"units\":\"data\",\"value\":1},\"line_alpha\":{\"value\":0.1},\"line_color\":{\"value\":\"grey\"},\"width\":{\"units\":\"data\",\"value\":1},\"x\":{\"field\":\"Predicted\"},\"y\":{\"field\":\"True\"}},\"id\":\"1566\",\"type\":\"Rect\"},{\"attributes\":{\"data_source\":{\"id\":\"1542\"},\"glyph\":{\"id\":\"1565\"},\"hover_glyph\":null,\"muted_glyph\":null,\"nonselection_glyph\":{\"id\":\"1566\"},\"selection_glyph\":null,\"view\":{\"id\":\"1568\"}},\"id\":\"1567\",\"type\":\"GlyphRenderer\"},{\"attributes\":{\"active_drag\":\"auto\",\"active_inspect\":\"auto\",\"active_multi\":null,\"active_scroll\":\"auto\",\"active_tap\":\"auto\",\"tools\":[{\"id\":\"1561\"}]},\"id\":\"1562\",\"type\":\"Toolbar\"},{\"attributes\":{},\"id\":\"1619\",\"type\":\"UnionRenderers\"},{\"attributes\":{},\"id\":\"1620\",\"type\":\"Selection\"},{\"attributes\":{},\"id\":\"1553\",\"type\":\"CategoricalScale\"},{\"attributes\":{\"data\":{\"Predicted\":[\"0\",\"1\",\"0\",\"1\"],\"True\":[\"0\",\"0\",\"1\",\"1\"],\"index\":[0,1,2,3],\"value\":[35,6,13,22]},\"selected\":{\"id\":\"1620\"},\"selection_policy\":{\"id\":\"1619\"}},\"id\":\"1542\",\"type\":\"ColumnDataSource\"},{\"attributes\":{},\"id\":\"1556\",\"type\":\"CategoricalTicker\"},{\"attributes\":{\"factors\":[\"0\",\"1\"]},\"id\":\"1549\",\"type\":\"FactorRange\"},{\"attributes\":{},\"id\":\"1615\",\"type\":\"CategoricalTickFormatter\"},{\"attributes\":{},\"id\":\"1559\",\"type\":\"CategoricalTicker\"},{\"attributes\":{\"axis_label\":\"Predicted\",\"axis_line_color\":null,\"formatter\":{\"id\":\"1615\"},\"major_label_orientation\":1.0,\"major_label_standoff\":0,\"major_label_text_font_size\":\"14px\",\"major_tick_line_color\":null,\"ticker\":{\"id\":\"1556\"}},\"id\":\"1555\",\"type\":\"CategoricalAxis\"},{\"attributes\":{},\"id\":\"1551\",\"type\":\"CategoricalScale\"},{\"attributes\":{\"axis\":{\"id\":\"1558\"},\"dimension\":1,\"ticker\":null},\"id\":\"1560\",\"type\":\"Grid\"},{\"attributes\":{\"axis_label\":\"True\",\"axis_line_color\":null,\"formatter\":{\"id\":\"1617\"},\"major_label_standoff\":0,\"major_label_text_font_size\":\"14px\",\"major_tick_line_color\":null,\"ticker\":{\"id\":\"1559\"}},\"id\":\"1558\",\"type\":\"CategoricalAxis\"},{\"attributes\":{},\"id\":\"1617\",\"type\":\"CategoricalTickFormatter\"},{\"attributes\":{\"callback\":null,\"tooltips\":[[\"True\",\"@{True}\"],[\"Predicted\",\"@{Predicted}\"],[\"Count\",\"@value\"]]},\"id\":\"1561\",\"type\":\"HoverTool\"},{\"attributes\":{\"factors\":[\"0\",\"1\"]},\"id\":\"1547\",\"type\":\"FactorRange\"},{\"attributes\":{\"axis\":{\"id\":\"1555\"},\"ticker\":null},\"id\":\"1557\",\"type\":\"Grid\"},{\"attributes\":{\"fill_color\":{\"field\":\"value\",\"transform\":{\"id\":\"1543\"}},\"height\":{\"units\":\"data\",\"value\":1},\"line_color\":{\"value\":\"grey\"},\"width\":{\"units\":\"data\",\"value\":1},\"x\":{\"field\":\"Predicted\"},\"y\":{\"field\":\"True\"}},\"id\":\"1565\",\"type\":\"Rect\"},{\"attributes\":{\"palette\":[\"#053061\",\"#2166ac\",\"#4393c3\",\"#92c5de\",\"#d1e5f0\",\"#fddbc7\",\"#f4a582\",\"#d6604d\",\"#b2182b\",\"#67001f\"]},\"id\":\"1543\",\"type\":\"LinearColorMapper\"},{\"attributes\":{\"text\":\"Confusion Matrix: Overall accuracy = 75.0%\"},\"id\":\"1545\",\"type\":\"Title\"},{\"attributes\":{\"source\":{\"id\":\"1542\"}},\"id\":\"1568\",\"type\":\"CDSView\"}],\"root_ids\":[\"1544\"]},\"title\":\"Bokeh Application\",\"version\":\"2.2.3\"}};\n",
       "  var render_items = [{\"docid\":\"500cfe32-e68a-48f6-b881-9384daa2d5fe\",\"root_ids\":[\"1544\"],\"roots\":{\"1544\":\"3297f643-f2c5-45da-8618-5933cc5e7c75\"}}];\n",
       "  root.Bokeh.embed.embed_items_notebook(docs_json, render_items);\n",
       "\n",
       "  }\n",
       "  if (root.Bokeh !== undefined) {\n",
       "    embed_document(root);\n",
       "  } else {\n",
       "    var attempts = 0;\n",
       "    var timer = setInterval(function(root) {\n",
       "      if (root.Bokeh !== undefined) {\n",
       "        clearInterval(timer);\n",
       "        embed_document(root);\n",
       "      } else {\n",
       "        attempts++;\n",
       "        if (attempts > 100) {\n",
       "          clearInterval(timer);\n",
       "          console.log(\"Bokeh: ERROR: Unable to run BokehJS code because BokehJS library is missing\");\n",
       "        }\n",
       "      }\n",
       "    }, 10, root)\n",
       "  }\n",
       "})(window);"
      ],
      "application/vnd.bokehjs_exec.v0+json": ""
     },
     "metadata": {
      "application/vnd.bokehjs_exec.v0+json": {
       "id": "1544"
      }
     },
     "output_type": "display_data"
    }
   ],
   "source": [
    "predictions = clf.predict(x_test)\n",
    "plot_confusion_matrix(y_test, predictions)"
   ]
  },
  {
   "cell_type": "markdown",
   "metadata": {},
   "source": [
    "## Start here"
   ]
  },
  {
   "cell_type": "code",
   "execution_count": 31,
   "metadata": {},
   "outputs": [
    {
     "data": {
      "text/plain": [
       "0.7631578947368421"
      ]
     },
     "execution_count": 31,
     "metadata": {},
     "output_type": "execute_result"
    }
   ],
   "source": [
    "clf = AdaBoostClassifier(n_estimators = 2500, \n",
    "                         learning_rate = 0.1, \n",
    "                         random_state = 0)\n",
    "\n",
    "clf = clf.fit(x_train, y_train)\n",
    "\n",
    "clf.score(x_test, y_test)"
   ]
  },
  {
   "cell_type": "code",
   "execution_count": 32,
   "metadata": {},
   "outputs": [
    {
     "data": {
      "text/html": [
       "\n",
       "\n",
       "\n",
       "\n",
       "\n",
       "\n",
       "  <div class=\"bk-root\" id=\"4fde5be7-7250-426d-b40a-9188020d9316\" data-root-id=\"1658\"></div>\n"
      ]
     },
     "metadata": {},
     "output_type": "display_data"
    },
    {
     "data": {
      "application/javascript": [
       "(function(root) {\n",
       "  function embed_document(root) {\n",
       "    \n",
       "  var docs_json = {\"5559b768-9df5-4f9a-8517-5d3238a864a3\":{\"roots\":{\"references\":[{\"attributes\":{\"below\":[{\"id\":\"1669\"}],\"center\":[{\"id\":\"1671\"},{\"id\":\"1674\"},{\"id\":\"1684\"}],\"left\":[{\"id\":\"1672\"}],\"plot_height\":400,\"plot_width\":400,\"renderers\":[{\"id\":\"1681\"}],\"title\":{\"id\":\"1659\"},\"toolbar\":{\"id\":\"1676\"},\"x_range\":{\"id\":\"1661\"},\"x_scale\":{\"id\":\"1665\"},\"y_range\":{\"id\":\"1663\"},\"y_scale\":{\"id\":\"1667\"}},\"id\":\"1658\",\"subtype\":\"Figure\",\"type\":\"Plot\"},{\"attributes\":{},\"id\":\"1670\",\"type\":\"CategoricalTicker\"},{\"attributes\":{\"active_drag\":\"auto\",\"active_inspect\":\"auto\",\"active_multi\":null,\"active_scroll\":\"auto\",\"active_tap\":\"auto\",\"tools\":[{\"id\":\"1675\"}]},\"id\":\"1676\",\"type\":\"Toolbar\"},{\"attributes\":{\"data\":{\"Predicted\":[\"0\",\"1\",\"0\",\"1\"],\"True\":[\"0\",\"0\",\"1\",\"1\"],\"index\":[0,1,2,3],\"value\":[36,5,13,22]},\"selected\":{\"id\":\"1741\"},\"selection_policy\":{\"id\":\"1740\"}},\"id\":\"1656\",\"type\":\"ColumnDataSource\"},{\"attributes\":{\"axis\":{\"id\":\"1669\"},\"ticker\":null},\"id\":\"1671\",\"type\":\"Grid\"},{\"attributes\":{},\"id\":\"1673\",\"type\":\"CategoricalTicker\"},{\"attributes\":{},\"id\":\"1740\",\"type\":\"UnionRenderers\"},{\"attributes\":{},\"id\":\"1741\",\"type\":\"Selection\"},{\"attributes\":{\"text\":\"Confusion Matrix: Overall accuracy = 76.32%\"},\"id\":\"1659\",\"type\":\"Title\"},{\"attributes\":{\"fill_color\":{\"field\":\"value\",\"transform\":{\"id\":\"1657\"}},\"height\":{\"units\":\"data\",\"value\":1},\"line_color\":{\"value\":\"grey\"},\"width\":{\"units\":\"data\",\"value\":1},\"x\":{\"field\":\"Predicted\"},\"y\":{\"field\":\"True\"}},\"id\":\"1679\",\"type\":\"Rect\"},{\"attributes\":{},\"id\":\"1667\",\"type\":\"CategoricalScale\"},{\"attributes\":{\"axis_label\":\"True\",\"axis_line_color\":null,\"formatter\":{\"id\":\"1738\"},\"major_label_standoff\":0,\"major_label_text_font_size\":\"14px\",\"major_tick_line_color\":null,\"ticker\":{\"id\":\"1673\"}},\"id\":\"1672\",\"type\":\"CategoricalAxis\"},{\"attributes\":{\"source\":{\"id\":\"1656\"},\"text\":{\"field\":\"value\"},\"text_color\":{\"value\":\"white\"},\"x\":{\"field\":\"Predicted\"},\"x_offset\":{\"value\":70},\"y\":{\"field\":\"True\"},\"y_offset\":{\"value\":70}},\"id\":\"1684\",\"type\":\"LabelSet\"},{\"attributes\":{\"fill_alpha\":{\"value\":0.1},\"fill_color\":{\"field\":\"value\",\"transform\":{\"id\":\"1657\"}},\"height\":{\"units\":\"data\",\"value\":1},\"line_alpha\":{\"value\":0.1},\"line_color\":{\"value\":\"grey\"},\"width\":{\"units\":\"data\",\"value\":1},\"x\":{\"field\":\"Predicted\"},\"y\":{\"field\":\"True\"}},\"id\":\"1680\",\"type\":\"Rect\"},{\"attributes\":{\"palette\":[\"#053061\",\"#2166ac\",\"#4393c3\",\"#92c5de\",\"#d1e5f0\",\"#fddbc7\",\"#f4a582\",\"#d6604d\",\"#b2182b\",\"#67001f\"]},\"id\":\"1657\",\"type\":\"LinearColorMapper\"},{\"attributes\":{},\"id\":\"1665\",\"type\":\"CategoricalScale\"},{\"attributes\":{\"axis_label\":\"Predicted\",\"axis_line_color\":null,\"formatter\":{\"id\":\"1736\"},\"major_label_orientation\":1.0,\"major_label_standoff\":0,\"major_label_text_font_size\":\"14px\",\"major_tick_line_color\":null,\"ticker\":{\"id\":\"1670\"}},\"id\":\"1669\",\"type\":\"CategoricalAxis\"},{\"attributes\":{\"source\":{\"id\":\"1656\"}},\"id\":\"1682\",\"type\":\"CDSView\"},{\"attributes\":{\"data_source\":{\"id\":\"1656\"},\"glyph\":{\"id\":\"1679\"},\"hover_glyph\":null,\"muted_glyph\":null,\"nonselection_glyph\":{\"id\":\"1680\"},\"selection_glyph\":null,\"view\":{\"id\":\"1682\"}},\"id\":\"1681\",\"type\":\"GlyphRenderer\"},{\"attributes\":{\"factors\":[\"0\",\"1\"]},\"id\":\"1663\",\"type\":\"FactorRange\"},{\"attributes\":{\"axis\":{\"id\":\"1672\"},\"dimension\":1,\"ticker\":null},\"id\":\"1674\",\"type\":\"Grid\"},{\"attributes\":{\"factors\":[\"0\",\"1\"]},\"id\":\"1661\",\"type\":\"FactorRange\"},{\"attributes\":{\"callback\":null,\"tooltips\":[[\"True\",\"@{True}\"],[\"Predicted\",\"@{Predicted}\"],[\"Count\",\"@value\"]]},\"id\":\"1675\",\"type\":\"HoverTool\"},{\"attributes\":{},\"id\":\"1736\",\"type\":\"CategoricalTickFormatter\"},{\"attributes\":{},\"id\":\"1738\",\"type\":\"CategoricalTickFormatter\"}],\"root_ids\":[\"1658\"]},\"title\":\"Bokeh Application\",\"version\":\"2.2.3\"}};\n",
       "  var render_items = [{\"docid\":\"5559b768-9df5-4f9a-8517-5d3238a864a3\",\"root_ids\":[\"1658\"],\"roots\":{\"1658\":\"4fde5be7-7250-426d-b40a-9188020d9316\"}}];\n",
       "  root.Bokeh.embed.embed_items_notebook(docs_json, render_items);\n",
       "\n",
       "  }\n",
       "  if (root.Bokeh !== undefined) {\n",
       "    embed_document(root);\n",
       "  } else {\n",
       "    var attempts = 0;\n",
       "    var timer = setInterval(function(root) {\n",
       "      if (root.Bokeh !== undefined) {\n",
       "        clearInterval(timer);\n",
       "        embed_document(root);\n",
       "      } else {\n",
       "        attempts++;\n",
       "        if (attempts > 100) {\n",
       "          clearInterval(timer);\n",
       "          console.log(\"Bokeh: ERROR: Unable to run BokehJS code because BokehJS library is missing\");\n",
       "        }\n",
       "      }\n",
       "    }, 10, root)\n",
       "  }\n",
       "})(window);"
      ],
      "application/vnd.bokehjs_exec.v0+json": ""
     },
     "metadata": {
      "application/vnd.bokehjs_exec.v0+json": {
       "id": "1658"
      }
     },
     "output_type": "display_data"
    }
   ],
   "source": [
    "predictions = clf.predict(x_test)\n",
    "plot_confusion_matrix(y_test, predictions)"
   ]
  },
  {
   "cell_type": "markdown",
   "metadata": {},
   "source": [
    "# Hyperparamter Tuning"
   ]
  },
  {
   "cell_type": "code",
   "execution_count": 33,
   "metadata": {},
   "outputs": [],
   "source": [
    "from sklearn.model_selection import GridSearchCV"
   ]
  },
  {
   "cell_type": "code",
   "execution_count": 34,
   "metadata": {},
   "outputs": [],
   "source": [
    "params = {\n",
    "    'n_estimators': [5, 10, 50, 100],\n",
    "    'learning_rate': [0.001, 0.01, 0.1, 1, 10],\n",
    "}"
   ]
  },
  {
   "cell_type": "code",
   "execution_count": 35,
   "metadata": {},
   "outputs": [
    {
     "data": {
      "text/plain": [
       "{'learning_rate': 0.01, 'n_estimators': 100}"
      ]
     },
     "execution_count": 35,
     "metadata": {},
     "output_type": "execute_result"
    }
   ],
   "source": [
    "adaboost = AdaBoostClassifier(random_state = 0)\n",
    "\n",
    "clf = GridSearchCV(adaboost, params, error_score=0)\n",
    "search = clf.fit(x_train, y_train)\n",
    "best_params = search.best_params_\n",
    "best_params"
   ]
  },
  {
   "cell_type": "code",
   "execution_count": 36,
   "metadata": {},
   "outputs": [
    {
     "data": {
      "text/plain": [
       "0.7894736842105263"
      ]
     },
     "execution_count": 36,
     "metadata": {},
     "output_type": "execute_result"
    }
   ],
   "source": [
    "clf = AdaBoostClassifier(random_state = 0, **best_params)\n",
    "clf = clf.fit(x_train, y_train)\n",
    "clf.score(x_test, y_test)"
   ]
  },
  {
   "cell_type": "code",
   "execution_count": 37,
   "metadata": {},
   "outputs": [
    {
     "data": {
      "text/html": [
       "\n",
       "\n",
       "\n",
       "\n",
       "\n",
       "\n",
       "  <div class=\"bk-root\" id=\"5e44ba04-e40a-4054-9f16-bdf645fd72cb\" data-root-id=\"1779\"></div>\n"
      ]
     },
     "metadata": {},
     "output_type": "display_data"
    },
    {
     "data": {
      "application/javascript": [
       "(function(root) {\n",
       "  function embed_document(root) {\n",
       "    \n",
       "  var docs_json = {\"e35cceb3-5231-4cdd-9783-8d13cfb1f135\":{\"roots\":{\"references\":[{\"attributes\":{\"below\":[{\"id\":\"1790\"}],\"center\":[{\"id\":\"1792\"},{\"id\":\"1795\"},{\"id\":\"1805\"}],\"left\":[{\"id\":\"1793\"}],\"plot_height\":400,\"plot_width\":400,\"renderers\":[{\"id\":\"1802\"}],\"title\":{\"id\":\"1780\"},\"toolbar\":{\"id\":\"1797\"},\"x_range\":{\"id\":\"1782\"},\"x_scale\":{\"id\":\"1786\"},\"y_range\":{\"id\":\"1784\"},\"y_scale\":{\"id\":\"1788\"}},\"id\":\"1779\",\"subtype\":\"Figure\",\"type\":\"Plot\"},{\"attributes\":{\"data\":{\"Predicted\":[\"0\",\"1\",\"0\",\"1\"],\"True\":[\"0\",\"0\",\"1\",\"1\"],\"index\":[0,1,2,3],\"value\":[34,7,9,26]},\"selected\":{\"id\":\"1869\"},\"selection_policy\":{\"id\":\"1868\"}},\"id\":\"1777\",\"type\":\"ColumnDataSource\"},{\"attributes\":{\"fill_color\":{\"field\":\"value\",\"transform\":{\"id\":\"1778\"}},\"height\":{\"units\":\"data\",\"value\":1},\"line_color\":{\"value\":\"grey\"},\"width\":{\"units\":\"data\",\"value\":1},\"x\":{\"field\":\"Predicted\"},\"y\":{\"field\":\"True\"}},\"id\":\"1800\",\"type\":\"Rect\"},{\"attributes\":{\"factors\":[\"0\",\"1\"]},\"id\":\"1784\",\"type\":\"FactorRange\"},{\"attributes\":{\"palette\":[\"#053061\",\"#2166ac\",\"#4393c3\",\"#92c5de\",\"#d1e5f0\",\"#fddbc7\",\"#f4a582\",\"#d6604d\",\"#b2182b\",\"#67001f\"]},\"id\":\"1778\",\"type\":\"LinearColorMapper\"},{\"attributes\":{\"source\":{\"id\":\"1777\"}},\"id\":\"1803\",\"type\":\"CDSView\"},{\"attributes\":{},\"id\":\"1864\",\"type\":\"CategoricalTickFormatter\"},{\"attributes\":{\"data_source\":{\"id\":\"1777\"},\"glyph\":{\"id\":\"1800\"},\"hover_glyph\":null,\"muted_glyph\":null,\"nonselection_glyph\":{\"id\":\"1801\"},\"selection_glyph\":null,\"view\":{\"id\":\"1803\"}},\"id\":\"1802\",\"type\":\"GlyphRenderer\"},{\"attributes\":{},\"id\":\"1868\",\"type\":\"UnionRenderers\"},{\"attributes\":{},\"id\":\"1791\",\"type\":\"CategoricalTicker\"},{\"attributes\":{\"axis_label\":\"Predicted\",\"axis_line_color\":null,\"formatter\":{\"id\":\"1864\"},\"major_label_orientation\":1.0,\"major_label_standoff\":0,\"major_label_text_font_size\":\"14px\",\"major_tick_line_color\":null,\"ticker\":{\"id\":\"1791\"}},\"id\":\"1790\",\"type\":\"CategoricalAxis\"},{\"attributes\":{\"callback\":null,\"tooltips\":[[\"True\",\"@{True}\"],[\"Predicted\",\"@{Predicted}\"],[\"Count\",\"@value\"]]},\"id\":\"1796\",\"type\":\"HoverTool\"},{\"attributes\":{},\"id\":\"1786\",\"type\":\"CategoricalScale\"},{\"attributes\":{\"axis_label\":\"True\",\"axis_line_color\":null,\"formatter\":{\"id\":\"1866\"},\"major_label_standoff\":0,\"major_label_text_font_size\":\"14px\",\"major_tick_line_color\":null,\"ticker\":{\"id\":\"1794\"}},\"id\":\"1793\",\"type\":\"CategoricalAxis\"},{\"attributes\":{},\"id\":\"1794\",\"type\":\"CategoricalTicker\"},{\"attributes\":{\"factors\":[\"0\",\"1\"]},\"id\":\"1782\",\"type\":\"FactorRange\"},{\"attributes\":{\"axis\":{\"id\":\"1793\"},\"dimension\":1,\"ticker\":null},\"id\":\"1795\",\"type\":\"Grid\"},{\"attributes\":{\"source\":{\"id\":\"1777\"},\"text\":{\"field\":\"value\"},\"text_color\":{\"value\":\"white\"},\"x\":{\"field\":\"Predicted\"},\"x_offset\":{\"value\":70},\"y\":{\"field\":\"True\"},\"y_offset\":{\"value\":70}},\"id\":\"1805\",\"type\":\"LabelSet\"},{\"attributes\":{},\"id\":\"1866\",\"type\":\"CategoricalTickFormatter\"},{\"attributes\":{},\"id\":\"1869\",\"type\":\"Selection\"},{\"attributes\":{},\"id\":\"1788\",\"type\":\"CategoricalScale\"},{\"attributes\":{\"text\":\"Confusion Matrix: Overall accuracy = 78.95%\"},\"id\":\"1780\",\"type\":\"Title\"},{\"attributes\":{\"axis\":{\"id\":\"1790\"},\"ticker\":null},\"id\":\"1792\",\"type\":\"Grid\"},{\"attributes\":{\"active_drag\":\"auto\",\"active_inspect\":\"auto\",\"active_multi\":null,\"active_scroll\":\"auto\",\"active_tap\":\"auto\",\"tools\":[{\"id\":\"1796\"}]},\"id\":\"1797\",\"type\":\"Toolbar\"},{\"attributes\":{\"fill_alpha\":{\"value\":0.1},\"fill_color\":{\"field\":\"value\",\"transform\":{\"id\":\"1778\"}},\"height\":{\"units\":\"data\",\"value\":1},\"line_alpha\":{\"value\":0.1},\"line_color\":{\"value\":\"grey\"},\"width\":{\"units\":\"data\",\"value\":1},\"x\":{\"field\":\"Predicted\"},\"y\":{\"field\":\"True\"}},\"id\":\"1801\",\"type\":\"Rect\"}],\"root_ids\":[\"1779\"]},\"title\":\"Bokeh Application\",\"version\":\"2.2.3\"}};\n",
       "  var render_items = [{\"docid\":\"e35cceb3-5231-4cdd-9783-8d13cfb1f135\",\"root_ids\":[\"1779\"],\"roots\":{\"1779\":\"5e44ba04-e40a-4054-9f16-bdf645fd72cb\"}}];\n",
       "  root.Bokeh.embed.embed_items_notebook(docs_json, render_items);\n",
       "\n",
       "  }\n",
       "  if (root.Bokeh !== undefined) {\n",
       "    embed_document(root);\n",
       "  } else {\n",
       "    var attempts = 0;\n",
       "    var timer = setInterval(function(root) {\n",
       "      if (root.Bokeh !== undefined) {\n",
       "        clearInterval(timer);\n",
       "        embed_document(root);\n",
       "      } else {\n",
       "        attempts++;\n",
       "        if (attempts > 100) {\n",
       "          clearInterval(timer);\n",
       "          console.log(\"Bokeh: ERROR: Unable to run BokehJS code because BokehJS library is missing\");\n",
       "        }\n",
       "      }\n",
       "    }, 10, root)\n",
       "  }\n",
       "})(window);"
      ],
      "application/vnd.bokehjs_exec.v0+json": ""
     },
     "metadata": {
      "application/vnd.bokehjs_exec.v0+json": {
       "id": "1779"
      }
     },
     "output_type": "display_data"
    }
   ],
   "source": [
    "predictions = clf.predict(x_test)\n",
    "plot_confusion_matrix(y_test, predictions)"
   ]
  },
  {
   "cell_type": "code",
   "execution_count": 38,
   "metadata": {},
   "outputs": [
    {
     "data": {
      "text/html": [
       "<table class=\"simpletable\">\n",
       "<caption>OLS Regression Results</caption>\n",
       "<tr>\n",
       "  <th>Dep. Variable:</th>     <td>mean_test_score</td> <th>  R-squared:         </th> <td>   0.786</td>\n",
       "</tr>\n",
       "<tr>\n",
       "  <th>Model:</th>                   <td>OLS</td>       <th>  Adj. R-squared:    </th> <td>   0.746</td>\n",
       "</tr>\n",
       "<tr>\n",
       "  <th>Method:</th>             <td>Least Squares</td>  <th>  F-statistic:       </th> <td>   19.63</td>\n",
       "</tr>\n",
       "<tr>\n",
       "  <th>Date:</th>             <td>Mon, 22 Feb 2021</td> <th>  Prob (F-statistic):</th> <td>1.30e-05</td>\n",
       "</tr>\n",
       "<tr>\n",
       "  <th>Time:</th>                 <td>14:56:22</td>     <th>  Log-Likelihood:    </th> <td>  19.310</td>\n",
       "</tr>\n",
       "<tr>\n",
       "  <th>No. Observations:</th>      <td>    20</td>      <th>  AIC:               </th> <td>  -30.62</td>\n",
       "</tr>\n",
       "<tr>\n",
       "  <th>Df Residuals:</th>          <td>    16</td>      <th>  BIC:               </th> <td>  -26.64</td>\n",
       "</tr>\n",
       "<tr>\n",
       "  <th>Df Model:</th>              <td>     3</td>      <th>                     </th>     <td> </td>   \n",
       "</tr>\n",
       "<tr>\n",
       "  <th>Covariance Type:</th>      <td>nonrobust</td>    <th>                     </th>     <td> </td>   \n",
       "</tr>\n",
       "</table>\n",
       "<table class=\"simpletable\">\n",
       "<tr>\n",
       "                     <td></td>                       <th>coef</th>     <th>std err</th>      <th>t</th>      <th>P>|t|</th>  <th>[0.025</th>    <th>0.975]</th>  \n",
       "</tr>\n",
       "<tr>\n",
       "  <th>Intercept</th>                              <td>    0.7988</td> <td>    0.039</td> <td>   20.465</td> <td> 0.000</td> <td>    0.716</td> <td>    0.882</td>\n",
       "</tr>\n",
       "<tr>\n",
       "  <th>param_learning_rate</th>                    <td>   -0.0289</td> <td>    0.009</td> <td>   -3.325</td> <td> 0.004</td> <td>   -0.047</td> <td>   -0.010</td>\n",
       "</tr>\n",
       "<tr>\n",
       "  <th>param_n_estimators</th>                     <td>    0.0004</td> <td>    0.001</td> <td>    0.537</td> <td> 0.598</td> <td>   -0.001</td> <td>    0.002</td>\n",
       "</tr>\n",
       "<tr>\n",
       "  <th>param_learning_rate:param_n_estimators</th> <td>   -0.0003</td> <td>    0.000</td> <td>   -2.233</td> <td> 0.040</td> <td>   -0.001</td> <td>-1.75e-05</td>\n",
       "</tr>\n",
       "</table>\n",
       "<table class=\"simpletable\">\n",
       "<tr>\n",
       "  <th>Omnibus:</th>       <td> 4.069</td> <th>  Durbin-Watson:     </th> <td>   1.875</td>\n",
       "</tr>\n",
       "<tr>\n",
       "  <th>Prob(Omnibus):</th> <td> 0.131</td> <th>  Jarque-Bera (JB):  </th> <td>   2.368</td>\n",
       "</tr>\n",
       "<tr>\n",
       "  <th>Skew:</th>          <td> 0.186</td> <th>  Prob(JB):          </th> <td>   0.306</td>\n",
       "</tr>\n",
       "<tr>\n",
       "  <th>Kurtosis:</th>      <td> 4.644</td> <th>  Cond. No.          </th> <td>    433.</td>\n",
       "</tr>\n",
       "</table><br/><br/>Notes:<br/>[1] Standard Errors assume that the covariance matrix of the errors is correctly specified."
      ],
      "text/plain": [
       "<class 'statsmodels.iolib.summary.Summary'>\n",
       "\"\"\"\n",
       "                            OLS Regression Results                            \n",
       "==============================================================================\n",
       "Dep. Variable:        mean_test_score   R-squared:                       0.786\n",
       "Model:                            OLS   Adj. R-squared:                  0.746\n",
       "Method:                 Least Squares   F-statistic:                     19.63\n",
       "Date:                Mon, 22 Feb 2021   Prob (F-statistic):           1.30e-05\n",
       "Time:                        14:56:22   Log-Likelihood:                 19.310\n",
       "No. Observations:                  20   AIC:                            -30.62\n",
       "Df Residuals:                      16   BIC:                            -26.64\n",
       "Df Model:                           3                                         \n",
       "Covariance Type:            nonrobust                                         \n",
       "==========================================================================================================\n",
       "                                             coef    std err          t      P>|t|      [0.025      0.975]\n",
       "----------------------------------------------------------------------------------------------------------\n",
       "Intercept                                  0.7988      0.039     20.465      0.000       0.716       0.882\n",
       "param_learning_rate                       -0.0289      0.009     -3.325      0.004      -0.047      -0.010\n",
       "param_n_estimators                         0.0004      0.001      0.537      0.598      -0.001       0.002\n",
       "param_learning_rate:param_n_estimators    -0.0003      0.000     -2.233      0.040      -0.001   -1.75e-05\n",
       "==============================================================================\n",
       "Omnibus:                        4.069   Durbin-Watson:                   1.875\n",
       "Prob(Omnibus):                  0.131   Jarque-Bera (JB):                2.368\n",
       "Skew:                           0.186   Prob(JB):                        0.306\n",
       "Kurtosis:                       4.644   Cond. No.                         433.\n",
       "==============================================================================\n",
       "\n",
       "Notes:\n",
       "[1] Standard Errors assume that the covariance matrix of the errors is correctly specified.\n",
       "\"\"\""
      ]
     },
     "execution_count": 38,
     "metadata": {},
     "output_type": "execute_result"
    }
   ],
   "source": [
    "summary = pd.DataFrame(search.cv_results_)\n",
    "param_columns = [col for col in summary.columns if col.startswith('param') and (col != 'params')]\n",
    "\n",
    "metric_col = 'mean_test_score'\n",
    "summary = summary[param_columns + [metric_col]]\n",
    "summary = summary.dropna()\n",
    "for col in summary.columns:\n",
    "    summary[col] = pd.to_numeric(summary[col])\n",
    "\n",
    "formula = f\"{metric_col} ~ {'*'.join(param_columns)}\"\n",
    "\n",
    "model = smf.ols(\n",
    "    formula = formula, \n",
    "    data = summary)\n",
    "\n",
    "fit_model = model.fit()\n",
    "\n",
    "fit_model.summary()"
   ]
  },
  {
   "cell_type": "code",
   "execution_count": 39,
   "metadata": {},
   "outputs": [
    {
     "name": "stdout",
     "output_type": "stream",
     "text": [
      "Starting course search\n",
      "Best params from course search: {'learning_rate': 0.01, 'n_estimators': 100}\n",
      "Starting fine search\n",
      "Best params from fine search: {'learning_rate': 0.010714285714285716, 'n_estimators': 104}\n"
     ]
    },
    {
     "data": {
      "text/html": [
       "\n",
       "\n",
       "\n",
       "\n",
       "\n",
       "\n",
       "  <div class=\"bk-root\" id=\"b4198313-101c-4748-80c6-51a7e1b40b77\" data-root-id=\"1907\"></div>\n"
      ]
     },
     "metadata": {},
     "output_type": "display_data"
    },
    {
     "data": {
      "application/javascript": [
       "(function(root) {\n",
       "  function embed_document(root) {\n",
       "    \n",
       "  var docs_json = {\"9a875e76-4bf2-4796-b3cc-72e21c07c320\":{\"roots\":{\"references\":[{\"attributes\":{\"below\":[{\"id\":\"1918\"}],\"center\":[{\"id\":\"1920\"},{\"id\":\"1923\"},{\"id\":\"1933\"}],\"left\":[{\"id\":\"1921\"}],\"plot_height\":400,\"plot_width\":400,\"renderers\":[{\"id\":\"1930\"}],\"title\":{\"id\":\"1908\"},\"toolbar\":{\"id\":\"1925\"},\"x_range\":{\"id\":\"1910\"},\"x_scale\":{\"id\":\"1914\"},\"y_range\":{\"id\":\"1912\"},\"y_scale\":{\"id\":\"1916\"}},\"id\":\"1907\",\"subtype\":\"Figure\",\"type\":\"Plot\"},{\"attributes\":{\"active_drag\":\"auto\",\"active_inspect\":\"auto\",\"active_multi\":null,\"active_scroll\":\"auto\",\"active_tap\":\"auto\",\"tools\":[{\"id\":\"1924\"}]},\"id\":\"1925\",\"type\":\"Toolbar\"},{\"attributes\":{\"callback\":null,\"tooltips\":[[\"True\",\"@{True}\"],[\"Predicted\",\"@{Predicted}\"],[\"Count\",\"@value\"]]},\"id\":\"1924\",\"type\":\"HoverTool\"},{\"attributes\":{\"source\":{\"id\":\"1905\"},\"text\":{\"field\":\"value\"},\"text_color\":{\"value\":\"white\"},\"x\":{\"field\":\"Predicted\"},\"x_offset\":{\"value\":70},\"y\":{\"field\":\"True\"},\"y_offset\":{\"value\":70}},\"id\":\"1933\",\"type\":\"LabelSet\"},{\"attributes\":{\"fill_color\":{\"field\":\"value\",\"transform\":{\"id\":\"1906\"}},\"height\":{\"units\":\"data\",\"value\":1},\"line_color\":{\"value\":\"grey\"},\"width\":{\"units\":\"data\",\"value\":1},\"x\":{\"field\":\"Predicted\"},\"y\":{\"field\":\"True\"}},\"id\":\"1928\",\"type\":\"Rect\"},{\"attributes\":{\"factors\":[\"0\",\"1\"]},\"id\":\"1912\",\"type\":\"FactorRange\"},{\"attributes\":{\"axis_label\":\"True\",\"axis_line_color\":null,\"formatter\":{\"id\":\"2001\"},\"major_label_standoff\":0,\"major_label_text_font_size\":\"14px\",\"major_tick_line_color\":null,\"ticker\":{\"id\":\"1922\"}},\"id\":\"1921\",\"type\":\"CategoricalAxis\"},{\"attributes\":{},\"id\":\"2003\",\"type\":\"UnionRenderers\"},{\"attributes\":{\"source\":{\"id\":\"1905\"}},\"id\":\"1931\",\"type\":\"CDSView\"},{\"attributes\":{\"axis\":{\"id\":\"1921\"},\"dimension\":1,\"ticker\":null},\"id\":\"1923\",\"type\":\"Grid\"},{\"attributes\":{},\"id\":\"1919\",\"type\":\"CategoricalTicker\"},{\"attributes\":{},\"id\":\"2001\",\"type\":\"CategoricalTickFormatter\"},{\"attributes\":{},\"id\":\"1999\",\"type\":\"CategoricalTickFormatter\"},{\"attributes\":{},\"id\":\"1916\",\"type\":\"CategoricalScale\"},{\"attributes\":{},\"id\":\"2004\",\"type\":\"Selection\"},{\"attributes\":{\"text\":\"Confusion Matrix: Overall accuracy = 78.95%\"},\"id\":\"1908\",\"type\":\"Title\"},{\"attributes\":{\"axis_label\":\"Predicted\",\"axis_line_color\":null,\"formatter\":{\"id\":\"1999\"},\"major_label_orientation\":1.0,\"major_label_standoff\":0,\"major_label_text_font_size\":\"14px\",\"major_tick_line_color\":null,\"ticker\":{\"id\":\"1919\"}},\"id\":\"1918\",\"type\":\"CategoricalAxis\"},{\"attributes\":{\"data\":{\"Predicted\":[\"0\",\"1\",\"0\",\"1\"],\"True\":[\"0\",\"0\",\"1\",\"1\"],\"index\":[0,1,2,3],\"value\":[34,7,9,26]},\"selected\":{\"id\":\"2004\"},\"selection_policy\":{\"id\":\"2003\"}},\"id\":\"1905\",\"type\":\"ColumnDataSource\"},{\"attributes\":{\"axis\":{\"id\":\"1918\"},\"ticker\":null},\"id\":\"1920\",\"type\":\"Grid\"},{\"attributes\":{\"factors\":[\"0\",\"1\"]},\"id\":\"1910\",\"type\":\"FactorRange\"},{\"attributes\":{},\"id\":\"1922\",\"type\":\"CategoricalTicker\"},{\"attributes\":{},\"id\":\"1914\",\"type\":\"CategoricalScale\"},{\"attributes\":{\"palette\":[\"#053061\",\"#2166ac\",\"#4393c3\",\"#92c5de\",\"#d1e5f0\",\"#fddbc7\",\"#f4a582\",\"#d6604d\",\"#b2182b\",\"#67001f\"]},\"id\":\"1906\",\"type\":\"LinearColorMapper\"},{\"attributes\":{\"data_source\":{\"id\":\"1905\"},\"glyph\":{\"id\":\"1928\"},\"hover_glyph\":null,\"muted_glyph\":null,\"nonselection_glyph\":{\"id\":\"1929\"},\"selection_glyph\":null,\"view\":{\"id\":\"1931\"}},\"id\":\"1930\",\"type\":\"GlyphRenderer\"},{\"attributes\":{\"fill_alpha\":{\"value\":0.1},\"fill_color\":{\"field\":\"value\",\"transform\":{\"id\":\"1906\"}},\"height\":{\"units\":\"data\",\"value\":1},\"line_alpha\":{\"value\":0.1},\"line_color\":{\"value\":\"grey\"},\"width\":{\"units\":\"data\",\"value\":1},\"x\":{\"field\":\"Predicted\"},\"y\":{\"field\":\"True\"}},\"id\":\"1929\",\"type\":\"Rect\"}],\"root_ids\":[\"1907\"]},\"title\":\"Bokeh Application\",\"version\":\"2.2.3\"}};\n",
       "  var render_items = [{\"docid\":\"9a875e76-4bf2-4796-b3cc-72e21c07c320\",\"root_ids\":[\"1907\"],\"roots\":{\"1907\":\"b4198313-101c-4748-80c6-51a7e1b40b77\"}}];\n",
       "  root.Bokeh.embed.embed_items_notebook(docs_json, render_items);\n",
       "\n",
       "  }\n",
       "  if (root.Bokeh !== undefined) {\n",
       "    embed_document(root);\n",
       "  } else {\n",
       "    var attempts = 0;\n",
       "    var timer = setInterval(function(root) {\n",
       "      if (root.Bokeh !== undefined) {\n",
       "        clearInterval(timer);\n",
       "        embed_document(root);\n",
       "      } else {\n",
       "        attempts++;\n",
       "        if (attempts > 100) {\n",
       "          clearInterval(timer);\n",
       "          console.log(\"Bokeh: ERROR: Unable to run BokehJS code because BokehJS library is missing\");\n",
       "        }\n",
       "      }\n",
       "    }, 10, root)\n",
       "  }\n",
       "})(window);"
      ],
      "application/vnd.bokehjs_exec.v0+json": ""
     },
     "metadata": {
      "application/vnd.bokehjs_exec.v0+json": {
       "id": "1907"
      }
     },
     "output_type": "display_data"
    }
   ],
   "source": [
    "run_cell = True\n",
    "int_step = 4\n",
    "float_delta = 0.1\n",
    "float_steps = 8\n",
    "\n",
    "if run_cell:\n",
    "    params = {\n",
    "        'n_estimators': [5, 10, 50, 100],\n",
    "        'learning_rate': [0.001, 0.01, 0.1, 1, 10],\n",
    "    }\n",
    "\n",
    "    adaboost = AdaBoostClassifier(random_state = 0)\n",
    "\n",
    "    print('Starting course search')\n",
    "    clf = GridSearchCV(adaboost, params)\n",
    "    search = clf.fit(x_train, y_train)\n",
    "    print(f'Best params from course search: {search.best_params_}')\n",
    "\n",
    "    fine_params = {}\n",
    "    for param in params:\n",
    "        if isinstance(search.best_params_[param], int):\n",
    "            min_val = search.best_params_[param] - int_step\n",
    "            max_val = search.best_params_[param] + int_step + 1\n",
    "            fine_params[param] = [i for i in range(min_val, max_val)]\n",
    "        else:\n",
    "            min_val = search.best_params_[param]*(1 - float_delta)\n",
    "            max_val = search.best_params_[param]*(1 + float_delta)\n",
    "            fine_params[param] = np.linspace(min_val, max_val, float_steps)\n",
    "\n",
    "    print('Starting fine search')\n",
    "    clf = GridSearchCV(adaboost, fine_params, error_score=0)\n",
    "    search = clf.fit(x_train, y_train)\n",
    "    print(f'Best params from fine search: {search.best_params_}')\n",
    "\n",
    "    clf = AdaBoostClassifier(random_state = 0, **search.best_params_)\n",
    "    clf = clf.fit(x_train, y_train)\n",
    "    clf.score(x_test, y_test)\n",
    "\n",
    "    predictions = clf.predict(x_test)\n",
    "    plot_confusion_matrix(y_test, predictions)"
   ]
  },
  {
   "cell_type": "markdown",
   "metadata": {},
   "source": [
    "## Neural Networks\n",
    "\n",
    "https://en.wikipedia.org/wiki/Artificial_neural_network\n",
    "\n",
    "https://missinglink.ai/guides/neural-network-concepts/7-types-neural-network-activation-functions-right/"
   ]
  },
  {
   "cell_type": "code",
   "execution_count": 40,
   "metadata": {},
   "outputs": [],
   "source": [
    "train, test = train_test_split(scaled_data, stratify = scaled_data[target], random_state = 809)\n",
    "x_train, y_train = train[features], train[target]\n",
    "x_test, y_test = test[features], test[target]"
   ]
  },
  {
   "cell_type": "code",
   "execution_count": 41,
   "metadata": {},
   "outputs": [
    {
     "data": {
      "text/plain": [
       "(227, 13)"
      ]
     },
     "execution_count": 41,
     "metadata": {},
     "output_type": "execute_result"
    }
   ],
   "source": [
    "x_train.shape"
   ]
  },
  {
   "cell_type": "code",
   "execution_count": 42,
   "metadata": {},
   "outputs": [
    {
     "ename": "ModuleNotFoundError",
     "evalue": "No module named 'tensorflow'",
     "output_type": "error",
     "traceback": [
      "\u001b[1;31m---------------------------------------------------------------------------\u001b[0m",
      "\u001b[1;31mModuleNotFoundError\u001b[0m                       Traceback (most recent call last)",
      "\u001b[1;32m<ipython-input-42-641da144a3c3>\u001b[0m in \u001b[0;36m<module>\u001b[1;34m\u001b[0m\n\u001b[1;32m----> 1\u001b[1;33m \u001b[1;32mimport\u001b[0m \u001b[0mtensorflow\u001b[0m \u001b[1;32mas\u001b[0m \u001b[0mtf\u001b[0m\u001b[1;33m\u001b[0m\u001b[1;33m\u001b[0m\u001b[0m\n\u001b[0m\u001b[0;32m      2\u001b[0m \u001b[1;33m\u001b[0m\u001b[0m\n\u001b[0;32m      3\u001b[0m \u001b[1;32mfrom\u001b[0m \u001b[0mkeras\u001b[0m\u001b[1;33m.\u001b[0m\u001b[0mmodels\u001b[0m \u001b[1;32mimport\u001b[0m \u001b[0mSequential\u001b[0m\u001b[1;33m\u001b[0m\u001b[1;33m\u001b[0m\u001b[0m\n\u001b[0;32m      4\u001b[0m \u001b[1;32mfrom\u001b[0m \u001b[0mkeras\u001b[0m\u001b[1;33m.\u001b[0m\u001b[0mlayers\u001b[0m \u001b[1;32mimport\u001b[0m \u001b[0mDense\u001b[0m\u001b[1;33m,\u001b[0m \u001b[0mDropout\u001b[0m\u001b[1;33m,\u001b[0m \u001b[0mInput\u001b[0m\u001b[1;33m\u001b[0m\u001b[1;33m\u001b[0m\u001b[0m\n",
      "\u001b[1;31mModuleNotFoundError\u001b[0m: No module named 'tensorflow'"
     ]
    }
   ],
   "source": [
    "import tensorflow as tf\n",
    "\n",
    "from keras.models import Sequential\n",
    "from keras.layers import Dense, Dropout, Input"
   ]
  },
  {
   "cell_type": "code",
   "execution_count": null,
   "metadata": {},
   "outputs": [],
   "source": [
    "def plot_history(tf_history):\n",
    "\n",
    "    width = 12\n",
    "    height = width*0.4\n",
    "    fig, ax = plt.subplots(1, 2, figsize = (width, height))\n",
    "\n",
    "    index = [i for i, _ in enumerate(history.history['loss'], 1)]\n",
    "\n",
    "    ax[0].plot(index, tf_history.history['loss'], label = 'Loss')\n",
    "    ax[0].plot(index, tf_history.history['val_loss'], label = 'Validation Loss')\n",
    "    ax[0].legend(loc = 0)\n",
    "    ax[0].set_xlabel('Epoch')\n",
    "    ax[0].set_ylabel('Value')\n",
    "\n",
    "    ax[1].plot(index, tf_history.history['accuracy'], label = 'Accuracy')\n",
    "    ax[1].plot(index, tf_history.history['val_accuracy'], label = 'Validation Accuracy')\n",
    "    ax[1].legend(loc = 0)\n",
    "    ax[1].set_xlabel('Epoch')\n",
    "    ax[1].set_ylabel('Value')\n",
    "    plt.show()"
   ]
  },
  {
   "cell_type": "markdown",
   "metadata": {},
   "source": [
    "#### Case 1: Inputs mapped to a single output layer. MSE loss."
   ]
  },
  {
   "cell_type": "code",
   "execution_count": null,
   "metadata": {},
   "outputs": [],
   "source": [
    "tf.random.set_seed(0)\n",
    "\n",
    "model = Sequential()\n",
    "model.add(Input(13))\n",
    "model.add(Dense(1))\n",
    "model.compile(loss = 'mse', \n",
    "              optimizer = 'adam', \n",
    "              metrics = ['accuracy'])\n",
    "\n",
    "X, y = train[features].values, train[target].values\n",
    "history = model.fit(X, y, \n",
    "          epochs = 10, \n",
    "          batch_size = 10, \n",
    "          verbose = 1,\n",
    "          validation_split = 0.2);"
   ]
  },
  {
   "cell_type": "code",
   "execution_count": null,
   "metadata": {},
   "outputs": [],
   "source": [
    "model.summary()"
   ]
  },
  {
   "cell_type": "code",
   "execution_count": null,
   "metadata": {},
   "outputs": [],
   "source": [
    "plot_history(history)"
   ]
  },
  {
   "cell_type": "markdown",
   "metadata": {},
   "source": [
    "Seems that we stopped training prematurely."
   ]
  },
  {
   "cell_type": "markdown",
   "metadata": {},
   "source": [
    "#### Case 2: Adding epochs"
   ]
  },
  {
   "cell_type": "code",
   "execution_count": null,
   "metadata": {},
   "outputs": [],
   "source": [
    "tf.random.set_seed(0)\n",
    "\n",
    "model = Sequential()\n",
    "model.add(Input(13))\n",
    "model.add(Dense(1))\n",
    "model.compile(loss = 'mse', \n",
    "              optimizer = 'adam', \n",
    "              metrics = ['accuracy'])\n",
    "\n",
    "X, y = train[features].values, train[target].values\n",
    "history = model.fit(X, y, \n",
    "          epochs = 100, \n",
    "          batch_size = 10, \n",
    "          verbose = 0,\n",
    "          validation_split = 0.2);\n",
    "\n",
    "plot_history(history)"
   ]
  },
  {
   "cell_type": "code",
   "execution_count": null,
   "metadata": {},
   "outputs": [],
   "source": [
    "predictions = (model.predict(test[features].values).flatten() > 0.5).astype(int)\n",
    "\n",
    "plot_confusion_matrix(y_test, predictions)"
   ]
  },
  {
   "cell_type": "markdown",
   "metadata": {},
   "source": [
    "#### Case 3: An *almost* Deep Neural Net"
   ]
  },
  {
   "cell_type": "code",
   "execution_count": null,
   "metadata": {},
   "outputs": [],
   "source": [
    "tf.random.set_seed(0)\n",
    "\n",
    "model = Sequential()\n",
    "model.add(Dense(6))\n",
    "model.add(Dense(1))\n",
    "model.compile(loss = 'mse', \n",
    "              optimizer = 'adam', \n",
    "              metrics = ['accuracy'])\n",
    "\n",
    "X, y = train[features].values, train[target].values\n",
    "history = model.fit(X, y, \n",
    "          epochs = 100, \n",
    "          batch_size = 10, \n",
    "          verbose = 0,\n",
    "          validation_split = 0.2);\n",
    "\n",
    "plot_history(history)"
   ]
  },
  {
   "cell_type": "code",
   "execution_count": null,
   "metadata": {},
   "outputs": [],
   "source": [
    "model.summary()"
   ]
  },
  {
   "cell_type": "markdown",
   "metadata": {},
   "source": [
    "#### Case 4: A Deep neural net"
   ]
  },
  {
   "cell_type": "code",
   "execution_count": null,
   "metadata": {},
   "outputs": [],
   "source": [
    "tf.random.set_seed(0)\n",
    "\n",
    "model = Sequential()\n",
    "model.add(Dense(9))\n",
    "model.add(Dense(6))\n",
    "model.add(Dense(3))\n",
    "model.add(Dense(1))\n",
    "model.compile(loss = 'mse', \n",
    "              optimizer = 'adam', \n",
    "              metrics = ['accuracy'])\n",
    "\n",
    "X, y = train[features].values, train[target].values\n",
    "history = model.fit(X, y, \n",
    "          epochs = 100, \n",
    "          batch_size = 10, \n",
    "          verbose = 0,\n",
    "          validation_split = 0.2);\n",
    "\n",
    "plot_history(history)"
   ]
  },
  {
   "cell_type": "code",
   "execution_count": null,
   "metadata": {},
   "outputs": [],
   "source": [
    "model.summary()"
   ]
  },
  {
   "cell_type": "markdown",
   "metadata": {},
   "source": [
    "#### Case 5: Rectified Linear Unit (ReLu) Activation\n",
    "\n",
    "https://en.wikipedia.org/wiki/Rectifier_(neural_networks)"
   ]
  },
  {
   "cell_type": "code",
   "execution_count": null,
   "metadata": {},
   "outputs": [],
   "source": [
    "tf.random.set_seed(0)\n",
    "\n",
    "model = Sequential()\n",
    "model.add(Dense(6, activation='relu'))\n",
    "model.add(Dense(1, activation='relu'))\n",
    "model.compile(loss = 'binary_crossentropy', \n",
    "              optimizer = 'adam', \n",
    "              metrics = ['accuracy'])\n",
    "\n",
    "X, y = train[features].values, train[target].values\n",
    "history = model.fit(X, y, \n",
    "          epochs = 100, \n",
    "          batch_size = 20, \n",
    "          verbose = 0,\n",
    "          validation_split = 0.2);\n",
    "\n",
    "plot_history(history)"
   ]
  },
  {
   "cell_type": "markdown",
   "metadata": {},
   "source": [
    "#### Case 6: ReLu with additional epochs"
   ]
  },
  {
   "cell_type": "code",
   "execution_count": null,
   "metadata": {},
   "outputs": [],
   "source": [
    "tf.random.set_seed(0)\n",
    "\n",
    "model = Sequential()\n",
    "model.add(Dense(6, activation='relu'))\n",
    "model.add(Dense(1, activation='relu'))\n",
    "model.compile(loss = 'binary_crossentropy', \n",
    "              optimizer = 'adam', \n",
    "              metrics = ['accuracy'])\n",
    "\n",
    "X, y = train[features].values, train[target].values\n",
    "history = model.fit(X, y, \n",
    "          epochs = 500, \n",
    "          batch_size = 10, \n",
    "          verbose = 0,\n",
    "          validation_split = 0.2);\n",
    "\n",
    "plot_history(history)"
   ]
  },
  {
   "cell_type": "markdown",
   "metadata": {},
   "source": [
    "#### Case 7: ReLu with additional epochs and Dropout"
   ]
  },
  {
   "cell_type": "code",
   "execution_count": null,
   "metadata": {},
   "outputs": [],
   "source": [
    "tf.random.set_seed(0)\n",
    "\n",
    "model = Sequential()\n",
    "model.add(Dense(6, activation='relu'))\n",
    "model.add(Dropout(0.2))\n",
    "model.add(Dense(1, activation='relu'))\n",
    "model.compile(loss = 'binary_crossentropy', \n",
    "              optimizer = 'adam', \n",
    "              metrics = ['accuracy'])\n",
    "\n",
    "X, y = train[features].values, train[target].values\n",
    "history = model.fit(X, y, \n",
    "          epochs = 500, \n",
    "          batch_size = 10, \n",
    "          verbose = 0,\n",
    "          validation_split = 0.2);\n",
    "\n",
    "plot_history(history)"
   ]
  },
  {
   "cell_type": "code",
   "execution_count": null,
   "metadata": {},
   "outputs": [],
   "source": [
    "predictions = (model.predict(test[features].values).flatten() > 0.5).astype(int)\n",
    "\n",
    "plot_confusion_matrix(y_test, predictions)"
   ]
  },
  {
   "cell_type": "markdown",
   "metadata": {},
   "source": [
    "# What?"
   ]
  },
  {
   "cell_type": "markdown",
   "metadata": {},
   "source": [
    "#### Case 8: ReLu with additional epochs and Dropout, different data"
   ]
  },
  {
   "cell_type": "code",
   "execution_count": null,
   "metadata": {},
   "outputs": [],
   "source": [
    "train, test = train_test_split(scaled_data, stratify = scaled_data[target], random_state = 0)\n",
    "x_train, y_train = train[features], train[target]\n",
    "x_test, y_test = test[features], test[target]\n",
    "\n",
    "tf.random.set_seed(0)\n",
    "\n",
    "model = Sequential()\n",
    "model.add(Dense(6, activation='relu'))\n",
    "model.add(Dropout(0.2))\n",
    "model.add(Dense(1, activation='relu'))\n",
    "model.compile(loss = 'binary_crossentropy', \n",
    "              optimizer = 'adam', \n",
    "              metrics = ['accuracy'])\n",
    "\n",
    "X, y = train[features].values, train[target].values\n",
    "history = model.fit(X, y, \n",
    "          epochs = 500, \n",
    "          batch_size = 10, \n",
    "          verbose = 0,\n",
    "          validation_split = 0.2);\n",
    "\n",
    "plot_history(history)"
   ]
  },
  {
   "cell_type": "markdown",
   "metadata": {},
   "source": [
    "#### Case 9: ReLu with additional epochs and Dropout, different data"
   ]
  },
  {
   "cell_type": "code",
   "execution_count": null,
   "metadata": {},
   "outputs": [],
   "source": [
    "train, test = train_test_split(scaled_data, stratify = scaled_data[target], random_state = 0)\n",
    "x_train, y_train = train[features], train[target]\n",
    "x_test, y_test = test[features], test[target]\n",
    "\n",
    "tf.random.set_seed(0)\n",
    "\n",
    "model = Sequential()\n",
    "model.add(Dense(6, activation='relu'))\n",
    "model.add(Dropout(0.5))\n",
    "model.add(Dense(1, activation='relu'))\n",
    "model.compile(loss = 'binary_crossentropy', \n",
    "              optimizer = 'adam', \n",
    "              metrics = ['accuracy'])\n",
    "\n",
    "X, y = train[features].values, train[target].values\n",
    "history = model.fit(X, y, \n",
    "          epochs = 500, \n",
    "          batch_size = 10, \n",
    "          verbose = 0,\n",
    "          validation_split = 0.2);\n",
    "\n",
    "plot_history(history)"
   ]
  },
  {
   "cell_type": "code",
   "execution_count": null,
   "metadata": {},
   "outputs": [],
   "source": [
    "predictions = (model.predict(test[features].values).flatten() > 0.5).astype(int)\n",
    "\n",
    "plot_confusion_matrix(y_test, predictions)"
   ]
  },
  {
   "cell_type": "code",
   "execution_count": null,
   "metadata": {},
   "outputs": [],
   "source": []
  }
 ],
 "metadata": {
  "kernelspec": {
   "display_name": "opt_env",
   "language": "python",
   "name": "opt_env"
  },
  "language_info": {
   "codemirror_mode": {
    "name": "ipython",
    "version": 3
   },
   "file_extension": ".py",
   "mimetype": "text/x-python",
   "name": "python",
   "nbconvert_exporter": "python",
   "pygments_lexer": "ipython3",
   "version": "3.8.6"
  }
 },
 "nbformat": 4,
 "nbformat_minor": 5
}
