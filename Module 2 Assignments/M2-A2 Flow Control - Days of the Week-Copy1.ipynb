{
 "cells": [
  {
   "cell_type": "markdown",
   "metadata": {},
   "source": [
    "# M2-A2 Flow Control - Days of the Week\n",
    "\n",
    "# Instructions:\n",
    "Write a Python script to obtain a number (1-7) representing the day of the week. (1 = Sunday, 2 = Monday, etc.). Then, print the full name of the day, e.g. \"Sunday\".\n",
    "\n",
    "**Bold** indicates input from the console.<br>\n",
    "Your code design should be reasonably efficient.\n",
    "\n",
    "### Expected sample output:\n",
    "Enter a number that corresponds to the day of the week:<br>\n",
    "**1**<br>\n",
    "Sunday\n",
    "\n",
    "### Expected sample output:\n",
    "Enter a number that corresponds to the day of the week:<br>\n",
    "**5**<br>\n",
    "Thursday"
   ]
  },
  {
   "cell_type": "code",
   "execution_count": 7,
   "metadata": {},
   "outputs": [
    {
     "name": "stdin",
     "output_type": "stream",
     "text": [
      "Enter a number that corresponds to the day of the week: 7\n"
     ]
    },
    {
     "name": "stdout",
     "output_type": "stream",
     "text": [
      "Saturday\n"
     ]
    }
   ],
   "source": [
    "numday = int (input(('Enter a number that corresponds to the day of the week:')))\n",
    "if numday == 1:\n",
    "    print('Sunday')\n",
    "elif numday == 2:\n",
    "    print('Monday')\n",
    "elif numday == 3:\n",
    "    print('Tuesday')\n",
    "elif numday == 4:\n",
    "    print('Wednesday')\n",
    "elif numday == 5:\n",
    "    print('Thursday')\n",
    "elif numday == 6:\n",
    "    print('Friday')\n",
    "elif numday == 7:\n",
    "    print('Saturday')\n",
    "else:\n",
    "    print('Please enter a number 1-7')"
   ]
  },
  {
   "cell_type": "code",
   "execution_count": null,
   "metadata": {},
   "outputs": [],
   "source": []
  }
 ],
 "metadata": {
  "kernelspec": {
   "display_name": "Python 3",
   "language": "python",
   "name": "python3"
  },
  "language_info": {
   "codemirror_mode": {
    "name": "ipython",
    "version": 3
   },
   "file_extension": ".py",
   "mimetype": "text/x-python",
   "name": "python",
   "nbconvert_exporter": "python",
   "pygments_lexer": "ipython3",
   "version": "3.7.6"
  }
 },
 "nbformat": 4,
 "nbformat_minor": 4
}
