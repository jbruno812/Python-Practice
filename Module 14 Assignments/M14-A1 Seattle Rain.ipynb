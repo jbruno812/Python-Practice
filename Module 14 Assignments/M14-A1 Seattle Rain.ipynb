{
 "cells": [
  {
   "cell_type": "markdown",
   "metadata": {},
   "source": [
    "# M14-A1 Seattle Rain\n",
    "\n",
    "# Instructions:\n",
    "You will be utilizing Seattle2014.csv for this assignment.\n",
    "\n",
    "Create a function named **seattle_rain()**. From the .csv file, read in the precipitation values (denoted 'PRCP'). You will need to convert from centimeters to inches. Shape the data. Using Pandas + NumPy, you want to get the following values below:\n",
    "\n",
    "### Expected sample output:\n",
    "umber days without rain: 215<br>\n",
    "Number days with rain: 150<br>\n",
    "Days with more than 0.5 inches: 37<br>\n",
    "Rainy days with < 0.2 inches: 75<br>"
   ]
  },
  {
   "cell_type": "code",
   "execution_count": 3,
   "metadata": {},
   "outputs": [
    {
     "name": "stdout",
     "output_type": "stream",
     "text": [
      "SEATLE RAIN...\n",
      "\n",
      "\n",
      "Number days without rain: 215\n",
      "Number days with rain: 150\n",
      "Days with more than 0.5 inches: 37\n",
      "Rainy days with < 0.2 inches: 75\n"
     ]
    }
   ],
   "source": [
    "#Write your Python code here\n",
    "import pandas as pd\n",
    "import numpy as np\n",
    "\n",
    "def seattle_rain():\n",
    "    \"\"\" This function takes the file Seattle2014.csv, converts millimeters to inches, and outputs days \n",
    "    without rain, with rain, days with more than 0.5 inches and rainy days with less than 0.2 inches\"\"\"\n",
    "    try:\n",
    "        rain = pd.read_csv('Seattle2014.csv')['PRCP'].values\n",
    "        inches = rain / 254.0  \n",
    "        inches.shape\n",
    "\n",
    "        print(\"SEATLE RAIN...\\n\\n\")\n",
    "        print(\"Number days without rain:\", np.sum(inches == 0))\n",
    "        print(\"Number days with rain:\", np.sum(inches != 0))\n",
    "        print(\"Days with more than 0.5 inches:\", np.sum(inches > 0.5))\n",
    "        print(\"Rainy days with < 0.2 inches:\", np.sum((inches > 0) & (inches < 0.2)))\n",
    "\n",
    "    \n",
    "    except FileNotFoundError as e:\n",
    "        print(e,\"Please input correct file (Seattle2014.csv).\")\n",
    "    except NameError as e:\n",
    "        print(e)\n",
    "    except Exception as e:\n",
    "        print(e)\n",
    "        \n",
    "seattle_rain()\n",
    "\n"
   ]
  }
 ],
 "metadata": {
  "kernelspec": {
   "display_name": "Python 3",
   "language": "python",
   "name": "python3"
  },
  "language_info": {
   "codemirror_mode": {
    "name": "ipython",
    "version": 3
   },
   "file_extension": ".py",
   "mimetype": "text/x-python",
   "name": "python",
   "nbconvert_exporter": "python",
   "pygments_lexer": "ipython3",
   "version": "3.7.6"
  }
 },
 "nbformat": 4,
 "nbformat_minor": 4
}
