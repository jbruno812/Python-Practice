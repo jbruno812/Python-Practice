{
 "cells": [
  {
   "cell_type": "markdown",
   "metadata": {},
   "source": [
    "# Module 11, Assignment 1 \n",
    "Database Practice\n",
    "\n",
    "Learning objectives in this module:\n",
    "* Use the standard library to create a SQLite database\n",
    "* Design a simple database to hold contact information (name, address, email, phone)\n",
    "* Select appropriate SQLite data types\n",
    "* Implement a database connection and cursor in Python\n",
    "* Execute SQL commands on a SQLite database using Python\n",
    "* Become familiar with SQLite Studio\n",
    "* Apply error handling to a database Python application"
   ]
  },
  {
   "cell_type": "code",
   "execution_count": null,
   "metadata": {},
   "outputs": [],
   "source": [
    "# Using Python create a database called \"<name>_contacts\", e.g., \"greg_contacts.sqlite\", then connect\n",
    "import sqlite3\n",
    "\n",
    "conn = sqlite3.connect('john_contacts.sqlite') \n",
    "cur = conn.cursor()\n"
   ]
  },
  {
   "cell_type": "code",
   "execution_count": null,
   "metadata": {},
   "outputs": [],
   "source": [
    "# Add a People table to your database and then Add first_name and last_name fields to the table. Use appropriate datatypes.\n",
    "cur.execute(\"\"\"CREATE TABLE People(\n",
    "                                    first_name TEXT,                                    \n",
    "                                    last_name TEXT)\"\"\") \n",
    "conn.close()\n"
   ]
  },
  {
   "cell_type": "code",
   "execution_count": null,
   "metadata": {},
   "outputs": [],
   "source": [
    "# Using SQLiteStudio (or your preferred application), add additional fields (at least person_id [primary key, auto-incrementing], \n",
    "#   address, city, state, zip, and email), and then create a DDL file for the database described above and store it \n",
    "#   in a variable called my_table.\n",
    "\n",
    "my_table = \"\"\" CREATE TABLE People (\n",
    "    person_id  INTEGER PRIMARY KEY AUTOINCREMENT,\n",
    "    first_name TEXT,\n",
    "    last_name  TEXT,\n",
    "    address    VARCHAR,\n",
    "    city       TEXT,\n",
    "    state      TEXT,\n",
    "    zip        CHAR,\n",
    "    email      VARCHAR); \"\"\"\n"
   ]
  },
  {
   "cell_type": "code",
   "execution_count": null,
   "metadata": {},
   "outputs": [],
   "source": [
    "# Delete the People table\n",
    "cur.execute('DROP TABLE IF EXISTS People')\n",
    "conn.close()"
   ]
  },
  {
   "cell_type": "code",
   "execution_count": null,
   "metadata": {},
   "outputs": [],
   "source": [
    "# Using the DDL file, re-create the people table. If the DDL contains more than one statment (e.g., more than 1 semi-colon), \n",
    "#   use executescript() instead of execute()\n",
    "cur.execute(\"\"\" CREATE TABLE People (\n",
    "    person_id  INTEGER PRIMARY KEY AUTOINCREMENT,\n",
    "    first_name TEXT,\n",
    "    last_name  TEXT,\n",
    "    address    VARCHAR,\n",
    "    city       TEXT,\n",
    "    state      TEXT,\n",
    "    zip        CHAR,\n",
    "    email      VARCHAR); \"\"\")\n",
    "conn.commit()\n",
    "conn.close()"
   ]
  },
  {
   "cell_type": "code",
   "execution_count": 31,
   "metadata": {},
   "outputs": [
    {
     "name": "stdout",
     "output_type": "stream",
     "text": [
      "All People:\n"
     ]
    }
   ],
   "source": [
    "# Create a function called list_records function that displays all records in the people database\n",
    "def list_records():\n",
    "    cur.execute('SELECT * FROM People')\n",
    "    print(\"All People:\")\n",
    "    for row in cur:\n",
    "        print(row)\n"
   ]
  },
  {
   "cell_type": "code",
   "execution_count": 34,
   "metadata": {},
   "outputs": [],
   "source": [
    "# Add a single person to yout contact database (you only need to use first name, last name, and email)\n",
    "cur.execute('INSERT INTO People (first_name, last_name, email) values (?,?,?)', ('John.', 'Bruno', 'ljbruno@crimson.ua.edu'))\n",
    "conn.commit()\n",
    "conn.close()"
   ]
  },
  {
   "cell_type": "code",
   "execution_count": 36,
   "metadata": {},
   "outputs": [
    {
     "name": "stdout",
     "output_type": "stream",
     "text": [
      "All People:\n",
      "(1, 'John.', 'Bruno', None, None, None, None, 'ljbruno@crimson.ua.edu')\n"
     ]
    }
   ],
   "source": [
    "# Call the list_records function\n",
    "list_records()"
   ]
  },
  {
   "cell_type": "code",
   "execution_count": 41,
   "metadata": {},
   "outputs": [],
   "source": [
    "# Simultaneously add 3 people to your contact database\n",
    "People = [('Nathaniel','B'),\n",
    "          ('Melinda','B'),\n",
    "          ('Hannah', 'B')]\n",
    "cur.executemany('INSERT INTO People (first_name, last_name) values (?,?)', People)\n",
    "conn.commit()\n",
    "conn.close()"
   ]
  },
  {
   "cell_type": "code",
   "execution_count": 42,
   "metadata": {},
   "outputs": [
    {
     "name": "stdout",
     "output_type": "stream",
     "text": [
      "All People:\n",
      "(1, 'John.', 'Bruno', None, None, None, None, 'ljbruno@crimson.ua.edu')\n",
      "(3, 'Nathaniel', 'B', None, None, None, None, None)\n",
      "(4, 'Melinda', 'B', None, None, None, None, None)\n",
      "(5, 'Hannah', 'B', None, None, None, None, None)\n"
     ]
    }
   ],
   "source": [
    "# Call the list records function again\n",
    "list_records()"
   ]
  }
 ],
 "metadata": {
  "kernelspec": {
   "display_name": "Python 3",
   "language": "python",
   "name": "python3"
  },
  "language_info": {
   "codemirror_mode": {
    "name": "ipython",
    "version": 3
   },
   "file_extension": ".py",
   "mimetype": "text/x-python",
   "name": "python",
   "nbconvert_exporter": "python",
   "pygments_lexer": "ipython3",
   "version": "3.7.6"
  }
 },
 "nbformat": 4,
 "nbformat_minor": 4
}
