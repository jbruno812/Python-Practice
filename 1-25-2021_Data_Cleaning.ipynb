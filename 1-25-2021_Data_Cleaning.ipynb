{
 "cells": [
  {
   "cell_type": "markdown",
   "metadata": {},
   "source": [
    "Library imports."
   ]
  },
  {
   "cell_type": "code",
   "execution_count": 9,
   "metadata": {},
   "outputs": [],
   "source": [
    "import itertools\n",
    "import pathlib\n",
    "\n",
    "import nltk\n",
    "import pandas as pd\n",
    "pd.set_option('display.max_columns', None)"
   ]
  },
  {
   "cell_type": "markdown",
   "metadata": {},
   "source": [
    "Data loading. Note that the **try-except** structure is in place to prevent unnecessary reloading of data. Also, the *thousands* argument in the `read_csv` function helps us ensure numbers with a thousands separator are correctly interpreted as numbers."
   ]
  },
  {
   "cell_type": "code",
   "execution_count": 10,
   "metadata": {},
   "outputs": [],
   "source": [
    "raw_data_path = pathlib.Path('Data', 'ILS_OM597.csv.gz')\n",
    "try:\n",
    "    raw_data.shape\n",
    "except:\n",
    "    if raw_data_path.exists():\n",
    "        raw_data = pd.read_csv(raw_data_path, thousands = ',', compression = 'gzip')\n",
    "    else:\n",
    "        print(f'Data file does not exist at {raw_data_path}')"
   ]
  },
  {
   "cell_type": "markdown",
   "metadata": {},
   "source": [
    "Check dtypes"
   ]
  },
  {
   "cell_type": "code",
   "execution_count": 11,
   "metadata": {},
   "outputs": [
    {
     "name": "stdout",
     "output_type": "stream",
     "text": [
      "<class 'pandas.core.frame.DataFrame'>\n",
      "RangeIndex: 7320458 entries, 0 to 7320457\n",
      "Data columns (total 24 columns):\n",
      " #   Column                 Dtype  \n",
      "---  ------                 -----  \n",
      " 0   Invoice/Item Number    object \n",
      " 1   Date                   object \n",
      " 2   Store Number           int64  \n",
      " 3   Store Name             object \n",
      " 4   Address                object \n",
      " 5   City                   object \n",
      " 6   Zip Code               float64\n",
      " 7   Store Location         object \n",
      " 8   County Number          float64\n",
      " 9   County                 object \n",
      " 10  Category               float64\n",
      " 11  Category Name          object \n",
      " 12  Vendor Number          float64\n",
      " 13  Vendor Name            object \n",
      " 14  Item Number            int64  \n",
      " 15  Item Description       object \n",
      " 16  Pack                   int64  \n",
      " 17  Bottle Volume (ml)     int64  \n",
      " 18  State Bottle Cost      float64\n",
      " 19  State Bottle Retail    float64\n",
      " 20  Bottles Sold           int64  \n",
      " 21  Sale (Dollars)         float64\n",
      " 22  Volume Sold (Liters)   float64\n",
      " 23  Volume Sold (Gallons)  float64\n",
      "dtypes: float64(9), int64(5), object(10)\n",
      "memory usage: 1.3+ GB\n"
     ]
    }
   ],
   "source": [
    "raw_data.info()"
   ]
  },
  {
   "cell_type": "markdown",
   "metadata": {},
   "source": [
    "Print the first 3 rows. Look at the `Vendor Name` column, it seems that the case is mixed. Although we haven't checked, this may be true in other columns."
   ]
  },
  {
   "cell_type": "code",
   "execution_count": 12,
   "metadata": {},
   "outputs": [
    {
     "data": {
      "text/html": [
       "<div>\n",
       "<style scoped>\n",
       "    .dataframe tbody tr th:only-of-type {\n",
       "        vertical-align: middle;\n",
       "    }\n",
       "\n",
       "    .dataframe tbody tr th {\n",
       "        vertical-align: top;\n",
       "    }\n",
       "\n",
       "    .dataframe thead th {\n",
       "        text-align: right;\n",
       "    }\n",
       "</style>\n",
       "<table border=\"1\" class=\"dataframe\">\n",
       "  <thead>\n",
       "    <tr style=\"text-align: right;\">\n",
       "      <th></th>\n",
       "      <th>Invoice/Item Number</th>\n",
       "      <th>Date</th>\n",
       "      <th>Store Number</th>\n",
       "      <th>Store Name</th>\n",
       "      <th>Address</th>\n",
       "      <th>City</th>\n",
       "      <th>Zip Code</th>\n",
       "      <th>Store Location</th>\n",
       "      <th>County Number</th>\n",
       "      <th>County</th>\n",
       "      <th>Category</th>\n",
       "      <th>Category Name</th>\n",
       "      <th>Vendor Number</th>\n",
       "      <th>Vendor Name</th>\n",
       "      <th>Item Number</th>\n",
       "      <th>Item Description</th>\n",
       "      <th>Pack</th>\n",
       "      <th>Bottle Volume (ml)</th>\n",
       "      <th>State Bottle Cost</th>\n",
       "      <th>State Bottle Retail</th>\n",
       "      <th>Bottles Sold</th>\n",
       "      <th>Sale (Dollars)</th>\n",
       "      <th>Volume Sold (Liters)</th>\n",
       "      <th>Volume Sold (Gallons)</th>\n",
       "    </tr>\n",
       "  </thead>\n",
       "  <tbody>\n",
       "    <tr>\n",
       "      <th>0</th>\n",
       "      <td>INV-09076500035</td>\n",
       "      <td>2017-12-07</td>\n",
       "      <td>5490</td>\n",
       "      <td>Rockwell Area Market</td>\n",
       "      <td>202 4th St North</td>\n",
       "      <td>Rockwell</td>\n",
       "      <td>50469.0</td>\n",
       "      <td>POINT (-93.188172 42.986351000000006)</td>\n",
       "      <td>17.0</td>\n",
       "      <td>CERRO GORD</td>\n",
       "      <td>1012100.0</td>\n",
       "      <td>Canadian Whiskies</td>\n",
       "      <td>115.0</td>\n",
       "      <td>CONSTELLATION BRANDS INC</td>\n",
       "      <td>10548</td>\n",
       "      <td>Black Velvet Toasted Caramel</td>\n",
       "      <td>6</td>\n",
       "      <td>1750</td>\n",
       "      <td>12.99</td>\n",
       "      <td>19.49</td>\n",
       "      <td>1</td>\n",
       "      <td>19.49</td>\n",
       "      <td>1.75</td>\n",
       "      <td>0.46</td>\n",
       "    </tr>\n",
       "    <tr>\n",
       "      <th>1</th>\n",
       "      <td>INV-09092300032</td>\n",
       "      <td>2017-12-07</td>\n",
       "      <td>4997</td>\n",
       "      <td>Downtown Pantry</td>\n",
       "      <td>218, 6th Ave #101</td>\n",
       "      <td>Des Moines</td>\n",
       "      <td>50309.0</td>\n",
       "      <td>POINT (-93.62452 41.585651)</td>\n",
       "      <td>77.0</td>\n",
       "      <td>POLK</td>\n",
       "      <td>1012100.0</td>\n",
       "      <td>Canadian Whiskies</td>\n",
       "      <td>260.0</td>\n",
       "      <td>DIAGEO AMERICAS</td>\n",
       "      <td>11290</td>\n",
       "      <td>Crown Royal Canadian Whisky Mini</td>\n",
       "      <td>10</td>\n",
       "      <td>300</td>\n",
       "      <td>7.35</td>\n",
       "      <td>11.03</td>\n",
       "      <td>10</td>\n",
       "      <td>110.30</td>\n",
       "      <td>3.00</td>\n",
       "      <td>0.79</td>\n",
       "    </tr>\n",
       "    <tr>\n",
       "      <th>2</th>\n",
       "      <td>INV-09070400014</td>\n",
       "      <td>2017-12-07</td>\n",
       "      <td>2567</td>\n",
       "      <td>Hy-Vee Drugstore / Davenport</td>\n",
       "      <td>2200 West Kimberly</td>\n",
       "      <td>Davenport</td>\n",
       "      <td>52806.0</td>\n",
       "      <td>POINT (-90.608201 41.560663)</td>\n",
       "      <td>82.0</td>\n",
       "      <td>SCOTT</td>\n",
       "      <td>1051100.0</td>\n",
       "      <td>American Brandies</td>\n",
       "      <td>205.0</td>\n",
       "      <td>E &amp; J Gallo Winery</td>\n",
       "      <td>73755</td>\n",
       "      <td>E &amp; J Apple</td>\n",
       "      <td>12</td>\n",
       "      <td>750</td>\n",
       "      <td>6.00</td>\n",
       "      <td>9.00</td>\n",
       "      <td>3</td>\n",
       "      <td>27.00</td>\n",
       "      <td>2.25</td>\n",
       "      <td>0.59</td>\n",
       "    </tr>\n",
       "  </tbody>\n",
       "</table>\n",
       "</div>"
      ],
      "text/plain": [
       "  Invoice/Item Number        Date  Store Number                    Store Name  \\\n",
       "0     INV-09076500035  2017-12-07          5490          Rockwell Area Market   \n",
       "1     INV-09092300032  2017-12-07          4997               Downtown Pantry   \n",
       "2     INV-09070400014  2017-12-07          2567  Hy-Vee Drugstore / Davenport   \n",
       "\n",
       "              Address        City  Zip Code  \\\n",
       "0    202 4th St North    Rockwell   50469.0   \n",
       "1   218, 6th Ave #101  Des Moines   50309.0   \n",
       "2  2200 West Kimberly   Davenport   52806.0   \n",
       "\n",
       "                          Store Location  County Number      County  \\\n",
       "0  POINT (-93.188172 42.986351000000006)           17.0  CERRO GORD   \n",
       "1            POINT (-93.62452 41.585651)           77.0        POLK   \n",
       "2           POINT (-90.608201 41.560663)           82.0       SCOTT   \n",
       "\n",
       "    Category      Category Name  Vendor Number               Vendor Name  \\\n",
       "0  1012100.0  Canadian Whiskies          115.0  CONSTELLATION BRANDS INC   \n",
       "1  1012100.0  Canadian Whiskies          260.0           DIAGEO AMERICAS   \n",
       "2  1051100.0  American Brandies          205.0        E & J Gallo Winery   \n",
       "\n",
       "   Item Number                  Item Description  Pack  Bottle Volume (ml)  \\\n",
       "0        10548      Black Velvet Toasted Caramel     6                1750   \n",
       "1        11290  Crown Royal Canadian Whisky Mini    10                 300   \n",
       "2        73755                       E & J Apple    12                 750   \n",
       "\n",
       "   State Bottle Cost  State Bottle Retail  Bottles Sold  Sale (Dollars)  \\\n",
       "0              12.99                19.49             1           19.49   \n",
       "1               7.35                11.03            10          110.30   \n",
       "2               6.00                 9.00             3           27.00   \n",
       "\n",
       "   Volume Sold (Liters)  Volume Sold (Gallons)  \n",
       "0                  1.75                   0.46  \n",
       "1                  3.00                   0.79  \n",
       "2                  2.25                   0.59  "
      ]
     },
     "execution_count": 12,
     "metadata": {},
     "output_type": "execute_result"
    }
   ],
   "source": [
    "raw_data.head(3)"
   ]
  },
  {
   "cell_type": "markdown",
   "metadata": {},
   "source": [
    "Title case selected columns"
   ]
  },
  {
   "cell_type": "code",
   "execution_count": 13,
   "metadata": {},
   "outputs": [],
   "source": [
    "columns_to_titlecase = [\n",
    "    'City', \n",
    "    'County', \n",
    "    'Category Name', \n",
    "    'Vendor Name', \n",
    "    'Item Description',\n",
    "]\n",
    "\n",
    "for column in columns_to_titlecase:\n",
    "    raw_data[column] = raw_data[column].str.title()"
   ]
  },
  {
   "cell_type": "markdown",
   "metadata": {},
   "source": [
    "Inspecting the column names, if seems that there are some categories that have unique names but actually refer to the same group of products. For example, it is likely that the categories `Cocktails / Rtd` and `Cocktails /Rtd` refer to the same set of products."
   ]
  },
  {
   "cell_type": "code",
   "execution_count": 16,
   "metadata": {},
   "outputs": [
    {
     "data": {
      "text/plain": [
       "array(['100% Agave Tequila', 'Aged Dark Rum', 'American Brandies',\n",
       "       'American Cordials & Liqueur', 'American Cordials & Liqueurs',\n",
       "       'American Distilled Spirit Specialty',\n",
       "       'American Distilled Spirits Specialty', 'American Dry Gins',\n",
       "       'American Flavored Vodka', 'American Schnapps',\n",
       "       'American Sloe Gins', 'American Vodka', 'American Vodkas',\n",
       "       'Blended Whiskies', 'Bottled In Bond Bourbon', 'Canadian Whiskies',\n",
       "       'Cocktails / Rtd', 'Cocktails /Rtd', 'Coffee Liqueurs',\n",
       "       'Corn Whiskies', 'Cream Liqueurs',\n",
       "       'Delisted / Special Order Items', 'Distilled Spirits Specialty',\n",
       "       'Flavored Gin', 'Flavored Rum', 'Gold Rum', 'Imported Brandies',\n",
       "       'Imported Cordials & Liqueur', 'Imported Cordials & Liqueurs',\n",
       "       'Imported Distilled Spirit Specialty',\n",
       "       'Imported Distilled Spirits Specialty', 'Imported Dry Gins',\n",
       "       'Imported Flavored Vodka', 'Imported Gins', 'Imported Schnapps',\n",
       "       'Imported Vodka', 'Imported Vodkas', 'Iowa Distilleries',\n",
       "       'Iowa Distillery Whiskies', 'Irish Whiskies', 'Mezcal',\n",
       "       'Mixto Tequila', 'Neutral Grain Spirits',\n",
       "       'Neutral Grain Spirits Flavored', 'Scotch Whiskies',\n",
       "       'Single Barrel Bourbon Whiskies', 'Single Malt Scotch',\n",
       "       'Special Order Items', 'Spiced Rum', 'Straight Bourbon Whiskies',\n",
       "       'Straight Rye Whiskies', 'Temporary  & Specialty Packages',\n",
       "       'Temporary &  Specialty Packages',\n",
       "       'Temporary & Specialty Packages', 'Tennessee Whiskies',\n",
       "       'Triple Sec', 'Whiskey Liqueur', 'White Rum', nan], dtype=object)"
      ]
     },
     "execution_count": 16,
     "metadata": {},
     "output_type": "execute_result"
    }
   ],
   "source": [
    "raw_data['Category Name'].sort_values().unique()"
   ]
  },
  {
   "cell_type": "markdown",
   "metadata": {},
   "source": [
    "We will try to write an algorithm to detect *similar* strings on the basis of *edit distance*."
   ]
  },
  {
   "cell_type": "code",
   "execution_count": 15,
   "metadata": {},
   "outputs": [
    {
     "name": "stdout",
     "output_type": "stream",
     "text": [
      "10 edits are required to convert \"vodka is awesome\" to \"vodkas\"\n",
      "14 edits are required to convert \"vodka is awesome\" to \"momma\"\n",
      "10 edits are required to convert \"vodkas\" to \"vodka is awesome\"\n",
      "4 edits are required to convert \"vodkas\" to \"momma\"\n",
      "14 edits are required to convert \"momma\" to \"vodka is awesome\"\n",
      "4 edits are required to convert \"momma\" to \"vodkas\"\n"
     ]
    }
   ],
   "source": [
    "s1 = 'vodka is awesome'\n",
    "s2 = 'vodkas'\n",
    "s3 = 'momma'\n",
    "\n",
    "for primary_string in [s1, s2, s3]:\n",
    "    for comparison_string in [s1, s2, s3]:\n",
    "        if primary_string != comparison_string:\n",
    "            edit_distance = nltk.edit_distance(primary_string, comparison_string)\n",
    "            print(f'{edit_distance} edits are required to convert \"{primary_string}\" to \"{comparison_string}\"')"
   ]
  },
  {
   "cell_type": "markdown",
   "metadata": {},
   "source": [
    "#### This is where we left off"
   ]
  },
  {
   "cell_type": "code",
   "execution_count": 8,
   "metadata": {},
   "outputs": [
    {
     "data": {
      "text/plain": [
       "[['American Vodkas', 'American Vodka'],\n",
       " ['Cocktails /Rtd', 'Cocktails / Rtd'],\n",
       " ['Flavored Rum', 'Flavored Gin'],\n",
       " ['Imported Vodkas', 'Imported Vodka'],\n",
       " ['American Cordials & Liqueur', 'American Cordials & Liqueurs'],\n",
       " ['Imported Cordials & Liqueurs', 'Imported Cordials & Liqueur'],\n",
       " ['Temporary & Specialty Packages',\n",
       "  'Temporary &  Specialty Packages',\n",
       "  'Temporary  & Specialty Packages'],\n",
       " ['American Distilled Spirit Specialty',\n",
       "  'American Distilled Spirits Specialty'],\n",
       " ['Imported Distilled Spirit Specialty',\n",
       "  'Imported Distilled Spirits Specialty']]"
      ]
     },
     "execution_count": 8,
     "metadata": {},
     "output_type": "execute_result"
    }
   ],
   "source": [
    "column_name = 'Category Name'\n",
    "min_distance = 3\n",
    "\n",
    "\n",
    "unique_values = raw_data[column_name].dropna().unique().tolist()\n",
    "\n",
    "related_words = []\n",
    "grouped_words = []\n",
    "for primary_word in unique_values:\n",
    "    inner_list = [primary_word]\n",
    "    for secondary_word in unique_values:\n",
    "        if secondary_word not in grouped_words:\n",
    "            if secondary_word == primary_word:\n",
    "                pass\n",
    "            elif nltk.edit_distance(primary_word, secondary_word) <= min_distance:\n",
    "                inner_list.append(secondary_word)\n",
    "                grouped_words.append(secondary_word)\n",
    "    \n",
    "    grouped_words.append(primary_word)\n",
    "    if len(inner_list) > 1:\n",
    "        related_words.append(inner_list)\n",
    "\n",
    "related_words\n",
    "\n",
    "name_mapper = {}\n",
    "for sublist in related_words:\n",
    "    name_mapper[sublist[0]] = sublist\n",
    "name_mapper"
   ]
  },
  {
   "cell_type": "markdown",
   "metadata": {},
   "source": [
    "**A Different Approach**: Your colleague, Natalie Patton, let me know about how the library *difflib*, which is included in the python standard library, may be used for the similarity comparison task. An example follows."
   ]
  },
  {
   "cell_type": "code",
   "execution_count": 10,
   "metadata": {
    "scrolled": false
   },
   "outputs": [],
   "source": [
    "demo_difflib = False\n",
    "\n",
    "if demo_difflib:\n",
    "\n",
    "    import difflib\n",
    "\n",
    "    for current_word in unique_values:\n",
    "\n",
    "        similar_words = difflib.get_close_matches(current_word, unique_values, cutoff = 0.9)\n",
    "        similar_words = [word for word in similar_words if word != current_word]\n",
    "        if similar_words:\n",
    "            print(current_word)\n",
    "\n",
    "            print('  Similar words:')\n",
    "            for similar_word in similar_words:\n",
    "                print(f'   -{similar_word}')\n",
    "            print('-'*50)"
   ]
  },
  {
   "cell_type": "code",
   "execution_count": 23,
   "metadata": {},
   "outputs": [],
   "source": [
    "raw_data['Date'] =  pd.to_datetime(raw_data['Date'])"
   ]
  },
  {
   "cell_type": "code",
   "execution_count": null,
   "metadata": {},
   "outputs": [],
   "source": []
  }
 ],
 "metadata": {
  "kernelspec": {
   "display_name": "Python 3",
   "language": "python",
   "name": "python3"
  },
  "language_info": {
   "codemirror_mode": {
    "name": "ipython",
    "version": 3
   },
   "file_extension": ".py",
   "mimetype": "text/x-python",
   "name": "python",
   "nbconvert_exporter": "python",
   "pygments_lexer": "ipython3",
   "version": "3.7.6"
  }
 },
 "nbformat": 4,
 "nbformat_minor": 4
}
