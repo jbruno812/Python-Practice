{
 "cells": [
  {
   "cell_type": "markdown",
   "metadata": {},
   "source": [
    "# Module 13, Assignment 1 - Numpy Basics\n",
    "Please print the arrays as described below.\n"
   ]
  },
  {
   "cell_type": "code",
   "execution_count": 4,
   "metadata": {},
   "outputs": [
    {
     "data": {
      "text/plain": [
       "(array([9, 3, 9, 9, 3, 5]), array([[1., 2., 3., 4.],\n",
       "        [5., 6., 7., 8.]]), array([[0., 0., 0., 0., 0., 0.],\n",
       "        [0., 0., 0., 0., 0., 0.],\n",
       "        [0., 0., 0., 0., 0., 0.],\n",
       "        [0., 0., 0., 0., 0., 0.],\n",
       "        [0., 0., 0., 0., 0., 0.],\n",
       "        [0., 0., 0., 0., 0., 0.]]), array([[1., 1., 1., 1., 1., 1., 1.],\n",
       "        [1., 1., 1., 1., 1., 1., 1.],\n",
       "        [1., 1., 1., 1., 1., 1., 1.],\n",
       "        [1., 1., 1., 1., 1., 1., 1.],\n",
       "        [1., 1., 1., 1., 1., 1., 1.]]), array([ 10.        ,  11.83673469,  13.67346939,  15.51020408,\n",
       "         17.34693878,  19.18367347,  21.02040816,  22.85714286,\n",
       "         24.69387755,  26.53061224,  28.36734694,  30.20408163,\n",
       "         32.04081633,  33.87755102,  35.71428571,  37.55102041,\n",
       "         39.3877551 ,  41.2244898 ,  43.06122449,  44.89795918,\n",
       "         46.73469388,  48.57142857,  50.40816327,  52.24489796,\n",
       "         54.08163265,  55.91836735,  57.75510204,  59.59183673,\n",
       "         61.42857143,  63.26530612,  65.10204082,  66.93877551,\n",
       "         68.7755102 ,  70.6122449 ,  72.44897959,  74.28571429,\n",
       "         76.12244898,  77.95918367,  79.79591837,  81.63265306,\n",
       "         83.46938776,  85.30612245,  87.14285714,  88.97959184,\n",
       "         90.81632653,  92.65306122,  94.48979592,  96.32653061,\n",
       "         98.16326531, 100.        ]), array([[106,  10,  89,  71],\n",
       "        [ 70,  95, 128, 159],\n",
       "        [101, 168, 140, 182],\n",
       "        [ 43, 104,  66,  81]]))"
      ]
     },
     "execution_count": 4,
     "metadata": {},
     "output_type": "execute_result"
    }
   ],
   "source": [
    "import numpy as np\n",
    "# After importing NumPy as np, create a one-dimensional array of random integers\n",
    "\n",
    "# Made below comment to check for error handling.\n",
    "\n",
    "###  random_array = np.random.randint(2, 10, size=6)\n",
    "\n",
    "\n",
    "# Create one function called m13_a1 that executes all the parts of this assignment.\n",
    "def m13_a1():\n",
    "    \"\"\"This function creates and outputs all of the parts of assignment M13 NumPy Basics.\"\"\"\n",
    "    try:\n",
    "\n",
    "        # Brought this task from above into function.\n",
    "        random_array = np.random.randint(2, 10, size=6)\n",
    "\n",
    "        # Manually create and print a two-dimensional array of floats.\n",
    "        array_1 = np.array([[1.0,2.0,3.0,4.0],\n",
    "                            [5.0,6.0,7.0,8.0]])\n",
    "\n",
    "\n",
    "        # Create a two dimensional array (6x6) of 0's.\n",
    "        array_0s = np.zeros((6,6))\n",
    "\n",
    "        # Create a two-dimensional array of (5x7) of 1's.\n",
    "        array_1s = np.ones((5,7))\n",
    "\n",
    "\n",
    "        # Create an array with 50 evenly spaced values between 10 and 100.\n",
    "        my_array = np.linspace(10, 100, 50)\n",
    "\n",
    "\n",
    "        # Create 2 4 x 4 arrays with random integers (1-100) and then add them.\n",
    "\n",
    "        array_3 = np.random.randint(1,100, size=(4,4))\n",
    "        array_4 = np.random.randint(1,100, size=(4,4))\n",
    "\n",
    "        array_add = (array_3 + array_4)\n",
    "        \n",
    "        # Return statement\n",
    "        \n",
    "        return random_array, array_1, array_0s, array_1s, my_array, array_add\n",
    "\n",
    "    \n",
    "    # Error handling for missing NumPy.\n",
    "    \n",
    "    except NameError as e:\n",
    "        print(e, \"Make sure that you are importing numpy as np.\")\n",
    "    else:\n",
    "        print(\"No Exceptions thrown.\")\n",
    "\n",
    "m13_a1()"
   ]
  },
  {
   "cell_type": "code",
   "execution_count": null,
   "metadata": {},
   "outputs": [],
   "source": []
  }
 ],
 "metadata": {
  "kernelspec": {
   "display_name": "Python 3",
   "language": "python",
   "name": "python3"
  },
  "language_info": {
   "codemirror_mode": {
    "name": "ipython",
    "version": 3
   },
   "file_extension": ".py",
   "mimetype": "text/x-python",
   "name": "python",
   "nbconvert_exporter": "python",
   "pygments_lexer": "ipython3",
   "version": "3.7.6"
  }
 },
 "nbformat": 4,
 "nbformat_minor": 4
}
